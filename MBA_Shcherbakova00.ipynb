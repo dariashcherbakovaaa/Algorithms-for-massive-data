{
  "nbformat": 4,
  "nbformat_minor": 0,
  "metadata": {
    "colab": {
      "provenance": [],
      "collapsed_sections": [
        "AXHtKFmVxEgz",
        "uNRmQH4QxXeP",
        "EOwUmC_G3elJ",
        "1S0ldnty4gvc",
        "oUqlKiP36c6H",
        "UvKG3BGqZnrx",
        "cy6tJ1yHZZRX",
        "8FU5RwRgeSfj",
        "EIPAEkqIEtBu"
      ],
      "include_colab_link": true
    },
    "kernelspec": {
      "name": "python3",
      "display_name": "Python 3"
    },
    "language_info": {
      "name": "python"
    }
  },
  "cells": [
    {
      "cell_type": "markdown",
      "metadata": {
        "id": "view-in-github",
        "colab_type": "text"
      },
      "source": [
        "<a href=\"https://colab.research.google.com/github/dariashcherbakovaaa/Algorithms-for-massive-data/blob/draft/MBA_Shcherbakova00.ipynb\" target=\"_parent\"><img src=\"https://colab.research.google.com/assets/colab-badge.svg\" alt=\"Open In Colab\"/></a>"
      ]
    },
    {
      "cell_type": "markdown",
      "source": [
        "# Market Basket Analysis on LinkedIn job skills and job links\n",
        "\n",
        "###### **Daria Shcherbakova** *(DSE student, 17487A)*"
      ],
      "metadata": {
        "id": "L6Fly5WhsrMg"
      }
    },
    {
      "cell_type": "markdown",
      "source": [
        "## Environment settings & data loading"
      ],
      "metadata": {
        "id": "JoGUYh5St4N5"
      }
    },
    {
      "cell_type": "code",
      "execution_count": 1,
      "metadata": {
        "colab": {
          "base_uri": "https://localhost:8080/",
          "height": 0
        },
        "id": "a85JRlZ-sm8-",
        "outputId": "cfe91620-a155-4765-82e5-b660697d379f"
      },
      "outputs": [
        {
          "output_type": "execute_result",
          "data": {
            "text/plain": [
              "<pyspark.sql.session.SparkSession at 0x7dc474563fd0>"
            ],
            "text/html": [
              "\n",
              "            <div>\n",
              "                <p><b>SparkSession - in-memory</b></p>\n",
              "                \n",
              "        <div>\n",
              "            <p><b>SparkContext</b></p>\n",
              "\n",
              "            <p><a href=\"http://6c6b0472b0b9:4040\">Spark UI</a></p>\n",
              "\n",
              "            <dl>\n",
              "              <dt>Version</dt>\n",
              "                <dd><code>v3.1.1</code></dd>\n",
              "              <dt>Master</dt>\n",
              "                <dd><code>local[*]</code></dd>\n",
              "              <dt>AppName</dt>\n",
              "                <dd><code>Algo_Aprori</code></dd>\n",
              "            </dl>\n",
              "        </div>\n",
              "        \n",
              "            </div>\n",
              "        "
            ]
          },
          "metadata": {},
          "execution_count": 1
        }
      ],
      "source": [
        "import warnings\n",
        "warnings.filterwarnings(\"ignore\", category=DeprecationWarning)\n",
        "import pandas as pd\n",
        "\n",
        "!apt-get install openjdk-8-jdk-headless -qq > /dev/null\n",
        "!wget -q http://archive.apache.org/dist/spark/spark-3.1.1/spark-3.1.1-bin-hadoop3.2.tgz\n",
        "!tar xf spark-3.1.1-bin-hadoop3.2.tgz\n",
        "!pip install -q findspark\n",
        "\n",
        "import os\n",
        "os.environ[\"JAVA_HOME\"] = \"/usr/lib/jvm/java-8-openjdk-amd64\"\n",
        "os.environ[\"SPARK_HOME\"] = \"/content/spark-3.1.1-bin-hadoop3.2\"\n",
        "\n",
        "import findspark\n",
        "findspark.init()\n",
        "\n",
        "from pyspark.sql import SparkSession\n",
        "spark = SparkSession.builder.master(\"local[*]\").appName('Algo_Aprori').getOrCreate()\n",
        "spark.conf.set(\"spark.sql.repl.eagerEval.enabled\", True)\n",
        "spark\n",
        "import pyspark\n",
        "type(spark)\n",
        "\n",
        "sc = spark.sparkContext\n",
        "spark"
      ]
    },
    {
      "cell_type": "code",
      "source": [
        "# os.environ['KAGGLE_USERNAME'] = \"xxxxxx\"\n",
        "# os.environ['KAGGLE_KEY'] = \"xxxxxx\""
      ],
      "metadata": {
        "id": "97eajMHWtGGk"
      },
      "execution_count": 2,
      "outputs": []
    },
    {
      "cell_type": "code",
      "source": [
        "!kaggle datasets download -d asaniczka/1-3m-linkedin-jobs-and-skills-2024 -f job_skills.csv\n",
        "!unzip /content/job_skills.csv.zip -d job_skills\n",
        "\n",
        "!kaggle datasets download -d asaniczka/1-3m-linkedin-jobs-and-skills-2024 -f linkedin_job_postings.csv\n",
        "!unzip linkedin_job_postings.csv.zip -d linkedin_job_postings\n",
        "\n",
        "os.remove('/content/job_skills.csv.zip')\n",
        "os.remove('/content/linkedin_job_postings.csv.zip')"
      ],
      "metadata": {
        "id": "B6Cka6RPuzop",
        "outputId": "5172d97c-cdf7-4027-f13e-0cdcddcf7138",
        "colab": {
          "base_uri": "https://localhost:8080/"
        }
      },
      "execution_count": 3,
      "outputs": [
        {
          "output_type": "stream",
          "name": "stdout",
          "text": [
            "Dataset URL: https://www.kaggle.com/datasets/asaniczka/1-3m-linkedin-jobs-and-skills-2024\n",
            "License(s): ODC Attribution License (ODC-By)\n",
            "Downloading job_skills.csv.zip to /content\n",
            "100% 196M/197M [00:02<00:00, 85.9MB/s]\n",
            "100% 197M/197M [00:02<00:00, 79.8MB/s]\n",
            "Archive:  /content/job_skills.csv.zip\n",
            "  inflating: job_skills/job_skills.csv  \n",
            "Dataset URL: https://www.kaggle.com/datasets/asaniczka/1-3m-linkedin-jobs-and-skills-2024\n",
            "License(s): ODC Attribution License (ODC-By)\n",
            "Downloading linkedin_job_postings.csv.zip to /content\n",
            " 90% 85.0M/94.4M [00:01<00:00, 81.8MB/s]\n",
            "100% 94.4M/94.4M [00:01<00:00, 70.5MB/s]\n",
            "Archive:  linkedin_job_postings.csv.zip\n",
            "  inflating: linkedin_job_postings/linkedin_job_postings.csv  \n"
          ]
        }
      ]
    },
    {
      "cell_type": "code",
      "source": [
        "data_path = '/content/job_skills/job_skills.csv'\n",
        "df_skills = spark.read.csv(data_path, inferSchema=True, header=True)\n",
        "df_skills.printSchema()\n",
        "df_skills.show()"
      ],
      "metadata": {
        "id": "g9amO0zGvASt",
        "outputId": "3a535cc4-a759-47a2-dc39-3e784615e451",
        "colab": {
          "base_uri": "https://localhost:8080/"
        }
      },
      "execution_count": 4,
      "outputs": [
        {
          "output_type": "stream",
          "name": "stdout",
          "text": [
            "root\n",
            " |-- job_link: string (nullable = true)\n",
            " |-- job_skills: string (nullable = true)\n",
            "\n",
            "+--------------------+--------------------+\n",
            "|            job_link|          job_skills|\n",
            "+--------------------+--------------------+\n",
            "|https://www.linke...|Building Custodia...|\n",
            "|https://www.linke...|Customer service,...|\n",
            "|https://www.linke...|Applied Behavior ...|\n",
            "|https://www.linke...|Electrical Engine...|\n",
            "|https://www.linke...|Electrical Assemb...|\n",
            "|https://www.linke...|Access Control, V...|\n",
            "|https://www.linke...|Consultation, Sup...|\n",
            "|https://www.linke...|Veterinary Recept...|\n",
            "|https://www.linke...|Optical Inspectio...|\n",
            "|https://www.linke...|HVAC, troubleshoo...|\n",
            "|https://www.linke...|Host/Server Assis...|\n",
            "|https://www.linke...|Apartment mainten...|\n",
            "|https://www.linke...|Fiber Optic Cable...|\n",
            "|https://www.linke...|CT Technologist, ...|\n",
            "|https://ca.linked...|SAP, DRMIS, Data ...|\n",
            "|https://www.linke...|Debt and equity o...|\n",
            "|https://ca.linked...|Biomedical Engine...|\n",
            "|https://www.linke...|Laboratory Techni...|\n",
            "|https://www.linke...|Program Managemen...|\n",
            "|https://www.linke...|Hiring, Training,...|\n",
            "+--------------------+--------------------+\n",
            "only showing top 20 rows\n",
            "\n"
          ]
        }
      ]
    },
    {
      "cell_type": "code",
      "source": [
        "data_path = '/content/linkedin_job_postings/linkedin_job_postings.csv'\n",
        "df_all = spark.read.csv(data_path, inferSchema=True, header=True)\n",
        "df_all.printSchema()\n",
        "df_all.show()"
      ],
      "metadata": {
        "id": "DMVFVSkjvbx-",
        "outputId": "c1cc2dc3-c9b8-48b1-9aee-001c5f4eaf81",
        "colab": {
          "base_uri": "https://localhost:8080/"
        }
      },
      "execution_count": 5,
      "outputs": [
        {
          "output_type": "stream",
          "name": "stdout",
          "text": [
            "root\n",
            " |-- job_link: string (nullable = true)\n",
            " |-- last_processed_time: string (nullable = true)\n",
            " |-- got_summary: string (nullable = true)\n",
            " |-- got_ner: string (nullable = true)\n",
            " |-- is_being_worked: string (nullable = true)\n",
            " |-- job_title: string (nullable = true)\n",
            " |-- company: string (nullable = true)\n",
            " |-- job_location: string (nullable = true)\n",
            " |-- first_seen: string (nullable = true)\n",
            " |-- search_city: string (nullable = true)\n",
            " |-- search_country: string (nullable = true)\n",
            " |-- search_position: string (nullable = true)\n",
            " |-- job_level: string (nullable = true)\n",
            " |-- job_type: string (nullable = true)\n",
            "\n",
            "+--------------------+--------------------+-----------+-------+---------------+--------------------+--------------------+--------------------+----------+---------------+--------------+--------------------+----------+--------+\n",
            "|            job_link| last_processed_time|got_summary|got_ner|is_being_worked|           job_title|             company|        job_location|first_seen|    search_city|search_country|     search_position| job_level|job_type|\n",
            "+--------------------+--------------------+-----------+-------+---------------+--------------------+--------------------+--------------------+----------+---------------+--------------+--------------------+----------+--------+\n",
            "|https://www.linke...|2024-01-21 07:12:...|          t|      t|              f|Account Executive...|                  BD|       San Diego, CA|2024-01-15|       Coronado| United States|         Color Maker|Mid senior|  Onsite|\n",
            "|https://www.linke...|2024-01-21 07:39:...|          t|      t|              f|Registered Nurse ...|   Trinity Health MI|   Norton Shores, MI|2024-01-14|    Grand Haven| United States|Director Nursing ...|Mid senior|  Onsite|\n",
            "|https://www.linke...|2024-01-21 07:40:...|          t|      t|              f|RESTAURANT SUPERV...|Wasatch Adaptive ...|           Sandy, UT|2024-01-14|         Tooele| United States|            Stand-In|Mid senior|  Onsite|\n",
            "|https://www.linke...|2024-01-21 07:40:...|          t|      t|              f|Independent Real ...|Howard Hanna | Ra...|Englewood Cliffs, NJ|2024-01-16|      Pinehurst| United States|   Real-Estate Clerk|Mid senior|  Onsite|\n",
            "|https://www.linke...|2024-01-19 09:45:...|          f|      f|              f|Group/Unit Superv...|IRS, Office of Ch...|        Chamblee, GA|2024-01-17|        Gadsden| United States|Supervisor Travel...|Mid senior|  Onsite|\n",
            "|https://www.linke...|2024-01-19 09:45:...|          f|      f|              f|  Counselor-07532802|                 ICL|        Brooklyn, NY|2024-01-16|     Oyster Bay| United States| Residence Counselor|Mid senior|  Onsite|\n",
            "|https://www.linke...|2024-01-21 08:08:...|          t|      t|              f|Registered Nurse ...|   Trinity Health MI|        Muskegon, MI|2024-01-14|       Muskegon| United States|  Nurse Practitioner|Mid senior|  Onsite|\n",
            "|https://www.linke...|2024-01-21 08:08:...|          t|      t|              f|Part Time- HR Gen...|Creative Financia...|        New York, NY|2024-01-16|   White Plains| United States|Human Resource Ad...|Mid senior|  Onsite|\n",
            "|https://uk.linked...|2024-01-21 08:08:...|          t|      t|              f|       Store Manager|          B&M Retail|London, England, ...|2024-01-15|         Slough|United Kingdom|              Double|Mid senior|  Onsite|\n",
            "|https://ca.linked...|2024-01-21 08:08:...|          t|      t|              f|Engineering Proje...|Shared Health-Soi...|Winnipeg, Manitob...|2024-01-14|       Manitoba|        Canada| Program Coordinator|Mid senior|  Onsite|\n",
            "|https://www.linke...|2024-01-21 08:08:...|          t|      t|              f|Special Agent: La...|Federal Bureau of...|Austin, Texas Met...|2024-01-16|         Austin| United States|       Special Agent| Associate|  Onsite|\n",
            "|https://www.linke...|2024-01-21 08:08:...|          t|      t|              f|Manager, Site Ope...|            ICON plc|       Knoxville, TN|2024-01-14|     Louisville| United States|              Vendor|Mid senior|  Onsite|\n",
            "|https://www.linke...|2024-01-21 08:08:...|          t|      t|              f|Assistant Vice Pr...|  RWJBarnabas Health|      Somerville, NJ|2024-01-16|   Hillsborough| United States|Psychiatric Techn...|Mid senior|  Onsite|\n",
            "|https://www.linke...|2024-01-21 08:08:...|          t|      t|              f|Control Systems I...|              Olsson|         Lincoln, NE|2024-01-14|       Nebraska| United States|  Solutions Operator| Associate|  Onsite|\n",
            "|https://www.linke...|2024-01-21 08:08:...|          t|      t|              f|LEAD SALES ASSOCI...|      Dollar General|          Tipton, IN|2024-01-14|         Carmel| United States|Circulation-Sales...|Mid senior|  Onsite|\n",
            "|https://www.linke...|2024-01-21 02:01:...|          t|      t|              f|Entry-Level Finan...| Northwestern Mutual|Fairfield County, CT|2024-01-14|          Derby| United States|       Change Person|Mid senior|  Onsite|\n",
            "|https://www.linke...|2024-01-21 02:01:...|          t|      t|              f|Senior Associate,...|             KPMG US|         Chicago, IL|2024-01-14|   Calumet City| United States|            Stand-In| Associate|  Onsite|\n",
            "|https://www.linke...|2024-01-21 02:01:...|          t|      t|              f|Human Resources G...|           SIG Group|          Merced, CA|2024-01-14|         Merced| United States|    Manager Benefits|Mid senior|  Onsite|\n",
            "|https://au.linked...|2024-01-21 02:01:...|          t|      t|              f|Supervisor - Hort...|Green Options Lan...|Sydney, New South...|2024-01-15|New South Wales|     Australia|  Booking Supervisor|Mid senior|  Onsite|\n",
            "|https://www.linke...|2024-01-21 02:01:...|          t|      t|              f|Analyst, Associat...|            RITE AID|       Yocumtown, PA|2024-01-13|        Lebanon| United States|Quality Assurance...|Mid senior|  Onsite|\n",
            "+--------------------+--------------------+-----------+-------+---------------+--------------------+--------------------+--------------------+----------+---------------+--------------+--------------------+----------+--------+\n",
            "only showing top 20 rows\n",
            "\n"
          ]
        }
      ]
    },
    {
      "cell_type": "markdown",
      "source": [
        "## Data pre-processing"
      ],
      "metadata": {
        "id": "AXHtKFmVxEgz"
      }
    },
    {
      "cell_type": "markdown",
      "source": [
        "#### Additional dataset to select actual job"
      ],
      "metadata": {
        "id": "uNRmQH4QxXeP"
      }
    },
    {
      "cell_type": "code",
      "source": [
        "df_all = df_all[['job_link', 'job_title', 'search_country', 'search_position', 'job_level']]\n",
        "df_all.show(10)"
      ],
      "metadata": {
        "id": "FtVsjU1ew6eU",
        "outputId": "0a8276f8-e0a5-4696-97a4-d6b7d4233988",
        "colab": {
          "base_uri": "https://localhost:8080/"
        }
      },
      "execution_count": 6,
      "outputs": [
        {
          "output_type": "stream",
          "name": "stdout",
          "text": [
            "+--------------------+--------------------+--------------+--------------------+----------+\n",
            "|            job_link|           job_title|search_country|     search_position| job_level|\n",
            "+--------------------+--------------------+--------------+--------------------+----------+\n",
            "|https://www.linke...|Account Executive...| United States|         Color Maker|Mid senior|\n",
            "|https://www.linke...|Registered Nurse ...| United States|Director Nursing ...|Mid senior|\n",
            "|https://www.linke...|RESTAURANT SUPERV...| United States|            Stand-In|Mid senior|\n",
            "|https://www.linke...|Independent Real ...| United States|   Real-Estate Clerk|Mid senior|\n",
            "|https://www.linke...|Group/Unit Superv...| United States|Supervisor Travel...|Mid senior|\n",
            "|https://www.linke...|  Counselor-07532802| United States| Residence Counselor|Mid senior|\n",
            "|https://www.linke...|Registered Nurse ...| United States|  Nurse Practitioner|Mid senior|\n",
            "|https://www.linke...|Part Time- HR Gen...| United States|Human Resource Ad...|Mid senior|\n",
            "|https://uk.linked...|       Store Manager|United Kingdom|              Double|Mid senior|\n",
            "|https://ca.linked...|Engineering Proje...|        Canada| Program Coordinator|Mid senior|\n",
            "+--------------------+--------------------+--------------+--------------------+----------+\n",
            "only showing top 10 rows\n",
            "\n"
          ]
        }
      ]
    },
    {
      "cell_type": "code",
      "source": [
        "df_all.describe()"
      ],
      "metadata": {
        "id": "9H0iANb8x0Jx",
        "outputId": "f507aad2-0621-4013-cf71-e6026c830ca7",
        "colab": {
          "base_uri": "https://localhost:8080/",
          "height": 0
        }
      },
      "execution_count": 7,
      "outputs": [
        {
          "output_type": "execute_result",
          "data": {
            "text/plain": [
              "+-------+--------------------+--------------------+--------------+----------------+--------------------+\n",
              "|summary|            job_link|           job_title|search_country| search_position|           job_level|\n",
              "+-------+--------------------+--------------------+--------------+----------------+--------------------+\n",
              "|  count|             1348488|             1348488|       1348420|         1348420|             1348420|\n",
              "|   mean|                null|                null|          null|            null|                null|\n",
              "| stddev|                null|                null|          null|            null|                null|\n",
              "|    min|       \t\t\t\t\t\t\t\t\tNew\"|\"\"\"A\"\" Softball C...|    2024-01-13|     Able Seaman|Administrative As...|\n",
              "|    max|https://za.linked...|🔥Nurse Manager, ...| United States|Zoo Veterinarian|       United States|\n",
              "+-------+--------------------+--------------------+--------------+----------------+--------------------+"
            ],
            "text/html": [
              "<table border='1'>\n",
              "<tr><th>summary</th><th>job_link</th><th>job_title</th><th>search_country</th><th>search_position</th><th>job_level</th></tr>\n",
              "<tr><td>count</td><td>1348488</td><td>1348488</td><td>1348420</td><td>1348420</td><td>1348420</td></tr>\n",
              "<tr><td>mean</td><td>null</td><td>null</td><td>null</td><td>null</td><td>null</td></tr>\n",
              "<tr><td>stddev</td><td>null</td><td>null</td><td>null</td><td>null</td><td>null</td></tr>\n",
              "<tr><td>min</td><td>\t\t\t\t\t\t\t\t\tNew&quot;</td><td>&quot;&quot;&quot;A&quot;&quot; Softball C...</td><td>2024-01-13</td><td>Able Seaman</td><td>Administrative As...</td></tr>\n",
              "<tr><td>max</td><td>https://za.linked...</td><td>🔥Nurse Manager, ...</td><td>United States</td><td>Zoo Veterinarian</td><td>United States</td></tr>\n",
              "</table>\n"
            ]
          },
          "metadata": {},
          "execution_count": 7
        }
      ]
    },
    {
      "cell_type": "code",
      "source": [
        "df_all = df_all.where((df_all['job_level'] == 'Mid senior') & (df_all['search_country'] == 'United States'))\n",
        "df_all.show(10)"
      ],
      "metadata": {
        "id": "Nei6JDTsxOGp",
        "outputId": "5eb75992-d409-4d22-8605-5d24c85834ad",
        "colab": {
          "base_uri": "https://localhost:8080/"
        }
      },
      "execution_count": 8,
      "outputs": [
        {
          "output_type": "stream",
          "name": "stdout",
          "text": [
            "+--------------------+--------------------+--------------+--------------------+----------+\n",
            "|            job_link|           job_title|search_country|     search_position| job_level|\n",
            "+--------------------+--------------------+--------------+--------------------+----------+\n",
            "|https://www.linke...|Account Executive...| United States|         Color Maker|Mid senior|\n",
            "|https://www.linke...|Registered Nurse ...| United States|Director Nursing ...|Mid senior|\n",
            "|https://www.linke...|RESTAURANT SUPERV...| United States|            Stand-In|Mid senior|\n",
            "|https://www.linke...|Independent Real ...| United States|   Real-Estate Clerk|Mid senior|\n",
            "|https://www.linke...|Group/Unit Superv...| United States|Supervisor Travel...|Mid senior|\n",
            "|https://www.linke...|  Counselor-07532802| United States| Residence Counselor|Mid senior|\n",
            "|https://www.linke...|Registered Nurse ...| United States|  Nurse Practitioner|Mid senior|\n",
            "|https://www.linke...|Part Time- HR Gen...| United States|Human Resource Ad...|Mid senior|\n",
            "|https://www.linke...|Manager, Site Ope...| United States|              Vendor|Mid senior|\n",
            "|https://www.linke...|Assistant Vice Pr...| United States|Psychiatric Techn...|Mid senior|\n",
            "+--------------------+--------------------+--------------+--------------------+----------+\n",
            "only showing top 10 rows\n",
            "\n"
          ]
        }
      ]
    },
    {
      "cell_type": "code",
      "source": [
        "df_all.groupBy('job_title')\\\n",
        "      .count()\\\n",
        "      .orderBy('count', ascending=False)\\\n",
        "      .show()"
      ],
      "metadata": {
        "id": "OPufFsA628QR",
        "outputId": "8117bdbb-ff69-4205-86a4-54a2772dece0",
        "colab": {
          "base_uri": "https://localhost:8080/"
        }
      },
      "execution_count": 9,
      "outputs": [
        {
          "output_type": "stream",
          "name": "stdout",
          "text": [
            "+--------------------+-----+\n",
            "|           job_title|count|\n",
            "+--------------------+-----+\n",
            "|LEAD SALES ASSOCI...| 7305|\n",
            "|       Shift Manager| 5727|\n",
            "|First Year Tax Pr...| 5350|\n",
            "|LEAD SALES ASSOCI...| 4888|\n",
            "|   Assistant Manager| 4606|\n",
            "|Customer Service ...| 4599|\n",
            "|CUSTOMER SERVICE ...| 4195|\n",
            "|       Store Manager| 3929|\n",
            "|Hourly Supervisor...| 2941|\n",
            "|Travel Allied Hea...| 2920|\n",
            "|    Registered Nurse| 2783|\n",
            "|                Host| 2779|\n",
            "|Hourly Supervisor...| 2227|\n",
            "|  Restaurant Manager| 2135|\n",
            "|OPERATIONS ASSIST...| 2062|\n",
            "|Assistant General...| 1952|\n",
            "|        Veterinarian| 1947|\n",
            "|   Senior Accountant| 1914|\n",
            "|   Account Executive| 1824|\n",
            "|Department Superv...| 1685|\n",
            "+--------------------+-----+\n",
            "only showing top 20 rows\n",
            "\n"
          ]
        }
      ]
    },
    {
      "cell_type": "code",
      "source": [
        "import re\n",
        "\n",
        "pattern_danalyst = r'\\bdata\\sanal\\w*' # data analyst\n",
        "pattern_banalyst = r'\\bbusiness\\sanal\\w*' # business analyst\n",
        "pattern_scientist = r'\\bdata\\sscientist\\w*' # data scientist\n",
        "pattern_engineer = r'\\bdata\\sengin\\w*' #data engenineer"
      ],
      "metadata": {
        "id": "X0SZlL3y3BR9"
      },
      "execution_count": 10,
      "outputs": []
    },
    {
      "cell_type": "code",
      "source": [
        "from pyspark.sql.functions import col, lower, regexp_extract\n",
        "\n",
        "df_all_sampled = df_all.filter(\n",
        "    (lower(col('job_title')).rlike(pattern_danalyst)) |\n",
        "    (lower(col('job_title')).rlike(pattern_banalyst)) |\n",
        "    (lower(col('job_title')).rlike(pattern_scientist)) |\n",
        "    (lower(col('job_title')).rlike(pattern_engineer))\n",
        ")\n",
        "print((df_all_sampled.count(), len(df_all_sampled.columns)))"
      ],
      "metadata": {
        "id": "z2H_sch93Kbu",
        "outputId": "c08c6ed3-f3b3-4d94-87f3-29cebfbdfe54",
        "colab": {
          "base_uri": "https://localhost:8080/"
        }
      },
      "execution_count": 11,
      "outputs": [
        {
          "output_type": "stream",
          "name": "stdout",
          "text": [
            "(7038, 5)\n"
          ]
        }
      ]
    },
    {
      "cell_type": "code",
      "source": [
        "new_names = ['link', 'job_title', 'country', 'serach', 'level']\n",
        "\n",
        "df_all_sampled = df_all_sampled.toDF(*new_names)\n",
        "df_all_sampled.limit(5)\\\n",
        "              .toPandas() # i like pandas view more"
      ],
      "metadata": {
        "id": "Qut3_1P93RDo",
        "outputId": "71d8f7f8-25af-476d-d582-32890d92c65a",
        "colab": {
          "base_uri": "https://localhost:8080/",
          "height": 0
        }
      },
      "execution_count": 12,
      "outputs": [
        {
          "output_type": "execute_result",
          "data": {
            "text/plain": [
              "                                                link  \\\n",
              "0  https://www.linkedin.com/jobs/view/secret-clea...   \n",
              "1  https://www.linkedin.com/jobs/view/business-an...   \n",
              "2  https://www.linkedin.com/jobs/view/payment-swi...   \n",
              "3  https://www.linkedin.com/jobs/view/principal-b...   \n",
              "4  https://www.linkedin.com/jobs/view/lead-data-e...   \n",
              "\n",
              "                            job_title        country  \\\n",
              "0     Secret cleared Business Analyst  United States   \n",
              "1          Business Analyst (11076-1)  United States   \n",
              "2  Payment (Swift) (Business Analyst)  United States   \n",
              "3          Principal Business Analyst  United States   \n",
              "4                  Lead Data Engineer  United States   \n",
              "\n",
              "                          serach       level  \n",
              "0      Quality Assurance Analyst  Mid senior  \n",
              "1           Consultant Education  Mid senior  \n",
              "2  Instructor Business Education  Mid senior  \n",
              "3             Management Analyst  Mid senior  \n",
              "4       Maintenance Data Analyst  Mid senior  "
            ],
            "text/html": [
              "\n",
              "  <div id=\"df-53d3384c-c5b6-4211-95c9-bdb8fe922546\" class=\"colab-df-container\">\n",
              "    <div>\n",
              "<style scoped>\n",
              "    .dataframe tbody tr th:only-of-type {\n",
              "        vertical-align: middle;\n",
              "    }\n",
              "\n",
              "    .dataframe tbody tr th {\n",
              "        vertical-align: top;\n",
              "    }\n",
              "\n",
              "    .dataframe thead th {\n",
              "        text-align: right;\n",
              "    }\n",
              "</style>\n",
              "<table border=\"1\" class=\"dataframe\">\n",
              "  <thead>\n",
              "    <tr style=\"text-align: right;\">\n",
              "      <th></th>\n",
              "      <th>link</th>\n",
              "      <th>job_title</th>\n",
              "      <th>country</th>\n",
              "      <th>serach</th>\n",
              "      <th>level</th>\n",
              "    </tr>\n",
              "  </thead>\n",
              "  <tbody>\n",
              "    <tr>\n",
              "      <th>0</th>\n",
              "      <td>https://www.linkedin.com/jobs/view/secret-clea...</td>\n",
              "      <td>Secret cleared Business Analyst</td>\n",
              "      <td>United States</td>\n",
              "      <td>Quality Assurance Analyst</td>\n",
              "      <td>Mid senior</td>\n",
              "    </tr>\n",
              "    <tr>\n",
              "      <th>1</th>\n",
              "      <td>https://www.linkedin.com/jobs/view/business-an...</td>\n",
              "      <td>Business Analyst (11076-1)</td>\n",
              "      <td>United States</td>\n",
              "      <td>Consultant Education</td>\n",
              "      <td>Mid senior</td>\n",
              "    </tr>\n",
              "    <tr>\n",
              "      <th>2</th>\n",
              "      <td>https://www.linkedin.com/jobs/view/payment-swi...</td>\n",
              "      <td>Payment (Swift) (Business Analyst)</td>\n",
              "      <td>United States</td>\n",
              "      <td>Instructor Business Education</td>\n",
              "      <td>Mid senior</td>\n",
              "    </tr>\n",
              "    <tr>\n",
              "      <th>3</th>\n",
              "      <td>https://www.linkedin.com/jobs/view/principal-b...</td>\n",
              "      <td>Principal Business Analyst</td>\n",
              "      <td>United States</td>\n",
              "      <td>Management Analyst</td>\n",
              "      <td>Mid senior</td>\n",
              "    </tr>\n",
              "    <tr>\n",
              "      <th>4</th>\n",
              "      <td>https://www.linkedin.com/jobs/view/lead-data-e...</td>\n",
              "      <td>Lead Data Engineer</td>\n",
              "      <td>United States</td>\n",
              "      <td>Maintenance Data Analyst</td>\n",
              "      <td>Mid senior</td>\n",
              "    </tr>\n",
              "  </tbody>\n",
              "</table>\n",
              "</div>\n",
              "    <div class=\"colab-df-buttons\">\n",
              "\n",
              "  <div class=\"colab-df-container\">\n",
              "    <button class=\"colab-df-convert\" onclick=\"convertToInteractive('df-53d3384c-c5b6-4211-95c9-bdb8fe922546')\"\n",
              "            title=\"Convert this dataframe to an interactive table.\"\n",
              "            style=\"display:none;\">\n",
              "\n",
              "  <svg xmlns=\"http://www.w3.org/2000/svg\" height=\"24px\" viewBox=\"0 -960 960 960\">\n",
              "    <path d=\"M120-120v-720h720v720H120Zm60-500h600v-160H180v160Zm220 220h160v-160H400v160Zm0 220h160v-160H400v160ZM180-400h160v-160H180v160Zm440 0h160v-160H620v160ZM180-180h160v-160H180v160Zm440 0h160v-160H620v160Z\"/>\n",
              "  </svg>\n",
              "    </button>\n",
              "\n",
              "  <style>\n",
              "    .colab-df-container {\n",
              "      display:flex;\n",
              "      gap: 12px;\n",
              "    }\n",
              "\n",
              "    .colab-df-convert {\n",
              "      background-color: #E8F0FE;\n",
              "      border: none;\n",
              "      border-radius: 50%;\n",
              "      cursor: pointer;\n",
              "      display: none;\n",
              "      fill: #1967D2;\n",
              "      height: 32px;\n",
              "      padding: 0 0 0 0;\n",
              "      width: 32px;\n",
              "    }\n",
              "\n",
              "    .colab-df-convert:hover {\n",
              "      background-color: #E2EBFA;\n",
              "      box-shadow: 0px 1px 2px rgba(60, 64, 67, 0.3), 0px 1px 3px 1px rgba(60, 64, 67, 0.15);\n",
              "      fill: #174EA6;\n",
              "    }\n",
              "\n",
              "    .colab-df-buttons div {\n",
              "      margin-bottom: 4px;\n",
              "    }\n",
              "\n",
              "    [theme=dark] .colab-df-convert {\n",
              "      background-color: #3B4455;\n",
              "      fill: #D2E3FC;\n",
              "    }\n",
              "\n",
              "    [theme=dark] .colab-df-convert:hover {\n",
              "      background-color: #434B5C;\n",
              "      box-shadow: 0px 1px 3px 1px rgba(0, 0, 0, 0.15);\n",
              "      filter: drop-shadow(0px 1px 2px rgba(0, 0, 0, 0.3));\n",
              "      fill: #FFFFFF;\n",
              "    }\n",
              "  </style>\n",
              "\n",
              "    <script>\n",
              "      const buttonEl =\n",
              "        document.querySelector('#df-53d3384c-c5b6-4211-95c9-bdb8fe922546 button.colab-df-convert');\n",
              "      buttonEl.style.display =\n",
              "        google.colab.kernel.accessAllowed ? 'block' : 'none';\n",
              "\n",
              "      async function convertToInteractive(key) {\n",
              "        const element = document.querySelector('#df-53d3384c-c5b6-4211-95c9-bdb8fe922546');\n",
              "        const dataTable =\n",
              "          await google.colab.kernel.invokeFunction('convertToInteractive',\n",
              "                                                    [key], {});\n",
              "        if (!dataTable) return;\n",
              "\n",
              "        const docLinkHtml = 'Like what you see? Visit the ' +\n",
              "          '<a target=\"_blank\" href=https://colab.research.google.com/notebooks/data_table.ipynb>data table notebook</a>'\n",
              "          + ' to learn more about interactive tables.';\n",
              "        element.innerHTML = '';\n",
              "        dataTable['output_type'] = 'display_data';\n",
              "        await google.colab.output.renderOutput(dataTable, element);\n",
              "        const docLink = document.createElement('div');\n",
              "        docLink.innerHTML = docLinkHtml;\n",
              "        element.appendChild(docLink);\n",
              "      }\n",
              "    </script>\n",
              "  </div>\n",
              "\n",
              "\n",
              "<div id=\"df-c53d8aaf-f1dd-4c65-9152-6a9d0dad01a5\">\n",
              "  <button class=\"colab-df-quickchart\" onclick=\"quickchart('df-c53d8aaf-f1dd-4c65-9152-6a9d0dad01a5')\"\n",
              "            title=\"Suggest charts\"\n",
              "            style=\"display:none;\">\n",
              "\n",
              "<svg xmlns=\"http://www.w3.org/2000/svg\" height=\"24px\"viewBox=\"0 0 24 24\"\n",
              "     width=\"24px\">\n",
              "    <g>\n",
              "        <path d=\"M19 3H5c-1.1 0-2 .9-2 2v14c0 1.1.9 2 2 2h14c1.1 0 2-.9 2-2V5c0-1.1-.9-2-2-2zM9 17H7v-7h2v7zm4 0h-2V7h2v10zm4 0h-2v-4h2v4z\"/>\n",
              "    </g>\n",
              "</svg>\n",
              "  </button>\n",
              "\n",
              "<style>\n",
              "  .colab-df-quickchart {\n",
              "      --bg-color: #E8F0FE;\n",
              "      --fill-color: #1967D2;\n",
              "      --hover-bg-color: #E2EBFA;\n",
              "      --hover-fill-color: #174EA6;\n",
              "      --disabled-fill-color: #AAA;\n",
              "      --disabled-bg-color: #DDD;\n",
              "  }\n",
              "\n",
              "  [theme=dark] .colab-df-quickchart {\n",
              "      --bg-color: #3B4455;\n",
              "      --fill-color: #D2E3FC;\n",
              "      --hover-bg-color: #434B5C;\n",
              "      --hover-fill-color: #FFFFFF;\n",
              "      --disabled-bg-color: #3B4455;\n",
              "      --disabled-fill-color: #666;\n",
              "  }\n",
              "\n",
              "  .colab-df-quickchart {\n",
              "    background-color: var(--bg-color);\n",
              "    border: none;\n",
              "    border-radius: 50%;\n",
              "    cursor: pointer;\n",
              "    display: none;\n",
              "    fill: var(--fill-color);\n",
              "    height: 32px;\n",
              "    padding: 0;\n",
              "    width: 32px;\n",
              "  }\n",
              "\n",
              "  .colab-df-quickchart:hover {\n",
              "    background-color: var(--hover-bg-color);\n",
              "    box-shadow: 0 1px 2px rgba(60, 64, 67, 0.3), 0 1px 3px 1px rgba(60, 64, 67, 0.15);\n",
              "    fill: var(--button-hover-fill-color);\n",
              "  }\n",
              "\n",
              "  .colab-df-quickchart-complete:disabled,\n",
              "  .colab-df-quickchart-complete:disabled:hover {\n",
              "    background-color: var(--disabled-bg-color);\n",
              "    fill: var(--disabled-fill-color);\n",
              "    box-shadow: none;\n",
              "  }\n",
              "\n",
              "  .colab-df-spinner {\n",
              "    border: 2px solid var(--fill-color);\n",
              "    border-color: transparent;\n",
              "    border-bottom-color: var(--fill-color);\n",
              "    animation:\n",
              "      spin 1s steps(1) infinite;\n",
              "  }\n",
              "\n",
              "  @keyframes spin {\n",
              "    0% {\n",
              "      border-color: transparent;\n",
              "      border-bottom-color: var(--fill-color);\n",
              "      border-left-color: var(--fill-color);\n",
              "    }\n",
              "    20% {\n",
              "      border-color: transparent;\n",
              "      border-left-color: var(--fill-color);\n",
              "      border-top-color: var(--fill-color);\n",
              "    }\n",
              "    30% {\n",
              "      border-color: transparent;\n",
              "      border-left-color: var(--fill-color);\n",
              "      border-top-color: var(--fill-color);\n",
              "      border-right-color: var(--fill-color);\n",
              "    }\n",
              "    40% {\n",
              "      border-color: transparent;\n",
              "      border-right-color: var(--fill-color);\n",
              "      border-top-color: var(--fill-color);\n",
              "    }\n",
              "    60% {\n",
              "      border-color: transparent;\n",
              "      border-right-color: var(--fill-color);\n",
              "    }\n",
              "    80% {\n",
              "      border-color: transparent;\n",
              "      border-right-color: var(--fill-color);\n",
              "      border-bottom-color: var(--fill-color);\n",
              "    }\n",
              "    90% {\n",
              "      border-color: transparent;\n",
              "      border-bottom-color: var(--fill-color);\n",
              "    }\n",
              "  }\n",
              "</style>\n",
              "\n",
              "  <script>\n",
              "    async function quickchart(key) {\n",
              "      const quickchartButtonEl =\n",
              "        document.querySelector('#' + key + ' button');\n",
              "      quickchartButtonEl.disabled = true;  // To prevent multiple clicks.\n",
              "      quickchartButtonEl.classList.add('colab-df-spinner');\n",
              "      try {\n",
              "        const charts = await google.colab.kernel.invokeFunction(\n",
              "            'suggestCharts', [key], {});\n",
              "      } catch (error) {\n",
              "        console.error('Error during call to suggestCharts:', error);\n",
              "      }\n",
              "      quickchartButtonEl.classList.remove('colab-df-spinner');\n",
              "      quickchartButtonEl.classList.add('colab-df-quickchart-complete');\n",
              "    }\n",
              "    (() => {\n",
              "      let quickchartButtonEl =\n",
              "        document.querySelector('#df-c53d8aaf-f1dd-4c65-9152-6a9d0dad01a5 button');\n",
              "      quickchartButtonEl.style.display =\n",
              "        google.colab.kernel.accessAllowed ? 'block' : 'none';\n",
              "    })();\n",
              "  </script>\n",
              "</div>\n",
              "\n",
              "    </div>\n",
              "  </div>\n"
            ],
            "application/vnd.google.colaboratory.intrinsic+json": {
              "type": "dataframe",
              "summary": "{\n  \"name\": \"              \",\n  \"rows\": 5,\n  \"fields\": [\n    {\n      \"column\": \"link\",\n      \"properties\": {\n        \"dtype\": \"string\",\n        \"num_unique_values\": 5,\n        \"samples\": [\n          \"https://www.linkedin.com/jobs/view/business-analyst-11076-1-at-raps-consulting-inc-3794678844\",\n          \"https://www.linkedin.com/jobs/view/lead-data-engineer-at-dice-3805948138\",\n          \"https://www.linkedin.com/jobs/view/payment-swift-business-analyst-at-resource-consultings-services-inc-3802412719\"\n        ],\n        \"semantic_type\": \"\",\n        \"description\": \"\"\n      }\n    },\n    {\n      \"column\": \"job_title\",\n      \"properties\": {\n        \"dtype\": \"string\",\n        \"num_unique_values\": 5,\n        \"samples\": [\n          \"Business Analyst (11076-1)\",\n          \"Lead Data Engineer\",\n          \"Payment (Swift) (Business Analyst)\"\n        ],\n        \"semantic_type\": \"\",\n        \"description\": \"\"\n      }\n    },\n    {\n      \"column\": \"country\",\n      \"properties\": {\n        \"dtype\": \"category\",\n        \"num_unique_values\": 1,\n        \"samples\": [\n          \"United States\"\n        ],\n        \"semantic_type\": \"\",\n        \"description\": \"\"\n      }\n    },\n    {\n      \"column\": \"serach\",\n      \"properties\": {\n        \"dtype\": \"string\",\n        \"num_unique_values\": 5,\n        \"samples\": [\n          \"Consultant Education\"\n        ],\n        \"semantic_type\": \"\",\n        \"description\": \"\"\n      }\n    },\n    {\n      \"column\": \"level\",\n      \"properties\": {\n        \"dtype\": \"category\",\n        \"num_unique_values\": 1,\n        \"samples\": [\n          \"Mid senior\"\n        ],\n        \"semantic_type\": \"\",\n        \"description\": \"\"\n      }\n    }\n  ]\n}"
            }
          },
          "metadata": {},
          "execution_count": 12
        }
      ]
    },
    {
      "cell_type": "markdown",
      "source": [
        "#### The main dataset with links and skills"
      ],
      "metadata": {
        "id": "EOwUmC_G3elJ"
      }
    },
    {
      "cell_type": "code",
      "source": [
        "new_names = ['link', 'skill']\n",
        "\n",
        "df_skills = df_skills.toDF(*new_names)\n",
        "df_skills.show(5)"
      ],
      "metadata": {
        "id": "X48lXj9G3bI_",
        "outputId": "b663bc73-4d35-4561-9f0e-3bb487eddfe8",
        "colab": {
          "base_uri": "https://localhost:8080/"
        }
      },
      "execution_count": 13,
      "outputs": [
        {
          "output_type": "stream",
          "name": "stdout",
          "text": [
            "+--------------------+--------------------+\n",
            "|                link|               skill|\n",
            "+--------------------+--------------------+\n",
            "|https://www.linke...|Building Custodia...|\n",
            "|https://www.linke...|Customer service,...|\n",
            "|https://www.linke...|Applied Behavior ...|\n",
            "|https://www.linke...|Electrical Engine...|\n",
            "|https://www.linke...|Electrical Assemb...|\n",
            "+--------------------+--------------------+\n",
            "only showing top 5 rows\n",
            "\n"
          ]
        }
      ]
    },
    {
      "cell_type": "code",
      "source": [
        "df_skills.describe()"
      ],
      "metadata": {
        "id": "lUSrEOEW36WE",
        "outputId": "41a01cd9-768e-4680-986f-e45fe296f28e",
        "colab": {
          "base_uri": "https://localhost:8080/",
          "height": 0
        }
      },
      "execution_count": 14,
      "outputs": [
        {
          "output_type": "execute_result",
          "data": {
            "text/plain": [
              "+-------+--------------------+-------------------------------+\n",
              "|summary|                link|                          skill|\n",
              "+-------+--------------------+-------------------------------+\n",
              "|  count|             1296381|                        1294374|\n",
              "|   mean|                null|                           null|\n",
              "| stddev|                null|                           null|\n",
              "|    min|https://ae.linked...|           \"* Maintenance, *...|\n",
              "|    max|https://za.linked...|志愿服务, 沟通, 陪伴, 临终服...|\n",
              "+-------+--------------------+-------------------------------+"
            ],
            "text/html": [
              "<table border='1'>\n",
              "<tr><th>summary</th><th>link</th><th>skill</th></tr>\n",
              "<tr><td>count</td><td>1296381</td><td>1294374</td></tr>\n",
              "<tr><td>mean</td><td>null</td><td>null</td></tr>\n",
              "<tr><td>stddev</td><td>null</td><td>null</td></tr>\n",
              "<tr><td>min</td><td>https://ae.linked...</td><td>&quot;* Maintenance, *...</td></tr>\n",
              "<tr><td>max</td><td>https://za.linked...</td><td>志愿服务, 沟通, 陪伴, 临终服...</td></tr>\n",
              "</table>\n"
            ]
          },
          "metadata": {},
          "execution_count": 14
        }
      ]
    },
    {
      "cell_type": "code",
      "source": [
        "df_skills = df_skills.dropna() # drop empty, NA cells\n",
        "df_skills = df_skills.dropDuplicates() # drop repeated cells\n",
        "\n",
        "df_skills.describe()"
      ],
      "metadata": {
        "id": "E4jBQOa738qe",
        "outputId": "da41ef23-b6c2-4f2f-8cf9-c292247f45a8",
        "colab": {
          "base_uri": "https://localhost:8080/",
          "height": 0
        }
      },
      "execution_count": 15,
      "outputs": [
        {
          "output_type": "execute_result",
          "data": {
            "text/plain": [
              "+-------+--------------------+-------------------------------+\n",
              "|summary|                link|                          skill|\n",
              "+-------+--------------------+-------------------------------+\n",
              "|  count|             1294374|                        1294374|\n",
              "|   mean|                null|                           null|\n",
              "| stddev|                null|                           null|\n",
              "|    min|https://ae.linked...|           \"* Maintenance, *...|\n",
              "|    max|https://za.linked...|志愿服务, 沟通, 陪伴, 临终服...|\n",
              "+-------+--------------------+-------------------------------+"
            ],
            "text/html": [
              "<table border='1'>\n",
              "<tr><th>summary</th><th>link</th><th>skill</th></tr>\n",
              "<tr><td>count</td><td>1294374</td><td>1294374</td></tr>\n",
              "<tr><td>mean</td><td>null</td><td>null</td></tr>\n",
              "<tr><td>stddev</td><td>null</td><td>null</td></tr>\n",
              "<tr><td>min</td><td>https://ae.linked...</td><td>&quot;* Maintenance, *...</td></tr>\n",
              "<tr><td>max</td><td>https://za.linked...</td><td>志愿服务, 沟通, 陪伴, 临终服...</td></tr>\n",
              "</table>\n"
            ]
          },
          "metadata": {},
          "execution_count": 15
        }
      ]
    },
    {
      "cell_type": "markdown",
      "source": [
        "#### data merging and sampling"
      ],
      "metadata": {
        "id": "1S0ldnty4gvc"
      }
    },
    {
      "cell_type": "code",
      "source": [
        "df_skills.groupBy('skill') \\\n",
        "         .count() \\\n",
        "         .orderBy('count', ascending=False) \\\n",
        "         .show() # first attempt to check the most \"frequent\" set of skills in dataset"
      ],
      "metadata": {
        "id": "gWvkRfi14L5H",
        "outputId": "779da11c-0c50-40b6-905d-e647cb5033ca",
        "colab": {
          "base_uri": "https://localhost:8080/"
        }
      },
      "execution_count": 16,
      "outputs": [
        {
          "output_type": "stream",
          "name": "stdout",
          "text": [
            "+--------------------+-----+\n",
            "|               skill|count|\n",
            "+--------------------+-----+\n",
            "|Front Counter, Dr...|  169|\n",
            "|Front Counter, Dr...|  112|\n",
            "|Communication, Co...|   90|\n",
            "|Retail experience...|   83|\n",
            "|Leadership, Train...|   75|\n",
            "|VolunteerMatch, L...|   70|\n",
            "|                None|   50|\n",
            "|Food Safety, Inte...|   47|\n",
            "|Supervisory exper...|   41|\n",
            "|Food Safety, Inte...|   40|\n",
            "|             Nursing|   38|\n",
            "|This context does...|   36|\n",
            "|Restaurant Manage...|   35|\n",
            "|Physician, Obstet...|   33|\n",
            "|Retail experience...|   32|\n",
            "|Customer service ...|   32|\n",
            "|Communication ski...|   31|\n",
            "|Leadership, Train...|   30|\n",
            "|Teamwork, Positiv...|   29|\n",
            "|Restaurant Manage...|   29|\n",
            "+--------------------+-----+\n",
            "only showing top 20 rows\n",
            "\n"
          ]
        }
      ]
    },
    {
      "cell_type": "code",
      "source": [
        "data = df_all_sampled.join(df_skills,['link'],how='inner')\n",
        "data.count()"
      ],
      "metadata": {
        "id": "P7tKl_qw4dEQ",
        "outputId": "e810126e-e737-4001-ad1d-489e28309167",
        "colab": {
          "base_uri": "https://localhost:8080/"
        }
      },
      "execution_count": 17,
      "outputs": [
        {
          "output_type": "execute_result",
          "data": {
            "text/plain": [
              "6795"
            ]
          },
          "metadata": {},
          "execution_count": 17
        }
      ]
    },
    {
      "cell_type": "code",
      "source": [
        "data = data[['link', 'skill']]\n",
        "data.limit(5)\\\n",
        "    .toPandas()"
      ],
      "metadata": {
        "id": "0u8IhCqY55y6",
        "outputId": "7e9505ac-8d1d-4478-e72a-36fcd93c04fd",
        "colab": {
          "base_uri": "https://localhost:8080/",
          "height": 0
        }
      },
      "execution_count": 18,
      "outputs": [
        {
          "output_type": "execute_result",
          "data": {
            "text/plain": [
              "                                                link  \\\n",
              "0  https://www.linkedin.com/jobs/view/aflcmc-busi...   \n",
              "1  https://www.linkedin.com/jobs/view/business-an...   \n",
              "2  https://www.linkedin.com/jobs/view/business-an...   \n",
              "3  https://www.linkedin.com/jobs/view/business-an...   \n",
              "4  https://www.linkedin.com/jobs/view/business-an...   \n",
              "\n",
              "                                               skill  \n",
              "0  Business Analyst, DoD financial management pro...  \n",
              "1  Data analysis, SQL, Database management, Macro...  \n",
              "2  Business Analysis, Business Process Review, Re...  \n",
              "3  Alteryx Analytics, SQL, Data Validation, Alter...  \n",
              "4  Data Analysis, Process Improvement, Technology...  "
            ],
            "text/html": [
              "\n",
              "  <div id=\"df-c8e9247f-4497-40c2-8e17-3724d2ce41d0\" class=\"colab-df-container\">\n",
              "    <div>\n",
              "<style scoped>\n",
              "    .dataframe tbody tr th:only-of-type {\n",
              "        vertical-align: middle;\n",
              "    }\n",
              "\n",
              "    .dataframe tbody tr th {\n",
              "        vertical-align: top;\n",
              "    }\n",
              "\n",
              "    .dataframe thead th {\n",
              "        text-align: right;\n",
              "    }\n",
              "</style>\n",
              "<table border=\"1\" class=\"dataframe\">\n",
              "  <thead>\n",
              "    <tr style=\"text-align: right;\">\n",
              "      <th></th>\n",
              "      <th>link</th>\n",
              "      <th>skill</th>\n",
              "    </tr>\n",
              "  </thead>\n",
              "  <tbody>\n",
              "    <tr>\n",
              "      <th>0</th>\n",
              "      <td>https://www.linkedin.com/jobs/view/aflcmc-busi...</td>\n",
              "      <td>Business Analyst, DoD financial management pro...</td>\n",
              "    </tr>\n",
              "    <tr>\n",
              "      <th>1</th>\n",
              "      <td>https://www.linkedin.com/jobs/view/business-an...</td>\n",
              "      <td>Data analysis, SQL, Database management, Macro...</td>\n",
              "    </tr>\n",
              "    <tr>\n",
              "      <th>2</th>\n",
              "      <td>https://www.linkedin.com/jobs/view/business-an...</td>\n",
              "      <td>Business Analysis, Business Process Review, Re...</td>\n",
              "    </tr>\n",
              "    <tr>\n",
              "      <th>3</th>\n",
              "      <td>https://www.linkedin.com/jobs/view/business-an...</td>\n",
              "      <td>Alteryx Analytics, SQL, Data Validation, Alter...</td>\n",
              "    </tr>\n",
              "    <tr>\n",
              "      <th>4</th>\n",
              "      <td>https://www.linkedin.com/jobs/view/business-an...</td>\n",
              "      <td>Data Analysis, Process Improvement, Technology...</td>\n",
              "    </tr>\n",
              "  </tbody>\n",
              "</table>\n",
              "</div>\n",
              "    <div class=\"colab-df-buttons\">\n",
              "\n",
              "  <div class=\"colab-df-container\">\n",
              "    <button class=\"colab-df-convert\" onclick=\"convertToInteractive('df-c8e9247f-4497-40c2-8e17-3724d2ce41d0')\"\n",
              "            title=\"Convert this dataframe to an interactive table.\"\n",
              "            style=\"display:none;\">\n",
              "\n",
              "  <svg xmlns=\"http://www.w3.org/2000/svg\" height=\"24px\" viewBox=\"0 -960 960 960\">\n",
              "    <path d=\"M120-120v-720h720v720H120Zm60-500h600v-160H180v160Zm220 220h160v-160H400v160Zm0 220h160v-160H400v160ZM180-400h160v-160H180v160Zm440 0h160v-160H620v160ZM180-180h160v-160H180v160Zm440 0h160v-160H620v160Z\"/>\n",
              "  </svg>\n",
              "    </button>\n",
              "\n",
              "  <style>\n",
              "    .colab-df-container {\n",
              "      display:flex;\n",
              "      gap: 12px;\n",
              "    }\n",
              "\n",
              "    .colab-df-convert {\n",
              "      background-color: #E8F0FE;\n",
              "      border: none;\n",
              "      border-radius: 50%;\n",
              "      cursor: pointer;\n",
              "      display: none;\n",
              "      fill: #1967D2;\n",
              "      height: 32px;\n",
              "      padding: 0 0 0 0;\n",
              "      width: 32px;\n",
              "    }\n",
              "\n",
              "    .colab-df-convert:hover {\n",
              "      background-color: #E2EBFA;\n",
              "      box-shadow: 0px 1px 2px rgba(60, 64, 67, 0.3), 0px 1px 3px 1px rgba(60, 64, 67, 0.15);\n",
              "      fill: #174EA6;\n",
              "    }\n",
              "\n",
              "    .colab-df-buttons div {\n",
              "      margin-bottom: 4px;\n",
              "    }\n",
              "\n",
              "    [theme=dark] .colab-df-convert {\n",
              "      background-color: #3B4455;\n",
              "      fill: #D2E3FC;\n",
              "    }\n",
              "\n",
              "    [theme=dark] .colab-df-convert:hover {\n",
              "      background-color: #434B5C;\n",
              "      box-shadow: 0px 1px 3px 1px rgba(0, 0, 0, 0.15);\n",
              "      filter: drop-shadow(0px 1px 2px rgba(0, 0, 0, 0.3));\n",
              "      fill: #FFFFFF;\n",
              "    }\n",
              "  </style>\n",
              "\n",
              "    <script>\n",
              "      const buttonEl =\n",
              "        document.querySelector('#df-c8e9247f-4497-40c2-8e17-3724d2ce41d0 button.colab-df-convert');\n",
              "      buttonEl.style.display =\n",
              "        google.colab.kernel.accessAllowed ? 'block' : 'none';\n",
              "\n",
              "      async function convertToInteractive(key) {\n",
              "        const element = document.querySelector('#df-c8e9247f-4497-40c2-8e17-3724d2ce41d0');\n",
              "        const dataTable =\n",
              "          await google.colab.kernel.invokeFunction('convertToInteractive',\n",
              "                                                    [key], {});\n",
              "        if (!dataTable) return;\n",
              "\n",
              "        const docLinkHtml = 'Like what you see? Visit the ' +\n",
              "          '<a target=\"_blank\" href=https://colab.research.google.com/notebooks/data_table.ipynb>data table notebook</a>'\n",
              "          + ' to learn more about interactive tables.';\n",
              "        element.innerHTML = '';\n",
              "        dataTable['output_type'] = 'display_data';\n",
              "        await google.colab.output.renderOutput(dataTable, element);\n",
              "        const docLink = document.createElement('div');\n",
              "        docLink.innerHTML = docLinkHtml;\n",
              "        element.appendChild(docLink);\n",
              "      }\n",
              "    </script>\n",
              "  </div>\n",
              "\n",
              "\n",
              "<div id=\"df-5c3433f0-acc5-4e11-9b7d-9d194422c847\">\n",
              "  <button class=\"colab-df-quickchart\" onclick=\"quickchart('df-5c3433f0-acc5-4e11-9b7d-9d194422c847')\"\n",
              "            title=\"Suggest charts\"\n",
              "            style=\"display:none;\">\n",
              "\n",
              "<svg xmlns=\"http://www.w3.org/2000/svg\" height=\"24px\"viewBox=\"0 0 24 24\"\n",
              "     width=\"24px\">\n",
              "    <g>\n",
              "        <path d=\"M19 3H5c-1.1 0-2 .9-2 2v14c0 1.1.9 2 2 2h14c1.1 0 2-.9 2-2V5c0-1.1-.9-2-2-2zM9 17H7v-7h2v7zm4 0h-2V7h2v10zm4 0h-2v-4h2v4z\"/>\n",
              "    </g>\n",
              "</svg>\n",
              "  </button>\n",
              "\n",
              "<style>\n",
              "  .colab-df-quickchart {\n",
              "      --bg-color: #E8F0FE;\n",
              "      --fill-color: #1967D2;\n",
              "      --hover-bg-color: #E2EBFA;\n",
              "      --hover-fill-color: #174EA6;\n",
              "      --disabled-fill-color: #AAA;\n",
              "      --disabled-bg-color: #DDD;\n",
              "  }\n",
              "\n",
              "  [theme=dark] .colab-df-quickchart {\n",
              "      --bg-color: #3B4455;\n",
              "      --fill-color: #D2E3FC;\n",
              "      --hover-bg-color: #434B5C;\n",
              "      --hover-fill-color: #FFFFFF;\n",
              "      --disabled-bg-color: #3B4455;\n",
              "      --disabled-fill-color: #666;\n",
              "  }\n",
              "\n",
              "  .colab-df-quickchart {\n",
              "    background-color: var(--bg-color);\n",
              "    border: none;\n",
              "    border-radius: 50%;\n",
              "    cursor: pointer;\n",
              "    display: none;\n",
              "    fill: var(--fill-color);\n",
              "    height: 32px;\n",
              "    padding: 0;\n",
              "    width: 32px;\n",
              "  }\n",
              "\n",
              "  .colab-df-quickchart:hover {\n",
              "    background-color: var(--hover-bg-color);\n",
              "    box-shadow: 0 1px 2px rgba(60, 64, 67, 0.3), 0 1px 3px 1px rgba(60, 64, 67, 0.15);\n",
              "    fill: var(--button-hover-fill-color);\n",
              "  }\n",
              "\n",
              "  .colab-df-quickchart-complete:disabled,\n",
              "  .colab-df-quickchart-complete:disabled:hover {\n",
              "    background-color: var(--disabled-bg-color);\n",
              "    fill: var(--disabled-fill-color);\n",
              "    box-shadow: none;\n",
              "  }\n",
              "\n",
              "  .colab-df-spinner {\n",
              "    border: 2px solid var(--fill-color);\n",
              "    border-color: transparent;\n",
              "    border-bottom-color: var(--fill-color);\n",
              "    animation:\n",
              "      spin 1s steps(1) infinite;\n",
              "  }\n",
              "\n",
              "  @keyframes spin {\n",
              "    0% {\n",
              "      border-color: transparent;\n",
              "      border-bottom-color: var(--fill-color);\n",
              "      border-left-color: var(--fill-color);\n",
              "    }\n",
              "    20% {\n",
              "      border-color: transparent;\n",
              "      border-left-color: var(--fill-color);\n",
              "      border-top-color: var(--fill-color);\n",
              "    }\n",
              "    30% {\n",
              "      border-color: transparent;\n",
              "      border-left-color: var(--fill-color);\n",
              "      border-top-color: var(--fill-color);\n",
              "      border-right-color: var(--fill-color);\n",
              "    }\n",
              "    40% {\n",
              "      border-color: transparent;\n",
              "      border-right-color: var(--fill-color);\n",
              "      border-top-color: var(--fill-color);\n",
              "    }\n",
              "    60% {\n",
              "      border-color: transparent;\n",
              "      border-right-color: var(--fill-color);\n",
              "    }\n",
              "    80% {\n",
              "      border-color: transparent;\n",
              "      border-right-color: var(--fill-color);\n",
              "      border-bottom-color: var(--fill-color);\n",
              "    }\n",
              "    90% {\n",
              "      border-color: transparent;\n",
              "      border-bottom-color: var(--fill-color);\n",
              "    }\n",
              "  }\n",
              "</style>\n",
              "\n",
              "  <script>\n",
              "    async function quickchart(key) {\n",
              "      const quickchartButtonEl =\n",
              "        document.querySelector('#' + key + ' button');\n",
              "      quickchartButtonEl.disabled = true;  // To prevent multiple clicks.\n",
              "      quickchartButtonEl.classList.add('colab-df-spinner');\n",
              "      try {\n",
              "        const charts = await google.colab.kernel.invokeFunction(\n",
              "            'suggestCharts', [key], {});\n",
              "      } catch (error) {\n",
              "        console.error('Error during call to suggestCharts:', error);\n",
              "      }\n",
              "      quickchartButtonEl.classList.remove('colab-df-spinner');\n",
              "      quickchartButtonEl.classList.add('colab-df-quickchart-complete');\n",
              "    }\n",
              "    (() => {\n",
              "      let quickchartButtonEl =\n",
              "        document.querySelector('#df-5c3433f0-acc5-4e11-9b7d-9d194422c847 button');\n",
              "      quickchartButtonEl.style.display =\n",
              "        google.colab.kernel.accessAllowed ? 'block' : 'none';\n",
              "    })();\n",
              "  </script>\n",
              "</div>\n",
              "\n",
              "    </div>\n",
              "  </div>\n"
            ],
            "application/vnd.google.colaboratory.intrinsic+json": {
              "type": "dataframe",
              "summary": "{\n  \"name\": \"    \",\n  \"rows\": 5,\n  \"fields\": [\n    {\n      \"column\": \"link\",\n      \"properties\": {\n        \"dtype\": \"string\",\n        \"num_unique_values\": 5,\n        \"samples\": [\n          \"https://www.linkedin.com/jobs/view/business-analyst-%2421-hr-on-w2-baltimore-md-onsite-at-kellton-3793671264\",\n          \"https://www.linkedin.com/jobs/view/business-analyst-at-future-technologies-venture-llc-3800835366\",\n          \"https://www.linkedin.com/jobs/view/business-analyst-%E2%80%93-product-lead-at-exl-3784085058\"\n        ],\n        \"semantic_type\": \"\",\n        \"description\": \"\"\n      }\n    },\n    {\n      \"column\": \"skill\",\n      \"properties\": {\n        \"dtype\": \"string\",\n        \"num_unique_values\": 5,\n        \"samples\": [\n          \"Data analysis, SQL, Database management, Macro programming, Financial services knowledge, Verbal communication, Written communication, Teamwork, Learning agility, Result orientation, Microsoft Office Suite, Pressure management\",\n          \"Data Analysis, Process Improvement, Technology Evaluation and Selection, Stakeholder Collaboration, Business Process Reengineering, Enterprise Resource Planning (ERP), Business Intelligence (BI), Data Mining, Data Visualization, Lean Six Sigma, Agile, Kaizen, Project Management, Business Administration, Economics, Information Systems, Excel, SQL, Data Visualization Software, Process Improvement Methodologies, Communication, Presentation, Attention to Detail, Teamwork, Startup Experience, SMB Experience, Six Sigma Certification, Lead Certification, PMP Certification, Agile Certification, Certified Process Improvement Professional\",\n          \"Business Analysis, Business Process Review, Requirements Gathering and Documentation, Agile Scrum Methodology, User Story Creation, Product Management, Stakeholder Management, Risk Management, Change Management, Problem Solving, Communication (Technical and NonTechnical), Data Analysis (SQL), Team Collaboration, MultiTasking, Time Management, Project Management, Bachelor's Degree\"\n        ],\n        \"semantic_type\": \"\",\n        \"description\": \"\"\n      }\n    }\n  ]\n}"
            }
          },
          "metadata": {},
          "execution_count": 18
        }
      ]
    },
    {
      "cell_type": "markdown",
      "source": [
        "#### EDA"
      ],
      "metadata": {
        "id": "oUqlKiP36c6H"
      }
    },
    {
      "cell_type": "code",
      "source": [
        "df_pd = data.toPandas()\n",
        "df_pd.shape"
      ],
      "metadata": {
        "id": "N7vttbAX6XG6",
        "colab": {
          "base_uri": "https://localhost:8080/"
        },
        "outputId": "9bb378d1-55f5-435c-e355-edf669ac3172"
      },
      "execution_count": 19,
      "outputs": [
        {
          "output_type": "execute_result",
          "data": {
            "text/plain": [
              "(6795, 2)"
            ]
          },
          "metadata": {},
          "execution_count": 19
        }
      ]
    },
    {
      "cell_type": "code",
      "source": [
        "skills = df_pd['skill'].str.split(', ').explode()\n",
        "df = pd.DataFrame(skills, index=None)\n",
        "df.shape"
      ],
      "metadata": {
        "id": "AREUdM-468Nl",
        "outputId": "fca4cd2f-cdcb-4203-fe50-550d83b39b9e",
        "colab": {
          "base_uri": "https://localhost:8080/"
        }
      },
      "execution_count": 20,
      "outputs": [
        {
          "output_type": "execute_result",
          "data": {
            "text/plain": [
              "(180380, 1)"
            ]
          },
          "metadata": {},
          "execution_count": 20
        }
      ]
    },
    {
      "cell_type": "code",
      "source": [
        "counting = df.value_counts().sort_values(ascending = 0)\n",
        "counting"
      ],
      "metadata": {
        "id": "f06ySeRH728w",
        "outputId": "c68ec4d4-c6db-431e-9f98-f6cdf04e6ba5",
        "colab": {
          "base_uri": "https://localhost:8080/"
        }
      },
      "execution_count": 21,
      "outputs": [
        {
          "output_type": "execute_result",
          "data": {
            "text/plain": [
              "skill                     \n",
              "SQL                           3023\n",
              "Python                        2388\n",
              "Communication                 1704\n",
              "Data Analysis                 1703\n",
              "Project Management            1230\n",
              "                              ... \n",
              "Rate analysis                    1\n",
              "Rate changes                     1\n",
              "Rate design                      1\n",
              "Rates and Forms Management       1\n",
              "Éditions Documentaires           1\n",
              "Name: count, Length: 41020, dtype: int64"
            ]
          },
          "metadata": {},
          "execution_count": 21
        }
      ]
    },
    {
      "cell_type": "code",
      "source": [
        "counting[:15].plot.bar(color = 'yellow')"
      ],
      "metadata": {
        "id": "A54lDJLbSZVV",
        "outputId": "b58f3a74-c2ea-4a8a-9bef-03545f68599e",
        "colab": {
          "base_uri": "https://localhost:8080/",
          "height": 611
        }
      },
      "execution_count": 117,
      "outputs": [
        {
          "output_type": "execute_result",
          "data": {
            "text/plain": [
              "<Axes: xlabel='skill'>"
            ]
          },
          "metadata": {},
          "execution_count": 117
        },
        {
          "output_type": "display_data",
          "data": {
            "text/plain": [
              "<Figure size 640x480 with 1 Axes>"
            ],
            "image/png": "[encoded data removed]"
          },
          "metadata": {}
        }
      ]
    },
    {
      "cell_type": "markdown",
      "source": [
        "## MBA I part: turning data into baskets"
      ],
      "metadata": {
        "id": "h1Qs29V-D-bV"
      }
    },
    {
      "cell_type": "code",
      "source": [
        "rdd = data.select(data.columns[1]).rdd\n",
        "baskets = rdd.map(lambda x: x['skill']) \\\n",
        "             .map(lambda line: line.split(', '))\n",
        "baskets.take(1)"
      ],
      "metadata": {
        "colab": {
          "base_uri": "https://localhost:8080/"
        },
        "id": "_5Ll9vO9_iIj",
        "outputId": "1c14371a-4e93-4ff7-9319-2a07077261b5"
      },
      "execution_count": 23,
      "outputs": [
        {
          "output_type": "execute_result",
          "data": {
            "text/plain": [
              "[['Business Analyst',\n",
              "  'DoD financial management processes',\n",
              "  'Government financial and accounting systems',\n",
              "  'Acquisition and budgeting processes',\n",
              "  'Relational databases',\n",
              "  'Financial and technical consulting',\n",
              "  'Government finance expertise',\n",
              "  'Financial data structuring',\n",
              "  'Reconciliation between systems',\n",
              "  'Financial forecasts and accounting data review',\n",
              "  'Government financial office support',\n",
              "  'Cost and Requirement System (CCaR™) experience',\n",
              "  \"Bachelor's degree in business management engineering computer science mathematics economics\",\n",
              "  '7+ years of government acquisition finance financial management program management or related experience',\n",
              "  '10+ years of equivalent technical training or work/military experience',\n",
              "  'Extended periods of sitting typing hearing seeing and speaking',\n",
              "  'Prolonged computer work and typing',\n",
              "  'Accurate communication',\n",
              "  '15 lbs lifting/carrying',\n",
              "  'Office mobility',\n",
              "  'Federal background investigation',\n",
              "  'Travel',\n",
              "  'Varying work schedule',\n",
              "  'Additional hours and weekend work',\n",
              "  '$80000  $120000 annual salary',\n",
              "  'Employerpaid health dental vision disability AD&D and life insurance',\n",
              "  'Elective plans including flexible spending accounts voluntary life insurance and supplemental insurance',\n",
              "  '11 paid holidays',\n",
              "  '3 weeks PTO accrual per year',\n",
              "  '401(k) safe harbor contribution',\n",
              "  'Employee referral bonuses',\n",
              "  'Equal Opportunity Employer']]"
            ]
          },
          "metadata": {},
          "execution_count": 23
        }
      ]
    },
    {
      "cell_type": "code",
      "source": [
        "# lenghts = baskets.map(lambda x: len(x))\n",
        "#\n",
        "# print(f\"Max number of items in the basket is: {lenghts.max()}\\n\",\n",
        "#       f\"The average number of items in the basket is: {lenghts.mean()}\\n\",\n",
        "#       f\"The total number of baskets is: {baskets.count()}\\n\",\n",
        "#       f\"The approximate total number of items is:{round(lenghts.mean() * baskets.count())}\", sep = '\\n')"
      ],
      "metadata": {
        "id": "JDVDVyr5AVuP"
      },
      "execution_count": null,
      "outputs": []
    },
    {
      "cell_type": "markdown",
      "source": [
        "## MBA II part: apriori algorithm implementation"
      ],
      "metadata": {
        "id": "ux5t0_9K_J6t"
      }
    },
    {
      "cell_type": "code",
      "source": [
        "from itertools import combinations"
      ],
      "metadata": {
        "id": "w7szzyXOYgQj"
      },
      "execution_count": 128,
      "outputs": []
    },
    {
      "cell_type": "code",
      "source": [
        "def a_apriori(baskets, s, hash_table, k):\n",
        "  \"\"\"The first phase of algo: count occurencies of each item, select candidate item\"\"\"\n",
        "\n",
        "  candidate_items = baskets.flatMap(lambda basket: [(item, 1) for item in basket]) \\\n",
        "                           .reduceByKey(lambda x1, x2: x1 + x2) \\\n",
        "                           .filter(lambda x: x[1] > s)\n",
        "\n",
        "\n",
        "  top5 = candidate_items.takeOrdered(5, key=lambda x: -x[1])\n",
        "  top_candidates_idx = [idx for idx, _ in top5]\n",
        "  top_candidates = [list(hash_table.keys())[idx] for idx in top_candidates_idx]\n",
        "\n",
        "  \"\"\"The second phase of algo: create candidate pairs and check the frequency\"\"\"\n",
        "\n",
        "  candidates = set(candidate_items.map(lambda x: (x[0],)).collect())\n",
        "\n",
        "  candidate_itemsets = baskets.flatMap(lambda basket: [(itemset, 1) for itemset in combinations(sorted(basket), k)\n",
        "                                                        if all(item in candidates for item in combinations(itemset, k-1))\n",
        "                                                        ]) \\\n",
        "                              .reduceByKey(lambda x, y: x + y) \\\n",
        "                              .filter(lambda x: x[1] > s)\n",
        "\n",
        "  top15 = candidate_itemsets.takeOrdered(15, key=lambda x: -x[1])\n",
        "  top_pairs_idx = [pair for pair, _ in top15]\n",
        "  top_idxs = [(idx1, idx2) for idx1, idx2 in top_pairs_idx]\n",
        "  top_сandidate_itemsets = [(list(hash_table.keys())[idx1], list(hash_table.keys())[idx2]) for idx1, idx2 in top_idxs]\n",
        "\n",
        "\n",
        "  return candidate_items, top_candidates, candidate_itemsets, top_сandidate_itemsets"
      ],
      "metadata": {
        "id": "S0cheyFf_Ph8"
      },
      "execution_count": 193,
      "outputs": []
    },
    {
      "cell_type": "code",
      "source": [
        "def supp(baskets, percentage):\n",
        "  s = round(baskets.count() * percentage / 100)\n",
        "  return s\n",
        "\n",
        "support = supp(baskets, 1)\n",
        "print(f\"The support value is {support}\")"
      ],
      "metadata": {
        "colab": {
          "base_uri": "https://localhost:8080/"
        },
        "id": "FVCzmq7u_zfJ",
        "outputId": "9d4d70a3-244f-4bb6-acd5-0394276b9048"
      },
      "execution_count": 58,
      "outputs": [
        {
          "output_type": "stream",
          "name": "stdout",
          "text": [
            "The support value is 68\n"
          ]
        }
      ]
    },
    {
      "cell_type": "code",
      "source": [
        "items = baskets.flatMap(lambda line: line) \\\n",
        "               .distinct()\n",
        "items.take(5)"
      ],
      "metadata": {
        "colab": {
          "base_uri": "https://localhost:8080/"
        },
        "id": "_69QSskfAN4E",
        "outputId": "27b06479-a14f-4615-ee23-b6dbee440c21"
      },
      "execution_count": 59,
      "outputs": [
        {
          "output_type": "execute_result",
          "data": {
            "text/plain": [
              "['Test cases',\n",
              " 'Test data preparation',\n",
              " 'Project status communication',\n",
              " 'Airflow',\n",
              " 'Mentoring']"
            ]
          },
          "metadata": {},
          "execution_count": 59
        }
      ]
    },
    {
      "cell_type": "code",
      "source": [
        "items_index = items.zipWithIndex() \\\n",
        "                   .collectAsMap()\n",
        "\n",
        "for elem, index in list(items_index.items())[:15]:\n",
        "  print(f\"{elem}: {index}\")\n",
        "\n",
        "print(f\"\\n\\nThe total number of skills is {len(items_index)}\")"
      ],
      "metadata": {
        "colab": {
          "base_uri": "https://localhost:8080/"
        },
        "id": "iThV507HDV8F",
        "outputId": "155f1eeb-2840-4848-86f7-32d1cb6f0ddd"
      },
      "execution_count": 60,
      "outputs": [
        {
          "output_type": "stream",
          "name": "stdout",
          "text": [
            "Test cases: 0\n",
            "Test data preparation: 1\n",
            "Project status communication: 2\n",
            "Airflow: 3\n",
            "Mentoring: 4\n",
            "Schema design: 5\n",
            "PPC: 6\n",
            "Supplier registration: 7\n",
            "Stakeholder communication: 8\n",
            "Computer skills: 9\n",
            "Technical support: 10\n",
            "Ability to work under pressure: 11\n",
            "Cloud Technology: 12\n",
            "Status Reporting: 13\n",
            "Worldclass technology talent provision: 14\n",
            "\n",
            "\n",
            "The total number of skills is 41020\n"
          ]
        }
      ]
    },
    {
      "cell_type": "code",
      "source": [
        "def hashing(basket):\n",
        "    return {items_index[skill] for skill in basket}\n",
        "\n",
        "hashed_baskets = baskets.map(hashing)\n",
        "hashed_baskets.take(1)"
      ],
      "metadata": {
        "id": "c2RRgl47CpDT",
        "outputId": "fddb4036-320f-46b0-cb45-83b433b3dd4e",
        "colab": {
          "base_uri": "https://localhost:8080/"
        }
      },
      "execution_count": 61,
      "outputs": [
        {
          "output_type": "execute_result",
          "data": {
            "text/plain": [
              "[{406,\n",
              "  2240,\n",
              "  2456,\n",
              "  4099,\n",
              "  6756,\n",
              "  7168,\n",
              "  7376,\n",
              "  7764,\n",
              "  9033,\n",
              "  13664,\n",
              "  13873,\n",
              "  16413,\n",
              "  16414,\n",
              "  16614,\n",
              "  19043,\n",
              "  19693,\n",
              "  20314,\n",
              "  20923,\n",
              "  22561,\n",
              "  23187,\n",
              "  23816,\n",
              "  28149,\n",
              "  29175,\n",
              "  31035,\n",
              "  32075,\n",
              "  32937,\n",
              "  32938,\n",
              "  33317,\n",
              "  36753,\n",
              "  37372,\n",
              "  38453,\n",
              "  39282}]"
            ]
          },
          "metadata": {},
          "execution_count": 61
        }
      ]
    },
    {
      "cell_type": "code",
      "source": [
        "candidate_items, top_candidates, candidate_itemsets, top_сandidate_itemsets = a_apriori(hashed_baskets, support, items_index, 2)\n",
        "print(f\"The total number of frequent skills: {candidate_items.count()} ---> our candidate items\")\n",
        "print(f\"Top-5 frequent skills: {', '.join(top_candidates)}\")\n",
        "print(f\"The total number of frequent skills pairs: {candidate_itemsets.count()}\")\n",
        "print(f\"Top-15 skills pairs: {top_сandidate_itemsets}\")"
      ],
      "metadata": {
        "id": "rJeZ61-eBfML"
      },
      "execution_count": null,
      "outputs": []
    },
    {
      "cell_type": "markdown",
      "source": [
        "\n",
        "### A-PRIORY"
      ],
      "metadata": {
        "id": "q5zPrwlfEE43"
      }
    },
    {
      "cell_type": "code",
      "source": [
        "def apriori(baskets, support, hash_table, k):\n",
        "  '''Fist phase to count occurencies of each item'''\n",
        "\n",
        "  candidate_items = baskets.flatMap(lambda basket: [(item, 1) for item in basket]) \\\n",
        "                           .reduceByKey(lambda count1, count2: count1 + count2) \\\n",
        "                           .filter(lambda item_count: item_count[1] > support)\n",
        "\n",
        "  print(f'The total number of candidate items is {candidate_items.count()}')\n",
        "\n",
        "  best_candidate_idx = candidate_items.max(lambda x: x[1])\n",
        "  best_candidate = (list(hash_table.keys())[list(hash_table.values()).index(best_candidate_idx[0])])\n",
        "  print(f\"The most frequent item (our candidate) is: {best_candidate}\")\n",
        "\n",
        "  top_candidates = [(hash_table[item[0]].key(), item[1]) for item in candidate_items.takeOrdered(3, key=lambda x: x[1])]\n",
        "  print(f\"The frequent items (our candidates) are: {top_candidates}\")\n",
        "\n",
        "\n",
        "  # '''The second phase to count all pair composed of frequent singletons'''\n",
        "  candidates = set(candidate_items.map(lambda x: (x[0],)).collect())\n",
        "\n",
        "  # candidate_itemsets = baskets.flatMap(lambda basket: [\n",
        "  #     (tuple(sorted(itemset)), 1) for itemset in combinations(sorted(basket), k) if all(item in candidates for item in combinations(itemset, k))]) \\\n",
        "  #                             .reduceByKey(lambda x, y: x + y) \\\n",
        "  #                             .filter(lambda x: x[1] > support)\n",
        "\n",
        "  # print(f'The total number of candidate pairs is {candidate_itemsets.count()}')\n",
        "\n",
        "  #   # Find Top 5 Frequent Pairs\n",
        "  # top_itemsets = candidate_itemsets.takeOrdered(5, key=lambda x: -x[1])\n",
        "  # frequent_pairs = [(hash_table[itemset[0][0]], hash_table[itemset[0][1]], itemset[1]) for itemset in top_itemsets]\n",
        "\n",
        "  # return candidates#, candidate_itemsets, frequent_pairs"
      ],
      "metadata": {
        "id": "B5ov61PmS14U"
      },
      "execution_count": 53,
      "outputs": []
    },
    {
      "cell_type": "code",
      "source": [
        "apriori(hashed_baskets, support, items_index, 2)"
      ],
      "metadata": {
        "id": "kWTICa_wZ3kC",
        "colab": {
          "base_uri": "https://localhost:8080/",
          "height": 287
        },
        "outputId": "c22da214-57ee-4aff-97b5-64979cef53ae"
      },
      "execution_count": 71,
      "outputs": [
        {
          "output_type": "error",
          "ename": "KeyboardInterrupt",
          "evalue": "",
          "traceback": [
            "\u001b[0;31m---------------------------------------------------------------------------\u001b[0m",
            "\u001b[0;31mKeyboardInterrupt\u001b[0m                         Traceback (most recent call last)",
            "\u001b[0;32m<ipython-input-71-d94658190f9e>\u001b[0m in \u001b[0;36m<cell line: 1>\u001b[0;34m()\u001b[0m\n\u001b[0;32m----> 1\u001b[0;31m \u001b[0mapriori\u001b[0m\u001b[0;34m(\u001b[0m\u001b[0mhashed_baskets\u001b[0m\u001b[0;34m,\u001b[0m \u001b[0msupport\u001b[0m\u001b[0;34m,\u001b[0m \u001b[0mitems_index\u001b[0m\u001b[0;34m,\u001b[0m \u001b[0;36m2\u001b[0m\u001b[0;34m)\u001b[0m\u001b[0;34m\u001b[0m\u001b[0;34m\u001b[0m\u001b[0m\n\u001b[0m",
            "\u001b[0;32m<ipython-input-53-8d10f2a7176d>\u001b[0m in \u001b[0;36mapriori\u001b[0;34m(baskets, support, hash_table, k)\u001b[0m\n\u001b[1;32m      6\u001b[0m                            \u001b[0;34m.\u001b[0m\u001b[0mfilter\u001b[0m\u001b[0;34m(\u001b[0m\u001b[0;32mlambda\u001b[0m \u001b[0mitem_count\u001b[0m\u001b[0;34m:\u001b[0m \u001b[0mitem_count\u001b[0m\u001b[0;34m[\u001b[0m\u001b[0;36m1\u001b[0m\u001b[0;34m]\u001b[0m \u001b[0;34m>\u001b[0m \u001b[0msupport\u001b[0m\u001b[0;34m)\u001b[0m\u001b[0;34m\u001b[0m\u001b[0;34m\u001b[0m\u001b[0m\n\u001b[1;32m      7\u001b[0m \u001b[0;34m\u001b[0m\u001b[0m\n\u001b[0;32m----> 8\u001b[0;31m   \u001b[0mprint\u001b[0m\u001b[0;34m(\u001b[0m\u001b[0;34mf'The total number of candidate items is {candidate_items.count()}'\u001b[0m\u001b[0;34m)\u001b[0m\u001b[0;34m\u001b[0m\u001b[0;34m\u001b[0m\u001b[0m\n\u001b[0m\u001b[1;32m      9\u001b[0m \u001b[0;34m\u001b[0m\u001b[0m\n\u001b[1;32m     10\u001b[0m   \u001b[0mbest_candidate_idx\u001b[0m \u001b[0;34m=\u001b[0m \u001b[0mcandidate_items\u001b[0m\u001b[0;34m.\u001b[0m\u001b[0mmax\u001b[0m\u001b[0;34m(\u001b[0m\u001b[0;32mlambda\u001b[0m \u001b[0mx\u001b[0m\u001b[0;34m:\u001b[0m \u001b[0mx\u001b[0m\u001b[0;34m[\u001b[0m\u001b[0;36m1\u001b[0m\u001b[0;34m]\u001b[0m\u001b[0;34m)\u001b[0m\u001b[0;34m\u001b[0m\u001b[0;34m\u001b[0m\u001b[0m\n",
            "\u001b[0;32m/content/spark-3.1.1-bin-hadoop3.2/python/pyspark/rdd.py\u001b[0m in \u001b[0;36mcount\u001b[0;34m(self)\u001b[0m\n\u001b[1;32m   1233\u001b[0m         \u001b[0;36m3\u001b[0m\u001b[0;34m\u001b[0m\u001b[0;34m\u001b[0m\u001b[0m\n\u001b[1;32m   1234\u001b[0m         \"\"\"\n\u001b[0;32m-> 1235\u001b[0;31m         \u001b[0;32mreturn\u001b[0m \u001b[0mself\u001b[0m\u001b[0;34m.\u001b[0m\u001b[0mmapPartitions\u001b[0m\u001b[0;34m(\u001b[0m\u001b[0;32mlambda\u001b[0m \u001b[0mi\u001b[0m\u001b[0;34m:\u001b[0m \u001b[0;34m[\u001b[0m\u001b[0msum\u001b[0m\u001b[0;34m(\u001b[0m\u001b[0;36m1\u001b[0m \u001b[0;32mfor\u001b[0m \u001b[0m_\u001b[0m \u001b[0;32min\u001b[0m \u001b[0mi\u001b[0m\u001b[0;34m)\u001b[0m\u001b[0;34m]\u001b[0m\u001b[0;34m)\u001b[0m\u001b[0;34m.\u001b[0m\u001b[0msum\u001b[0m\u001b[0;34m(\u001b[0m\u001b[0;34m)\u001b[0m\u001b[0;34m\u001b[0m\u001b[0;34m\u001b[0m\u001b[0m\n\u001b[0m\u001b[1;32m   1236\u001b[0m \u001b[0;34m\u001b[0m\u001b[0m\n\u001b[1;32m   1237\u001b[0m     \u001b[0;32mdef\u001b[0m \u001b[0mstats\u001b[0m\u001b[0;34m(\u001b[0m\u001b[0mself\u001b[0m\u001b[0;34m)\u001b[0m\u001b[0;34m:\u001b[0m\u001b[0;34m\u001b[0m\u001b[0;34m\u001b[0m\u001b[0m\n",
            "\u001b[0;32m/content/spark-3.1.1-bin-hadoop3.2/python/pyspark/rdd.py\u001b[0m in \u001b[0;36msum\u001b[0;34m(self)\u001b[0m\n\u001b[1;32m   1222\u001b[0m         \u001b[0;36m6.0\u001b[0m\u001b[0;34m\u001b[0m\u001b[0;34m\u001b[0m\u001b[0m\n\u001b[1;32m   1223\u001b[0m         \"\"\"\n\u001b[0;32m-> 1224\u001b[0;31m         \u001b[0;32mreturn\u001b[0m \u001b[0mself\u001b[0m\u001b[0;34m.\u001b[0m\u001b[0mmapPartitions\u001b[0m\u001b[0;34m(\u001b[0m\u001b[0;32mlambda\u001b[0m \u001b[0mx\u001b[0m\u001b[0;34m:\u001b[0m \u001b[0;34m[\u001b[0m\u001b[0msum\u001b[0m\u001b[0;34m(\u001b[0m\u001b[0mx\u001b[0m\u001b[0;34m)\u001b[0m\u001b[0;34m]\u001b[0m\u001b[0;34m)\u001b[0m\u001b[0;34m.\u001b[0m\u001b[0mfold\u001b[0m\u001b[0;34m(\u001b[0m\u001b[0;36m0\u001b[0m\u001b[0;34m,\u001b[0m \u001b[0moperator\u001b[0m\u001b[0;34m.\u001b[0m\u001b[0madd\u001b[0m\u001b[0;34m)\u001b[0m\u001b[0;34m\u001b[0m\u001b[0;34m\u001b[0m\u001b[0m\n\u001b[0m\u001b[1;32m   1225\u001b[0m \u001b[0;34m\u001b[0m\u001b[0m\n\u001b[1;32m   1226\u001b[0m     \u001b[0;32mdef\u001b[0m \u001b[0mcount\u001b[0m\u001b[0;34m(\u001b[0m\u001b[0mself\u001b[0m\u001b[0;34m)\u001b[0m\u001b[0;34m:\u001b[0m\u001b[0;34m\u001b[0m\u001b[0;34m\u001b[0m\u001b[0m\n",
            "\u001b[0;32m/content/spark-3.1.1-bin-hadoop3.2/python/pyspark/rdd.py\u001b[0m in \u001b[0;36mfold\u001b[0;34m(self, zeroValue, op)\u001b[0m\n\u001b[1;32m   1076\u001b[0m         \u001b[0;31m# zeroValue provided to each partition is unique from the one provided\u001b[0m\u001b[0;34m\u001b[0m\u001b[0;34m\u001b[0m\u001b[0m\n\u001b[1;32m   1077\u001b[0m         \u001b[0;31m# to the final reduce call\u001b[0m\u001b[0;34m\u001b[0m\u001b[0;34m\u001b[0m\u001b[0m\n\u001b[0;32m-> 1078\u001b[0;31m         \u001b[0mvals\u001b[0m \u001b[0;34m=\u001b[0m \u001b[0mself\u001b[0m\u001b[0;34m.\u001b[0m\u001b[0mmapPartitions\u001b[0m\u001b[0;34m(\u001b[0m\u001b[0mfunc\u001b[0m\u001b[0;34m)\u001b[0m\u001b[0;34m.\u001b[0m\u001b[0mcollect\u001b[0m\u001b[0;34m(\u001b[0m\u001b[0;34m)\u001b[0m\u001b[0;34m\u001b[0m\u001b[0;34m\u001b[0m\u001b[0m\n\u001b[0m\u001b[1;32m   1079\u001b[0m         \u001b[0;32mreturn\u001b[0m \u001b[0mreduce\u001b[0m\u001b[0;34m(\u001b[0m\u001b[0mop\u001b[0m\u001b[0;34m,\u001b[0m \u001b[0mvals\u001b[0m\u001b[0;34m,\u001b[0m \u001b[0mzeroValue\u001b[0m\u001b[0;34m)\u001b[0m\u001b[0;34m\u001b[0m\u001b[0;34m\u001b[0m\u001b[0m\n\u001b[1;32m   1080\u001b[0m \u001b[0;34m\u001b[0m\u001b[0m\n",
            "\u001b[0;32m/content/spark-3.1.1-bin-hadoop3.2/python/pyspark/rdd.py\u001b[0m in \u001b[0;36mcollect\u001b[0;34m(self)\u001b[0m\n\u001b[1;32m    947\u001b[0m         \"\"\"\n\u001b[1;32m    948\u001b[0m         \u001b[0;32mwith\u001b[0m \u001b[0mSCCallSiteSync\u001b[0m\u001b[0;34m(\u001b[0m\u001b[0mself\u001b[0m\u001b[0;34m.\u001b[0m\u001b[0mcontext\u001b[0m\u001b[0;34m)\u001b[0m \u001b[0;32mas\u001b[0m \u001b[0mcss\u001b[0m\u001b[0;34m:\u001b[0m\u001b[0;34m\u001b[0m\u001b[0;34m\u001b[0m\u001b[0m\n\u001b[0;32m--> 949\u001b[0;31m             \u001b[0msock_info\u001b[0m \u001b[0;34m=\u001b[0m \u001b[0mself\u001b[0m\u001b[0;34m.\u001b[0m\u001b[0mctx\u001b[0m\u001b[0;34m.\u001b[0m\u001b[0m_jvm\u001b[0m\u001b[0;34m.\u001b[0m\u001b[0mPythonRDD\u001b[0m\u001b[0;34m.\u001b[0m\u001b[0mcollectAndServe\u001b[0m\u001b[0;34m(\u001b[0m\u001b[0mself\u001b[0m\u001b[0;34m.\u001b[0m\u001b[0m_jrdd\u001b[0m\u001b[0;34m.\u001b[0m\u001b[0mrdd\u001b[0m\u001b[0;34m(\u001b[0m\u001b[0;34m)\u001b[0m\u001b[0;34m)\u001b[0m\u001b[0;34m\u001b[0m\u001b[0;34m\u001b[0m\u001b[0m\n\u001b[0m\u001b[1;32m    950\u001b[0m         \u001b[0;32mreturn\u001b[0m \u001b[0mlist\u001b[0m\u001b[0;34m(\u001b[0m\u001b[0m_load_from_socket\u001b[0m\u001b[0;34m(\u001b[0m\u001b[0msock_info\u001b[0m\u001b[0;34m,\u001b[0m \u001b[0mself\u001b[0m\u001b[0;34m.\u001b[0m\u001b[0m_jrdd_deserializer\u001b[0m\u001b[0;34m)\u001b[0m\u001b[0;34m)\u001b[0m\u001b[0;34m\u001b[0m\u001b[0;34m\u001b[0m\u001b[0m\n\u001b[1;32m    951\u001b[0m \u001b[0;34m\u001b[0m\u001b[0m\n",
            "\u001b[0;32m/content/spark-3.1.1-bin-hadoop3.2/python/lib/py4j-0.10.9-src.zip/py4j/java_gateway.py\u001b[0m in \u001b[0;36m__call__\u001b[0;34m(self, *args)\u001b[0m\n\u001b[1;32m   1301\u001b[0m             \u001b[0mproto\u001b[0m\u001b[0;34m.\u001b[0m\u001b[0mEND_COMMAND_PART\u001b[0m\u001b[0;34m\u001b[0m\u001b[0;34m\u001b[0m\u001b[0m\n\u001b[1;32m   1302\u001b[0m \u001b[0;34m\u001b[0m\u001b[0m\n\u001b[0;32m-> 1303\u001b[0;31m         \u001b[0manswer\u001b[0m \u001b[0;34m=\u001b[0m \u001b[0mself\u001b[0m\u001b[0;34m.\u001b[0m\u001b[0mgateway_client\u001b[0m\u001b[0;34m.\u001b[0m\u001b[0msend_command\u001b[0m\u001b[0;34m(\u001b[0m\u001b[0mcommand\u001b[0m\u001b[0;34m)\u001b[0m\u001b[0;34m\u001b[0m\u001b[0;34m\u001b[0m\u001b[0m\n\u001b[0m\u001b[1;32m   1304\u001b[0m         return_value = get_return_value(\n\u001b[1;32m   1305\u001b[0m             answer, self.gateway_client, self.target_id, self.name)\n",
            "\u001b[0;32m/content/spark-3.1.1-bin-hadoop3.2/python/lib/py4j-0.10.9-src.zip/py4j/java_gateway.py\u001b[0m in \u001b[0;36msend_command\u001b[0;34m(self, command, retry, binary)\u001b[0m\n\u001b[1;32m   1031\u001b[0m         \u001b[0mconnection\u001b[0m \u001b[0;34m=\u001b[0m \u001b[0mself\u001b[0m\u001b[0;34m.\u001b[0m\u001b[0m_get_connection\u001b[0m\u001b[0;34m(\u001b[0m\u001b[0;34m)\u001b[0m\u001b[0;34m\u001b[0m\u001b[0;34m\u001b[0m\u001b[0m\n\u001b[1;32m   1032\u001b[0m         \u001b[0;32mtry\u001b[0m\u001b[0;34m:\u001b[0m\u001b[0;34m\u001b[0m\u001b[0;34m\u001b[0m\u001b[0m\n\u001b[0;32m-> 1033\u001b[0;31m             \u001b[0mresponse\u001b[0m \u001b[0;34m=\u001b[0m \u001b[0mconnection\u001b[0m\u001b[0;34m.\u001b[0m\u001b[0msend_command\u001b[0m\u001b[0;34m(\u001b[0m\u001b[0mcommand\u001b[0m\u001b[0;34m)\u001b[0m\u001b[0;34m\u001b[0m\u001b[0;34m\u001b[0m\u001b[0m\n\u001b[0m\u001b[1;32m   1034\u001b[0m             \u001b[0;32mif\u001b[0m \u001b[0mbinary\u001b[0m\u001b[0;34m:\u001b[0m\u001b[0;34m\u001b[0m\u001b[0;34m\u001b[0m\u001b[0m\n\u001b[1;32m   1035\u001b[0m                 \u001b[0;32mreturn\u001b[0m \u001b[0mresponse\u001b[0m\u001b[0;34m,\u001b[0m \u001b[0mself\u001b[0m\u001b[0;34m.\u001b[0m\u001b[0m_create_connection_guard\u001b[0m\u001b[0;34m(\u001b[0m\u001b[0mconnection\u001b[0m\u001b[0;34m)\u001b[0m\u001b[0;34m\u001b[0m\u001b[0;34m\u001b[0m\u001b[0m\n",
            "\u001b[0;32m/content/spark-3.1.1-bin-hadoop3.2/python/lib/py4j-0.10.9-src.zip/py4j/java_gateway.py\u001b[0m in \u001b[0;36msend_command\u001b[0;34m(self, command)\u001b[0m\n\u001b[1;32m   1198\u001b[0m \u001b[0;34m\u001b[0m\u001b[0m\n\u001b[1;32m   1199\u001b[0m         \u001b[0;32mtry\u001b[0m\u001b[0;34m:\u001b[0m\u001b[0;34m\u001b[0m\u001b[0;34m\u001b[0m\u001b[0m\n\u001b[0;32m-> 1200\u001b[0;31m             \u001b[0manswer\u001b[0m \u001b[0;34m=\u001b[0m \u001b[0msmart_decode\u001b[0m\u001b[0;34m(\u001b[0m\u001b[0mself\u001b[0m\u001b[0;34m.\u001b[0m\u001b[0mstream\u001b[0m\u001b[0;34m.\u001b[0m\u001b[0mreadline\u001b[0m\u001b[0;34m(\u001b[0m\u001b[0;34m)\u001b[0m\u001b[0;34m[\u001b[0m\u001b[0;34m:\u001b[0m\u001b[0;34m-\u001b[0m\u001b[0;36m1\u001b[0m\u001b[0;34m]\u001b[0m\u001b[0;34m)\u001b[0m\u001b[0;34m\u001b[0m\u001b[0;34m\u001b[0m\u001b[0m\n\u001b[0m\u001b[1;32m   1201\u001b[0m             \u001b[0mlogger\u001b[0m\u001b[0;34m.\u001b[0m\u001b[0mdebug\u001b[0m\u001b[0;34m(\u001b[0m\u001b[0;34m\"Answer received: {0}\"\u001b[0m\u001b[0;34m.\u001b[0m\u001b[0mformat\u001b[0m\u001b[0;34m(\u001b[0m\u001b[0manswer\u001b[0m\u001b[0;34m)\u001b[0m\u001b[0;34m)\u001b[0m\u001b[0;34m\u001b[0m\u001b[0;34m\u001b[0m\u001b[0m\n\u001b[1;32m   1202\u001b[0m             \u001b[0;32mif\u001b[0m \u001b[0manswer\u001b[0m\u001b[0;34m.\u001b[0m\u001b[0mstartswith\u001b[0m\u001b[0;34m(\u001b[0m\u001b[0mproto\u001b[0m\u001b[0;34m.\u001b[0m\u001b[0mRETURN_MESSAGE\u001b[0m\u001b[0;34m)\u001b[0m\u001b[0;34m:\u001b[0m\u001b[0;34m\u001b[0m\u001b[0;34m\u001b[0m\u001b[0m\n",
            "\u001b[0;32m/usr/lib/python3.10/socket.py\u001b[0m in \u001b[0;36mreadinto\u001b[0;34m(self, b)\u001b[0m\n\u001b[1;32m    703\u001b[0m         \u001b[0;32mwhile\u001b[0m \u001b[0;32mTrue\u001b[0m\u001b[0;34m:\u001b[0m\u001b[0;34m\u001b[0m\u001b[0;34m\u001b[0m\u001b[0m\n\u001b[1;32m    704\u001b[0m             \u001b[0;32mtry\u001b[0m\u001b[0;34m:\u001b[0m\u001b[0;34m\u001b[0m\u001b[0;34m\u001b[0m\u001b[0m\n\u001b[0;32m--> 705\u001b[0;31m                 \u001b[0;32mreturn\u001b[0m \u001b[0mself\u001b[0m\u001b[0;34m.\u001b[0m\u001b[0m_sock\u001b[0m\u001b[0;34m.\u001b[0m\u001b[0mrecv_into\u001b[0m\u001b[0;34m(\u001b[0m\u001b[0mb\u001b[0m\u001b[0;34m)\u001b[0m\u001b[0;34m\u001b[0m\u001b[0;34m\u001b[0m\u001b[0m\n\u001b[0m\u001b[1;32m    706\u001b[0m             \u001b[0;32mexcept\u001b[0m \u001b[0mtimeout\u001b[0m\u001b[0;34m:\u001b[0m\u001b[0;34m\u001b[0m\u001b[0;34m\u001b[0m\u001b[0m\n\u001b[1;32m    707\u001b[0m                 \u001b[0mself\u001b[0m\u001b[0;34m.\u001b[0m\u001b[0m_timeout_occurred\u001b[0m \u001b[0;34m=\u001b[0m \u001b[0;32mTrue\u001b[0m\u001b[0;34m\u001b[0m\u001b[0;34m\u001b[0m\u001b[0m\n",
            "\u001b[0;31mKeyboardInterrupt\u001b[0m: "
          ]
        }
      ]
    },
    {
      "cell_type": "markdown",
      "source": [
        "## DRAFT: Data transformation into baskets, hashing + algo"
      ],
      "metadata": {
        "id": "UvKG3BGqZnrx"
      }
    },
    {
      "cell_type": "code",
      "source": [
        "class Basketorization:\n",
        "    def __init__(self, data):\n",
        "        self.data = data\n",
        "\n",
        "    def create_baskets(self):\n",
        "\n",
        "        \"\"\" Create baskets from data \"\"\"\n",
        "\n",
        "        rdd = self.data.select(data.columns[1]).rdd\n",
        "        baskets = rdd.map(lambda x: x['skill']).map(lambda line: line.split(', '))\n",
        "        return baskets\n",
        "\n",
        "    def calculate_support(self, baskets, percentage):\n",
        "\n",
        "        \"\"\"Calculate support based on percentage\"\"\"\n",
        "\n",
        "        support_value = round(baskets.count() * percentage / 100)\n",
        "        return support_value\n",
        "\n",
        "    def analyse_baskets(self, baskets):\n",
        "\n",
        "            # \"\"\" Do simple EDA \"\"\"\n",
        "\n",
        "        lengths = baskets.map(lambda x: len(x))\n",
        "        return {\n",
        "            \"The size of the biggest basket\": lengths.max(),\n",
        "            \"On average, the size of the basket is\": lengths.mean(),\n",
        "            \"The total number of baskets is\": baskets.count(),\n",
        "            \"The approximate total number of items is\": round(lengths.mean() * baskets.count())\n",
        "        }\n",
        "\n",
        "    def item_indexing(self, baskets):\n",
        "      '''Create hash table (distinct item - distinct index)'''\n",
        "      items = baskets.flatMap(lambda line: line) \\\n",
        "                     .distinct()\n",
        "      items_index = items.zipWithIndex() \\\n",
        "                         .collectAsMap() # return a dictionary of (key, value) pairs\n",
        "      print(f\"The total number of skills is {len(items_index)}\")\n",
        "      return items_index\n",
        "\n",
        "    def hashing(self, baskets, items_index):\n",
        "      '''Hash each item of the basket with its index'''\n",
        "\n",
        "      def hash_basket(basket):\n",
        "        '''Transform baskets into sets'''\n",
        "        hashed_basket = [items_index.get(skill, -1) for skill in baskets]\n",
        "        return hashed_basket\n",
        "\n",
        "      hashed_baskets = baskets.map(hash_basket)\n",
        "      return hashed_baskets\n",
        "\n",
        "    def basketarise(self, percentage):\n",
        "\n",
        "        \"\"\"Run the basket creation, calculate support, and analysis steps\"\"\"\n",
        "\n",
        "        baskets = self.create_baskets()\n",
        "        analysis = self.analyse_baskets(baskets)\n",
        "        support_value = self.calculate_support(baskets, percentage)\n",
        "        items_index = self.item_indexing(baskets)\n",
        "        hash_table = self.hashing(baskets,items_index)\n",
        "        baskets_hashed = baskets.map(self.hashing)\n",
        "\n",
        "        return analysis, support_value, baskets, baskets_hashed, items_index, hash_table"
      ],
      "metadata": {
        "id": "vFtquhDMHVxK"
      },
      "execution_count": null,
      "outputs": []
    },
    {
      "cell_type": "code",
      "source": [
        "data_mba = Basketorization(data)\n",
        "analysis, support, baskets, baskets_hashed, items_index, hash_table  = data_mba.basketarise(1)\n",
        "print(f\"The basic exploratory analysis: {analysis}\")\n",
        "print(f\"Support value is: {support}\")"
      ],
      "metadata": {
        "id": "j4BlXdna8fEo",
        "outputId": "145fa177-3dcd-4f79-b6e3-a56af5d17738",
        "colab": {
          "base_uri": "https://localhost:8080/"
        }
      },
      "execution_count": null,
      "outputs": [
        {
          "output_type": "stream",
          "name": "stdout",
          "text": [
            "The total number of skills is 41020\n",
            "The basic exploratory analysis: {'The size of the biggest basket': 224, 'On average, the size of the basket is': 26.54598969830757, 'The total number of baskets is': 6795, 'The approximate total number of items is': 180380}\n",
            "Support value is: 68\n"
          ]
        }
      ]
    },
    {
      "cell_type": "code",
      "source": [
        "for elem, index in list(items_index.items())[:15]:\n",
        "  print(f\"{elem}: {index}\")"
      ],
      "metadata": {
        "colab": {
          "base_uri": "https://localhost:8080/"
        },
        "id": "EyJq6zxDK-jZ",
        "outputId": "0ea8264d-a73e-4fa4-9e64-1d002cb9377d",
        "collapsed": true
      },
      "execution_count": null,
      "outputs": [
        {
          "output_type": "stream",
          "name": "stdout",
          "text": [
            "Test cases: 0\n",
            "Test data preparation: 1\n",
            "Project status communication: 2\n",
            "Airflow: 3\n",
            "Mentoring: 4\n",
            "Schema design: 5\n",
            "PPC: 6\n",
            "Supplier registration: 7\n",
            "Stakeholder communication: 8\n",
            "Computer skills: 9\n",
            "Technical support: 10\n",
            "Ability to work under pressure: 11\n",
            "Cloud Technology: 12\n",
            "Status Reporting: 13\n",
            "Worldclass technology talent provision: 14\n"
          ]
        }
      ]
    },
    {
      "cell_type": "code",
      "source": [
        "def first_pass(baskets_hashed, hash_table, support):\n",
        "\n",
        "    '''Do the first pass of algo = count occurencies of each item'''\n",
        "\n",
        "    frst_pass = baskets_hashed.flatMap(lambda basket: [(skill, 1) for skill in baskets_hashed]) \\\n",
        "                        .reduceByKey(lambda x, y: x + y) \\\n",
        "                        .filter(lambda x: x[1]>support)\n",
        "\n",
        "    '''Check that it works  = due to support threshold we have frequent items (skills)'''\n",
        "    try:\n",
        "      frst_pass_count = frst_pass.count()\n",
        "      if frst_pass_count == 0:\n",
        "        raise ValueError('There are no frequent items')\n",
        "    except ValueError as e:\n",
        "      print('Low your support')\n",
        "      print(e)\n",
        "      return\n",
        "\n",
        "    print(f\"The number of frequent singletons is: {frst_pass_count}\")\n",
        "\n",
        "    '''Ask to see the most frequent items (skill)'''\n",
        "\n",
        "    freq_items_idx = frst_pass.max(lambda x: x[1])\n",
        "    freq_items = (list(hash_table.keys())[list(hash_table.values()).index(freq_items_idx[0])])\n",
        "    print(f\"The most frequent singleton:{freq_items}\")"
      ],
      "metadata": {
        "id": "XeEFToWDrMiN"
      },
      "execution_count": null,
      "outputs": []
    },
    {
      "cell_type": "code",
      "source": [
        "class Apriory:\n",
        "  def __init__(self, baskets, support, hash_table):\n",
        "    self.baskets = baskets\n",
        "    self.support = support\n",
        "    self.hash_table = hash_table\n",
        "\n",
        "  def first_pass(self):\n",
        "\n",
        "    '''Do the first pass of algo = count occurencies of each item'''\n",
        "\n",
        "    frst_pass = self.baskets.flatMap(lambda basket: [(skill,1) for skill in basket]) \\\n",
        "                        .reduceByKey(lambda x,y: x+y) \\\n",
        "                        .filter(lambda x: x[1]>self.support)\n",
        "\n",
        "    '''Check that it works  = due to support threshold we have frequent items (skills)'''\n",
        "    try:\n",
        "      frst_pass_count = frst_pass.count()\n",
        "      if frst_pass_count == 0:\n",
        "        raise ValueError('There are no frequent items')\n",
        "    except ValueError as e:\n",
        "      print('Low your support')\n",
        "      print(e)\n",
        "      return\n",
        "\n",
        "    print(f\"The number of frequent singletons is: {frst_pass_count}\")\n",
        "\n",
        "    '''Ask to see the most frequent item (skill)'''\n",
        "\n",
        "    freq_sngltn_idx = frst_pass.max(lambda x: x[1])\n",
        "    freq_sngltn = (list(self.hash_table.keys())[list(self.hash_table.values()).index(freq_sngltn_idx[0])])\n",
        "    print(f\"The most frequent singleton:{freq_sngltn}\")\n",
        "\n",
        "  def second_pass(self):\n",
        "      # Collect frequent singletons on driver\n",
        "      frequent_singletons = set(self.first_pass.map(lambda x: (x[0],)).collect())\n",
        "      k = 2\n",
        "      while True:\n",
        "        print(f\"The basket size is: {k}\")\n",
        "\n",
        "        candidate_itemsets = self.baskets.flatMap(lambda basket:[(skill,1) for skill in combinations(sorted(basket),k) if all(item in frequent_singletons for item in combinations(skill,k-1))])\n",
        "        scnd_pass = candidate_itemsets.reduceByKey(lambda x,y: x+y)\n",
        "        scnd_pass_count = scnd_pass.count()  # Call count outside flatMap\n",
        "\n",
        "        if scnd_pass_count != 0:\n",
        "          # Rest of your code for processing frequent itemsets\n",
        "          frequencies = set(scnd_pass.map(lambda x: x[0]).collect())\n",
        "          k += 1\n",
        "        else:\n",
        "          print(f\"There is no frequent {k}-plets itemsets\")\n",
        "          return\n",
        "          break"
      ],
      "metadata": {
        "id": "nLuZgtvHHGSC"
      },
      "execution_count": null,
      "outputs": []
    },
    {
      "cell_type": "code",
      "source": [],
      "metadata": {
        "id": "Z4JJ0aiDibyd"
      },
      "execution_count": null,
      "outputs": []
    },
    {
      "cell_type": "code",
      "source": [],
      "metadata": {
        "id": "oQWG2D7CMLFr"
      },
      "execution_count": null,
      "outputs": []
    },
    {
      "cell_type": "code",
      "source": [
        "def a_priori(baskets_collection,support,hash_table):\n",
        "\n",
        "  print(\"Frequent singletons\")\n",
        "\n",
        "  first_pass = baskets_collection.flatMap(lambda basket: [(skill,1) for skill in basket]) \\\n",
        "                                .reduceByKey(lambda x,y: x+y) \\\n",
        "                                .filter(lambda x: x[1]>support)\n",
        "\n",
        "  first_pass_count = first_pass.count()\n",
        "\n",
        "  if first_pass_count == 0:\n",
        "    print(\"Lower the support\")\n",
        "    return\n",
        "\n",
        "  print(\"Number of frequent singletons:\",first_pass_count)\n",
        "\n",
        "  max_s = first_pass.max(lambda x: x[1])\n",
        "  max_s_ = (list(hash_table.keys())[list(hash_table.values()).index(max_s[0])])\n",
        "  print(\"Most frequent singleton:\",max_s_)\n",
        "\n",
        "  freqs = set(first_pass.map(lambda x: (x[0],)).collect())\n",
        "\n",
        "  print()\n",
        "\n",
        "  k = 2\n",
        "\n",
        "  while True:\n",
        "\n",
        "    print(\"Itemesets of size:\",k)\n",
        "\n",
        "    pass_ = baskets_collection.flatMap(lambda basket:[(elem,1) for elem in combinations(sorted(basket),k) if\n",
        "                                                      all(item in freqs for item in combinations(elem,k-1))]) \\\n",
        "                              .reduceByKey(lambda x,y: x+y) \\\n",
        "                              .filter(lambda x: x[1]>support)\n",
        "\n",
        "    pass_count = pass_.count()\n",
        "\n",
        "    if pass_count != 0:\n",
        "      print(\"Number of frequent itemsets of size\",k,\"are:\",pass_count)\n",
        "\n",
        "      max_p = pass_.max(lambda x: x[1])\n",
        "      max_itemset = []\n",
        "      for skill in max_p[0]:\n",
        "        max_itemset.append(list(hash_table.keys())[list(hash_table.values()).index(skill)])\n",
        "      print(\"Most frequent itemset of size\",k,\"is composed by:\",max_itemset)\n",
        "\n",
        "      freqs = set(pass_.map(lambda x: x[0]).collect())\n",
        "\n",
        "      print()\n",
        "\n",
        "      k+=1\n",
        "\n",
        "    else:\n",
        "      print(\"There are no frequent itemsets of size\",k)\n",
        "      print(\"Given the monotonicity of itemsets, there are no more frequent itemsets.\")\n",
        "      break"
      ],
      "metadata": {
        "id": "UbHqmIVNGnB5"
      },
      "execution_count": null,
      "outputs": []
    }
  ]
}
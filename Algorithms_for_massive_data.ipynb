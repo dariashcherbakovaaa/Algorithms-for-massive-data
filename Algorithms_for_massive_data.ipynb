{
  "nbformat": 4,
  "nbformat_minor": 0,
  "metadata": {
    "colab": {
      "provenance": [],
      "authorship_tag": "ABX9TyPijUTxVUrJ4VkWRohbj3Eg",
      "include_colab_link": true
    },
    "kernelspec": {
      "name": "python3",
      "display_name": "Python 3"
    },
    "language_info": {
      "name": "python"
    }
  },
  "cells": [
    {
      "cell_type": "markdown",
      "metadata": {
        "id": "view-in-github",
        "colab_type": "text"
      },
      "source": [
        "<a href=\"https://colab.research.google.com/github/dariashcherbakovaaa/Algorithms-for-massive-data/blob/main/Algorithms_for_massive_data.ipynb\" target=\"_parent\"><img src=\"https://colab.research.google.com/assets/colab-badge.svg\" alt=\"Open In Colab\"/></a>"
      ]
    },
    {
      "cell_type": "markdown",
      "source": [
        "# Environment settings & libraries"
      ],
      "metadata": {
        "id": "WJ1S4M3Q6Y1V"
      }
    },
    {
      "cell_type": "code",
      "source": [
        "import os\n",
        "!apt-get install openjdk-8-jdk-headless -qq > /dev/null\n",
        "!wget -q http://archive.apache.org/dist/spark/spark-3.1.1/spark-3.1.1-bin-hadoop3.2.tgz\n",
        "!tar xf spark-3.1.1-bin-hadoop3.2.tgz\n",
        "!pip install -q findspark\n",
        "\n",
        "os.environ[\"JAVA_HOME\"] = \"/usr/lib/jvm/java-8-openjdk-amd64\"\n",
        "os.environ[\"SPARK_HOME\"] = \"/content/spark-3.1.1-bin-hadoop3.2\"\n",
        "\n",
        "import findspark\n",
        "findspark.init()\n",
        "from pyspark.sql import SparkSession\n",
        "spark = SparkSession.builder.master(\"local[*]\").appName('PageRank').getOrCreate()\n",
        "spark.conf.set(\"spark.sql.repl.eagerEval.enabled\", True) # Property used to format output tables better\n",
        "spark\n",
        "import pyspark\n",
        "type(spark)\n",
        "\n",
        "sc = spark.sparkContext\n",
        "spark\n",
        "\n",
        "from google.colab import userdata\n",
        "os.environ['KAGGLE_USERNAME'] = userdata.get(\"KAGGLE_USERNAME\")\n",
        "os.environ['KAGGLE_KEY'] = userdata.get(\"KAGGLE_KEY\")"
      ],
      "metadata": {
        "id": "G2SK7YL26MCc"
      },
      "execution_count": 1,
      "outputs": []
    },
    {
      "cell_type": "code",
      "source": [
        "# LinkedIn dataset (Finding similar items, Market-basket analysis)\n",
        "# !kaggle datasets download -d asaniczka/1-3m-linkedin-jobs-and-skills-2024\n",
        "# !unzip 1-3m-linkedin-jobs-and-skills-2024.zip -d job_skills"
      ],
      "metadata": {
        "id": "YObP3Ppy-sdY"
      },
      "execution_count": null,
      "outputs": []
    },
    {
      "cell_type": "markdown",
      "source": [
        "# *The task is to implement a ranking system based on the PageRank index using the «Prado Museum Pictures» dataset, published on Kaggle under the MIT license. The entities to be ranked are pictures, linked together if they share at least a common tag in the work_tag attribute of the  prado.csv file, although you can experiment with different strategies in order to define links between pictures.*"
      ],
      "metadata": {
        "id": "sibCmr0DSani"
      }
    },
    {
      "cell_type": "markdown",
      "source": [
        "In network science the page rank is used to calculate centrality"
      ],
      "metadata": {
        "id": "8CxCjKyeY9U7"
      }
    },
    {
      "cell_type": "code",
      "source": [
        "# Link analysis (PageRank)\n",
        "!kaggle datasets download -d maparla/prado-museum-pictures\n",
        "!unzip prado-museum-pictures.zip - d prada"
      ],
      "metadata": {
        "id": "E0m4xUlC-zWr"
      },
      "execution_count": null,
      "outputs": []
    },
    {
      "cell_type": "code",
      "source": [
        "!kaggle datasets download -d maparla/prado-museum-pictures\n",
        "!unzip prado-museum-pictures.zip -d prada"
      ],
      "metadata": {
        "id": "RvAa6aucThDR"
      },
      "execution_count": null,
      "outputs": []
    },
    {
      "cell_type": "code",
      "source": [
        "import pandas as pd\n",
        "\n",
        "df = pd.read_csv('/content/prada/prado.csv', sep = ',')\n",
        "\n",
        "df[['work_url', 'work_tags']].sample(9)"
      ],
      "metadata": {
        "id": "wdhFbQv9dTq8",
        "outputId": "6a8d0adf-34f3-4755-954b-27d1e15985f2",
        "colab": {
          "base_uri": "https://localhost:8080/",
          "height": 332
        }
      },
      "execution_count": 29,
      "outputs": [
        {
          "output_type": "execute_result",
          "data": {
            "text/plain": [
              "                                                work_url  \\\n",
              "10320  https://www.museodelprado.es/coleccion/obra-de...   \n",
              "1090   https://www.museodelprado.es/coleccion/obra-de...   \n",
              "9385   https://www.museodelprado.es/coleccion/obra-de...   \n",
              "13171  https://www.museodelprado.es/coleccion/obra-de...   \n",
              "4759   https://www.museodelprado.es/coleccion/obra-de...   \n",
              "4610   https://www.museodelprado.es/coleccion/obra-de...   \n",
              "5940   https://www.museodelprado.es/coleccion/obra-de...   \n",
              "9114   https://www.museodelprado.es/coleccion/obra-de...   \n",
              "12883  https://www.museodelprado.es/coleccion/obra-de...   \n",
              "\n",
              "                                               work_tags  \n",
              "10320  Serie de dibujos preparatorios para las pechin...  \n",
              "1090   Colección general de trages que en la actualid...  \n",
              "9385   Óleo;Lienzo;Retrato de personaje aristocrático...  \n",
              "13171  Buñol y alrededores;Gelatina / Colodión;Placa ...  \n",
              "4759   Óleo;Lienzo;Arquitectura religiosa;Caballo (Eq...  \n",
              "4610   Serie de la Jerusalén liberada;Óleo;Lienzo;His...  \n",
              "5940   Cuaderno de Burdeos II o Cuaderno H;Lápiz;Pape...  \n",
              "9114   Óleo;Lienzo;Retrato de personaje aristocrático...  \n",
              "12883  Clarión;Sanguina;Papel verjurado;Retrato;1701;...  "
            ],
            "text/html": [
              "\n",
              "  <div id=\"df-7e0376c2-69cc-4a84-9da9-c15b1c2b4638\" class=\"colab-df-container\">\n",
              "    <div>\n",
              "<style scoped>\n",
              "    .dataframe tbody tr th:only-of-type {\n",
              "        vertical-align: middle;\n",
              "    }\n",
              "\n",
              "    .dataframe tbody tr th {\n",
              "        vertical-align: top;\n",
              "    }\n",
              "\n",
              "    .dataframe thead th {\n",
              "        text-align: right;\n",
              "    }\n",
              "</style>\n",
              "<table border=\"1\" class=\"dataframe\">\n",
              "  <thead>\n",
              "    <tr style=\"text-align: right;\">\n",
              "      <th></th>\n",
              "      <th>work_url</th>\n",
              "      <th>work_tags</th>\n",
              "    </tr>\n",
              "  </thead>\n",
              "  <tbody>\n",
              "    <tr>\n",
              "      <th>10320</th>\n",
              "      <td>https://www.museodelprado.es/coleccion/obra-de...</td>\n",
              "      <td>Serie de dibujos preparatorios para las pechin...</td>\n",
              "    </tr>\n",
              "    <tr>\n",
              "      <th>1090</th>\n",
              "      <td>https://www.museodelprado.es/coleccion/obra-de...</td>\n",
              "      <td>Colección general de trages que en la actualid...</td>\n",
              "    </tr>\n",
              "    <tr>\n",
              "      <th>9385</th>\n",
              "      <td>https://www.museodelprado.es/coleccion/obra-de...</td>\n",
              "      <td>Óleo;Lienzo;Retrato de personaje aristocrático...</td>\n",
              "    </tr>\n",
              "    <tr>\n",
              "      <th>13171</th>\n",
              "      <td>https://www.museodelprado.es/coleccion/obra-de...</td>\n",
              "      <td>Buñol y alrededores;Gelatina / Colodión;Placa ...</td>\n",
              "    </tr>\n",
              "    <tr>\n",
              "      <th>4759</th>\n",
              "      <td>https://www.museodelprado.es/coleccion/obra-de...</td>\n",
              "      <td>Óleo;Lienzo;Arquitectura religiosa;Caballo (Eq...</td>\n",
              "    </tr>\n",
              "    <tr>\n",
              "      <th>4610</th>\n",
              "      <td>https://www.museodelprado.es/coleccion/obra-de...</td>\n",
              "      <td>Serie de la Jerusalén liberada;Óleo;Lienzo;His...</td>\n",
              "    </tr>\n",
              "    <tr>\n",
              "      <th>5940</th>\n",
              "      <td>https://www.museodelprado.es/coleccion/obra-de...</td>\n",
              "      <td>Cuaderno de Burdeos II o Cuaderno H;Lápiz;Pape...</td>\n",
              "    </tr>\n",
              "    <tr>\n",
              "      <th>9114</th>\n",
              "      <td>https://www.museodelprado.es/coleccion/obra-de...</td>\n",
              "      <td>Óleo;Lienzo;Retrato de personaje aristocrático...</td>\n",
              "    </tr>\n",
              "    <tr>\n",
              "      <th>12883</th>\n",
              "      <td>https://www.museodelprado.es/coleccion/obra-de...</td>\n",
              "      <td>Clarión;Sanguina;Papel verjurado;Retrato;1701;...</td>\n",
              "    </tr>\n",
              "  </tbody>\n",
              "</table>\n",
              "</div>\n",
              "    <div class=\"colab-df-buttons\">\n",
              "\n",
              "  <div class=\"colab-df-container\">\n",
              "    <button class=\"colab-df-convert\" onclick=\"convertToInteractive('df-7e0376c2-69cc-4a84-9da9-c15b1c2b4638')\"\n",
              "            title=\"Convert this dataframe to an interactive table.\"\n",
              "            style=\"display:none;\">\n",
              "\n",
              "  <svg xmlns=\"http://www.w3.org/2000/svg\" height=\"24px\" viewBox=\"0 -960 960 960\">\n",
              "    <path d=\"M120-120v-720h720v720H120Zm60-500h600v-160H180v160Zm220 220h160v-160H400v160Zm0 220h160v-160H400v160ZM180-400h160v-160H180v160Zm440 0h160v-160H620v160ZM180-180h160v-160H180v160Zm440 0h160v-160H620v160Z\"/>\n",
              "  </svg>\n",
              "    </button>\n",
              "\n",
              "  <style>\n",
              "    .colab-df-container {\n",
              "      display:flex;\n",
              "      gap: 12px;\n",
              "    }\n",
              "\n",
              "    .colab-df-convert {\n",
              "      background-color: #E8F0FE;\n",
              "      border: none;\n",
              "      border-radius: 50%;\n",
              "      cursor: pointer;\n",
              "      display: none;\n",
              "      fill: #1967D2;\n",
              "      height: 32px;\n",
              "      padding: 0 0 0 0;\n",
              "      width: 32px;\n",
              "    }\n",
              "\n",
              "    .colab-df-convert:hover {\n",
              "      background-color: #E2EBFA;\n",
              "      box-shadow: 0px 1px 2px rgba(60, 64, 67, 0.3), 0px 1px 3px 1px rgba(60, 64, 67, 0.15);\n",
              "      fill: #174EA6;\n",
              "    }\n",
              "\n",
              "    .colab-df-buttons div {\n",
              "      margin-bottom: 4px;\n",
              "    }\n",
              "\n",
              "    [theme=dark] .colab-df-convert {\n",
              "      background-color: #3B4455;\n",
              "      fill: #D2E3FC;\n",
              "    }\n",
              "\n",
              "    [theme=dark] .colab-df-convert:hover {\n",
              "      background-color: #434B5C;\n",
              "      box-shadow: 0px 1px 3px 1px rgba(0, 0, 0, 0.15);\n",
              "      filter: drop-shadow(0px 1px 2px rgba(0, 0, 0, 0.3));\n",
              "      fill: #FFFFFF;\n",
              "    }\n",
              "  </style>\n",
              "\n",
              "    <script>\n",
              "      const buttonEl =\n",
              "        document.querySelector('#df-7e0376c2-69cc-4a84-9da9-c15b1c2b4638 button.colab-df-convert');\n",
              "      buttonEl.style.display =\n",
              "        google.colab.kernel.accessAllowed ? 'block' : 'none';\n",
              "\n",
              "      async function convertToInteractive(key) {\n",
              "        const element = document.querySelector('#df-7e0376c2-69cc-4a84-9da9-c15b1c2b4638');\n",
              "        const dataTable =\n",
              "          await google.colab.kernel.invokeFunction('convertToInteractive',\n",
              "                                                    [key], {});\n",
              "        if (!dataTable) return;\n",
              "\n",
              "        const docLinkHtml = 'Like what you see? Visit the ' +\n",
              "          '<a target=\"_blank\" href=https://colab.research.google.com/notebooks/data_table.ipynb>data table notebook</a>'\n",
              "          + ' to learn more about interactive tables.';\n",
              "        element.innerHTML = '';\n",
              "        dataTable['output_type'] = 'display_data';\n",
              "        await google.colab.output.renderOutput(dataTable, element);\n",
              "        const docLink = document.createElement('div');\n",
              "        docLink.innerHTML = docLinkHtml;\n",
              "        element.appendChild(docLink);\n",
              "      }\n",
              "    </script>\n",
              "  </div>\n",
              "\n",
              "\n",
              "<div id=\"df-a7b991a6-4ddf-4d6b-92e1-15b1bbd5c813\">\n",
              "  <button class=\"colab-df-quickchart\" onclick=\"quickchart('df-a7b991a6-4ddf-4d6b-92e1-15b1bbd5c813')\"\n",
              "            title=\"Suggest charts\"\n",
              "            style=\"display:none;\">\n",
              "\n",
              "<svg xmlns=\"http://www.w3.org/2000/svg\" height=\"24px\"viewBox=\"0 0 24 24\"\n",
              "     width=\"24px\">\n",
              "    <g>\n",
              "        <path d=\"M19 3H5c-1.1 0-2 .9-2 2v14c0 1.1.9 2 2 2h14c1.1 0 2-.9 2-2V5c0-1.1-.9-2-2-2zM9 17H7v-7h2v7zm4 0h-2V7h2v10zm4 0h-2v-4h2v4z\"/>\n",
              "    </g>\n",
              "</svg>\n",
              "  </button>\n",
              "\n",
              "<style>\n",
              "  .colab-df-quickchart {\n",
              "      --bg-color: #E8F0FE;\n",
              "      --fill-color: #1967D2;\n",
              "      --hover-bg-color: #E2EBFA;\n",
              "      --hover-fill-color: #174EA6;\n",
              "      --disabled-fill-color: #AAA;\n",
              "      --disabled-bg-color: #DDD;\n",
              "  }\n",
              "\n",
              "  [theme=dark] .colab-df-quickchart {\n",
              "      --bg-color: #3B4455;\n",
              "      --fill-color: #D2E3FC;\n",
              "      --hover-bg-color: #434B5C;\n",
              "      --hover-fill-color: #FFFFFF;\n",
              "      --disabled-bg-color: #3B4455;\n",
              "      --disabled-fill-color: #666;\n",
              "  }\n",
              "\n",
              "  .colab-df-quickchart {\n",
              "    background-color: var(--bg-color);\n",
              "    border: none;\n",
              "    border-radius: 50%;\n",
              "    cursor: pointer;\n",
              "    display: none;\n",
              "    fill: var(--fill-color);\n",
              "    height: 32px;\n",
              "    padding: 0;\n",
              "    width: 32px;\n",
              "  }\n",
              "\n",
              "  .colab-df-quickchart:hover {\n",
              "    background-color: var(--hover-bg-color);\n",
              "    box-shadow: 0 1px 2px rgba(60, 64, 67, 0.3), 0 1px 3px 1px rgba(60, 64, 67, 0.15);\n",
              "    fill: var(--button-hover-fill-color);\n",
              "  }\n",
              "\n",
              "  .colab-df-quickchart-complete:disabled,\n",
              "  .colab-df-quickchart-complete:disabled:hover {\n",
              "    background-color: var(--disabled-bg-color);\n",
              "    fill: var(--disabled-fill-color);\n",
              "    box-shadow: none;\n",
              "  }\n",
              "\n",
              "  .colab-df-spinner {\n",
              "    border: 2px solid var(--fill-color);\n",
              "    border-color: transparent;\n",
              "    border-bottom-color: var(--fill-color);\n",
              "    animation:\n",
              "      spin 1s steps(1) infinite;\n",
              "  }\n",
              "\n",
              "  @keyframes spin {\n",
              "    0% {\n",
              "      border-color: transparent;\n",
              "      border-bottom-color: var(--fill-color);\n",
              "      border-left-color: var(--fill-color);\n",
              "    }\n",
              "    20% {\n",
              "      border-color: transparent;\n",
              "      border-left-color: var(--fill-color);\n",
              "      border-top-color: var(--fill-color);\n",
              "    }\n",
              "    30% {\n",
              "      border-color: transparent;\n",
              "      border-left-color: var(--fill-color);\n",
              "      border-top-color: var(--fill-color);\n",
              "      border-right-color: var(--fill-color);\n",
              "    }\n",
              "    40% {\n",
              "      border-color: transparent;\n",
              "      border-right-color: var(--fill-color);\n",
              "      border-top-color: var(--fill-color);\n",
              "    }\n",
              "    60% {\n",
              "      border-color: transparent;\n",
              "      border-right-color: var(--fill-color);\n",
              "    }\n",
              "    80% {\n",
              "      border-color: transparent;\n",
              "      border-right-color: var(--fill-color);\n",
              "      border-bottom-color: var(--fill-color);\n",
              "    }\n",
              "    90% {\n",
              "      border-color: transparent;\n",
              "      border-bottom-color: var(--fill-color);\n",
              "    }\n",
              "  }\n",
              "</style>\n",
              "\n",
              "  <script>\n",
              "    async function quickchart(key) {\n",
              "      const quickchartButtonEl =\n",
              "        document.querySelector('#' + key + ' button');\n",
              "      quickchartButtonEl.disabled = true;  // To prevent multiple clicks.\n",
              "      quickchartButtonEl.classList.add('colab-df-spinner');\n",
              "      try {\n",
              "        const charts = await google.colab.kernel.invokeFunction(\n",
              "            'suggestCharts', [key], {});\n",
              "      } catch (error) {\n",
              "        console.error('Error during call to suggestCharts:', error);\n",
              "      }\n",
              "      quickchartButtonEl.classList.remove('colab-df-spinner');\n",
              "      quickchartButtonEl.classList.add('colab-df-quickchart-complete');\n",
              "    }\n",
              "    (() => {\n",
              "      let quickchartButtonEl =\n",
              "        document.querySelector('#df-a7b991a6-4ddf-4d6b-92e1-15b1bbd5c813 button');\n",
              "      quickchartButtonEl.style.display =\n",
              "        google.colab.kernel.accessAllowed ? 'block' : 'none';\n",
              "    })();\n",
              "  </script>\n",
              "</div>\n",
              "    </div>\n",
              "  </div>\n"
            ],
            "application/vnd.google.colaboratory.intrinsic+json": {
              "type": "dataframe",
              "summary": "{\n  \"name\": \"df[['work_url', 'work_tags']]\",\n  \"rows\": 9,\n  \"fields\": [\n    {\n      \"column\": \"work_url\",\n      \"properties\": {\n        \"dtype\": \"string\",\n        \"num_unique_values\": 9,\n        \"samples\": [\n          \"https://www.museodelprado.es/coleccion/obra-de-arte/madame-du-barry/956a130f-093b-4946-a653-80f0301dc13c\",\n          \"https://www.museodelprado.es/coleccion/obra-de-arte/labrador-de-andalucia/993900a3-6833-4f3b-bdf6-734bb4d7dd92\",\n          \"https://www.museodelprado.es/coleccion/obra-de-arte/tancredo-y-clorinda-en-la-fuente/b79868b6-a30f-4f9e-bd32-39dc9b8d59d1\"\n        ],\n        \"semantic_type\": \"\",\n        \"description\": \"\"\n      }\n    },\n    {\n      \"column\": \"work_tags\",\n      \"properties\": {\n        \"dtype\": \"string\",\n        \"num_unique_values\": 9,\n        \"samples\": [\n          \"\\u00d3leo;Lienzo;Retrato de personaje aristocr\\u00e1tico / nobiliario;1770;Drouais, Fran\\u00e7ois-Hubert;Pintura\",\n          \"Colecci\\u00f3n general de trages que en la actualidad se usan en Espa\\u00f1a principiada en el a\\u00f1o 1801 [Dibujos];Aguada;L\\u00e1piz negro;Pincel;Tinta de holl\\u00edn;Tinta parda;+\",\n          \"Serie de la Jerusal\\u00e9n liberada;\\u00d3leo;Lienzo;Historia Antigua;Caballo (Equus ferus caballus);Cupido/Eros;+\"\n        ],\n        \"semantic_type\": \"\",\n        \"description\": \"\"\n      }\n    }\n  ]\n}"
            }
          },
          "metadata": {},
          "execution_count": 29
        }
      ]
    },
    {
      "cell_type": "code",
      "source": [
        "prada_museum = spark.read.format('csv') \\\n",
        "    .option('header', 'true') \\\n",
        "    .option('sep', ',') \\\n",
        "    .option('inferSchema', 'true') \\\n",
        "    .option('path', '/content/prada/prado.csv') \\\n",
        "    .load()"
      ],
      "metadata": {
        "id": "6QT2vwVGc43g"
      },
      "execution_count": 54,
      "outputs": []
    },
    {
      "cell_type": "code",
      "source": [
        "prada_museum.printSchema()"
      ],
      "metadata": {
        "id": "tNmBFH7hhwCw",
        "outputId": "55f078b7-ef87-4a5e-852b-98ec7b4a1564",
        "colab": {
          "base_uri": "https://localhost:8080/"
        }
      },
      "execution_count": 55,
      "outputs": [
        {
          "output_type": "stream",
          "name": "stdout",
          "text": [
            "root\n",
            " |-- work_url: string (nullable = true)\n",
            " |-- work_image_url: string (nullable = true)\n",
            " |-- author: string (nullable = true)\n",
            " |-- author_bio: string (nullable = true)\n",
            " |-- author_url: string (nullable = true)\n",
            " |-- author_id: string (nullable = true)\n",
            " |-- work_title: string (nullable = true)\n",
            " |-- work_subtitle: string (nullable = true)\n",
            " |-- work_exposed: string (nullable = true)\n",
            " |-- work_description: string (nullable = true)\n",
            " |-- work_tags: string (nullable = true)\n",
            " |-- technical_sheet_numero_de_catalogo: string (nullable = true)\n",
            " |-- technical_sheet_autor: string (nullable = true)\n",
            " |-- technical_sheet_titulo: string (nullable = true)\n",
            " |-- technical_sheet_fecha: string (nullable = true)\n",
            " |-- technical_sheet_tecnica: string (nullable = true)\n",
            " |-- technical_sheet_soporte: string (nullable = true)\n",
            " |-- technical_sheet_dimension: string (nullable = true)\n",
            " |-- technical_sheet_serie: string (nullable = true)\n",
            " |-- technical_sheet_procedencia: string (nullable = true)\n",
            " |-- bibliography: string (nullable = true)\n",
            " |-- inventory: string (nullable = true)\n",
            " |-- expositions: string (nullable = true)\n",
            " |-- ubication: string (nullable = true)\n",
            " |-- technical_sheet_autores: string (nullable = true)\n",
            " |-- technical_sheet_edicion_/_estado: string (nullable = true)\n",
            " |-- technical_sheet_materia: string (nullable = true)\n",
            " |-- technical_sheet_ceca: string (nullable = true)\n",
            " |-- technical_sheet_autora: string (nullable = true)\n",
            " |-- technical_sheet_lugar_de_produccion: string (nullable = true)\n",
            "\n"
          ]
        }
      ]
    },
    {
      "cell_type": "code",
      "source": [
        "prada_museum.show(7)"
      ],
      "metadata": {
        "id": "tazjwGBIjHPP",
        "outputId": "443337f6-b05e-4250-c549-5435bf3b8064",
        "colab": {
          "base_uri": "https://localhost:8080/"
        }
      },
      "execution_count": 49,
      "outputs": [
        {
          "output_type": "stream",
          "name": "stdout",
          "text": [
            "+--------------------+--------------------+--------------------+--------------------+--------------------+-----------+--------------------+--------------------+------------+--------------------+-----------------+----------------------------------+---------------------+----------------------+---------------------+-----------------------+-----------------------+-------------------------+---------------------+---------------------------+------------+---------+-----------+---------+-----------------------+--------------------------------+-----------------------+--------------------+----------------------+-----------------------------------+\n",
            "|            work_url|      work_image_url|              author|          author_bio|          author_url|  author_id|          work_title|       work_subtitle|work_exposed|    work_description|        work_tags|technical_sheet_numero_de_catalogo|technical_sheet_autor|technical_sheet_titulo|technical_sheet_fecha|technical_sheet_tecnica|technical_sheet_soporte|technical_sheet_dimension|technical_sheet_serie|technical_sheet_procedencia|bibliography|inventory|expositions|ubication|technical_sheet_autores|technical_sheet_edicion_/_estado|technical_sheet_materia|technical_sheet_ceca|technical_sheet_autora|technical_sheet_lugar_de_produccion|\n",
            "+--------------------+--------------------+--------------------+--------------------+--------------------+-----------+--------------------+--------------------+------------+--------------------+-----------------+----------------------------------+---------------------+----------------------+---------------------+-----------------------+-----------------------+-------------------------+---------------------+---------------------------+------------+---------+-----------+---------+-----------------------+--------------------------------+-----------------------+--------------------+----------------------+-----------------------------------+\n",
            "|https://www.museo...|https://content3....|Bayeu y Subías, F...|Zaragoza, 1734 - ...|                null|       null|                null|                null|        null|                null|             null|                              null|                 null|                  null|                 null|                   null|                   null|                     null|                 null|                       null|        null|     null|       null|     null|                   null|                            null|                   null|                null|                  null|                               null|\n",
            "|Su formación se i...| que abandonó sol...|                null|                null|                null|       null|                null|                null|        null|                null|             null|                              null|                 null|                  null|                 null|                   null|                   null|                     null|                 null|                       null|        null|     null|       null|     null|                   null|                            null|                   null|                null|                  null|                               null|\n",
            "|Fuente: Museo Nac...|https://www.museo...|b218fee4-053b-465...|   Cabeza de Gigante|1764. Lápiz negro...|No expuesto|De tres cuartos, ...|Serie de dibujos ...|     D003269|Bayeu y Subías, F...|Cabeza de Gigante|                              1764|          Lápiz negro|         Papel verdoso|        Alto: 572 mm;|                   null|                   null|                     null|                 null|                       null|        null|     null|       null|     null|                   null|                            null|                   null|                null|                  null|                               null|\n",
            "|      Ancho: 348 mm\"|Serie de dibujos ...|      Colección Real|Arnáez, Rocío,  D...|                null|       null|                null|                null|        null|                null|             null|                              null|                 null|                  null|                 null|                   null|                   null|                     null|                 null|                       null|        null|     null|       null|     null|                   null|                            null|                   null|                null|                  null|                               null|\n",
            "|                 @@@|                null|                null|                null|                null|       null|                null|                null|        null|                null|             null|                              null|                 null|                  null|                 null|                   null|                   null|                     null|                 null|                       null|        null|     null|       null|     null|                   null|                            null|                   null|                null|                  null|                               null|\n",
            "|              Arnáez|               Rocío|  Catálogo de Dib...|              Madrid|                1975| pp. 23-24.|                null|                null|        null|                null|             null|                              null|                 null|                  null|                 null|                   null|                   null|                     null|                 null|                       null|        null|     null|       null|     null|                   null|                            null|                   null|                null|                  null|                               null|\n",
            "|                 @@@|                null|                null|                null|                null|       null|                null|                null|        null|                null|             null|                              null|                 null|                  null|                 null|                   null|                   null|                     null|                 null|                       null|        null|     null|       null|     null|                   null|                            null|                   null|                null|                  null|                               null|\n",
            "+--------------------+--------------------+--------------------+--------------------+--------------------+-----------+--------------------+--------------------+------------+--------------------+-----------------+----------------------------------+---------------------+----------------------+---------------------+-----------------------+-----------------------+-------------------------+---------------------+---------------------------+------------+---------+-----------+---------+-----------------------+--------------------------------+-----------------------+--------------------+----------------------+-----------------------------------+\n",
            "only showing top 7 rows\n",
            "\n"
          ]
        }
      ]
    },
    {
      "cell_type": "code",
      "source": [
        "from pyspark.sql.functions import col, from_csv# Применяем функцию from_csv для столбца work_image_url\n",
        "schema = \"work_image_url STRING\"\n",
        "prada_museum = prada_museum.withColumn(\"work_image_url_parsed\", from_csv(col(\"work_image_url\"), schema))\n",
        "\n",
        "# Извлекаем значение work_id из структуры\n",
        "prada_museum = prada_museum.withColumn(\"work_id\", prada_museum[\"work_image_url_parsed.work_image_url\"].substr(-1, 100))\n",
        "\n",
        "# Создаем столбец image_path\n",
        "prada_museum = prada_museum.withColumn(\"image_path\", \"images/\" + col(\"work_id\"))\n",
        "\n",
        "# Выводим первые 5 строк для проверки\n",
        "prada_museum.show(5)"
      ],
      "metadata": {
        "id": "s3nWoIFdiSnT",
        "outputId": "d56f8091-c081-42cc-8d72-901f48c8fb85",
        "colab": {
          "base_uri": "https://localhost:8080/"
        }
      },
      "execution_count": 52,
      "outputs": [
        {
          "output_type": "stream",
          "name": "stdout",
          "text": [
            "+--------------------+--------------------+--------------------+--------------------+--------------------+-----------+--------------------+--------------------+------------+--------------------+-----------------+----------------------------------+---------------------+----------------------+---------------------+-----------------------+-----------------------+-------------------------+---------------------+---------------------------+------------+---------+-----------+---------+-----------------------+--------------------------------+-----------------------+--------------------+----------------------+-----------------------------------+-------+----------+---------------------+\n",
            "|            work_url|      work_image_url|              author|          author_bio|          author_url|  author_id|          work_title|       work_subtitle|work_exposed|    work_description|        work_tags|technical_sheet_numero_de_catalogo|technical_sheet_autor|technical_sheet_titulo|technical_sheet_fecha|technical_sheet_tecnica|technical_sheet_soporte|technical_sheet_dimension|technical_sheet_serie|technical_sheet_procedencia|bibliography|inventory|expositions|ubication|technical_sheet_autores|technical_sheet_edicion_/_estado|technical_sheet_materia|technical_sheet_ceca|technical_sheet_autora|technical_sheet_lugar_de_produccion|work_id|image_path|work_image_url_parsed|\n",
            "+--------------------+--------------------+--------------------+--------------------+--------------------+-----------+--------------------+--------------------+------------+--------------------+-----------------+----------------------------------+---------------------+----------------------+---------------------+-----------------------+-----------------------+-------------------------+---------------------+---------------------------+------------+---------+-----------+---------+-----------------------+--------------------------------+-----------------------+--------------------+----------------------+-----------------------------------+-------+----------+---------------------+\n",
            "|https://www.museo...|https://content3....|Bayeu y Subías, F...|Zaragoza, 1734 - ...|                null|       null|                null|                null|        null|                null|             null|                              null|                 null|                  null|                 null|                   null|                   null|                     null|                 null|                       null|        null|     null|       null|     null|                   null|                            null|                   null|                null|                  null|                               null|      g|      null| {https://content3...|\n",
            "|Su formación se i...| que abandonó sol...|                null|                null|                null|       null|                null|                null|        null|                null|             null|                              null|                 null|                  null|                 null|                   null|                   null|                     null|                 null|                       null|        null|     null|       null|     null|                   null|                            null|                   null|                null|                  null|                               null|      .|      null| { que abandonó so...|\n",
            "|Fuente: Museo Nac...|https://www.museo...|b218fee4-053b-465...|   Cabeza de Gigante|1764. Lápiz negro...|No expuesto|De tres cuartos, ...|Serie de dibujos ...|     D003269|Bayeu y Subías, F...|Cabeza de Gigante|                              1764|          Lápiz negro|         Papel verdoso|        Alto: 572 mm;|                   null|                   null|                     null|                 null|                       null|        null|     null|       null|     null|                   null|                            null|                   null|                null|                  null|                               null|      9|      null| {https://www.muse...|\n",
            "|      Ancho: 348 mm\"|Serie de dibujos ...|      Colección Real|Arnáez, Rocío,  D...|                null|       null|                null|                null|        null|                null|             null|                              null|                 null|                  null|                 null|                   null|                   null|                     null|                 null|                       null|        null|     null|       null|     null|                   null|                            null|                   null|                null|                  null|                               null|      d|      null| {Serie de dibujos...|\n",
            "|                 @@@|                null|                null|                null|                null|       null|                null|                null|        null|                null|             null|                              null|                 null|                  null|                 null|                   null|                   null|                     null|                 null|                       null|        null|     null|       null|     null|                   null|                            null|                   null|                null|                  null|                               null|   null|      null|                 null|\n",
            "+--------------------+--------------------+--------------------+--------------------+--------------------+-----------+--------------------+--------------------+------------+--------------------+-----------------+----------------------------------+---------------------+----------------------+---------------------+-----------------------+-----------------------+-------------------------+---------------------+---------------------------+------------+---------+-----------+---------+-----------------------+--------------------------------+-----------------------+--------------------+----------------------+-----------------------------------+-------+----------+---------------------+\n",
            "only showing top 5 rows\n",
            "\n"
          ]
        }
      ]
    },
    {
      "cell_type": "code",
      "source": [
        "from pyspark.sql.functions import concat, lit\n",
        "prada_museum = prada_museum.withColumn(\"image_path\", concat(lit(\"images/\"), col(\"work_id\")))"
      ],
      "metadata": {
        "id": "2lzrWTGyjBii"
      },
      "execution_count": 40,
      "outputs": []
    },
    {
      "cell_type": "code",
      "source": [
        "prada = prada_museum.select(prada_museum.columns[:11]) select('col1', 'col3')\n",
        "prada = prada.drop(['author_bio', 'author_url', 'work_subtitle', 'work_exposed', 'work_description'])\n",
        "prada.show(7)"
      ],
      "metadata": {
        "id": "HoYMJcHjZjG9",
        "outputId": "5c785240-04b9-4db6-9663-73027695dcec",
        "colab": {
          "base_uri": "https://localhost:8080/",
          "height": 315
        }
      },
      "execution_count": 22,
      "outputs": [
        {
          "output_type": "error",
          "ename": "TypeError",
          "evalue": "col should be a string or a Column",
          "traceback": [
            "\u001b[0;31m---------------------------------------------------------------------------\u001b[0m",
            "\u001b[0;31mTypeError\u001b[0m                                 Traceback (most recent call last)",
            "\u001b[0;32m<ipython-input-22-0240a51f9248>\u001b[0m in \u001b[0;36m<cell line: 2>\u001b[0;34m()\u001b[0m\n\u001b[1;32m      1\u001b[0m \u001b[0mprada\u001b[0m \u001b[0;34m=\u001b[0m \u001b[0mprada_museum\u001b[0m\u001b[0;34m.\u001b[0m\u001b[0mselect\u001b[0m\u001b[0;34m(\u001b[0m\u001b[0mprada_museum\u001b[0m\u001b[0;34m.\u001b[0m\u001b[0mcolumns\u001b[0m\u001b[0;34m[\u001b[0m\u001b[0;34m:\u001b[0m\u001b[0;36m11\u001b[0m\u001b[0;34m]\u001b[0m\u001b[0;34m)\u001b[0m\u001b[0;34m\u001b[0m\u001b[0;34m\u001b[0m\u001b[0m\n\u001b[0;32m----> 2\u001b[0;31m \u001b[0mprada\u001b[0m \u001b[0;34m=\u001b[0m \u001b[0mprada\u001b[0m\u001b[0;34m.\u001b[0m\u001b[0mdrop\u001b[0m\u001b[0;34m(\u001b[0m\u001b[0;34m[\u001b[0m\u001b[0;34m'author_bio'\u001b[0m\u001b[0;34m,\u001b[0m \u001b[0;34m'author_url'\u001b[0m\u001b[0;34m,\u001b[0m \u001b[0;34m'work_subtitle'\u001b[0m\u001b[0;34m,\u001b[0m \u001b[0;34m'work_exposed'\u001b[0m\u001b[0;34m,\u001b[0m \u001b[0;34m'work_description'\u001b[0m\u001b[0;34m]\u001b[0m\u001b[0;34m)\u001b[0m\u001b[0;34m\u001b[0m\u001b[0;34m\u001b[0m\u001b[0m\n\u001b[0m\u001b[1;32m      3\u001b[0m \u001b[0mprada\u001b[0m\u001b[0;34m.\u001b[0m\u001b[0mshow\u001b[0m\u001b[0;34m(\u001b[0m\u001b[0;36m7\u001b[0m\u001b[0;34m)\u001b[0m\u001b[0;34m\u001b[0m\u001b[0;34m\u001b[0m\u001b[0m\n",
            "\u001b[0;32m/content/spark-3.1.1-bin-hadoop3.2/python/pyspark/sql/dataframe.py\u001b[0m in \u001b[0;36mdrop\u001b[0;34m(self, *cols)\u001b[0m\n\u001b[1;32m   2510\u001b[0m                 \u001b[0mjdf\u001b[0m \u001b[0;34m=\u001b[0m \u001b[0mself\u001b[0m\u001b[0;34m.\u001b[0m\u001b[0m_jdf\u001b[0m\u001b[0;34m.\u001b[0m\u001b[0mdrop\u001b[0m\u001b[0;34m(\u001b[0m\u001b[0mcol\u001b[0m\u001b[0;34m.\u001b[0m\u001b[0m_jc\u001b[0m\u001b[0;34m)\u001b[0m\u001b[0;34m\u001b[0m\u001b[0;34m\u001b[0m\u001b[0m\n\u001b[1;32m   2511\u001b[0m             \u001b[0;32melse\u001b[0m\u001b[0;34m:\u001b[0m\u001b[0;34m\u001b[0m\u001b[0;34m\u001b[0m\u001b[0m\n\u001b[0;32m-> 2512\u001b[0;31m                 \u001b[0;32mraise\u001b[0m \u001b[0mTypeError\u001b[0m\u001b[0;34m(\u001b[0m\u001b[0;34m\"col should be a string or a Column\"\u001b[0m\u001b[0;34m)\u001b[0m\u001b[0;34m\u001b[0m\u001b[0;34m\u001b[0m\u001b[0m\n\u001b[0m\u001b[1;32m   2513\u001b[0m         \u001b[0;32melse\u001b[0m\u001b[0;34m:\u001b[0m\u001b[0;34m\u001b[0m\u001b[0;34m\u001b[0m\u001b[0m\n\u001b[1;32m   2514\u001b[0m             \u001b[0;32mfor\u001b[0m \u001b[0mcol\u001b[0m \u001b[0;32min\u001b[0m \u001b[0mcols\u001b[0m\u001b[0;34m:\u001b[0m\u001b[0;34m\u001b[0m\u001b[0;34m\u001b[0m\u001b[0m\n",
            "\u001b[0;31mTypeError\u001b[0m: col should be a string or a Column"
          ]
        }
      ]
    },
    {
      "cell_type": "markdown",
      "source": [
        "## Graph creation and visualisation"
      ],
      "metadata": {
        "id": "9o2emLa8YKfv"
      }
    },
    {
      "cell_type": "code",
      "source": [
        "import networkx as nx\n",
        "import matplotlib.pyplot as plt\n",
        "\n",
        "g = nx.DiGraph()\n",
        "\n",
        "for p in pages:\n",
        "    g.add_node(p)\n",
        "\n",
        "for (a, b) in links:\n",
        "    g.add_edge(pages[a], pages[b])"
      ],
      "metadata": {
        "id": "aPcNNMzAUdOu"
      },
      "execution_count": null,
      "outputs": []
    },
    {
      "cell_type": "markdown",
      "source": [
        "Build the transition matrix (the base to perform PageRank)"
      ],
      "metadata": {
        "id": "O0bDEW4uYl_1"
      }
    },
    {
      "cell_type": "code",
      "source": [],
      "metadata": {
        "id": "-juTMOqWYrDf"
      },
      "execution_count": null,
      "outputs": []
    }
  ]
}
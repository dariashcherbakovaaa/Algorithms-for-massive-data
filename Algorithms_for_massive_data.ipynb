{
  "nbformat": 4,
  "nbformat_minor": 0,
  "metadata": {
    "colab": {
      "provenance": [],
      "authorship_tag": "ABX9TyOyPPnSObY3ohGW4HBgbUwG",
      "include_colab_link": true
    },
    "kernelspec": {
      "name": "python3",
      "display_name": "Python 3"
    },
    "language_info": {
      "name": "python"
    }
  },
  "cells": [
    {
      "cell_type": "markdown",
      "metadata": {
        "id": "view-in-github",
        "colab_type": "text"
      },
      "source": [
        "<a href=\"https://colab.research.google.com/github/dariashcherbakovaaa/Algorithms-for-massive-data/blob/main/Algorithms_for_massive_data.ipynb\" target=\"_parent\"><img src=\"https://colab.research.google.com/assets/colab-badge.svg\" alt=\"Open In Colab\"/></a>"
      ]
    },
    {
      "cell_type": "markdown",
      "source": [
        "# Environment settings & data downloading"
      ],
      "metadata": {
        "id": "WJ1S4M3Q6Y1V"
      }
    },
    {
      "cell_type": "code",
      "source": [
        "import os\n",
        "!apt-get install openjdk-8-jdk-headless -qq > /dev/null\n",
        "!wget -q http://archive.apache.org/dist/spark/spark-3.1.1/spark-3.1.1-bin-hadoop3.2.tgz\n",
        "!tar xf spark-3.1.1-bin-hadoop3.2.tgz\n",
        "!pip install -q findspark\n",
        "\n",
        "os.environ[\"JAVA_HOME\"] = \"/usr/lib/jvm/java-8-openjdk-amd64\"\n",
        "os.environ[\"SPARK_HOME\"] = \"/content/spark-3.1.1-bin-hadoop3.2\"\n",
        "\n",
        "import findspark\n",
        "findspark.init()\n",
        "from pyspark.sql import SparkSession\n",
        "spark = SparkSession.builder.master(\"local[*]\").appName('PageRank').getOrCreate()\n",
        "spark.conf.set(\"spark.sql.repl.eagerEval.enabled\", True) # Property used to format output tables better\n",
        "spark\n",
        "import pyspark\n",
        "type(spark)\n",
        "\n",
        "sc = spark.sparkContext\n",
        "spark"
      ],
      "metadata": {
        "id": "G2SK7YL26MCc",
        "colab": {
          "base_uri": "https://localhost:8080/",
          "height": 224
        },
        "outputId": "b517d988-523e-417b-c3fc-996dccd68015"
      },
      "execution_count": 1,
      "outputs": [
        {
          "output_type": "execute_result",
          "data": {
            "text/plain": [
              "<pyspark.sql.session.SparkSession at 0x79cd7c2ed300>"
            ],
            "text/html": [
              "\n",
              "            <div>\n",
              "                <p><b>SparkSession - in-memory</b></p>\n",
              "                \n",
              "        <div>\n",
              "            <p><b>SparkContext</b></p>\n",
              "\n",
              "            <p><a href=\"http://b0a620180afd:4040\">Spark UI</a></p>\n",
              "\n",
              "            <dl>\n",
              "              <dt>Version</dt>\n",
              "                <dd><code>v3.1.1</code></dd>\n",
              "              <dt>Master</dt>\n",
              "                <dd><code>local[*]</code></dd>\n",
              "              <dt>AppName</dt>\n",
              "                <dd><code>PageRank</code></dd>\n",
              "            </dl>\n",
              "        </div>\n",
              "        \n",
              "            </div>\n",
              "        "
            ]
          },
          "metadata": {},
          "execution_count": 1
        }
      ]
    },
    {
      "cell_type": "code",
      "source": [
        "spark"
      ],
      "metadata": {
        "id": "l-0GY9V7y7ML",
        "outputId": "350240c0-1d13-45db-d141-1070e74ef47f",
        "colab": {
          "base_uri": "https://localhost:8080/",
          "height": 224
        }
      },
      "execution_count": 2,
      "outputs": [
        {
          "output_type": "execute_result",
          "data": {
            "text/plain": [
              "<pyspark.sql.session.SparkSession at 0x79cd7c2ed300>"
            ],
            "text/html": [
              "\n",
              "            <div>\n",
              "                <p><b>SparkSession - in-memory</b></p>\n",
              "                \n",
              "        <div>\n",
              "            <p><b>SparkContext</b></p>\n",
              "\n",
              "            <p><a href=\"http://b0a620180afd:4040\">Spark UI</a></p>\n",
              "\n",
              "            <dl>\n",
              "              <dt>Version</dt>\n",
              "                <dd><code>v3.1.1</code></dd>\n",
              "              <dt>Master</dt>\n",
              "                <dd><code>local[*]</code></dd>\n",
              "              <dt>AppName</dt>\n",
              "                <dd><code>PageRank</code></dd>\n",
              "            </dl>\n",
              "        </div>\n",
              "        \n",
              "            </div>\n",
              "        "
            ]
          },
          "metadata": {},
          "execution_count": 2
        }
      ]
    },
    {
      "cell_type": "code",
      "source": [
        "from google.colab import userdata\n",
        "os.environ['KAGGLE_USERNAME'] = userdata.get(\"KAGGLE_USERNAME\")\n",
        "os.environ['KAGGLE_KEY'] = userdata.get(\"KAGGLE_KEY\")"
      ],
      "metadata": {
        "id": "N9rKbxfjwBkR"
      },
      "execution_count": 3,
      "outputs": []
    },
    {
      "cell_type": "code",
      "source": [
        "# LinkedIn dataset (Finding similar items, Market-basket analysis)\n",
        "!kaggle datasets download -d asaniczka/1-3m-linkedin-jobs-and-skills-2024\n",
        "!unzip 1-3m-linkedin-jobs-and-skills-2024.zip -d job_skills"
      ],
      "metadata": {
        "colab": {
          "base_uri": "https://localhost:8080/"
        },
        "id": "yH84c1J2pzRp",
        "outputId": "00687f8d-790e-4912-e8b7-8b7eaf380771"
      },
      "execution_count": 4,
      "outputs": [
        {
          "output_type": "stream",
          "name": "stdout",
          "text": [
            "Downloading 1-3m-linkedin-jobs-and-skills-2024.zip to /content\n",
            "100% 1.88G/1.88G [00:24<00:00, 106MB/s]\n",
            "100% 1.88G/1.88G [00:24<00:00, 83.7MB/s]\n",
            "Archive:  1-3m-linkedin-jobs-and-skills-2024.zip\n",
            "  inflating: job_skills/job_skills.csv  \n",
            "  inflating: job_skills/job_summary.csv  \n",
            "  inflating: job_skills/linkedin_job_postings.csv  \n"
          ]
        }
      ]
    },
    {
      "cell_type": "code",
      "source": [
        "os.remove('/content/1-3m-linkedin-jobs-and-skills-2024.zip')\n",
        "os.remove('/content/job_skills/job_summary.csv')\n",
        "os.remove('/content/job_skills/linkedin_job_postings.csv')"
      ],
      "metadata": {
        "id": "VaoWwibLumYW"
      },
      "execution_count": 5,
      "outputs": []
    },
    {
      "cell_type": "markdown",
      "source": [
        "# Data pre-processing"
      ],
      "metadata": {
        "id": "_eWgakDTwNbs"
      }
    },
    {
      "cell_type": "code",
      "source": [
        "data_path = '/content/job_skills/job_skills.csv'\n",
        "dataset = spark.read.csv(data_path, inferSchema=True, header=True)\n",
        "dataset.printSchema()\n",
        "dataset.show()"
      ],
      "metadata": {
        "id": "nijViNfczWOx",
        "outputId": "cf8a350f-e150-47c9-d32d-88df2fcf0f1d",
        "colab": {
          "base_uri": "https://localhost:8080/"
        }
      },
      "execution_count": 6,
      "outputs": [
        {
          "output_type": "stream",
          "name": "stdout",
          "text": [
            "root\n",
            " |-- job_link: string (nullable = true)\n",
            " |-- job_skills: string (nullable = true)\n",
            "\n",
            "+--------------------+--------------------+\n",
            "|            job_link|          job_skills|\n",
            "+--------------------+--------------------+\n",
            "|https://www.linke...|Building Custodia...|\n",
            "|https://www.linke...|Customer service,...|\n",
            "|https://www.linke...|Applied Behavior ...|\n",
            "|https://www.linke...|Electrical Engine...|\n",
            "|https://www.linke...|Electrical Assemb...|\n",
            "|https://www.linke...|Access Control, V...|\n",
            "|https://www.linke...|Consultation, Sup...|\n",
            "|https://www.linke...|Veterinary Recept...|\n",
            "|https://www.linke...|Optical Inspectio...|\n",
            "|https://www.linke...|HVAC, troubleshoo...|\n",
            "|https://www.linke...|Host/Server Assis...|\n",
            "|https://www.linke...|Apartment mainten...|\n",
            "|https://www.linke...|Fiber Optic Cable...|\n",
            "|https://www.linke...|CT Technologist, ...|\n",
            "|https://ca.linked...|SAP, DRMIS, Data ...|\n",
            "|https://www.linke...|Debt and equity o...|\n",
            "|https://ca.linked...|Biomedical Engine...|\n",
            "|https://www.linke...|Laboratory Techni...|\n",
            "|https://www.linke...|Program Managemen...|\n",
            "|https://www.linke...|Hiring, Training,...|\n",
            "+--------------------+--------------------+\n",
            "only showing top 20 rows\n",
            "\n"
          ]
        }
      ]
    },
    {
      "cell_type": "code",
      "source": [
        "new_names = ['link', 'skill']\n",
        "\n",
        "dataset = dataset.toDF(*new_names)\n",
        "dataset.limit(5).toPandas()"
      ],
      "metadata": {
        "id": "hM_Scbfzz2Wc",
        "outputId": "a6e503d8-852a-454d-8830-b5b15323df81",
        "colab": {
          "base_uri": "https://localhost:8080/",
          "height": 206
        }
      },
      "execution_count": 7,
      "outputs": [
        {
          "output_type": "execute_result",
          "data": {
            "text/plain": [
              "                                                link  \\\n",
              "0  https://www.linkedin.com/jobs/view/housekeeper...   \n",
              "1  https://www.linkedin.com/jobs/view/assistant-g...   \n",
              "2  https://www.linkedin.com/jobs/view/school-base...   \n",
              "3  https://www.linkedin.com/jobs/view/electrical-...   \n",
              "4  https://www.linkedin.com/jobs/view/electrical-...   \n",
              "\n",
              "                                               skill  \n",
              "0  Building Custodial Services, Cleaning, Janitor...  \n",
              "1  Customer service, Restaurant management, Food ...  \n",
              "2  Applied Behavior Analysis (ABA), Data analysis...  \n",
              "3  Electrical Engineering, Project Controls, Sche...  \n",
              "4  Electrical Assembly, Point to point wiring, St...  "
            ],
            "text/html": [
              "\n",
              "  <div id=\"df-fcb0e996-feea-4941-bcd2-c2f68f55c7c7\" class=\"colab-df-container\">\n",
              "    <div>\n",
              "<style scoped>\n",
              "    .dataframe tbody tr th:only-of-type {\n",
              "        vertical-align: middle;\n",
              "    }\n",
              "\n",
              "    .dataframe tbody tr th {\n",
              "        vertical-align: top;\n",
              "    }\n",
              "\n",
              "    .dataframe thead th {\n",
              "        text-align: right;\n",
              "    }\n",
              "</style>\n",
              "<table border=\"1\" class=\"dataframe\">\n",
              "  <thead>\n",
              "    <tr style=\"text-align: right;\">\n",
              "      <th></th>\n",
              "      <th>link</th>\n",
              "      <th>skill</th>\n",
              "    </tr>\n",
              "  </thead>\n",
              "  <tbody>\n",
              "    <tr>\n",
              "      <th>0</th>\n",
              "      <td>https://www.linkedin.com/jobs/view/housekeeper...</td>\n",
              "      <td>Building Custodial Services, Cleaning, Janitor...</td>\n",
              "    </tr>\n",
              "    <tr>\n",
              "      <th>1</th>\n",
              "      <td>https://www.linkedin.com/jobs/view/assistant-g...</td>\n",
              "      <td>Customer service, Restaurant management, Food ...</td>\n",
              "    </tr>\n",
              "    <tr>\n",
              "      <th>2</th>\n",
              "      <td>https://www.linkedin.com/jobs/view/school-base...</td>\n",
              "      <td>Applied Behavior Analysis (ABA), Data analysis...</td>\n",
              "    </tr>\n",
              "    <tr>\n",
              "      <th>3</th>\n",
              "      <td>https://www.linkedin.com/jobs/view/electrical-...</td>\n",
              "      <td>Electrical Engineering, Project Controls, Sche...</td>\n",
              "    </tr>\n",
              "    <tr>\n",
              "      <th>4</th>\n",
              "      <td>https://www.linkedin.com/jobs/view/electrical-...</td>\n",
              "      <td>Electrical Assembly, Point to point wiring, St...</td>\n",
              "    </tr>\n",
              "  </tbody>\n",
              "</table>\n",
              "</div>\n",
              "    <div class=\"colab-df-buttons\">\n",
              "\n",
              "  <div class=\"colab-df-container\">\n",
              "    <button class=\"colab-df-convert\" onclick=\"convertToInteractive('df-fcb0e996-feea-4941-bcd2-c2f68f55c7c7')\"\n",
              "            title=\"Convert this dataframe to an interactive table.\"\n",
              "            style=\"display:none;\">\n",
              "\n",
              "  <svg xmlns=\"http://www.w3.org/2000/svg\" height=\"24px\" viewBox=\"0 -960 960 960\">\n",
              "    <path d=\"M120-120v-720h720v720H120Zm60-500h600v-160H180v160Zm220 220h160v-160H400v160Zm0 220h160v-160H400v160ZM180-400h160v-160H180v160Zm440 0h160v-160H620v160ZM180-180h160v-160H180v160Zm440 0h160v-160H620v160Z\"/>\n",
              "  </svg>\n",
              "    </button>\n",
              "\n",
              "  <style>\n",
              "    .colab-df-container {\n",
              "      display:flex;\n",
              "      gap: 12px;\n",
              "    }\n",
              "\n",
              "    .colab-df-convert {\n",
              "      background-color: #E8F0FE;\n",
              "      border: none;\n",
              "      border-radius: 50%;\n",
              "      cursor: pointer;\n",
              "      display: none;\n",
              "      fill: #1967D2;\n",
              "      height: 32px;\n",
              "      padding: 0 0 0 0;\n",
              "      width: 32px;\n",
              "    }\n",
              "\n",
              "    .colab-df-convert:hover {\n",
              "      background-color: #E2EBFA;\n",
              "      box-shadow: 0px 1px 2px rgba(60, 64, 67, 0.3), 0px 1px 3px 1px rgba(60, 64, 67, 0.15);\n",
              "      fill: #174EA6;\n",
              "    }\n",
              "\n",
              "    .colab-df-buttons div {\n",
              "      margin-bottom: 4px;\n",
              "    }\n",
              "\n",
              "    [theme=dark] .colab-df-convert {\n",
              "      background-color: #3B4455;\n",
              "      fill: #D2E3FC;\n",
              "    }\n",
              "\n",
              "    [theme=dark] .colab-df-convert:hover {\n",
              "      background-color: #434B5C;\n",
              "      box-shadow: 0px 1px 3px 1px rgba(0, 0, 0, 0.15);\n",
              "      filter: drop-shadow(0px 1px 2px rgba(0, 0, 0, 0.3));\n",
              "      fill: #FFFFFF;\n",
              "    }\n",
              "  </style>\n",
              "\n",
              "    <script>\n",
              "      const buttonEl =\n",
              "        document.querySelector('#df-fcb0e996-feea-4941-bcd2-c2f68f55c7c7 button.colab-df-convert');\n",
              "      buttonEl.style.display =\n",
              "        google.colab.kernel.accessAllowed ? 'block' : 'none';\n",
              "\n",
              "      async function convertToInteractive(key) {\n",
              "        const element = document.querySelector('#df-fcb0e996-feea-4941-bcd2-c2f68f55c7c7');\n",
              "        const dataTable =\n",
              "          await google.colab.kernel.invokeFunction('convertToInteractive',\n",
              "                                                    [key], {});\n",
              "        if (!dataTable) return;\n",
              "\n",
              "        const docLinkHtml = 'Like what you see? Visit the ' +\n",
              "          '<a target=\"_blank\" href=https://colab.research.google.com/notebooks/data_table.ipynb>data table notebook</a>'\n",
              "          + ' to learn more about interactive tables.';\n",
              "        element.innerHTML = '';\n",
              "        dataTable['output_type'] = 'display_data';\n",
              "        await google.colab.output.renderOutput(dataTable, element);\n",
              "        const docLink = document.createElement('div');\n",
              "        docLink.innerHTML = docLinkHtml;\n",
              "        element.appendChild(docLink);\n",
              "      }\n",
              "    </script>\n",
              "  </div>\n",
              "\n",
              "\n",
              "<div id=\"df-b2a4c7b6-2251-4880-912b-0666f9a5e6d3\">\n",
              "  <button class=\"colab-df-quickchart\" onclick=\"quickchart('df-b2a4c7b6-2251-4880-912b-0666f9a5e6d3')\"\n",
              "            title=\"Suggest charts\"\n",
              "            style=\"display:none;\">\n",
              "\n",
              "<svg xmlns=\"http://www.w3.org/2000/svg\" height=\"24px\"viewBox=\"0 0 24 24\"\n",
              "     width=\"24px\">\n",
              "    <g>\n",
              "        <path d=\"M19 3H5c-1.1 0-2 .9-2 2v14c0 1.1.9 2 2 2h14c1.1 0 2-.9 2-2V5c0-1.1-.9-2-2-2zM9 17H7v-7h2v7zm4 0h-2V7h2v10zm4 0h-2v-4h2v4z\"/>\n",
              "    </g>\n",
              "</svg>\n",
              "  </button>\n",
              "\n",
              "<style>\n",
              "  .colab-df-quickchart {\n",
              "      --bg-color: #E8F0FE;\n",
              "      --fill-color: #1967D2;\n",
              "      --hover-bg-color: #E2EBFA;\n",
              "      --hover-fill-color: #174EA6;\n",
              "      --disabled-fill-color: #AAA;\n",
              "      --disabled-bg-color: #DDD;\n",
              "  }\n",
              "\n",
              "  [theme=dark] .colab-df-quickchart {\n",
              "      --bg-color: #3B4455;\n",
              "      --fill-color: #D2E3FC;\n",
              "      --hover-bg-color: #434B5C;\n",
              "      --hover-fill-color: #FFFFFF;\n",
              "      --disabled-bg-color: #3B4455;\n",
              "      --disabled-fill-color: #666;\n",
              "  }\n",
              "\n",
              "  .colab-df-quickchart {\n",
              "    background-color: var(--bg-color);\n",
              "    border: none;\n",
              "    border-radius: 50%;\n",
              "    cursor: pointer;\n",
              "    display: none;\n",
              "    fill: var(--fill-color);\n",
              "    height: 32px;\n",
              "    padding: 0;\n",
              "    width: 32px;\n",
              "  }\n",
              "\n",
              "  .colab-df-quickchart:hover {\n",
              "    background-color: var(--hover-bg-color);\n",
              "    box-shadow: 0 1px 2px rgba(60, 64, 67, 0.3), 0 1px 3px 1px rgba(60, 64, 67, 0.15);\n",
              "    fill: var(--button-hover-fill-color);\n",
              "  }\n",
              "\n",
              "  .colab-df-quickchart-complete:disabled,\n",
              "  .colab-df-quickchart-complete:disabled:hover {\n",
              "    background-color: var(--disabled-bg-color);\n",
              "    fill: var(--disabled-fill-color);\n",
              "    box-shadow: none;\n",
              "  }\n",
              "\n",
              "  .colab-df-spinner {\n",
              "    border: 2px solid var(--fill-color);\n",
              "    border-color: transparent;\n",
              "    border-bottom-color: var(--fill-color);\n",
              "    animation:\n",
              "      spin 1s steps(1) infinite;\n",
              "  }\n",
              "\n",
              "  @keyframes spin {\n",
              "    0% {\n",
              "      border-color: transparent;\n",
              "      border-bottom-color: var(--fill-color);\n",
              "      border-left-color: var(--fill-color);\n",
              "    }\n",
              "    20% {\n",
              "      border-color: transparent;\n",
              "      border-left-color: var(--fill-color);\n",
              "      border-top-color: var(--fill-color);\n",
              "    }\n",
              "    30% {\n",
              "      border-color: transparent;\n",
              "      border-left-color: var(--fill-color);\n",
              "      border-top-color: var(--fill-color);\n",
              "      border-right-color: var(--fill-color);\n",
              "    }\n",
              "    40% {\n",
              "      border-color: transparent;\n",
              "      border-right-color: var(--fill-color);\n",
              "      border-top-color: var(--fill-color);\n",
              "    }\n",
              "    60% {\n",
              "      border-color: transparent;\n",
              "      border-right-color: var(--fill-color);\n",
              "    }\n",
              "    80% {\n",
              "      border-color: transparent;\n",
              "      border-right-color: var(--fill-color);\n",
              "      border-bottom-color: var(--fill-color);\n",
              "    }\n",
              "    90% {\n",
              "      border-color: transparent;\n",
              "      border-bottom-color: var(--fill-color);\n",
              "    }\n",
              "  }\n",
              "</style>\n",
              "\n",
              "  <script>\n",
              "    async function quickchart(key) {\n",
              "      const quickchartButtonEl =\n",
              "        document.querySelector('#' + key + ' button');\n",
              "      quickchartButtonEl.disabled = true;  // To prevent multiple clicks.\n",
              "      quickchartButtonEl.classList.add('colab-df-spinner');\n",
              "      try {\n",
              "        const charts = await google.colab.kernel.invokeFunction(\n",
              "            'suggestCharts', [key], {});\n",
              "      } catch (error) {\n",
              "        console.error('Error during call to suggestCharts:', error);\n",
              "      }\n",
              "      quickchartButtonEl.classList.remove('colab-df-spinner');\n",
              "      quickchartButtonEl.classList.add('colab-df-quickchart-complete');\n",
              "    }\n",
              "    (() => {\n",
              "      let quickchartButtonEl =\n",
              "        document.querySelector('#df-b2a4c7b6-2251-4880-912b-0666f9a5e6d3 button');\n",
              "      quickchartButtonEl.style.display =\n",
              "        google.colab.kernel.accessAllowed ? 'block' : 'none';\n",
              "    })();\n",
              "  </script>\n",
              "</div>\n",
              "    </div>\n",
              "  </div>\n"
            ],
            "application/vnd.google.colaboratory.intrinsic+json": {
              "type": "dataframe",
              "summary": "{\n  \"name\": \"dataset\",\n  \"rows\": 5,\n  \"fields\": [\n    {\n      \"column\": \"link\",\n      \"properties\": {\n        \"dtype\": \"string\",\n        \"num_unique_values\": 5,\n        \"samples\": [\n          \"https://www.linkedin.com/jobs/view/assistant-general-manager-huntington-4131-at-ruby-tuesday-3575032747\",\n          \"https://www.linkedin.com/jobs/view/electrical-assembly-lead-at-sanmina-3704300377\",\n          \"https://www.linkedin.com/jobs/view/school-based-behavior-analyst-at-ccres-educational-and-behavioral-health-services-3739544400\"\n        ],\n        \"semantic_type\": \"\",\n        \"description\": \"\"\n      }\n    },\n    {\n      \"column\": \"skill\",\n      \"properties\": {\n        \"dtype\": \"string\",\n        \"num_unique_values\": 5,\n        \"samples\": [\n          \"Customer service, Restaurant management, Food safety, Training, Supervision, Scheduling, Inventory, Cost control, Sales, Communication, Problemsolving, Leadership, Motivation, Teamwork, High School Diploma, Bachelor's Degree, ServSafe Certification, Valid Driver's License, Physical ability to perform job duties\",\n          \"Electrical Assembly, Point to point wiring, Stripping and crimping of wiring, Reading blueprints and SOPs, Leadership skills, Communication skills, Directing and training employees, Problem solving, Excellent attendance, 46 years of related experience, High School or GED\",\n          \"Applied Behavior Analysis (ABA), Data analysis, Behavioral assessment, Positive behavior support, Programming development, Progress monitoring, Staff training, Verbal communication, Written communication, Team collaboration, Autism, Emotional/behavioral disorders, Intellectual disabilities, BCBA certification, Masters degree, Professional liability insurance, Clearances (Act 151 Act 34 FBI Use code: 1KG6XN), TB screening, Independent contractor, 1099\"\n        ],\n        \"semantic_type\": \"\",\n        \"description\": \"\"\n      }\n    }\n  ]\n}"
            }
          },
          "metadata": {},
          "execution_count": 7
        }
      ]
    },
    {
      "cell_type": "code",
      "source": [
        "dataset.describe()"
      ],
      "metadata": {
        "id": "MDpQpDMp1xbw",
        "outputId": "7dff9ff5-b1f7-47aa-cffd-4c4f79ada19f",
        "colab": {
          "base_uri": "https://localhost:8080/",
          "height": 164
        }
      },
      "execution_count": 8,
      "outputs": [
        {
          "output_type": "execute_result",
          "data": {
            "text/plain": [
              "+-------+--------------------+-------------------------------+\n",
              "|summary|                link|                          skill|\n",
              "+-------+--------------------+-------------------------------+\n",
              "|  count|             1296381|                        1294374|\n",
              "|   mean|                null|                           null|\n",
              "| stddev|                null|                           null|\n",
              "|    min|https://ae.linked...|           \"* Maintenance, *...|\n",
              "|    max|https://za.linked...|志愿服务, 沟通, 陪伴, 临终服...|\n",
              "+-------+--------------------+-------------------------------+"
            ],
            "text/html": [
              "<table border='1'>\n",
              "<tr><th>summary</th><th>link</th><th>skill</th></tr>\n",
              "<tr><td>count</td><td>1296381</td><td>1294374</td></tr>\n",
              "<tr><td>mean</td><td>null</td><td>null</td></tr>\n",
              "<tr><td>stddev</td><td>null</td><td>null</td></tr>\n",
              "<tr><td>min</td><td>https://ae.linked...</td><td>&quot;* Maintenance, *...</td></tr>\n",
              "<tr><td>max</td><td>https://za.linked...</td><td>志愿服务, 沟通, 陪伴, 临终服...</td></tr>\n",
              "</table>\n"
            ]
          },
          "metadata": {},
          "execution_count": 8
        }
      ]
    },
    {
      "cell_type": "code",
      "source": [],
      "metadata": {
        "id": "vdh4auwQ12qE"
      },
      "execution_count": null,
      "outputs": []
    },
    {
      "cell_type": "markdown",
      "source": [
        "## Sampling"
      ],
      "metadata": {
        "id": "E9bSUac7zCQP"
      }
    },
    {
      "cell_type": "code",
      "source": [],
      "metadata": {
        "id": "ek6ms1aLzFh7"
      },
      "execution_count": null,
      "outputs": []
    },
    {
      "cell_type": "markdown",
      "source": [
        "# BMA"
      ],
      "metadata": {
        "id": "QqE7tyilzF6s"
      }
    },
    {
      "cell_type": "code",
      "source": [],
      "metadata": {
        "id": "PadnBXa_zJMV"
      },
      "execution_count": null,
      "outputs": []
    },
    {
      "cell_type": "markdown",
      "source": [
        "## A-priory"
      ],
      "metadata": {
        "id": "o3ze8EBOzJii"
      }
    },
    {
      "cell_type": "code",
      "source": [],
      "metadata": {
        "id": "Xe-Ts-wxzQv_"
      },
      "execution_count": null,
      "outputs": []
    },
    {
      "cell_type": "markdown",
      "source": [
        "## PCY"
      ],
      "metadata": {
        "id": "VUeodDQzzN30"
      }
    },
    {
      "cell_type": "code",
      "source": [],
      "metadata": {
        "id": "Jynuj0agzRS4"
      },
      "execution_count": null,
      "outputs": []
    }
  ]
}
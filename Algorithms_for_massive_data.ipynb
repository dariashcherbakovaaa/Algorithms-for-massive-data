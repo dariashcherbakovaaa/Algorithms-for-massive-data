{
  "nbformat": 4,
  "nbformat_minor": 0,
  "metadata": {
    "colab": {
      "provenance": [],
      "authorship_tag": "ABX9TyPxEtJ4EAM/TleOLP9EMB07",
      "include_colab_link": true
    },
    "kernelspec": {
      "name": "python3",
      "display_name": "Python 3"
    },
    "language_info": {
      "name": "python"
    }
  },
  "cells": [
    {
      "cell_type": "markdown",
      "metadata": {
        "id": "view-in-github",
        "colab_type": "text"
      },
      "source": [
        "<a href=\"https://colab.research.google.com/github/dariashcherbakovaaa/Algorithms-for-massive-data/blob/main/Algorithms_for_massive_data.ipynb\" target=\"_parent\"><img src=\"https://colab.research.google.com/assets/colab-badge.svg\" alt=\"Open In Colab\"/></a>"
      ]
    },
    {
      "cell_type": "markdown",
      "source": [
        "# Market-Basket Analysis on LinkedIn job description\n",
        "### *DSE student, 17487A*\n",
        "### *Daria Shcherbakova*\n"
      ],
      "metadata": {
        "id": "76zu0tSmn0a1"
      }
    },
    {
      "cell_type": "markdown",
      "source": [
        "# Environment settings & data downloading"
      ],
      "metadata": {
        "id": "WJ1S4M3Q6Y1V"
      }
    },
    {
      "cell_type": "code",
      "source": [
        "import warnings\n",
        "warnings.filterwarnings(\"ignore\", category=DeprecationWarning)\n",
        "\n",
        "import os\n",
        "!apt-get install openjdk-8-jdk-headless -qq > /dev/null\n",
        "!wget -q http://archive.apache.org/dist/spark/spark-3.1.1/spark-3.1.1-bin-hadoop3.2.tgz\n",
        "!tar xf spark-3.1.1-bin-hadoop3.2.tgz\n",
        "!pip install -q findspark\n",
        "\n",
        "os.environ[\"JAVA_HOME\"] = \"/usr/lib/jvm/java-8-openjdk-amd64\"\n",
        "os.environ[\"SPARK_HOME\"] = \"/content/spark-3.1.1-bin-hadoop3.2\"\n",
        "\n",
        "import findspark\n",
        "findspark.init()\n",
        "from pyspark.sql import SparkSession\n",
        "spark = SparkSession.builder.master(\"local[*]\").appName('AproriPcy').getOrCreate()\n",
        "spark.conf.set(\"spark.sql.repl.eagerEval.enabled\", True) # Property used to format output tables better\n",
        "spark\n",
        "import pyspark\n",
        "type(spark)\n",
        "\n",
        "sc = spark.sparkContext\n",
        "spark"
      ],
      "metadata": {
        "id": "G2SK7YL26MCc",
        "colab": {
          "base_uri": "https://localhost:8080/",
          "height": 219
        },
        "outputId": "cfada686-6cd4-4797-d467-b23e73d9440e"
      },
      "execution_count": 1,
      "outputs": [
        {
          "output_type": "execute_result",
          "data": {
            "text/plain": [
              "<pyspark.sql.session.SparkSession at 0x7c2bdc28db40>"
            ],
            "text/html": [
              "\n",
              "            <div>\n",
              "                <p><b>SparkSession - in-memory</b></p>\n",
              "                \n",
              "        <div>\n",
              "            <p><b>SparkContext</b></p>\n",
              "\n",
              "            <p><a href=\"http://a61d0b9b4992:4040\">Spark UI</a></p>\n",
              "\n",
              "            <dl>\n",
              "              <dt>Version</dt>\n",
              "                <dd><code>v3.1.1</code></dd>\n",
              "              <dt>Master</dt>\n",
              "                <dd><code>local[*]</code></dd>\n",
              "              <dt>AppName</dt>\n",
              "                <dd><code>AproriPcy</code></dd>\n",
              "            </dl>\n",
              "        </div>\n",
              "        \n",
              "            </div>\n",
              "        "
            ]
          },
          "metadata": {},
          "execution_count": 1
        }
      ]
    },
    {
      "cell_type": "markdown",
      "source": [
        "❗️❗️❗️❗️❗️❗️❗️❗️❗️❗️❗️❗️❕❕❕ **ATTENTION** ❕❕❕❗️❗️❗️❗️❗️❗️❗️❗️❗️❗️❗️❗️\n",
        "\n",
        "❗️❗️❗️❗️❗️❗️❗️❗️❗️❗️❗️❗️❕❕❕❗️❗️❗️❗️❗️❗️❗️❕❕❕❗️❗️❗️❗️❗️❗️❗️❗️❗️❗️❗️❗️\n",
        "\n",
        "\n",
        "\n",
        "**I use *google.colab.userdata* for secret key to activate kaggle**\n",
        "\n",
        "\n",
        "\n",
        "❗️❗️❗️❗️❗️❗️❗️❗️❗️❗️❗️❗️❕❕❕❗️❗️❗️❗️❗️❗️❗️❕❕❕❗️❗️❗️❗️❗️❗️❗️❗️❗️❗️❗️❗️\n",
        "\n",
        "❗️❗️❗️❗️❗️❗️❗️❗️❗️❗️❗️❗️❕❕❕ **ATTENTION** ❕❕❕❗️❗️❗️❗️❗️❗️❗️❗️❗️❗️❗️❗️"
      ],
      "metadata": {
        "id": "1pnYiVeXNfGd"
      }
    },
    {
      "cell_type": "code",
      "source": [
        "from google.colab import userdata\n",
        "os.environ['KAGGLE_USERNAME'] = userdata.get(\"KAGGLE_USERNAME\")\n",
        "os.environ['KAGGLE_KEY'] = userdata.get(\"KAGGLE_KEY\")"
      ],
      "metadata": {
        "id": "N9rKbxfjwBkR"
      },
      "execution_count": 2,
      "outputs": []
    },
    {
      "cell_type": "code",
      "source": [
        "# LinkedIn dataset (Finding similar items, Market-basket analysis)\n",
        "!kaggle datasets download -d asaniczka/1-3m-linkedin-jobs-and-skills-2024\n",
        "!unzip 1-3m-linkedin-jobs-and-skills-2024.zip -d job_skills"
      ],
      "metadata": {
        "colab": {
          "base_uri": "https://localhost:8080/"
        },
        "id": "yH84c1J2pzRp",
        "outputId": "a68d9f19-c1b0-458f-d20a-6ffa5e541388"
      },
      "execution_count": 3,
      "outputs": [
        {
          "output_type": "stream",
          "name": "stdout",
          "text": [
            "Dataset URL: https://www.kaggle.com/datasets/asaniczka/1-3m-linkedin-jobs-and-skills-2024\n",
            "License(s): ODC Attribution License (ODC-By)\n",
            "Downloading 1-3m-linkedin-jobs-and-skills-2024.zip to /content\n",
            "100% 1.87G/1.88G [00:25<00:00, 83.7MB/s]\n",
            "100% 1.88G/1.88G [00:25<00:00, 77.5MB/s]\n",
            "Archive:  1-3m-linkedin-jobs-and-skills-2024.zip\n",
            "  inflating: job_skills/job_skills.csv  \n",
            "  inflating: job_skills/job_summary.csv  \n",
            "  inflating: job_skills/linkedin_job_postings.csv  \n"
          ]
        }
      ]
    },
    {
      "cell_type": "code",
      "source": [
        "data_path = '/content/job_skills/job_skills.csv'\n",
        "df_skills = spark.read.csv(data_path, inferSchema=True, header=True)\n",
        "df_skills.printSchema()\n",
        "df_skills.show()"
      ],
      "metadata": {
        "id": "ly7KC3yOonGh",
        "outputId": "1fa7761f-0f12-4f31-fa3d-fea856232e57",
        "colab": {
          "base_uri": "https://localhost:8080/"
        }
      },
      "execution_count": 4,
      "outputs": [
        {
          "output_type": "stream",
          "name": "stdout",
          "text": [
            "root\n",
            " |-- job_link: string (nullable = true)\n",
            " |-- job_skills: string (nullable = true)\n",
            "\n",
            "+--------------------+--------------------+\n",
            "|            job_link|          job_skills|\n",
            "+--------------------+--------------------+\n",
            "|https://www.linke...|Building Custodia...|\n",
            "|https://www.linke...|Customer service,...|\n",
            "|https://www.linke...|Applied Behavior ...|\n",
            "|https://www.linke...|Electrical Engine...|\n",
            "|https://www.linke...|Electrical Assemb...|\n",
            "|https://www.linke...|Access Control, V...|\n",
            "|https://www.linke...|Consultation, Sup...|\n",
            "|https://www.linke...|Veterinary Recept...|\n",
            "|https://www.linke...|Optical Inspectio...|\n",
            "|https://www.linke...|HVAC, troubleshoo...|\n",
            "|https://www.linke...|Host/Server Assis...|\n",
            "|https://www.linke...|Apartment mainten...|\n",
            "|https://www.linke...|Fiber Optic Cable...|\n",
            "|https://www.linke...|CT Technologist, ...|\n",
            "|https://ca.linked...|SAP, DRMIS, Data ...|\n",
            "|https://www.linke...|Debt and equity o...|\n",
            "|https://ca.linked...|Biomedical Engine...|\n",
            "|https://www.linke...|Laboratory Techni...|\n",
            "|https://www.linke...|Program Managemen...|\n",
            "|https://www.linke...|Hiring, Training,...|\n",
            "+--------------------+--------------------+\n",
            "only showing top 20 rows\n",
            "\n"
          ]
        }
      ]
    },
    {
      "cell_type": "code",
      "source": [
        "data_path = '/content/job_skills/linkedin_job_postings.csv'\n",
        "df_all = spark.read.csv(data_path, inferSchema=True, header=True)\n",
        "df_all.printSchema()\n",
        "df_all.show()"
      ],
      "metadata": {
        "id": "7JBqi7k-pB1R",
        "outputId": "3a01f0dc-0947-4e9d-8da9-c3d4f58609a7",
        "colab": {
          "base_uri": "https://localhost:8080/"
        }
      },
      "execution_count": 5,
      "outputs": [
        {
          "output_type": "stream",
          "name": "stdout",
          "text": [
            "root\n",
            " |-- job_link: string (nullable = true)\n",
            " |-- last_processed_time: string (nullable = true)\n",
            " |-- got_summary: string (nullable = true)\n",
            " |-- got_ner: string (nullable = true)\n",
            " |-- is_being_worked: string (nullable = true)\n",
            " |-- job_title: string (nullable = true)\n",
            " |-- company: string (nullable = true)\n",
            " |-- job_location: string (nullable = true)\n",
            " |-- first_seen: string (nullable = true)\n",
            " |-- search_city: string (nullable = true)\n",
            " |-- search_country: string (nullable = true)\n",
            " |-- search_position: string (nullable = true)\n",
            " |-- job_level: string (nullable = true)\n",
            " |-- job_type: string (nullable = true)\n",
            "\n",
            "+--------------------+--------------------+-----------+-------+---------------+--------------------+--------------------+--------------------+----------+---------------+--------------+--------------------+----------+--------+\n",
            "|            job_link| last_processed_time|got_summary|got_ner|is_being_worked|           job_title|             company|        job_location|first_seen|    search_city|search_country|     search_position| job_level|job_type|\n",
            "+--------------------+--------------------+-----------+-------+---------------+--------------------+--------------------+--------------------+----------+---------------+--------------+--------------------+----------+--------+\n",
            "|https://www.linke...|2024-01-21 07:12:...|          t|      t|              f|Account Executive...|                  BD|       San Diego, CA|2024-01-15|       Coronado| United States|         Color Maker|Mid senior|  Onsite|\n",
            "|https://www.linke...|2024-01-21 07:39:...|          t|      t|              f|Registered Nurse ...|   Trinity Health MI|   Norton Shores, MI|2024-01-14|    Grand Haven| United States|Director Nursing ...|Mid senior|  Onsite|\n",
            "|https://www.linke...|2024-01-21 07:40:...|          t|      t|              f|RESTAURANT SUPERV...|Wasatch Adaptive ...|           Sandy, UT|2024-01-14|         Tooele| United States|            Stand-In|Mid senior|  Onsite|\n",
            "|https://www.linke...|2024-01-21 07:40:...|          t|      t|              f|Independent Real ...|Howard Hanna | Ra...|Englewood Cliffs, NJ|2024-01-16|      Pinehurst| United States|   Real-Estate Clerk|Mid senior|  Onsite|\n",
            "|https://www.linke...|2024-01-19 09:45:...|          f|      f|              f|Group/Unit Superv...|IRS, Office of Ch...|        Chamblee, GA|2024-01-17|        Gadsden| United States|Supervisor Travel...|Mid senior|  Onsite|\n",
            "|https://www.linke...|2024-01-19 09:45:...|          f|      f|              f|  Counselor-07532802|                 ICL|        Brooklyn, NY|2024-01-16|     Oyster Bay| United States| Residence Counselor|Mid senior|  Onsite|\n",
            "|https://www.linke...|2024-01-21 08:08:...|          t|      t|              f|Registered Nurse ...|   Trinity Health MI|        Muskegon, MI|2024-01-14|       Muskegon| United States|  Nurse Practitioner|Mid senior|  Onsite|\n",
            "|https://www.linke...|2024-01-21 08:08:...|          t|      t|              f|Part Time- HR Gen...|Creative Financia...|        New York, NY|2024-01-16|   White Plains| United States|Human Resource Ad...|Mid senior|  Onsite|\n",
            "|https://uk.linked...|2024-01-21 08:08:...|          t|      t|              f|       Store Manager|          B&M Retail|London, England, ...|2024-01-15|         Slough|United Kingdom|              Double|Mid senior|  Onsite|\n",
            "|https://ca.linked...|2024-01-21 08:08:...|          t|      t|              f|Engineering Proje...|Shared Health-Soi...|Winnipeg, Manitob...|2024-01-14|       Manitoba|        Canada| Program Coordinator|Mid senior|  Onsite|\n",
            "|https://www.linke...|2024-01-21 08:08:...|          t|      t|              f|Special Agent: La...|Federal Bureau of...|Austin, Texas Met...|2024-01-16|         Austin| United States|       Special Agent| Associate|  Onsite|\n",
            "|https://www.linke...|2024-01-21 08:08:...|          t|      t|              f|Manager, Site Ope...|            ICON plc|       Knoxville, TN|2024-01-14|     Louisville| United States|              Vendor|Mid senior|  Onsite|\n",
            "|https://www.linke...|2024-01-21 08:08:...|          t|      t|              f|Assistant Vice Pr...|  RWJBarnabas Health|      Somerville, NJ|2024-01-16|   Hillsborough| United States|Psychiatric Techn...|Mid senior|  Onsite|\n",
            "|https://www.linke...|2024-01-21 08:08:...|          t|      t|              f|Control Systems I...|              Olsson|         Lincoln, NE|2024-01-14|       Nebraska| United States|  Solutions Operator| Associate|  Onsite|\n",
            "|https://www.linke...|2024-01-21 08:08:...|          t|      t|              f|LEAD SALES ASSOCI...|      Dollar General|          Tipton, IN|2024-01-14|         Carmel| United States|Circulation-Sales...|Mid senior|  Onsite|\n",
            "|https://www.linke...|2024-01-21 02:01:...|          t|      t|              f|Entry-Level Finan...| Northwestern Mutual|Fairfield County, CT|2024-01-14|          Derby| United States|       Change Person|Mid senior|  Onsite|\n",
            "|https://www.linke...|2024-01-21 02:01:...|          t|      t|              f|Senior Associate,...|             KPMG US|         Chicago, IL|2024-01-14|   Calumet City| United States|            Stand-In| Associate|  Onsite|\n",
            "|https://www.linke...|2024-01-21 02:01:...|          t|      t|              f|Human Resources G...|           SIG Group|          Merced, CA|2024-01-14|         Merced| United States|    Manager Benefits|Mid senior|  Onsite|\n",
            "|https://au.linked...|2024-01-21 02:01:...|          t|      t|              f|Supervisor - Hort...|Green Options Lan...|Sydney, New South...|2024-01-15|New South Wales|     Australia|  Booking Supervisor|Mid senior|  Onsite|\n",
            "|https://www.linke...|2024-01-21 02:01:...|          t|      t|              f|Analyst, Associat...|            RITE AID|       Yocumtown, PA|2024-01-13|        Lebanon| United States|Quality Assurance...|Mid senior|  Onsite|\n",
            "+--------------------+--------------------+-----------+-------+---------------+--------------------+--------------------+--------------------+----------+---------------+--------------+--------------------+----------+--------+\n",
            "only showing top 20 rows\n",
            "\n"
          ]
        }
      ]
    },
    {
      "cell_type": "code",
      "source": [
        "#os.remove('/content/1-3m-linkedin-jobs-and-skills-2024.zip')\n",
        "#os.remove('/content/job_skills/job_skills.csv')\n",
        "#os.remove('/content/job_skills/job_summary.csv')\n",
        "#os.remove('/content/job_skills/linkedin_job_postings.csv')\n",
        "#!rmdir /content/job_skills/"
      ],
      "metadata": {
        "id": "VaoWwibLumYW"
      },
      "execution_count": 6,
      "outputs": []
    },
    {
      "cell_type": "markdown",
      "source": [
        "# Data pre-processing"
      ],
      "metadata": {
        "id": "_eWgakDTwNbs"
      }
    },
    {
      "cell_type": "markdown",
      "source": [
        "##### The main dataset with links and skills"
      ],
      "metadata": {
        "id": "SnalKAhzracu"
      }
    },
    {
      "cell_type": "code",
      "source": [
        "new_names = ['link', 'skill']\n",
        "\n",
        "df_skills = df_skills.toDF(*new_names)\n",
        "df_skills.show(5)\n",
        "# df_skills.limit(5).toPandas()"
      ],
      "metadata": {
        "id": "hM_Scbfzz2Wc",
        "outputId": "0f88476c-f0dd-4151-d080-71f15ef6e0d9",
        "colab": {
          "base_uri": "https://localhost:8080/"
        }
      },
      "execution_count": 7,
      "outputs": [
        {
          "output_type": "stream",
          "name": "stdout",
          "text": [
            "+--------------------+--------------------+\n",
            "|                link|               skill|\n",
            "+--------------------+--------------------+\n",
            "|https://www.linke...|Building Custodia...|\n",
            "|https://www.linke...|Customer service,...|\n",
            "|https://www.linke...|Applied Behavior ...|\n",
            "|https://www.linke...|Electrical Engine...|\n",
            "|https://www.linke...|Electrical Assemb...|\n",
            "+--------------------+--------------------+\n",
            "only showing top 5 rows\n",
            "\n"
          ]
        }
      ]
    },
    {
      "cell_type": "code",
      "source": [
        "df_skills.describe() # check the number of cells for all columns"
      ],
      "metadata": {
        "id": "MDpQpDMp1xbw",
        "outputId": "b85fa83d-169d-41a7-a33b-28bc33758235",
        "colab": {
          "base_uri": "https://localhost:8080/",
          "height": 161
        }
      },
      "execution_count": 8,
      "outputs": [
        {
          "output_type": "execute_result",
          "data": {
            "text/plain": [
              "+-------+--------------------+-------------------------------+\n",
              "|summary|                link|                          skill|\n",
              "+-------+--------------------+-------------------------------+\n",
              "|  count|             1296381|                        1294374|\n",
              "|   mean|                null|                           null|\n",
              "| stddev|                null|                           null|\n",
              "|    min|https://ae.linked...|           \"* Maintenance, *...|\n",
              "|    max|https://za.linked...|志愿服务, 沟通, 陪伴, 临终服...|\n",
              "+-------+--------------------+-------------------------------+"
            ],
            "text/html": [
              "<table border='1'>\n",
              "<tr><th>summary</th><th>link</th><th>skill</th></tr>\n",
              "<tr><td>count</td><td>1296381</td><td>1294374</td></tr>\n",
              "<tr><td>mean</td><td>null</td><td>null</td></tr>\n",
              "<tr><td>stddev</td><td>null</td><td>null</td></tr>\n",
              "<tr><td>min</td><td>https://ae.linked...</td><td>&quot;* Maintenance, *...</td></tr>\n",
              "<tr><td>max</td><td>https://za.linked...</td><td>志愿服务, 沟通, 陪伴, 临终服...</td></tr>\n",
              "</table>\n"
            ]
          },
          "metadata": {},
          "execution_count": 8
        }
      ]
    },
    {
      "cell_type": "code",
      "source": [
        "df_skills = df_skills.dropna() # drop empty, NA cells\n",
        "df_skills = df_skills.dropDuplicates() # drop repeated cells\n",
        "\n",
        "df_skills.describe()"
      ],
      "metadata": {
        "id": "mEgpB-dQry2B",
        "outputId": "f902bff6-b8c2-40b4-c45b-a6272df6fb6a",
        "colab": {
          "base_uri": "https://localhost:8080/",
          "height": 161
        }
      },
      "execution_count": 9,
      "outputs": [
        {
          "output_type": "execute_result",
          "data": {
            "text/plain": [
              "+-------+--------------------+-------------------------------+\n",
              "|summary|                link|                          skill|\n",
              "+-------+--------------------+-------------------------------+\n",
              "|  count|             1294374|                        1294374|\n",
              "|   mean|                null|                           null|\n",
              "| stddev|                null|                           null|\n",
              "|    min|https://ae.linked...|           \"* Maintenance, *...|\n",
              "|    max|https://za.linked...|志愿服务, 沟通, 陪伴, 临终服...|\n",
              "+-------+--------------------+-------------------------------+"
            ],
            "text/html": [
              "<table border='1'>\n",
              "<tr><th>summary</th><th>link</th><th>skill</th></tr>\n",
              "<tr><td>count</td><td>1294374</td><td>1294374</td></tr>\n",
              "<tr><td>mean</td><td>null</td><td>null</td></tr>\n",
              "<tr><td>stddev</td><td>null</td><td>null</td></tr>\n",
              "<tr><td>min</td><td>https://ae.linked...</td><td>&quot;* Maintenance, *...</td></tr>\n",
              "<tr><td>max</td><td>https://za.linked...</td><td>志愿服务, 沟通, 陪伴, 临终服...</td></tr>\n",
              "</table>\n"
            ]
          },
          "metadata": {},
          "execution_count": 9
        }
      ]
    },
    {
      "cell_type": "code",
      "source": [
        "df_skills.groupBy('skill').count().orderBy('count', ascending=False).show() # first try to check the most \"frequent\" skills in dataset"
      ],
      "metadata": {
        "id": "Z-WXvMYB3Yr1",
        "outputId": "39e35828-37e3-4582-a9df-07ababbe420c",
        "colab": {
          "base_uri": "https://localhost:8080/"
        }
      },
      "execution_count": 10,
      "outputs": [
        {
          "output_type": "stream",
          "name": "stdout",
          "text": [
            "+--------------------+-----+\n",
            "|               skill|count|\n",
            "+--------------------+-----+\n",
            "|Front Counter, Dr...|  169|\n",
            "|Front Counter, Dr...|  112|\n",
            "|Communication, Co...|   90|\n",
            "|Retail experience...|   83|\n",
            "|Leadership, Train...|   75|\n",
            "|VolunteerMatch, L...|   70|\n",
            "|                None|   50|\n",
            "|Food Safety, Inte...|   47|\n",
            "|Supervisory exper...|   41|\n",
            "|Food Safety, Inte...|   40|\n",
            "|             Nursing|   38|\n",
            "|This context does...|   36|\n",
            "|Restaurant Manage...|   35|\n",
            "|Physician, Obstet...|   33|\n",
            "|Retail experience...|   32|\n",
            "|Customer service ...|   32|\n",
            "|Communication ski...|   31|\n",
            "|Leadership, Train...|   30|\n",
            "|Restaurant Manage...|   29|\n",
            "|Customer service,...|   29|\n",
            "+--------------------+-----+\n",
            "only showing top 20 rows\n",
            "\n"
          ]
        }
      ]
    },
    {
      "cell_type": "markdown",
      "source": [
        "##### The additional dataset for sampling"
      ],
      "metadata": {
        "id": "uuPmrmdzriyU"
      }
    },
    {
      "cell_type": "code",
      "source": [
        "df_all = df_all[['job_link', 'job_title', 'search_country', 'search_position', 'job_level']]\n",
        "df_all.show(10)"
      ],
      "metadata": {
        "colab": {
          "base_uri": "https://localhost:8080/"
        },
        "id": "gmv0cBvR0jjz",
        "outputId": "62822d85-fed1-41df-d084-08358db38737"
      },
      "execution_count": null,
      "outputs": [
        {
          "output_type": "stream",
          "name": "stdout",
          "text": [
            "+--------------------+--------------------+--------------+--------------------+----------+\n",
            "|            job_link|           job_title|search_country|     search_position| job_level|\n",
            "+--------------------+--------------------+--------------+--------------------+----------+\n",
            "|https://www.linke...|Account Executive...| United States|         Color Maker|Mid senior|\n",
            "|https://www.linke...|Registered Nurse ...| United States|Director Nursing ...|Mid senior|\n",
            "|https://www.linke...|RESTAURANT SUPERV...| United States|            Stand-In|Mid senior|\n",
            "|https://www.linke...|Independent Real ...| United States|   Real-Estate Clerk|Mid senior|\n",
            "|https://www.linke...|Group/Unit Superv...| United States|Supervisor Travel...|Mid senior|\n",
            "|https://www.linke...|  Counselor-07532802| United States| Residence Counselor|Mid senior|\n",
            "|https://www.linke...|Registered Nurse ...| United States|  Nurse Practitioner|Mid senior|\n",
            "|https://www.linke...|Part Time- HR Gen...| United States|Human Resource Ad...|Mid senior|\n",
            "|https://uk.linked...|       Store Manager|United Kingdom|              Double|Mid senior|\n",
            "|https://ca.linked...|Engineering Proje...|        Canada| Program Coordinator|Mid senior|\n",
            "+--------------------+--------------------+--------------+--------------------+----------+\n",
            "only showing top 10 rows\n",
            "\n"
          ]
        }
      ]
    },
    {
      "cell_type": "code",
      "source": [
        "df_all.describe()"
      ],
      "metadata": {
        "colab": {
          "base_uri": "https://localhost:8080/",
          "height": 161
        },
        "id": "GZIxJQPN0_aj",
        "outputId": "d0d4790f-d63a-4c7a-fdfc-6a3e77d18e70"
      },
      "execution_count": null,
      "outputs": [
        {
          "output_type": "execute_result",
          "data": {
            "text/plain": [
              "+-------+--------------------+--------------------+--------------+----------------+--------------------+\n",
              "|summary|            job_link|           job_title|search_country| search_position|           job_level|\n",
              "+-------+--------------------+--------------------+--------------+----------------+--------------------+\n",
              "|  count|             1348488|             1348488|       1348420|         1348420|             1348420|\n",
              "|   mean|                null|                null|          null|            null|                null|\n",
              "| stddev|                null|                null|          null|            null|                null|\n",
              "|    min|       \t\t\t\t\t\t\t\t\tNew\"|\"\"\"A\"\" Softball C...|    2024-01-13|     Able Seaman|Administrative As...|\n",
              "|    max|https://za.linked...|🔥Nurse Manager, ...| United States|Zoo Veterinarian|       United States|\n",
              "+-------+--------------------+--------------------+--------------+----------------+--------------------+"
            ],
            "text/html": [
              "<table border='1'>\n",
              "<tr><th>summary</th><th>job_link</th><th>job_title</th><th>search_country</th><th>search_position</th><th>job_level</th></tr>\n",
              "<tr><td>count</td><td>1348488</td><td>1348488</td><td>1348420</td><td>1348420</td><td>1348420</td></tr>\n",
              "<tr><td>mean</td><td>null</td><td>null</td><td>null</td><td>null</td><td>null</td></tr>\n",
              "<tr><td>stddev</td><td>null</td><td>null</td><td>null</td><td>null</td><td>null</td></tr>\n",
              "<tr><td>min</td><td>\t\t\t\t\t\t\t\t\tNew&quot;</td><td>&quot;&quot;&quot;A&quot;&quot; Softball C...</td><td>2024-01-13</td><td>Able Seaman</td><td>Administrative As...</td></tr>\n",
              "<tr><td>max</td><td>https://za.linked...</td><td>🔥Nurse Manager, ...</td><td>United States</td><td>Zoo Veterinarian</td><td>United States</td></tr>\n",
              "</table>\n"
            ]
          },
          "metadata": {},
          "execution_count": 29
        }
      ]
    },
    {
      "cell_type": "code",
      "source": [
        "df_all = df_all.where((df_all['job_level'] == 'Mid senior') & (df_all['search_country'] == 'United States'))\n",
        "df_all.show(10)"
      ],
      "metadata": {
        "colab": {
          "base_uri": "https://localhost:8080/"
        },
        "id": "PCuHZLZK1D_R",
        "outputId": "c45aa5dd-9a46-4685-be9f-503d7b8323e8"
      },
      "execution_count": null,
      "outputs": [
        {
          "output_type": "stream",
          "name": "stdout",
          "text": [
            "+--------------------+--------------------+--------------+--------------------+----------+\n",
            "|            job_link|           job_title|search_country|     search_position| job_level|\n",
            "+--------------------+--------------------+--------------+--------------------+----------+\n",
            "|https://www.linke...|Account Executive...| United States|         Color Maker|Mid senior|\n",
            "|https://www.linke...|Registered Nurse ...| United States|Director Nursing ...|Mid senior|\n",
            "|https://www.linke...|RESTAURANT SUPERV...| United States|            Stand-In|Mid senior|\n",
            "|https://www.linke...|Independent Real ...| United States|   Real-Estate Clerk|Mid senior|\n",
            "|https://www.linke...|Group/Unit Superv...| United States|Supervisor Travel...|Mid senior|\n",
            "|https://www.linke...|  Counselor-07532802| United States| Residence Counselor|Mid senior|\n",
            "|https://www.linke...|Registered Nurse ...| United States|  Nurse Practitioner|Mid senior|\n",
            "|https://www.linke...|Part Time- HR Gen...| United States|Human Resource Ad...|Mid senior|\n",
            "|https://www.linke...|Manager, Site Ope...| United States|              Vendor|Mid senior|\n",
            "|https://www.linke...|Assistant Vice Pr...| United States|Psychiatric Techn...|Mid senior|\n",
            "+--------------------+--------------------+--------------+--------------------+----------+\n",
            "only showing top 10 rows\n",
            "\n"
          ]
        }
      ]
    },
    {
      "cell_type": "code",
      "source": [
        "df_all.groupBy('job_title').count().orderBy('count', ascending=False).show()"
      ],
      "metadata": {
        "colab": {
          "base_uri": "https://localhost:8080/"
        },
        "id": "9ML1-Lgx2R7x",
        "outputId": "289de7c5-9ac9-441f-afe4-ebc07c972171"
      },
      "execution_count": null,
      "outputs": [
        {
          "output_type": "stream",
          "name": "stdout",
          "text": [
            "+--------------------+-----+\n",
            "|           job_title|count|\n",
            "+--------------------+-----+\n",
            "|LEAD SALES ASSOCI...| 7305|\n",
            "|       Shift Manager| 5727|\n",
            "|First Year Tax Pr...| 5350|\n",
            "|LEAD SALES ASSOCI...| 4888|\n",
            "|   Assistant Manager| 4606|\n",
            "|Customer Service ...| 4599|\n",
            "|CUSTOMER SERVICE ...| 4195|\n",
            "|       Store Manager| 3929|\n",
            "|Hourly Supervisor...| 2941|\n",
            "|Travel Allied Hea...| 2920|\n",
            "|    Registered Nurse| 2783|\n",
            "|                Host| 2779|\n",
            "|Hourly Supervisor...| 2227|\n",
            "|  Restaurant Manager| 2135|\n",
            "|OPERATIONS ASSIST...| 2062|\n",
            "|Assistant General...| 1952|\n",
            "|        Veterinarian| 1947|\n",
            "|   Senior Accountant| 1914|\n",
            "|   Account Executive| 1824|\n",
            "|Department Superv...| 1685|\n",
            "+--------------------+-----+\n",
            "only showing top 20 rows\n",
            "\n"
          ]
        }
      ]
    },
    {
      "cell_type": "code",
      "source": [
        "import re\n",
        "\n",
        "pattern_danalyst = r'\\bdata\\sanal\\w*'\n",
        "pattern_banalyst = r'\\bbusiness\\sanal\\w*'\n",
        "#pattern_analyst = r'\\banal\\w*'\n",
        "pattern_scientist = r'\\bdata\\sscientist\\w*'\n",
        "pattern_engineer = r'\\bdata\\sengin\\w*'"
      ],
      "metadata": {
        "id": "b8sD_ZHq36i7"
      },
      "execution_count": null,
      "outputs": []
    },
    {
      "cell_type": "code",
      "source": [
        "from pyspark.sql.functions import col, lower, regexp_extract\n",
        "\n",
        "df_all_sampled = df_all.filter(\n",
        "    (lower(col('job_title')).rlike(pattern_danalyst)) |\n",
        "    (lower(col('job_title')).rlike(pattern_banalyst)) |\n",
        "#    (lower(col('job_title')).rlike(pattern_analyst)) |\n",
        "    (lower(col('job_title')).rlike(pattern_scientist)) |\n",
        "    (lower(col('job_title')).rlike(pattern_engineer))\n",
        ")\n",
        "print((df_all_sampled.count(), len(df_all_sampled.columns)))"
      ],
      "metadata": {
        "colab": {
          "base_uri": "https://localhost:8080/"
        },
        "id": "Ry4NjYQK3-10",
        "outputId": "4a05a0bf-6f09-4e6c-c6cf-5e890436623d"
      },
      "execution_count": null,
      "outputs": [
        {
          "output_type": "stream",
          "name": "stdout",
          "text": [
            "(7038, 5)\n"
          ]
        }
      ]
    },
    {
      "cell_type": "code",
      "source": [
        "df_all_sampled.show(10)"
      ],
      "metadata": {
        "id": "ek6ms1aLzFh7",
        "colab": {
          "base_uri": "https://localhost:8080/"
        },
        "outputId": "5ded542b-8965-4968-9078-830cc6d3f701"
      },
      "execution_count": null,
      "outputs": [
        {
          "output_type": "stream",
          "name": "stdout",
          "text": [
            "+--------------------+--------------------+--------------+--------------------+----------+\n",
            "|            job_link|           job_title|search_country|     search_position| job_level|\n",
            "+--------------------+--------------------+--------------+--------------------+----------+\n",
            "|https://www.linke...|Secret cleared Bu...| United States|Quality Assurance...|Mid senior|\n",
            "|https://www.linke...|Business Analyst ...| United States|Consultant Education|Mid senior|\n",
            "|https://www.linke...|Payment (Swift) (...| United States|Instructor Busine...|Mid senior|\n",
            "|https://www.linke...|Principal Busines...| United States|  Management Analyst|Mid senior|\n",
            "|https://www.linke...|  Lead Data Engineer| United States|Maintenance Data ...|Mid senior|\n",
            "|https://www.linke...|Senior Data Engineer| United States|Data Base Adminis...|Mid senior|\n",
            "|https://www.linke...|    Business Analyst| United States| Instructor Modeling|Mid senior|\n",
            "|https://www.linke...|SalesForce Busine...| United States|User Support Analyst|Mid senior|\n",
            "|https://www.linke...|Pricing Transpare...| United States|Quality Assurance...|Mid senior|\n",
            "|https://www.linke...|Senior Financial ...| United States|      Budget Officer|Mid senior|\n",
            "+--------------------+--------------------+--------------+--------------------+----------+\n",
            "only showing top 10 rows\n",
            "\n"
          ]
        }
      ]
    },
    {
      "cell_type": "code",
      "source": [
        "new_names = ['link', 'job_title', 'country', 'serach', 'level']\n",
        "\n",
        "df_all_sampled = df_all_sampled.toDF(*new_names)\n",
        "df_all_sampled.limit(5).toPandas()"
      ],
      "metadata": {
        "colab": {
          "base_uri": "https://localhost:8080/",
          "height": 206
        },
        "id": "z0fj35lW7XbP",
        "outputId": "d2697886-0ed4-4023-dc70-6df167e02e2b"
      },
      "execution_count": null,
      "outputs": [
        {
          "output_type": "execute_result",
          "data": {
            "text/plain": [
              "                                                link  \\\n",
              "0  https://www.linkedin.com/jobs/view/secret-clea...   \n",
              "1  https://www.linkedin.com/jobs/view/business-an...   \n",
              "2  https://www.linkedin.com/jobs/view/payment-swi...   \n",
              "3  https://www.linkedin.com/jobs/view/principal-b...   \n",
              "4  https://www.linkedin.com/jobs/view/lead-data-e...   \n",
              "\n",
              "                            job_title        country  \\\n",
              "0     Secret cleared Business Analyst  United States   \n",
              "1          Business Analyst (11076-1)  United States   \n",
              "2  Payment (Swift) (Business Analyst)  United States   \n",
              "3          Principal Business Analyst  United States   \n",
              "4                  Lead Data Engineer  United States   \n",
              "\n",
              "                          serach       level  \n",
              "0      Quality Assurance Analyst  Mid senior  \n",
              "1           Consultant Education  Mid senior  \n",
              "2  Instructor Business Education  Mid senior  \n",
              "3             Management Analyst  Mid senior  \n",
              "4       Maintenance Data Analyst  Mid senior  "
            ],
            "text/html": [
              "\n",
              "  <div id=\"df-74d6c79a-a0b5-424e-a762-35224e32c96b\" class=\"colab-df-container\">\n",
              "    <div>\n",
              "<style scoped>\n",
              "    .dataframe tbody tr th:only-of-type {\n",
              "        vertical-align: middle;\n",
              "    }\n",
              "\n",
              "    .dataframe tbody tr th {\n",
              "        vertical-align: top;\n",
              "    }\n",
              "\n",
              "    .dataframe thead th {\n",
              "        text-align: right;\n",
              "    }\n",
              "</style>\n",
              "<table border=\"1\" class=\"dataframe\">\n",
              "  <thead>\n",
              "    <tr style=\"text-align: right;\">\n",
              "      <th></th>\n",
              "      <th>link</th>\n",
              "      <th>job_title</th>\n",
              "      <th>country</th>\n",
              "      <th>serach</th>\n",
              "      <th>level</th>\n",
              "    </tr>\n",
              "  </thead>\n",
              "  <tbody>\n",
              "    <tr>\n",
              "      <th>0</th>\n",
              "      <td>https://www.linkedin.com/jobs/view/secret-clea...</td>\n",
              "      <td>Secret cleared Business Analyst</td>\n",
              "      <td>United States</td>\n",
              "      <td>Quality Assurance Analyst</td>\n",
              "      <td>Mid senior</td>\n",
              "    </tr>\n",
              "    <tr>\n",
              "      <th>1</th>\n",
              "      <td>https://www.linkedin.com/jobs/view/business-an...</td>\n",
              "      <td>Business Analyst (11076-1)</td>\n",
              "      <td>United States</td>\n",
              "      <td>Consultant Education</td>\n",
              "      <td>Mid senior</td>\n",
              "    </tr>\n",
              "    <tr>\n",
              "      <th>2</th>\n",
              "      <td>https://www.linkedin.com/jobs/view/payment-swi...</td>\n",
              "      <td>Payment (Swift) (Business Analyst)</td>\n",
              "      <td>United States</td>\n",
              "      <td>Instructor Business Education</td>\n",
              "      <td>Mid senior</td>\n",
              "    </tr>\n",
              "    <tr>\n",
              "      <th>3</th>\n",
              "      <td>https://www.linkedin.com/jobs/view/principal-b...</td>\n",
              "      <td>Principal Business Analyst</td>\n",
              "      <td>United States</td>\n",
              "      <td>Management Analyst</td>\n",
              "      <td>Mid senior</td>\n",
              "    </tr>\n",
              "    <tr>\n",
              "      <th>4</th>\n",
              "      <td>https://www.linkedin.com/jobs/view/lead-data-e...</td>\n",
              "      <td>Lead Data Engineer</td>\n",
              "      <td>United States</td>\n",
              "      <td>Maintenance Data Analyst</td>\n",
              "      <td>Mid senior</td>\n",
              "    </tr>\n",
              "  </tbody>\n",
              "</table>\n",
              "</div>\n",
              "    <div class=\"colab-df-buttons\">\n",
              "\n",
              "  <div class=\"colab-df-container\">\n",
              "    <button class=\"colab-df-convert\" onclick=\"convertToInteractive('df-74d6c79a-a0b5-424e-a762-35224e32c96b')\"\n",
              "            title=\"Convert this dataframe to an interactive table.\"\n",
              "            style=\"display:none;\">\n",
              "\n",
              "  <svg xmlns=\"http://www.w3.org/2000/svg\" height=\"24px\" viewBox=\"0 -960 960 960\">\n",
              "    <path d=\"M120-120v-720h720v720H120Zm60-500h600v-160H180v160Zm220 220h160v-160H400v160Zm0 220h160v-160H400v160ZM180-400h160v-160H180v160Zm440 0h160v-160H620v160ZM180-180h160v-160H180v160Zm440 0h160v-160H620v160Z\"/>\n",
              "  </svg>\n",
              "    </button>\n",
              "\n",
              "  <style>\n",
              "    .colab-df-container {\n",
              "      display:flex;\n",
              "      gap: 12px;\n",
              "    }\n",
              "\n",
              "    .colab-df-convert {\n",
              "      background-color: #E8F0FE;\n",
              "      border: none;\n",
              "      border-radius: 50%;\n",
              "      cursor: pointer;\n",
              "      display: none;\n",
              "      fill: #1967D2;\n",
              "      height: 32px;\n",
              "      padding: 0 0 0 0;\n",
              "      width: 32px;\n",
              "    }\n",
              "\n",
              "    .colab-df-convert:hover {\n",
              "      background-color: #E2EBFA;\n",
              "      box-shadow: 0px 1px 2px rgba(60, 64, 67, 0.3), 0px 1px 3px 1px rgba(60, 64, 67, 0.15);\n",
              "      fill: #174EA6;\n",
              "    }\n",
              "\n",
              "    .colab-df-buttons div {\n",
              "      margin-bottom: 4px;\n",
              "    }\n",
              "\n",
              "    [theme=dark] .colab-df-convert {\n",
              "      background-color: #3B4455;\n",
              "      fill: #D2E3FC;\n",
              "    }\n",
              "\n",
              "    [theme=dark] .colab-df-convert:hover {\n",
              "      background-color: #434B5C;\n",
              "      box-shadow: 0px 1px 3px 1px rgba(0, 0, 0, 0.15);\n",
              "      filter: drop-shadow(0px 1px 2px rgba(0, 0, 0, 0.3));\n",
              "      fill: #FFFFFF;\n",
              "    }\n",
              "  </style>\n",
              "\n",
              "    <script>\n",
              "      const buttonEl =\n",
              "        document.querySelector('#df-74d6c79a-a0b5-424e-a762-35224e32c96b button.colab-df-convert');\n",
              "      buttonEl.style.display =\n",
              "        google.colab.kernel.accessAllowed ? 'block' : 'none';\n",
              "\n",
              "      async function convertToInteractive(key) {\n",
              "        const element = document.querySelector('#df-74d6c79a-a0b5-424e-a762-35224e32c96b');\n",
              "        const dataTable =\n",
              "          await google.colab.kernel.invokeFunction('convertToInteractive',\n",
              "                                                    [key], {});\n",
              "        if (!dataTable) return;\n",
              "\n",
              "        const docLinkHtml = 'Like what you see? Visit the ' +\n",
              "          '<a target=\"_blank\" href=https://colab.research.google.com/notebooks/data_table.ipynb>data table notebook</a>'\n",
              "          + ' to learn more about interactive tables.';\n",
              "        element.innerHTML = '';\n",
              "        dataTable['output_type'] = 'display_data';\n",
              "        await google.colab.output.renderOutput(dataTable, element);\n",
              "        const docLink = document.createElement('div');\n",
              "        docLink.innerHTML = docLinkHtml;\n",
              "        element.appendChild(docLink);\n",
              "      }\n",
              "    </script>\n",
              "  </div>\n",
              "\n",
              "\n",
              "<div id=\"df-c7729715-7e1c-49ad-8bd0-1fea71f464ed\">\n",
              "  <button class=\"colab-df-quickchart\" onclick=\"quickchart('df-c7729715-7e1c-49ad-8bd0-1fea71f464ed')\"\n",
              "            title=\"Suggest charts\"\n",
              "            style=\"display:none;\">\n",
              "\n",
              "<svg xmlns=\"http://www.w3.org/2000/svg\" height=\"24px\"viewBox=\"0 0 24 24\"\n",
              "     width=\"24px\">\n",
              "    <g>\n",
              "        <path d=\"M19 3H5c-1.1 0-2 .9-2 2v14c0 1.1.9 2 2 2h14c1.1 0 2-.9 2-2V5c0-1.1-.9-2-2-2zM9 17H7v-7h2v7zm4 0h-2V7h2v10zm4 0h-2v-4h2v4z\"/>\n",
              "    </g>\n",
              "</svg>\n",
              "  </button>\n",
              "\n",
              "<style>\n",
              "  .colab-df-quickchart {\n",
              "      --bg-color: #E8F0FE;\n",
              "      --fill-color: #1967D2;\n",
              "      --hover-bg-color: #E2EBFA;\n",
              "      --hover-fill-color: #174EA6;\n",
              "      --disabled-fill-color: #AAA;\n",
              "      --disabled-bg-color: #DDD;\n",
              "  }\n",
              "\n",
              "  [theme=dark] .colab-df-quickchart {\n",
              "      --bg-color: #3B4455;\n",
              "      --fill-color: #D2E3FC;\n",
              "      --hover-bg-color: #434B5C;\n",
              "      --hover-fill-color: #FFFFFF;\n",
              "      --disabled-bg-color: #3B4455;\n",
              "      --disabled-fill-color: #666;\n",
              "  }\n",
              "\n",
              "  .colab-df-quickchart {\n",
              "    background-color: var(--bg-color);\n",
              "    border: none;\n",
              "    border-radius: 50%;\n",
              "    cursor: pointer;\n",
              "    display: none;\n",
              "    fill: var(--fill-color);\n",
              "    height: 32px;\n",
              "    padding: 0;\n",
              "    width: 32px;\n",
              "  }\n",
              "\n",
              "  .colab-df-quickchart:hover {\n",
              "    background-color: var(--hover-bg-color);\n",
              "    box-shadow: 0 1px 2px rgba(60, 64, 67, 0.3), 0 1px 3px 1px rgba(60, 64, 67, 0.15);\n",
              "    fill: var(--button-hover-fill-color);\n",
              "  }\n",
              "\n",
              "  .colab-df-quickchart-complete:disabled,\n",
              "  .colab-df-quickchart-complete:disabled:hover {\n",
              "    background-color: var(--disabled-bg-color);\n",
              "    fill: var(--disabled-fill-color);\n",
              "    box-shadow: none;\n",
              "  }\n",
              "\n",
              "  .colab-df-spinner {\n",
              "    border: 2px solid var(--fill-color);\n",
              "    border-color: transparent;\n",
              "    border-bottom-color: var(--fill-color);\n",
              "    animation:\n",
              "      spin 1s steps(1) infinite;\n",
              "  }\n",
              "\n",
              "  @keyframes spin {\n",
              "    0% {\n",
              "      border-color: transparent;\n",
              "      border-bottom-color: var(--fill-color);\n",
              "      border-left-color: var(--fill-color);\n",
              "    }\n",
              "    20% {\n",
              "      border-color: transparent;\n",
              "      border-left-color: var(--fill-color);\n",
              "      border-top-color: var(--fill-color);\n",
              "    }\n",
              "    30% {\n",
              "      border-color: transparent;\n",
              "      border-left-color: var(--fill-color);\n",
              "      border-top-color: var(--fill-color);\n",
              "      border-right-color: var(--fill-color);\n",
              "    }\n",
              "    40% {\n",
              "      border-color: transparent;\n",
              "      border-right-color: var(--fill-color);\n",
              "      border-top-color: var(--fill-color);\n",
              "    }\n",
              "    60% {\n",
              "      border-color: transparent;\n",
              "      border-right-color: var(--fill-color);\n",
              "    }\n",
              "    80% {\n",
              "      border-color: transparent;\n",
              "      border-right-color: var(--fill-color);\n",
              "      border-bottom-color: var(--fill-color);\n",
              "    }\n",
              "    90% {\n",
              "      border-color: transparent;\n",
              "      border-bottom-color: var(--fill-color);\n",
              "    }\n",
              "  }\n",
              "</style>\n",
              "\n",
              "  <script>\n",
              "    async function quickchart(key) {\n",
              "      const quickchartButtonEl =\n",
              "        document.querySelector('#' + key + ' button');\n",
              "      quickchartButtonEl.disabled = true;  // To prevent multiple clicks.\n",
              "      quickchartButtonEl.classList.add('colab-df-spinner');\n",
              "      try {\n",
              "        const charts = await google.colab.kernel.invokeFunction(\n",
              "            'suggestCharts', [key], {});\n",
              "      } catch (error) {\n",
              "        console.error('Error during call to suggestCharts:', error);\n",
              "      }\n",
              "      quickchartButtonEl.classList.remove('colab-df-spinner');\n",
              "      quickchartButtonEl.classList.add('colab-df-quickchart-complete');\n",
              "    }\n",
              "    (() => {\n",
              "      let quickchartButtonEl =\n",
              "        document.querySelector('#df-c7729715-7e1c-49ad-8bd0-1fea71f464ed button');\n",
              "      quickchartButtonEl.style.display =\n",
              "        google.colab.kernel.accessAllowed ? 'block' : 'none';\n",
              "    })();\n",
              "  </script>\n",
              "</div>\n",
              "    </div>\n",
              "  </div>\n"
            ],
            "application/vnd.google.colaboratory.intrinsic+json": {
              "type": "dataframe",
              "summary": "{\n  \"name\": \"df_all_sampled\",\n  \"rows\": 5,\n  \"fields\": [\n    {\n      \"column\": \"link\",\n      \"properties\": {\n        \"dtype\": \"string\",\n        \"num_unique_values\": 5,\n        \"samples\": [\n          \"https://www.linkedin.com/jobs/view/business-analyst-11076-1-at-raps-consulting-inc-3794678844\",\n          \"https://www.linkedin.com/jobs/view/lead-data-engineer-at-dice-3805948138\",\n          \"https://www.linkedin.com/jobs/view/payment-swift-business-analyst-at-resource-consultings-services-inc-3802412719\"\n        ],\n        \"semantic_type\": \"\",\n        \"description\": \"\"\n      }\n    },\n    {\n      \"column\": \"job_title\",\n      \"properties\": {\n        \"dtype\": \"string\",\n        \"num_unique_values\": 5,\n        \"samples\": [\n          \"Business Analyst (11076-1)\",\n          \"Lead Data Engineer\",\n          \"Payment (Swift) (Business Analyst)\"\n        ],\n        \"semantic_type\": \"\",\n        \"description\": \"\"\n      }\n    },\n    {\n      \"column\": \"country\",\n      \"properties\": {\n        \"dtype\": \"category\",\n        \"num_unique_values\": 1,\n        \"samples\": [\n          \"United States\"\n        ],\n        \"semantic_type\": \"\",\n        \"description\": \"\"\n      }\n    },\n    {\n      \"column\": \"serach\",\n      \"properties\": {\n        \"dtype\": \"string\",\n        \"num_unique_values\": 5,\n        \"samples\": [\n          \"Consultant Education\"\n        ],\n        \"semantic_type\": \"\",\n        \"description\": \"\"\n      }\n    },\n    {\n      \"column\": \"level\",\n      \"properties\": {\n        \"dtype\": \"category\",\n        \"num_unique_values\": 1,\n        \"samples\": [\n          \"Mid senior\"\n        ],\n        \"semantic_type\": \"\",\n        \"description\": \"\"\n      }\n    }\n  ]\n}"
            }
          },
          "metadata": {},
          "execution_count": 35
        }
      ]
    },
    {
      "cell_type": "markdown",
      "source": [
        "Datasets merging a.k.a. sampling"
      ],
      "metadata": {
        "id": "enzi5uXK4x7p"
      }
    },
    {
      "cell_type": "code",
      "source": [
        "data = df_all_sampled.join(df_skills,['link'],how='inner')\n",
        "data.count()"
      ],
      "metadata": {
        "colab": {
          "base_uri": "https://localhost:8080/"
        },
        "id": "1n8359Tw49m2",
        "outputId": "c5a52628-4b6f-4972-ce32-001462c4bc3f"
      },
      "execution_count": null,
      "outputs": [
        {
          "output_type": "execute_result",
          "data": {
            "text/plain": [
              "6795"
            ]
          },
          "metadata": {},
          "execution_count": 36
        }
      ]
    },
    {
      "cell_type": "code",
      "source": [
        "data.show()"
      ],
      "metadata": {
        "colab": {
          "base_uri": "https://localhost:8080/"
        },
        "id": "88VI3X0R7wJu",
        "outputId": "dcc37c9a-d0ac-4832-d012-4e670de854ec"
      },
      "execution_count": null,
      "outputs": [
        {
          "output_type": "stream",
          "name": "stdout",
          "text": [
            "+--------------------+--------------------+-------------+--------------------+----------+--------------------+\n",
            "|                link|           job_title|      country|              serach|     level|               skill|\n",
            "+--------------------+--------------------+-------------+--------------------+----------+--------------------+\n",
            "|https://www.linke...|AFLCMC - Business...|United States|Consultant Education|Mid senior|Business Analyst,...|\n",
            "|https://www.linke...|Business Analyst ...|United States|Instructor Busine...|Mid senior|Data analysis, SQ...|\n",
            "|https://www.linke...|Business Analyst ...|United States|  Management Analyst|Mid senior|Business Analysis...|\n",
            "|https://www.linke...|Business analyst ...|United States|            Designer|Mid senior|Alteryx Analytics...|\n",
            "|https://www.linke...|    Business Analyst|United States|  Management Analyst|Mid senior|Data Analysis, Pr...|\n",
            "|https://www.linke...|    Business Analyst|United States|Consultant Education|Mid senior|Data Repository, ...|\n",
            "|https://www.linke...|    Business Analyst|United States|  Management Analyst|Mid senior|Agile methodology...|\n",
            "|https://www.linke...|  Business Analyst I|United States|Consultant Education|Mid senior|Business Analysis...|\n",
            "|https://www.linke...|Business Analytic...|United States|         Job Analyst|Mid senior|Data analysis, Da...|\n",
            "|https://www.linke...|Cleared Data Scie...|United States|        Geophysicist|Mid senior|Data Science, Ana...|\n",
            "|https://www.linke...|Corp Clinical Dat...|United States|Data Communicatio...|Mid senior|Data Management, ...|\n",
            "|https://www.linke...|Cybersecurity Sen...|United States|Data Communicatio...|Mid senior|Cybersecurity, Da...|\n",
            "|https://www.linke...|      Data Analyst I|United States|Data Communicatio...|Mid senior|Data analysis, Ta...|\n",
            "|https://www.linke...|Data Engineer Ana...|United States|    Data Entry Clerk|Mid senior|Python, PySpark, ...|\n",
            "|https://www.linke...|   Data Engineer/DBA|United States|Data Base Adminis...|Mid senior|PostgreSQL, SQL, ...|\n",
            "|https://www.linke...|Epidemiologist/To...|United States|    Data Entry Clerk|Mid senior|Epidemiology, Bio...|\n",
            "|https://www.linke...|ETL Developer/Dat...|United States|Computer Systems ...|Mid senior|Hadoop, Hive, SQL...|\n",
            "|https://www.linke...|Healthcare Data A...|United States|    Data Entry Clerk|Mid senior|SAS, SQL, Tableau...|\n",
            "|https://www.linke...|IT Business Analy...|United States|  Management Analyst|Mid senior|Software Support,...|\n",
            "|https://www.linke...|JDE Business Anal...|United States|  Management Analyst|Mid senior|JDE Edwards, Supp...|\n",
            "+--------------------+--------------------+-------------+--------------------+----------+--------------------+\n",
            "only showing top 20 rows\n",
            "\n"
          ]
        }
      ]
    },
    {
      "cell_type": "code",
      "source": [
        "data = data[['link', 'skill']]\n",
        "data.show(5)"
      ],
      "metadata": {
        "colab": {
          "base_uri": "https://localhost:8080/"
        },
        "id": "_acgZ-rf8Ezu",
        "outputId": "06b65e56-e1ac-4de0-840f-33ff95160c3a"
      },
      "execution_count": null,
      "outputs": [
        {
          "output_type": "stream",
          "name": "stdout",
          "text": [
            "+--------------------+--------------------+\n",
            "|                link|               skill|\n",
            "+--------------------+--------------------+\n",
            "|https://www.linke...|Business Analyst,...|\n",
            "|https://www.linke...|Data analysis, SQ...|\n",
            "|https://www.linke...|Business Analysis...|\n",
            "|https://www.linke...|Alteryx Analytics...|\n",
            "|https://www.linke...|Data Analysis, Pr...|\n",
            "+--------------------+--------------------+\n",
            "only showing top 5 rows\n",
            "\n"
          ]
        }
      ]
    },
    {
      "cell_type": "markdown",
      "source": [
        "### EDA:"
      ],
      "metadata": {
        "id": "w95x3412FkLO"
      }
    },
    {
      "cell_type": "code",
      "source": [
        "import pandas as pd"
      ],
      "metadata": {
        "id": "4k4T0g8xFnSO"
      },
      "execution_count": null,
      "outputs": []
    },
    {
      "cell_type": "code",
      "source": [],
      "metadata": {
        "id": "OKzrfhP9FpfQ"
      },
      "execution_count": null,
      "outputs": []
    },
    {
      "cell_type": "markdown",
      "source": [
        "# BMA"
      ],
      "metadata": {
        "id": "QqE7tyilzF6s"
      }
    },
    {
      "cell_type": "code",
      "source": [
        "col = data.select('skill')\n",
        "rdd = col.rdd\n",
        "rdd = rdd.map(lambda x: x['skill'])\n",
        "rdd.first()"
      ],
      "metadata": {
        "id": "PadnBXa_zJMV",
        "colab": {
          "base_uri": "https://localhost:8080/",
          "height": 140
        },
        "outputId": "4e2cc183-33ad-4d9b-a5fe-5757e669a50a"
      },
      "execution_count": null,
      "outputs": [
        {
          "output_type": "execute_result",
          "data": {
            "text/plain": [
              "\"Business Analyst, DoD financial management processes, Government financial and accounting systems, Acquisition and budgeting processes, Relational databases, Financial and technical consulting, Government finance expertise, Financial data structuring, Reconciliation between systems, Financial forecasts and accounting data review, Government financial office support, Cost and Requirement System (CCaR™) experience, Bachelor's degree in business management engineering computer science mathematics economics, 7+ years of government acquisition finance financial management program management or related experience, 10+ years of equivalent technical training or work/military experience, Extended periods of sitting typing hearing seeing and speaking, Prolonged computer work and typing, Accurate communication, 15 lbs lifting/carrying, Office mobility, Federal background investigation, Travel, Varying work schedule, Additional hours and weekend work, $80000  $120000 annual salary, Employerpaid health dental vision disability AD&D and life insurance, Elective plans including flexible spending accounts voluntary life insurance and supplemental insurance, 11 paid holidays, 3 weeks PTO accrual per year, 401(k) safe harbor contribution, Employee referral bonuses, Equal Opportunity Employer\""
            ],
            "application/vnd.google.colaboratory.intrinsic+json": {
              "type": "string"
            }
          },
          "metadata": {},
          "execution_count": 39
        }
      ]
    },
    {
      "cell_type": "code",
      "source": [
        "rdd.getNumPartitions()"
      ],
      "metadata": {
        "colab": {
          "base_uri": "https://localhost:8080/"
        },
        "id": "A_lRLkB89dE3",
        "outputId": "06ed26dc-ec0c-4f36-dd9f-1df34835d162"
      },
      "execution_count": null,
      "outputs": [
        {
          "output_type": "execute_result",
          "data": {
            "text/plain": [
              "200"
            ]
          },
          "metadata": {},
          "execution_count": 40
        }
      ]
    },
    {
      "cell_type": "code",
      "source": [
        "baskets = rdd.map(lambda line: line.split(', '))\n",
        "baskets.first()"
      ],
      "metadata": {
        "colab": {
          "base_uri": "https://localhost:8080/"
        },
        "id": "inWCMnwV9zUR",
        "outputId": "8bdcea55-dc65-4c7d-8f29-11aa225779b1"
      },
      "execution_count": null,
      "outputs": [
        {
          "output_type": "execute_result",
          "data": {
            "text/plain": [
              "['Business Analyst',\n",
              " 'DoD financial management processes',\n",
              " 'Government financial and accounting systems',\n",
              " 'Acquisition and budgeting processes',\n",
              " 'Relational databases',\n",
              " 'Financial and technical consulting',\n",
              " 'Government finance expertise',\n",
              " 'Financial data structuring',\n",
              " 'Reconciliation between systems',\n",
              " 'Financial forecasts and accounting data review',\n",
              " 'Government financial office support',\n",
              " 'Cost and Requirement System (CCaR™) experience',\n",
              " \"Bachelor's degree in business management engineering computer science mathematics economics\",\n",
              " '7+ years of government acquisition finance financial management program management or related experience',\n",
              " '10+ years of equivalent technical training or work/military experience',\n",
              " 'Extended periods of sitting typing hearing seeing and speaking',\n",
              " 'Prolonged computer work and typing',\n",
              " 'Accurate communication',\n",
              " '15 lbs lifting/carrying',\n",
              " 'Office mobility',\n",
              " 'Federal background investigation',\n",
              " 'Travel',\n",
              " 'Varying work schedule',\n",
              " 'Additional hours and weekend work',\n",
              " '$80000  $120000 annual salary',\n",
              " 'Employerpaid health dental vision disability AD&D and life insurance',\n",
              " 'Elective plans including flexible spending accounts voluntary life insurance and supplemental insurance',\n",
              " '11 paid holidays',\n",
              " '3 weeks PTO accrual per year',\n",
              " '401(k) safe harbor contribution',\n",
              " 'Employee referral bonuses',\n",
              " 'Equal Opportunity Employer']"
            ]
          },
          "metadata": {},
          "execution_count": 41
        }
      ]
    },
    {
      "cell_type": "code",
      "source": [
        "lens = baskets.map(lambda x: len(x))\n",
        "print(lens.max())\n",
        "print(lens.mean())\n",
        "print(lens.mean() * data.count())"
      ],
      "metadata": {
        "colab": {
          "base_uri": "https://localhost:8080/"
        },
        "id": "T0aA5jnr-X2m",
        "outputId": "943a9483-d64f-4148-d9dc-28b289ce16d4"
      },
      "execution_count": null,
      "outputs": [
        {
          "output_type": "stream",
          "name": "stdout",
          "text": [
            "224\n",
            "26.54598969830757\n",
            "180379.99999999994\n"
          ]
        }
      ]
    },
    {
      "cell_type": "code",
      "source": [
        "supp = round((baskets.count())/50)\n",
        "supp"
      ],
      "metadata": {
        "colab": {
          "base_uri": "https://localhost:8080/"
        },
        "id": "EWyvSVR7_YGV",
        "outputId": "cccd9830-e29e-4cae-af70-298f16c9d9a0"
      },
      "execution_count": null,
      "outputs": [
        {
          "output_type": "execute_result",
          "data": {
            "text/plain": [
              "136"
            ]
          },
          "metadata": {},
          "execution_count": 47
        }
      ]
    },
    {
      "cell_type": "markdown",
      "source": [
        "hash table"
      ],
      "metadata": {
        "id": "u4kuvvXb9hC4"
      }
    },
    {
      "cell_type": "code",
      "source": [
        "hash = baskets.flatMap(lambda line: line)\n",
        "hash.first()"
      ],
      "metadata": {
        "id": "emjdFJiV9gjZ",
        "outputId": "77dd58b0-6d88-4928-cd19-be1fff7d2416",
        "colab": {
          "base_uri": "https://localhost:8080/",
          "height": 35
        }
      },
      "execution_count": null,
      "outputs": [
        {
          "output_type": "execute_result",
          "data": {
            "text/plain": [
              "'Business Analyst'"
            ],
            "application/vnd.google.colaboratory.intrinsic+json": {
              "type": "string"
            }
          },
          "metadata": {},
          "execution_count": 48
        }
      ]
    },
    {
      "cell_type": "code",
      "source": [
        "check_tot_skills = hash.count()\n",
        "check_tot_skills"
      ],
      "metadata": {
        "id": "EC972Wxd9jIS",
        "outputId": "85bb6d51-20b7-49f4-e5d6-261c3e58448c",
        "colab": {
          "base_uri": "https://localhost:8080/"
        }
      },
      "execution_count": null,
      "outputs": [
        {
          "output_type": "execute_result",
          "data": {
            "text/plain": [
              "180380"
            ]
          },
          "metadata": {},
          "execution_count": 49
        }
      ]
    },
    {
      "cell_type": "code",
      "source": [
        "hash = hash.distinct()\n",
        "skills = hash.count()\n",
        "skills"
      ],
      "metadata": {
        "id": "yMP9aF8g9leF",
        "outputId": "1286b225-a75e-4029-ec1f-40a69a7b0024",
        "colab": {
          "base_uri": "https://localhost:8080/"
        }
      },
      "execution_count": null,
      "outputs": [
        {
          "output_type": "execute_result",
          "data": {
            "text/plain": [
              "41020"
            ]
          },
          "metadata": {},
          "execution_count": 50
        }
      ]
    },
    {
      "cell_type": "code",
      "source": [
        "hash = hash.zipWithIndex()\n",
        "hash.take(5)"
      ],
      "metadata": {
        "id": "5VhMQ_V_91Gj",
        "outputId": "52f321bf-7ec5-4769-fd17-9c32cdeaaed4",
        "colab": {
          "base_uri": "https://localhost:8080/"
        }
      },
      "execution_count": null,
      "outputs": [
        {
          "output_type": "execute_result",
          "data": {
            "text/plain": [
              "[('Test cases', 0),\n",
              " ('Test data preparation', 1),\n",
              " ('Project status communication', 2),\n",
              " ('Airflow', 3),\n",
              " ('Mentoring', 4)]"
            ]
          },
          "metadata": {},
          "execution_count": 51
        }
      ]
    },
    {
      "cell_type": "code",
      "source": [
        "def hashing(basket):\n",
        "    return {hash_index[skill] for skill in basket}\n",
        "\n",
        "baskets = baskets.map(hashing)"
      ],
      "metadata": {
        "id": "RImZ3bjs-uZB"
      },
      "execution_count": null,
      "outputs": []
    },
    {
      "cell_type": "code",
      "source": [
        "baskets.first()"
      ],
      "metadata": {
        "id": "noN7ywDN-3y3",
        "outputId": "840e1a15-9bd1-4540-89ce-667f996aa271",
        "colab": {
          "base_uri": "https://localhost:8080/",
          "height": 1000
        }
      },
      "execution_count": null,
      "outputs": [
        {
          "output_type": "error",
          "ename": "Py4JJavaError",
          "evalue": "An error occurred while calling z:org.apache.spark.api.python.PythonRDD.runJob.\n: org.apache.spark.SparkException: Job aborted due to stage failure: Task 0 in stage 114.0 failed 1 times, most recent failure: Lost task 0.0 in stage 114.0 (TID 4145) (a0496c4611e3 executor driver): org.apache.spark.api.python.PythonException: Traceback (most recent call last):\n  File \"/content/spark-3.1.1-bin-hadoop3.2/python/lib/pyspark.zip/pyspark/worker.py\", line 604, in main\n    process()\n  File \"/content/spark-3.1.1-bin-hadoop3.2/python/lib/pyspark.zip/pyspark/worker.py\", line 596, in process\n    serializer.dump_stream(out_iter, outfile)\n  File \"/content/spark-3.1.1-bin-hadoop3.2/python/lib/pyspark.zip/pyspark/serializers.py\", line 259, in dump_stream\n    vs = list(itertools.islice(iterator, batch))\n  File \"/content/spark-3.1.1-bin-hadoop3.2/python/pyspark/rdd.py\", line 1561, in takeUpToNumLeft\n    except StopIteration:\n  File \"/content/spark-3.1.1-bin-hadoop3.2/python/lib/pyspark.zip/pyspark/util.py\", line 73, in wrapper\n    return f(*args, **kwargs)\n  File \"<ipython-input-52-3df91f39dda5>\", line 126, in hashing\n  File \"<ipython-input-52-3df91f39dda5>\", line -1, in <setcomp>\nNameError: name 'hash_index' is not defined\n\n\tat org.apache.spark.api.python.BasePythonRunner$ReaderIterator.handlePythonException(PythonRunner.scala:517)\n\tat org.apache.spark.api.python.PythonRunner$$anon$3.read(PythonRunner.scala:652)\n\tat org.apache.spark.api.python.PythonRunner$$anon$3.read(PythonRunner.scala:635)\n\tat org.apache.spark.api.python.BasePythonRunner$ReaderIterator.hasNext(PythonRunner.scala:470)\n\tat org.apache.spark.InterruptibleIterator.hasNext(InterruptibleIterator.scala:37)\n\tat scala.collection.Iterator.foreach(Iterator.scala:941)\n\tat scala.collection.Iterator.foreach$(Iterator.scala:941)\n\tat org.apache.spark.InterruptibleIterator.foreach(InterruptibleIterator.scala:28)\n\tat scala.collection.generic.Growable.$plus$plus$eq(Growable.scala:62)\n\tat scala.collection.generic.Growable.$plus$plus$eq$(Growable.scala:53)\n\tat scala.collection.mutable.ArrayBuffer.$plus$plus$eq(ArrayBuffer.scala:105)\n\tat scala.collection.mutable.ArrayBuffer.$plus$plus$eq(ArrayBuffer.scala:49)\n\tat scala.collection.TraversableOnce.to(TraversableOnce.scala:315)\n\tat scala.collection.TraversableOnce.to$(TraversableOnce.scala:313)\n\tat org.apache.spark.InterruptibleIterator.to(InterruptibleIterator.scala:28)\n\tat scala.collection.TraversableOnce.toBuffer(TraversableOnce.scala:307)\n\tat scala.collection.TraversableOnce.toBuffer$(TraversableOnce.scala:307)\n\tat org.apache.spark.InterruptibleIterator.toBuffer(InterruptibleIterator.scala:28)\n\tat scala.collection.TraversableOnce.toArray(TraversableOnce.scala:294)\n\tat scala.collection.TraversableOnce.toArray$(TraversableOnce.scala:288)\n\tat org.apache.spark.InterruptibleIterator.toArray(InterruptibleIterator.scala:28)\n\tat org.apache.spark.api.python.PythonRDD$.$anonfun$runJob$1(PythonRDD.scala:166)\n\tat org.apache.spark.SparkContext.$anonfun$runJob$5(SparkContext.scala:2242)\n\tat org.apache.spark.scheduler.ResultTask.runTask(ResultTask.scala:90)\n\tat org.apache.spark.scheduler.Task.run(Task.scala:131)\n\tat org.apache.spark.executor.Executor$TaskRunner.$anonfun$run$3(Executor.scala:497)\n\tat org.apache.spark.util.Utils$.tryWithSafeFinally(Utils.scala:1439)\n\tat org.apache.spark.executor.Executor$TaskRunner.run(Executor.scala:500)\n\tat java.util.concurrent.ThreadPoolExecutor.runWorker(ThreadPoolExecutor.java:1149)\n\tat java.util.concurrent.ThreadPoolExecutor$Worker.run(ThreadPoolExecutor.java:624)\n\tat java.lang.Thread.run(Thread.java:750)\n\nDriver stacktrace:\n\tat org.apache.spark.scheduler.DAGScheduler.failJobAndIndependentStages(DAGScheduler.scala:2253)\n\tat org.apache.spark.scheduler.DAGScheduler.$anonfun$abortStage$2(DAGScheduler.scala:2202)\n\tat org.apache.spark.scheduler.DAGScheduler.$anonfun$abortStage$2$adapted(DAGScheduler.scala:2201)\n\tat scala.collection.mutable.ResizableArray.foreach(ResizableArray.scala:62)\n\tat scala.collection.mutable.ResizableArray.foreach$(ResizableArray.scala:55)\n\tat scala.collection.mutable.ArrayBuffer.foreach(ArrayBuffer.scala:49)\n\tat org.apache.spark.scheduler.DAGScheduler.abortStage(DAGScheduler.scala:2201)\n\tat org.apache.spark.scheduler.DAGScheduler.$anonfun$handleTaskSetFailed$1(DAGScheduler.scala:1078)\n\tat org.apache.spark.scheduler.DAGScheduler.$anonfun$handleTaskSetFailed$1$adapted(DAGScheduler.scala:1078)\n\tat scala.Option.foreach(Option.scala:407)\n\tat org.apache.spark.scheduler.DAGScheduler.handleTaskSetFailed(DAGScheduler.scala:1078)\n\tat org.apache.spark.scheduler.DAGSchedulerEventProcessLoop.doOnReceive(DAGScheduler.scala:2440)\n\tat org.apache.spark.scheduler.DAGSchedulerEventProcessLoop.onReceive(DAGScheduler.scala:2382)\n\tat org.apache.spark.scheduler.DAGSchedulerEventProcessLoop.onReceive(DAGScheduler.scala:2371)\n\tat org.apache.spark.util.EventLoop$$anon$1.run(EventLoop.scala:49)\n\tat org.apache.spark.scheduler.DAGScheduler.runJob(DAGScheduler.scala:868)\n\tat org.apache.spark.SparkContext.runJob(SparkContext.scala:2202)\n\tat org.apache.spark.SparkContext.runJob(SparkContext.scala:2223)\n\tat org.apache.spark.SparkContext.runJob(SparkContext.scala:2242)\n\tat org.apache.spark.api.python.PythonRDD$.runJob(PythonRDD.scala:166)\n\tat org.apache.spark.api.python.PythonRDD.runJob(PythonRDD.scala)\n\tat sun.reflect.NativeMethodAccessorImpl.invoke0(Native Method)\n\tat sun.reflect.NativeMethodAccessorImpl.invoke(NativeMethodAccessorImpl.java:62)\n\tat sun.reflect.DelegatingMethodAccessorImpl.invoke(DelegatingMethodAccessorImpl.java:43)\n\tat java.lang.reflect.Method.invoke(Method.java:498)\n\tat py4j.reflection.MethodInvoker.invoke(MethodInvoker.java:244)\n\tat py4j.reflection.ReflectionEngine.invoke(ReflectionEngine.java:357)\n\tat py4j.Gateway.invoke(Gateway.java:282)\n\tat py4j.commands.AbstractCommand.invokeMethod(AbstractCommand.java:132)\n\tat py4j.commands.CallCommand.execute(CallCommand.java:79)\n\tat py4j.GatewayConnection.run(GatewayConnection.java:238)\n\tat java.lang.Thread.run(Thread.java:750)\nCaused by: org.apache.spark.api.python.PythonException: Traceback (most recent call last):\n  File \"/content/spark-3.1.1-bin-hadoop3.2/python/lib/pyspark.zip/pyspark/worker.py\", line 604, in main\n    process()\n  File \"/content/spark-3.1.1-bin-hadoop3.2/python/lib/pyspark.zip/pyspark/worker.py\", line 596, in process\n    serializer.dump_stream(out_iter, outfile)\n  File \"/content/spark-3.1.1-bin-hadoop3.2/python/lib/pyspark.zip/pyspark/serializers.py\", line 259, in dump_stream\n    vs = list(itertools.islice(iterator, batch))\n  File \"/content/spark-3.1.1-bin-hadoop3.2/python/pyspark/rdd.py\", line 1561, in takeUpToNumLeft\n    except StopIteration:\n  File \"/content/spark-3.1.1-bin-hadoop3.2/python/lib/pyspark.zip/pyspark/util.py\", line 73, in wrapper\n    return f(*args, **kwargs)\n  File \"<ipython-input-52-3df91f39dda5>\", line 126, in hashing\n  File \"<ipython-input-52-3df91f39dda5>\", line -1, in <setcomp>\nNameError: name 'hash_index' is not defined\n\n\tat org.apache.spark.api.python.BasePythonRunner$ReaderIterator.handlePythonException(PythonRunner.scala:517)\n\tat org.apache.spark.api.python.PythonRunner$$anon$3.read(PythonRunner.scala:652)\n\tat org.apache.spark.api.python.PythonRunner$$anon$3.read(PythonRunner.scala:635)\n\tat org.apache.spark.api.python.BasePythonRunner$ReaderIterator.hasNext(PythonRunner.scala:470)\n\tat org.apache.spark.InterruptibleIterator.hasNext(InterruptibleIterator.scala:37)\n\tat scala.collection.Iterator.foreach(Iterator.scala:941)\n\tat scala.collection.Iterator.foreach$(Iterator.scala:941)\n\tat org.apache.spark.InterruptibleIterator.foreach(InterruptibleIterator.scala:28)\n\tat scala.collection.generic.Growable.$plus$plus$eq(Growable.scala:62)\n\tat scala.collection.generic.Growable.$plus$plus$eq$(Growable.scala:53)\n\tat scala.collection.mutable.ArrayBuffer.$plus$plus$eq(ArrayBuffer.scala:105)\n\tat scala.collection.mutable.ArrayBuffer.$plus$plus$eq(ArrayBuffer.scala:49)\n\tat scala.collection.TraversableOnce.to(TraversableOnce.scala:315)\n\tat scala.collection.TraversableOnce.to$(TraversableOnce.scala:313)\n\tat org.apache.spark.InterruptibleIterator.to(InterruptibleIterator.scala:28)\n\tat scala.collection.TraversableOnce.toBuffer(TraversableOnce.scala:307)\n\tat scala.collection.TraversableOnce.toBuffer$(TraversableOnce.scala:307)\n\tat org.apache.spark.InterruptibleIterator.toBuffer(InterruptibleIterator.scala:28)\n\tat scala.collection.TraversableOnce.toArray(TraversableOnce.scala:294)\n\tat scala.collection.TraversableOnce.toArray$(TraversableOnce.scala:288)\n\tat org.apache.spark.InterruptibleIterator.toArray(InterruptibleIterator.scala:28)\n\tat org.apache.spark.api.python.PythonRDD$.$anonfun$runJob$1(PythonRDD.scala:166)\n\tat org.apache.spark.SparkContext.$anonfun$runJob$5(SparkContext.scala:2242)\n\tat org.apache.spark.scheduler.ResultTask.runTask(ResultTask.scala:90)\n\tat org.apache.spark.scheduler.Task.run(Task.scala:131)\n\tat org.apache.spark.executor.Executor$TaskRunner.$anonfun$run$3(Executor.scala:497)\n\tat org.apache.spark.util.Utils$.tryWithSafeFinally(Utils.scala:1439)\n\tat org.apache.spark.executor.Executor$TaskRunner.run(Executor.scala:500)\n\tat java.util.concurrent.ThreadPoolExecutor.runWorker(ThreadPoolExecutor.java:1149)\n\tat java.util.concurrent.ThreadPoolExecutor$Worker.run(ThreadPoolExecutor.java:624)\n\t... 1 more\n",
          "traceback": [
            "\u001b[0;31m---------------------------------------------------------------------------\u001b[0m",
            "\u001b[0;31mPy4JJavaError\u001b[0m                             Traceback (most recent call last)",
            "\u001b[0;32m<ipython-input-53-4a43432e4511>\u001b[0m in \u001b[0;36m<cell line: 1>\u001b[0;34m()\u001b[0m\n\u001b[0;32m----> 1\u001b[0;31m \u001b[0mbaskets\u001b[0m\u001b[0;34m.\u001b[0m\u001b[0mfirst\u001b[0m\u001b[0;34m(\u001b[0m\u001b[0;34m)\u001b[0m\u001b[0;34m\u001b[0m\u001b[0;34m\u001b[0m\u001b[0m\n\u001b[0m",
            "\u001b[0;32m/content/spark-3.1.1-bin-hadoop3.2/python/pyspark/rdd.py\u001b[0m in \u001b[0;36mfirst\u001b[0;34m(self)\u001b[0m\n\u001b[1;32m   1584\u001b[0m         \u001b[0mValueError\u001b[0m\u001b[0;34m:\u001b[0m \u001b[0mRDD\u001b[0m \u001b[0;32mis\u001b[0m \u001b[0mempty\u001b[0m\u001b[0;34m\u001b[0m\u001b[0;34m\u001b[0m\u001b[0m\n\u001b[1;32m   1585\u001b[0m         \"\"\"\n\u001b[0;32m-> 1586\u001b[0;31m         \u001b[0mrs\u001b[0m \u001b[0;34m=\u001b[0m \u001b[0mself\u001b[0m\u001b[0;34m.\u001b[0m\u001b[0mtake\u001b[0m\u001b[0;34m(\u001b[0m\u001b[0;36m1\u001b[0m\u001b[0;34m)\u001b[0m\u001b[0;34m\u001b[0m\u001b[0;34m\u001b[0m\u001b[0m\n\u001b[0m\u001b[1;32m   1587\u001b[0m         \u001b[0;32mif\u001b[0m \u001b[0mrs\u001b[0m\u001b[0;34m:\u001b[0m\u001b[0;34m\u001b[0m\u001b[0;34m\u001b[0m\u001b[0m\n\u001b[1;32m   1588\u001b[0m             \u001b[0;32mreturn\u001b[0m \u001b[0mrs\u001b[0m\u001b[0;34m[\u001b[0m\u001b[0;36m0\u001b[0m\u001b[0;34m]\u001b[0m\u001b[0;34m\u001b[0m\u001b[0;34m\u001b[0m\u001b[0m\n",
            "\u001b[0;32m/content/spark-3.1.1-bin-hadoop3.2/python/pyspark/rdd.py\u001b[0m in \u001b[0;36mtake\u001b[0;34m(self, num)\u001b[0m\n\u001b[1;32m   1564\u001b[0m \u001b[0;34m\u001b[0m\u001b[0m\n\u001b[1;32m   1565\u001b[0m             \u001b[0mp\u001b[0m \u001b[0;34m=\u001b[0m \u001b[0mrange\u001b[0m\u001b[0;34m(\u001b[0m\u001b[0mpartsScanned\u001b[0m\u001b[0;34m,\u001b[0m \u001b[0mmin\u001b[0m\u001b[0;34m(\u001b[0m\u001b[0mpartsScanned\u001b[0m \u001b[0;34m+\u001b[0m \u001b[0mnumPartsToTry\u001b[0m\u001b[0;34m,\u001b[0m \u001b[0mtotalParts\u001b[0m\u001b[0;34m)\u001b[0m\u001b[0;34m)\u001b[0m\u001b[0;34m\u001b[0m\u001b[0;34m\u001b[0m\u001b[0m\n\u001b[0;32m-> 1566\u001b[0;31m             \u001b[0mres\u001b[0m \u001b[0;34m=\u001b[0m \u001b[0mself\u001b[0m\u001b[0;34m.\u001b[0m\u001b[0mcontext\u001b[0m\u001b[0;34m.\u001b[0m\u001b[0mrunJob\u001b[0m\u001b[0;34m(\u001b[0m\u001b[0mself\u001b[0m\u001b[0;34m,\u001b[0m \u001b[0mtakeUpToNumLeft\u001b[0m\u001b[0;34m,\u001b[0m \u001b[0mp\u001b[0m\u001b[0;34m)\u001b[0m\u001b[0;34m\u001b[0m\u001b[0;34m\u001b[0m\u001b[0m\n\u001b[0m\u001b[1;32m   1567\u001b[0m \u001b[0;34m\u001b[0m\u001b[0m\n\u001b[1;32m   1568\u001b[0m             \u001b[0mitems\u001b[0m \u001b[0;34m+=\u001b[0m \u001b[0mres\u001b[0m\u001b[0;34m\u001b[0m\u001b[0;34m\u001b[0m\u001b[0m\n",
            "\u001b[0;32m/content/spark-3.1.1-bin-hadoop3.2/python/pyspark/context.py\u001b[0m in \u001b[0;36mrunJob\u001b[0;34m(self, rdd, partitionFunc, partitions, allowLocal)\u001b[0m\n\u001b[1;32m   1231\u001b[0m         \u001b[0;31m# SparkContext#runJob.\u001b[0m\u001b[0;34m\u001b[0m\u001b[0;34m\u001b[0m\u001b[0m\n\u001b[1;32m   1232\u001b[0m         \u001b[0mmappedRDD\u001b[0m \u001b[0;34m=\u001b[0m \u001b[0mrdd\u001b[0m\u001b[0;34m.\u001b[0m\u001b[0mmapPartitions\u001b[0m\u001b[0;34m(\u001b[0m\u001b[0mpartitionFunc\u001b[0m\u001b[0;34m)\u001b[0m\u001b[0;34m\u001b[0m\u001b[0;34m\u001b[0m\u001b[0m\n\u001b[0;32m-> 1233\u001b[0;31m         \u001b[0msock_info\u001b[0m \u001b[0;34m=\u001b[0m \u001b[0mself\u001b[0m\u001b[0;34m.\u001b[0m\u001b[0m_jvm\u001b[0m\u001b[0;34m.\u001b[0m\u001b[0mPythonRDD\u001b[0m\u001b[0;34m.\u001b[0m\u001b[0mrunJob\u001b[0m\u001b[0;34m(\u001b[0m\u001b[0mself\u001b[0m\u001b[0;34m.\u001b[0m\u001b[0m_jsc\u001b[0m\u001b[0;34m.\u001b[0m\u001b[0msc\u001b[0m\u001b[0;34m(\u001b[0m\u001b[0;34m)\u001b[0m\u001b[0;34m,\u001b[0m \u001b[0mmappedRDD\u001b[0m\u001b[0;34m.\u001b[0m\u001b[0m_jrdd\u001b[0m\u001b[0;34m,\u001b[0m \u001b[0mpartitions\u001b[0m\u001b[0;34m)\u001b[0m\u001b[0;34m\u001b[0m\u001b[0;34m\u001b[0m\u001b[0m\n\u001b[0m\u001b[1;32m   1234\u001b[0m         \u001b[0;32mreturn\u001b[0m \u001b[0mlist\u001b[0m\u001b[0;34m(\u001b[0m\u001b[0m_load_from_socket\u001b[0m\u001b[0;34m(\u001b[0m\u001b[0msock_info\u001b[0m\u001b[0;34m,\u001b[0m \u001b[0mmappedRDD\u001b[0m\u001b[0;34m.\u001b[0m\u001b[0m_jrdd_deserializer\u001b[0m\u001b[0;34m)\u001b[0m\u001b[0;34m)\u001b[0m\u001b[0;34m\u001b[0m\u001b[0;34m\u001b[0m\u001b[0m\n\u001b[1;32m   1235\u001b[0m \u001b[0;34m\u001b[0m\u001b[0m\n",
            "\u001b[0;32m/content/spark-3.1.1-bin-hadoop3.2/python/lib/py4j-0.10.9-src.zip/py4j/java_gateway.py\u001b[0m in \u001b[0;36m__call__\u001b[0;34m(self, *args)\u001b[0m\n\u001b[1;32m   1302\u001b[0m \u001b[0;34m\u001b[0m\u001b[0m\n\u001b[1;32m   1303\u001b[0m         \u001b[0manswer\u001b[0m \u001b[0;34m=\u001b[0m \u001b[0mself\u001b[0m\u001b[0;34m.\u001b[0m\u001b[0mgateway_client\u001b[0m\u001b[0;34m.\u001b[0m\u001b[0msend_command\u001b[0m\u001b[0;34m(\u001b[0m\u001b[0mcommand\u001b[0m\u001b[0;34m)\u001b[0m\u001b[0;34m\u001b[0m\u001b[0;34m\u001b[0m\u001b[0m\n\u001b[0;32m-> 1304\u001b[0;31m         return_value = get_return_value(\n\u001b[0m\u001b[1;32m   1305\u001b[0m             answer, self.gateway_client, self.target_id, self.name)\n\u001b[1;32m   1306\u001b[0m \u001b[0;34m\u001b[0m\u001b[0m\n",
            "\u001b[0;32m/content/spark-3.1.1-bin-hadoop3.2/python/pyspark/sql/utils.py\u001b[0m in \u001b[0;36mdeco\u001b[0;34m(*a, **kw)\u001b[0m\n\u001b[1;32m    109\u001b[0m     \u001b[0;32mdef\u001b[0m \u001b[0mdeco\u001b[0m\u001b[0;34m(\u001b[0m\u001b[0;34m*\u001b[0m\u001b[0ma\u001b[0m\u001b[0;34m,\u001b[0m \u001b[0;34m**\u001b[0m\u001b[0mkw\u001b[0m\u001b[0;34m)\u001b[0m\u001b[0;34m:\u001b[0m\u001b[0;34m\u001b[0m\u001b[0;34m\u001b[0m\u001b[0m\n\u001b[1;32m    110\u001b[0m         \u001b[0;32mtry\u001b[0m\u001b[0;34m:\u001b[0m\u001b[0;34m\u001b[0m\u001b[0;34m\u001b[0m\u001b[0m\n\u001b[0;32m--> 111\u001b[0;31m             \u001b[0;32mreturn\u001b[0m \u001b[0mf\u001b[0m\u001b[0;34m(\u001b[0m\u001b[0;34m*\u001b[0m\u001b[0ma\u001b[0m\u001b[0;34m,\u001b[0m \u001b[0;34m**\u001b[0m\u001b[0mkw\u001b[0m\u001b[0;34m)\u001b[0m\u001b[0;34m\u001b[0m\u001b[0;34m\u001b[0m\u001b[0m\n\u001b[0m\u001b[1;32m    112\u001b[0m         \u001b[0;32mexcept\u001b[0m \u001b[0mpy4j\u001b[0m\u001b[0;34m.\u001b[0m\u001b[0mprotocol\u001b[0m\u001b[0;34m.\u001b[0m\u001b[0mPy4JJavaError\u001b[0m \u001b[0;32mas\u001b[0m \u001b[0me\u001b[0m\u001b[0;34m:\u001b[0m\u001b[0;34m\u001b[0m\u001b[0;34m\u001b[0m\u001b[0m\n\u001b[1;32m    113\u001b[0m             \u001b[0mconverted\u001b[0m \u001b[0;34m=\u001b[0m \u001b[0mconvert_exception\u001b[0m\u001b[0;34m(\u001b[0m\u001b[0me\u001b[0m\u001b[0;34m.\u001b[0m\u001b[0mjava_exception\u001b[0m\u001b[0;34m)\u001b[0m\u001b[0;34m\u001b[0m\u001b[0;34m\u001b[0m\u001b[0m\n",
            "\u001b[0;32m/content/spark-3.1.1-bin-hadoop3.2/python/lib/py4j-0.10.9-src.zip/py4j/protocol.py\u001b[0m in \u001b[0;36mget_return_value\u001b[0;34m(answer, gateway_client, target_id, name)\u001b[0m\n\u001b[1;32m    324\u001b[0m             \u001b[0mvalue\u001b[0m \u001b[0;34m=\u001b[0m \u001b[0mOUTPUT_CONVERTER\u001b[0m\u001b[0;34m[\u001b[0m\u001b[0mtype\u001b[0m\u001b[0;34m]\u001b[0m\u001b[0;34m(\u001b[0m\u001b[0manswer\u001b[0m\u001b[0;34m[\u001b[0m\u001b[0;36m2\u001b[0m\u001b[0;34m:\u001b[0m\u001b[0;34m]\u001b[0m\u001b[0;34m,\u001b[0m \u001b[0mgateway_client\u001b[0m\u001b[0;34m)\u001b[0m\u001b[0;34m\u001b[0m\u001b[0;34m\u001b[0m\u001b[0m\n\u001b[1;32m    325\u001b[0m             \u001b[0;32mif\u001b[0m \u001b[0manswer\u001b[0m\u001b[0;34m[\u001b[0m\u001b[0;36m1\u001b[0m\u001b[0;34m]\u001b[0m \u001b[0;34m==\u001b[0m \u001b[0mREFERENCE_TYPE\u001b[0m\u001b[0;34m:\u001b[0m\u001b[0;34m\u001b[0m\u001b[0;34m\u001b[0m\u001b[0m\n\u001b[0;32m--> 326\u001b[0;31m                 raise Py4JJavaError(\n\u001b[0m\u001b[1;32m    327\u001b[0m                     \u001b[0;34m\"An error occurred while calling {0}{1}{2}.\\n\"\u001b[0m\u001b[0;34m.\u001b[0m\u001b[0;34m\u001b[0m\u001b[0;34m\u001b[0m\u001b[0m\n\u001b[1;32m    328\u001b[0m                     format(target_id, \".\", name), value)\n",
            "\u001b[0;31mPy4JJavaError\u001b[0m: An error occurred while calling z:org.apache.spark.api.python.PythonRDD.runJob.\n: org.apache.spark.SparkException: Job aborted due to stage failure: Task 0 in stage 114.0 failed 1 times, most recent failure: Lost task 0.0 in stage 114.0 (TID 4145) (a0496c4611e3 executor driver): org.apache.spark.api.python.PythonException: Traceback (most recent call last):\n  File \"/content/spark-3.1.1-bin-hadoop3.2/python/lib/pyspark.zip/pyspark/worker.py\", line 604, in main\n    process()\n  File \"/content/spark-3.1.1-bin-hadoop3.2/python/lib/pyspark.zip/pyspark/worker.py\", line 596, in process\n    serializer.dump_stream(out_iter, outfile)\n  File \"/content/spark-3.1.1-bin-hadoop3.2/python/lib/pyspark.zip/pyspark/serializers.py\", line 259, in dump_stream\n    vs = list(itertools.islice(iterator, batch))\n  File \"/content/spark-3.1.1-bin-hadoop3.2/python/pyspark/rdd.py\", line 1561, in takeUpToNumLeft\n    except StopIteration:\n  File \"/content/spark-3.1.1-bin-hadoop3.2/python/lib/pyspark.zip/pyspark/util.py\", line 73, in wrapper\n    return f(*args, **kwargs)\n  File \"<ipython-input-52-3df91f39dda5>\", line 126, in hashing\n  File \"<ipython-input-52-3df91f39dda5>\", line -1, in <setcomp>\nNameError: name 'hash_index' is not defined\n\n\tat org.apache.spark.api.python.BasePythonRunner$ReaderIterator.handlePythonException(PythonRunner.scala:517)\n\tat org.apache.spark.api.python.PythonRunner$$anon$3.read(PythonRunner.scala:652)\n\tat org.apache.spark.api.python.PythonRunner$$anon$3.read(PythonRunner.scala:635)\n\tat org.apache.spark.api.python.BasePythonRunner$ReaderIterator.hasNext(PythonRunner.scala:470)\n\tat org.apache.spark.InterruptibleIterator.hasNext(InterruptibleIterator.scala:37)\n\tat scala.collection.Iterator.foreach(Iterator.scala:941)\n\tat scala.collection.Iterator.foreach$(Iterator.scala:941)\n\tat org.apache.spark.InterruptibleIterator.foreach(InterruptibleIterator.scala:28)\n\tat scala.collection.generic.Growable.$plus$plus$eq(Growable.scala:62)\n\tat scala.collection.generic.Growable.$plus$plus$eq$(Growable.scala:53)\n\tat scala.collection.mutable.ArrayBuffer.$plus$plus$eq(ArrayBuffer.scala:105)\n\tat scala.collection.mutable.ArrayBuffer.$plus$plus$eq(ArrayBuffer.scala:49)\n\tat scala.collection.TraversableOnce.to(TraversableOnce.scala:315)\n\tat scala.collection.TraversableOnce.to$(TraversableOnce.scala:313)\n\tat org.apache.spark.InterruptibleIterator.to(InterruptibleIterator.scala:28)\n\tat scala.collection.TraversableOnce.toBuffer(TraversableOnce.scala:307)\n\tat scala.collection.TraversableOnce.toBuffer$(TraversableOnce.scala:307)\n\tat org.apache.spark.InterruptibleIterator.toBuffer(InterruptibleIterator.scala:28)\n\tat scala.collection.TraversableOnce.toArray(TraversableOnce.scala:294)\n\tat scala.collection.TraversableOnce.toArray$(TraversableOnce.scala:288)\n\tat org.apache.spark.InterruptibleIterator.toArray(InterruptibleIterator.scala:28)\n\tat org.apache.spark.api.python.PythonRDD$.$anonfun$runJob$1(PythonRDD.scala:166)\n\tat org.apache.spark.SparkContext.$anonfun$runJob$5(SparkContext.scala:2242)\n\tat org.apache.spark.scheduler.ResultTask.runTask(ResultTask.scala:90)\n\tat org.apache.spark.scheduler.Task.run(Task.scala:131)\n\tat org.apache.spark.executor.Executor$TaskRunner.$anonfun$run$3(Executor.scala:497)\n\tat org.apache.spark.util.Utils$.tryWithSafeFinally(Utils.scala:1439)\n\tat org.apache.spark.executor.Executor$TaskRunner.run(Executor.scala:500)\n\tat java.util.concurrent.ThreadPoolExecutor.runWorker(ThreadPoolExecutor.java:1149)\n\tat java.util.concurrent.ThreadPoolExecutor$Worker.run(ThreadPoolExecutor.java:624)\n\tat java.lang.Thread.run(Thread.java:750)\n\nDriver stacktrace:\n\tat org.apache.spark.scheduler.DAGScheduler.failJobAndIndependentStages(DAGScheduler.scala:2253)\n\tat org.apache.spark.scheduler.DAGScheduler.$anonfun$abortStage$2(DAGScheduler.scala:2202)\n\tat org.apache.spark.scheduler.DAGScheduler.$anonfun$abortStage$2$adapted(DAGScheduler.scala:2201)\n\tat scala.collection.mutable.ResizableArray.foreach(ResizableArray.scala:62)\n\tat scala.collection.mutable.ResizableArray.foreach$(ResizableArray.scala:55)\n\tat scala.collection.mutable.ArrayBuffer.foreach(ArrayBuffer.scala:49)\n\tat org.apache.spark.scheduler.DAGScheduler.abortStage(DAGScheduler.scala:2201)\n\tat org.apache.spark.scheduler.DAGScheduler.$anonfun$handleTaskSetFailed$1(DAGScheduler.scala:1078)\n\tat org.apache.spark.scheduler.DAGScheduler.$anonfun$handleTaskSetFailed$1$adapted(DAGScheduler.scala:1078)\n\tat scala.Option.foreach(Option.scala:407)\n\tat org.apache.spark.scheduler.DAGScheduler.handleTaskSetFailed(DAGScheduler.scala:1078)\n\tat org.apache.spark.scheduler.DAGSchedulerEventProcessLoop.doOnReceive(DAGScheduler.scala:2440)\n\tat org.apache.spark.scheduler.DAGSchedulerEventProcessLoop.onReceive(DAGScheduler.scala:2382)\n\tat org.apache.spark.scheduler.DAGSchedulerEventProcessLoop.onReceive(DAGScheduler.scala:2371)\n\tat org.apache.spark.util.EventLoop$$anon$1.run(EventLoop.scala:49)\n\tat org.apache.spark.scheduler.DAGScheduler.runJob(DAGScheduler.scala:868)\n\tat org.apache.spark.SparkContext.runJob(SparkContext.scala:2202)\n\tat org.apache.spark.SparkContext.runJob(SparkContext.scala:2223)\n\tat org.apache.spark.SparkContext.runJob(SparkContext.scala:2242)\n\tat org.apache.spark.api.python.PythonRDD$.runJob(PythonRDD.scala:166)\n\tat org.apache.spark.api.python.PythonRDD.runJob(PythonRDD.scala)\n\tat sun.reflect.NativeMethodAccessorImpl.invoke0(Native Method)\n\tat sun.reflect.NativeMethodAccessorImpl.invoke(NativeMethodAccessorImpl.java:62)\n\tat sun.reflect.DelegatingMethodAccessorImpl.invoke(DelegatingMethodAccessorImpl.java:43)\n\tat java.lang.reflect.Method.invoke(Method.java:498)\n\tat py4j.reflection.MethodInvoker.invoke(MethodInvoker.java:244)\n\tat py4j.reflection.ReflectionEngine.invoke(ReflectionEngine.java:357)\n\tat py4j.Gateway.invoke(Gateway.java:282)\n\tat py4j.commands.AbstractCommand.invokeMethod(AbstractCommand.java:132)\n\tat py4j.commands.CallCommand.execute(CallCommand.java:79)\n\tat py4j.GatewayConnection.run(GatewayConnection.java:238)\n\tat java.lang.Thread.run(Thread.java:750)\nCaused by: org.apache.spark.api.python.PythonException: Traceback (most recent call last):\n  File \"/content/spark-3.1.1-bin-hadoop3.2/python/lib/pyspark.zip/pyspark/worker.py\", line 604, in main\n    process()\n  File \"/content/spark-3.1.1-bin-hadoop3.2/python/lib/pyspark.zip/pyspark/worker.py\", line 596, in process\n    serializer.dump_stream(out_iter, outfile)\n  File \"/content/spark-3.1.1-bin-hadoop3.2/python/lib/pyspark.zip/pyspark/serializers.py\", line 259, in dump_stream\n    vs = list(itertools.islice(iterator, batch))\n  File \"/content/spark-3.1.1-bin-hadoop3.2/python/pyspark/rdd.py\", line 1561, in takeUpToNumLeft\n    except StopIteration:\n  File \"/content/spark-3.1.1-bin-hadoop3.2/python/lib/pyspark.zip/pyspark/util.py\", line 73, in wrapper\n    return f(*args, **kwargs)\n  File \"<ipython-input-52-3df91f39dda5>\", line 126, in hashing\n  File \"<ipython-input-52-3df91f39dda5>\", line -1, in <setcomp>\nNameError: name 'hash_index' is not defined\n\n\tat org.apache.spark.api.python.BasePythonRunner$ReaderIterator.handlePythonException(PythonRunner.scala:517)\n\tat org.apache.spark.api.python.PythonRunner$$anon$3.read(PythonRunner.scala:652)\n\tat org.apache.spark.api.python.PythonRunner$$anon$3.read(PythonRunner.scala:635)\n\tat org.apache.spark.api.python.BasePythonRunner$ReaderIterator.hasNext(PythonRunner.scala:470)\n\tat org.apache.spark.InterruptibleIterator.hasNext(InterruptibleIterator.scala:37)\n\tat scala.collection.Iterator.foreach(Iterator.scala:941)\n\tat scala.collection.Iterator.foreach$(Iterator.scala:941)\n\tat org.apache.spark.InterruptibleIterator.foreach(InterruptibleIterator.scala:28)\n\tat scala.collection.generic.Growable.$plus$plus$eq(Growable.scala:62)\n\tat scala.collection.generic.Growable.$plus$plus$eq$(Growable.scala:53)\n\tat scala.collection.mutable.ArrayBuffer.$plus$plus$eq(ArrayBuffer.scala:105)\n\tat scala.collection.mutable.ArrayBuffer.$plus$plus$eq(ArrayBuffer.scala:49)\n\tat scala.collection.TraversableOnce.to(TraversableOnce.scala:315)\n\tat scala.collection.TraversableOnce.to$(TraversableOnce.scala:313)\n\tat org.apache.spark.InterruptibleIterator.to(InterruptibleIterator.scala:28)\n\tat scala.collection.TraversableOnce.toBuffer(TraversableOnce.scala:307)\n\tat scala.collection.TraversableOnce.toBuffer$(TraversableOnce.scala:307)\n\tat org.apache.spark.InterruptibleIterator.toBuffer(InterruptibleIterator.scala:28)\n\tat scala.collection.TraversableOnce.toArray(TraversableOnce.scala:294)\n\tat scala.collection.TraversableOnce.toArray$(TraversableOnce.scala:288)\n\tat org.apache.spark.InterruptibleIterator.toArray(InterruptibleIterator.scala:28)\n\tat org.apache.spark.api.python.PythonRDD$.$anonfun$runJob$1(PythonRDD.scala:166)\n\tat org.apache.spark.SparkContext.$anonfun$runJob$5(SparkContext.scala:2242)\n\tat org.apache.spark.scheduler.ResultTask.runTask(ResultTask.scala:90)\n\tat org.apache.spark.scheduler.Task.run(Task.scala:131)\n\tat org.apache.spark.executor.Executor$TaskRunner.$anonfun$run$3(Executor.scala:497)\n\tat org.apache.spark.util.Utils$.tryWithSafeFinally(Utils.scala:1439)\n\tat org.apache.spark.executor.Executor$TaskRunner.run(Executor.scala:500)\n\tat java.util.concurrent.ThreadPoolExecutor.runWorker(ThreadPoolExecutor.java:1149)\n\tat java.util.concurrent.ThreadPoolExecutor$Worker.run(ThreadPoolExecutor.java:624)\n\t... 1 more\n"
          ]
        }
      ]
    },
    {
      "cell_type": "code",
      "source": [],
      "metadata": {
        "id": "U_1rr_da-7o9"
      },
      "execution_count": null,
      "outputs": []
    },
    {
      "cell_type": "code",
      "source": [],
      "metadata": {
        "id": "I9PaRzs7-DzC"
      },
      "execution_count": null,
      "outputs": []
    },
    {
      "cell_type": "markdown",
      "source": [
        "## A-priory"
      ],
      "metadata": {
        "id": "o3ze8EBOzJii"
      }
    },
    {
      "cell_type": "code",
      "source": [],
      "metadata": {
        "id": "Xe-Ts-wxzQv_"
      },
      "execution_count": null,
      "outputs": []
    },
    {
      "cell_type": "markdown",
      "source": [
        "## PCY"
      ],
      "metadata": {
        "id": "VUeodDQzzN30"
      }
    },
    {
      "cell_type": "code",
      "source": [],
      "metadata": {
        "id": "Jynuj0agzRS4"
      },
      "execution_count": null,
      "outputs": []
    },
    {
      "cell_type": "markdown",
      "source": [
        "# Check with all-done algo"
      ],
      "metadata": {
        "id": "KI-h9HLqDKsM"
      }
    },
    {
      "cell_type": "markdown",
      "source": [
        "https://www.youtube.com/watch?v=guVvtZ7ZClw\n",
        "\n",
        "https://www.kaggle.com/code/maricinnamon/market-basket-analysis-for-beginners"
      ],
      "metadata": {
        "id": "3Rec8sI7pZZH"
      }
    },
    {
      "cell_type": "code",
      "source": [
        "import numpy as np\n",
        "import pandas as pd\n",
        "import squarify\n",
        "import matplotlib.pyplot as plt\n",
        "\n",
        "# for market basket analysis\n",
        "from mlxtend.frequent_patterns import apriori\n",
        "from mlxtend.frequent_patterns import association_rules\n",
        "from mlxtend.preprocessing import TransactionEncoder"
      ],
      "metadata": {
        "id": "kn44U9b8pYht"
      },
      "execution_count": null,
      "outputs": []
    },
    {
      "cell_type": "code",
      "source": [
        "df = data.toPandas()\n",
        "df.head(5)"
      ],
      "metadata": {
        "id": "l8wgtJANpvE_",
        "colab": {
          "base_uri": "https://localhost:8080/",
          "height": 206
        },
        "outputId": "5a186fa3-1ca4-438d-d829-1634bb9d66e0"
      },
      "execution_count": null,
      "outputs": [
        {
          "output_type": "execute_result",
          "data": {
            "text/plain": [
              "                                                link  \\\n",
              "0  https://www.linkedin.com/jobs/view/aflcmc-busi...   \n",
              "1  https://www.linkedin.com/jobs/view/business-an...   \n",
              "2  https://www.linkedin.com/jobs/view/business-an...   \n",
              "3  https://www.linkedin.com/jobs/view/business-an...   \n",
              "4  https://www.linkedin.com/jobs/view/business-an...   \n",
              "\n",
              "                                               skill  \n",
              "0  Business Analyst, DoD financial management pro...  \n",
              "1  Data analysis, SQL, Database management, Macro...  \n",
              "2  Business Analysis, Business Process Review, Re...  \n",
              "3  Alteryx Analytics, SQL, Data Validation, Alter...  \n",
              "4  Data Analysis, Process Improvement, Technology...  "
            ],
            "text/html": [
              "\n",
              "  <div id=\"df-37f912f5-d723-4214-8ef2-4b677392a512\" class=\"colab-df-container\">\n",
              "    <div>\n",
              "<style scoped>\n",
              "    .dataframe tbody tr th:only-of-type {\n",
              "        vertical-align: middle;\n",
              "    }\n",
              "\n",
              "    .dataframe tbody tr th {\n",
              "        vertical-align: top;\n",
              "    }\n",
              "\n",
              "    .dataframe thead th {\n",
              "        text-align: right;\n",
              "    }\n",
              "</style>\n",
              "<table border=\"1\" class=\"dataframe\">\n",
              "  <thead>\n",
              "    <tr style=\"text-align: right;\">\n",
              "      <th></th>\n",
              "      <th>link</th>\n",
              "      <th>skill</th>\n",
              "    </tr>\n",
              "  </thead>\n",
              "  <tbody>\n",
              "    <tr>\n",
              "      <th>0</th>\n",
              "      <td>https://www.linkedin.com/jobs/view/aflcmc-busi...</td>\n",
              "      <td>Business Analyst, DoD financial management pro...</td>\n",
              "    </tr>\n",
              "    <tr>\n",
              "      <th>1</th>\n",
              "      <td>https://www.linkedin.com/jobs/view/business-an...</td>\n",
              "      <td>Data analysis, SQL, Database management, Macro...</td>\n",
              "    </tr>\n",
              "    <tr>\n",
              "      <th>2</th>\n",
              "      <td>https://www.linkedin.com/jobs/view/business-an...</td>\n",
              "      <td>Business Analysis, Business Process Review, Re...</td>\n",
              "    </tr>\n",
              "    <tr>\n",
              "      <th>3</th>\n",
              "      <td>https://www.linkedin.com/jobs/view/business-an...</td>\n",
              "      <td>Alteryx Analytics, SQL, Data Validation, Alter...</td>\n",
              "    </tr>\n",
              "    <tr>\n",
              "      <th>4</th>\n",
              "      <td>https://www.linkedin.com/jobs/view/business-an...</td>\n",
              "      <td>Data Analysis, Process Improvement, Technology...</td>\n",
              "    </tr>\n",
              "  </tbody>\n",
              "</table>\n",
              "</div>\n",
              "    <div class=\"colab-df-buttons\">\n",
              "\n",
              "  <div class=\"colab-df-container\">\n",
              "    <button class=\"colab-df-convert\" onclick=\"convertToInteractive('df-37f912f5-d723-4214-8ef2-4b677392a512')\"\n",
              "            title=\"Convert this dataframe to an interactive table.\"\n",
              "            style=\"display:none;\">\n",
              "\n",
              "  <svg xmlns=\"http://www.w3.org/2000/svg\" height=\"24px\" viewBox=\"0 -960 960 960\">\n",
              "    <path d=\"M120-120v-720h720v720H120Zm60-500h600v-160H180v160Zm220 220h160v-160H400v160Zm0 220h160v-160H400v160ZM180-400h160v-160H180v160Zm440 0h160v-160H620v160ZM180-180h160v-160H180v160Zm440 0h160v-160H620v160Z\"/>\n",
              "  </svg>\n",
              "    </button>\n",
              "\n",
              "  <style>\n",
              "    .colab-df-container {\n",
              "      display:flex;\n",
              "      gap: 12px;\n",
              "    }\n",
              "\n",
              "    .colab-df-convert {\n",
              "      background-color: #E8F0FE;\n",
              "      border: none;\n",
              "      border-radius: 50%;\n",
              "      cursor: pointer;\n",
              "      display: none;\n",
              "      fill: #1967D2;\n",
              "      height: 32px;\n",
              "      padding: 0 0 0 0;\n",
              "      width: 32px;\n",
              "    }\n",
              "\n",
              "    .colab-df-convert:hover {\n",
              "      background-color: #E2EBFA;\n",
              "      box-shadow: 0px 1px 2px rgba(60, 64, 67, 0.3), 0px 1px 3px 1px rgba(60, 64, 67, 0.15);\n",
              "      fill: #174EA6;\n",
              "    }\n",
              "\n",
              "    .colab-df-buttons div {\n",
              "      margin-bottom: 4px;\n",
              "    }\n",
              "\n",
              "    [theme=dark] .colab-df-convert {\n",
              "      background-color: #3B4455;\n",
              "      fill: #D2E3FC;\n",
              "    }\n",
              "\n",
              "    [theme=dark] .colab-df-convert:hover {\n",
              "      background-color: #434B5C;\n",
              "      box-shadow: 0px 1px 3px 1px rgba(0, 0, 0, 0.15);\n",
              "      filter: drop-shadow(0px 1px 2px rgba(0, 0, 0, 0.3));\n",
              "      fill: #FFFFFF;\n",
              "    }\n",
              "  </style>\n",
              "\n",
              "    <script>\n",
              "      const buttonEl =\n",
              "        document.querySelector('#df-37f912f5-d723-4214-8ef2-4b677392a512 button.colab-df-convert');\n",
              "      buttonEl.style.display =\n",
              "        google.colab.kernel.accessAllowed ? 'block' : 'none';\n",
              "\n",
              "      async function convertToInteractive(key) {\n",
              "        const element = document.querySelector('#df-37f912f5-d723-4214-8ef2-4b677392a512');\n",
              "        const dataTable =\n",
              "          await google.colab.kernel.invokeFunction('convertToInteractive',\n",
              "                                                    [key], {});\n",
              "        if (!dataTable) return;\n",
              "\n",
              "        const docLinkHtml = 'Like what you see? Visit the ' +\n",
              "          '<a target=\"_blank\" href=https://colab.research.google.com/notebooks/data_table.ipynb>data table notebook</a>'\n",
              "          + ' to learn more about interactive tables.';\n",
              "        element.innerHTML = '';\n",
              "        dataTable['output_type'] = 'display_data';\n",
              "        await google.colab.output.renderOutput(dataTable, element);\n",
              "        const docLink = document.createElement('div');\n",
              "        docLink.innerHTML = docLinkHtml;\n",
              "        element.appendChild(docLink);\n",
              "      }\n",
              "    </script>\n",
              "  </div>\n",
              "\n",
              "\n",
              "<div id=\"df-e363d600-e286-4a21-9118-251f95b44193\">\n",
              "  <button class=\"colab-df-quickchart\" onclick=\"quickchart('df-e363d600-e286-4a21-9118-251f95b44193')\"\n",
              "            title=\"Suggest charts\"\n",
              "            style=\"display:none;\">\n",
              "\n",
              "<svg xmlns=\"http://www.w3.org/2000/svg\" height=\"24px\"viewBox=\"0 0 24 24\"\n",
              "     width=\"24px\">\n",
              "    <g>\n",
              "        <path d=\"M19 3H5c-1.1 0-2 .9-2 2v14c0 1.1.9 2 2 2h14c1.1 0 2-.9 2-2V5c0-1.1-.9-2-2-2zM9 17H7v-7h2v7zm4 0h-2V7h2v10zm4 0h-2v-4h2v4z\"/>\n",
              "    </g>\n",
              "</svg>\n",
              "  </button>\n",
              "\n",
              "<style>\n",
              "  .colab-df-quickchart {\n",
              "      --bg-color: #E8F0FE;\n",
              "      --fill-color: #1967D2;\n",
              "      --hover-bg-color: #E2EBFA;\n",
              "      --hover-fill-color: #174EA6;\n",
              "      --disabled-fill-color: #AAA;\n",
              "      --disabled-bg-color: #DDD;\n",
              "  }\n",
              "\n",
              "  [theme=dark] .colab-df-quickchart {\n",
              "      --bg-color: #3B4455;\n",
              "      --fill-color: #D2E3FC;\n",
              "      --hover-bg-color: #434B5C;\n",
              "      --hover-fill-color: #FFFFFF;\n",
              "      --disabled-bg-color: #3B4455;\n",
              "      --disabled-fill-color: #666;\n",
              "  }\n",
              "\n",
              "  .colab-df-quickchart {\n",
              "    background-color: var(--bg-color);\n",
              "    border: none;\n",
              "    border-radius: 50%;\n",
              "    cursor: pointer;\n",
              "    display: none;\n",
              "    fill: var(--fill-color);\n",
              "    height: 32px;\n",
              "    padding: 0;\n",
              "    width: 32px;\n",
              "  }\n",
              "\n",
              "  .colab-df-quickchart:hover {\n",
              "    background-color: var(--hover-bg-color);\n",
              "    box-shadow: 0 1px 2px rgba(60, 64, 67, 0.3), 0 1px 3px 1px rgba(60, 64, 67, 0.15);\n",
              "    fill: var(--button-hover-fill-color);\n",
              "  }\n",
              "\n",
              "  .colab-df-quickchart-complete:disabled,\n",
              "  .colab-df-quickchart-complete:disabled:hover {\n",
              "    background-color: var(--disabled-bg-color);\n",
              "    fill: var(--disabled-fill-color);\n",
              "    box-shadow: none;\n",
              "  }\n",
              "\n",
              "  .colab-df-spinner {\n",
              "    border: 2px solid var(--fill-color);\n",
              "    border-color: transparent;\n",
              "    border-bottom-color: var(--fill-color);\n",
              "    animation:\n",
              "      spin 1s steps(1) infinite;\n",
              "  }\n",
              "\n",
              "  @keyframes spin {\n",
              "    0% {\n",
              "      border-color: transparent;\n",
              "      border-bottom-color: var(--fill-color);\n",
              "      border-left-color: var(--fill-color);\n",
              "    }\n",
              "    20% {\n",
              "      border-color: transparent;\n",
              "      border-left-color: var(--fill-color);\n",
              "      border-top-color: var(--fill-color);\n",
              "    }\n",
              "    30% {\n",
              "      border-color: transparent;\n",
              "      border-left-color: var(--fill-color);\n",
              "      border-top-color: var(--fill-color);\n",
              "      border-right-color: var(--fill-color);\n",
              "    }\n",
              "    40% {\n",
              "      border-color: transparent;\n",
              "      border-right-color: var(--fill-color);\n",
              "      border-top-color: var(--fill-color);\n",
              "    }\n",
              "    60% {\n",
              "      border-color: transparent;\n",
              "      border-right-color: var(--fill-color);\n",
              "    }\n",
              "    80% {\n",
              "      border-color: transparent;\n",
              "      border-right-color: var(--fill-color);\n",
              "      border-bottom-color: var(--fill-color);\n",
              "    }\n",
              "    90% {\n",
              "      border-color: transparent;\n",
              "      border-bottom-color: var(--fill-color);\n",
              "    }\n",
              "  }\n",
              "</style>\n",
              "\n",
              "  <script>\n",
              "    async function quickchart(key) {\n",
              "      const quickchartButtonEl =\n",
              "        document.querySelector('#' + key + ' button');\n",
              "      quickchartButtonEl.disabled = true;  // To prevent multiple clicks.\n",
              "      quickchartButtonEl.classList.add('colab-df-spinner');\n",
              "      try {\n",
              "        const charts = await google.colab.kernel.invokeFunction(\n",
              "            'suggestCharts', [key], {});\n",
              "      } catch (error) {\n",
              "        console.error('Error during call to suggestCharts:', error);\n",
              "      }\n",
              "      quickchartButtonEl.classList.remove('colab-df-spinner');\n",
              "      quickchartButtonEl.classList.add('colab-df-quickchart-complete');\n",
              "    }\n",
              "    (() => {\n",
              "      let quickchartButtonEl =\n",
              "        document.querySelector('#df-e363d600-e286-4a21-9118-251f95b44193 button');\n",
              "      quickchartButtonEl.style.display =\n",
              "        google.colab.kernel.accessAllowed ? 'block' : 'none';\n",
              "    })();\n",
              "  </script>\n",
              "</div>\n",
              "    </div>\n",
              "  </div>\n"
            ],
            "application/vnd.google.colaboratory.intrinsic+json": {
              "type": "dataframe",
              "variable_name": "df",
              "summary": "{\n  \"name\": \"df\",\n  \"rows\": 6795,\n  \"fields\": [\n    {\n      \"column\": \"link\",\n      \"properties\": {\n        \"dtype\": \"string\",\n        \"num_unique_values\": 6795,\n        \"samples\": [\n          \"https://www.linkedin.com/jobs/view/epic-clarity-data-analyst-at-intellectt-inc-3801102678\",\n          \"https://www.linkedin.com/jobs/view/principal-is-business-analyst-at-milestone-technologies-inc-3795168568\",\n          \"https://www.linkedin.com/jobs/view/sr-business-analyst-at-infobahn-softworld-inc-3793657630\"\n        ],\n        \"semantic_type\": \"\",\n        \"description\": \"\"\n      }\n    },\n    {\n      \"column\": \"skill\",\n      \"properties\": {\n        \"dtype\": \"string\",\n        \"num_unique_values\": 6792,\n        \"samples\": [\n          \"User interface/user experience, Data governance, Workflows, Upstream/downstream interfaces, Requirements development, Data requirements, User stories, Process models, Business requirements, Business analysis, Business/functional requirements, Business rules, Quality Assurance, Test plans, User documentation, Help desk support, Productionoriented activities, Problem resolution, Customer service, Industry trends, Product roadmap, Product lifecycle, Quantitative analysis, Qualitative analysis, Problem solving, Research skills, Product analysis, User study, Competitive study, Product roadmap, Feature recommendations, Communication skills, Report writing, Proposal writing, Presentation skills, Independent work, Leadership skills, Business practices, Business processes, Spreadsheets, Database software, Agile engineering process, Feedback, Engineering stakeholders, Business stakeholders, Verbal communication skills, Collaboration skills, Crossfunctional areas\",\n          \"Data analysis, Data pipelines, Data Visualization, Data quality, Predictive models, Anomaly detection, Test A/B, Optimization, ML applications, Python, R, SQL, Tableau, Superset, Looker, Statistical analysis, NonSQL databases, Communication skills, Data science, Computer science, Operation research, Programmatic advertising, Online content distribution, Ecommerce, Analytical thinking, Detailoriented mindset, ETL tools, Cloud computing, Large data sets\",\n          \"SQL, SQL Server, Microsoft Suite (Excel Access Word Visio SQL Server Management Studio), Black Knight's MSP Servicing system, LoanSphere Loan Boarding application, Database Administration, Information Technology, Database Architecture, Data Analysis, Data Processing, Data Pipelines, Data Platforms, Data Migration, Data Integrity, Data Security, Data Compliance, Data Visualization, Data Warehousing, Data Mining, Data Modeling, Data Cleansing, Data Extraction, Data Transformation, Data Integration, Data Governance, Data Quality, Business Intelligence, Reporting, Analytics, Project Management, Change Management, Process Improvement, Process Automation, Process Documentation, Loan Origination, Loan Boarding, Loan Servicing, Mortgage Servicing, Customer Service, Stakeholder Management, Communication, Decision Making, Problem Solving, Attention to Detail, Time Management, Organizational Skills, Interpersonal Skills, Multitasking, Prioritization, Travel\"\n        ],\n        \"semantic_type\": \"\",\n        \"description\": \"\"\n      }\n    }\n  ]\n}"
            }
          },
          "metadata": {},
          "execution_count": 53
        }
      ]
    },
    {
      "cell_type": "code",
      "source": [
        "df0 = df.skill.str.split(', ', expand=True).transpose()\n",
        "df0.head()"
      ],
      "metadata": {
        "colab": {
          "base_uri": "https://localhost:8080/",
          "height": 481
        },
        "id": "zLAepYDABDll",
        "outputId": "574d6eb8-2d0d-44ab-bbc8-9370d29a858e"
      },
      "execution_count": null,
      "outputs": [
        {
          "output_type": "execute_result",
          "data": {
            "text/plain": [
              "                                          0                             1     \\\n",
              "0                             Business Analyst                 Data analysis   \n",
              "1           DoD financial management processes                           SQL   \n",
              "2  Government financial and accounting systems           Database management   \n",
              "3          Acquisition and budgeting processes             Macro programming   \n",
              "4                         Relational databases  Financial services knowledge   \n",
              "\n",
              "                                       2                  3     \\\n",
              "0                         Business Analysis  Alteryx Analytics   \n",
              "1                   Business Process Review                SQL   \n",
              "2  Requirements Gathering and Documentation    Data Validation   \n",
              "3                   Agile Scrum Methodology   Alteryx Designer   \n",
              "4                       User Story Creation     Alteryx Server   \n",
              "\n",
              "                                  4                        5     \\\n",
              "0                        Data Analysis          Data Repository   \n",
              "1                  Process Improvement             Data Catalog   \n",
              "2  Technology Evaluation and Selection      Data Classification   \n",
              "3            Stakeholder Collaboration  Requirement Elicitation   \n",
              "4       Business Process Reengineering    Business Requirements   \n",
              "\n",
              "                    6                     7                     8     \\\n",
              "0      Agile methodology     Business Analysis         Data analysis   \n",
              "1      Business analysis        Data Analytics         Data modeling   \n",
              "2  Business requirements  Statistical Analysis  Statistical analysis   \n",
              "3   Communication skills           Forecasting                   ETL   \n",
              "4          Data modeling        Report Writing      Data warehousing   \n",
              "\n",
              "                      9     ...                  6785                   6786  \\\n",
              "0             Data Science  ...         Data analysis                    JDE   \n",
              "1                Analytics  ...       Data management   JDE E1 Order to Cash   \n",
              "2            Visualization  ...  Statistical analysis  JDE E1 Procure to Pay   \n",
              "3         Machine Learning  ...    Data visualization      JDE E1 financials   \n",
              "4  Artificial Intelligence  ...                   SAS                     AR   \n",
              "\n",
              "                   6787                          6788                    6789  \\\n",
              "0     Business Analysis  Pharma Commercial experience              Salesforce   \n",
              "1                   SAP                         IQVIA        Sales operations   \n",
              "2                Oracle                        AXTRIA  Sales enablement tools   \n",
              "3      Nautical Systems                       MuSigma       Business analysis   \n",
              "4  Software Development                           WNS                   Excel   \n",
              "\n",
              "                 6790                        6791                   6792  \\\n",
              "0       Data Analysis             Data Automation                    AWS   \n",
              "1  Data Visualization            Data Engineering                    SQL   \n",
              "2         Prototyping             ETL Development                 Python   \n",
              "3                 SQL              Data Wrangling                  Linux   \n",
              "4              Python  Robotic Process Automation  Relational DB / NoSQL   \n",
              "\n",
              "                  6793                6794  \n",
              "0        Data Analysis       Data Analysis  \n",
              "1  Problem Formulation           Reporting  \n",
              "2           Statistics  Data Visualization  \n",
              "3     Machine Learning                 SQL  \n",
              "4               Python             Workday  \n",
              "\n",
              "[5 rows x 6795 columns]"
            ],
            "text/html": [
              "\n",
              "  <div id=\"df-12f25261-7eab-44a4-a15e-ddec6bd84223\" class=\"colab-df-container\">\n",
              "    <div>\n",
              "<style scoped>\n",
              "    .dataframe tbody tr th:only-of-type {\n",
              "        vertical-align: middle;\n",
              "    }\n",
              "\n",
              "    .dataframe tbody tr th {\n",
              "        vertical-align: top;\n",
              "    }\n",
              "\n",
              "    .dataframe thead th {\n",
              "        text-align: right;\n",
              "    }\n",
              "</style>\n",
              "<table border=\"1\" class=\"dataframe\">\n",
              "  <thead>\n",
              "    <tr style=\"text-align: right;\">\n",
              "      <th></th>\n",
              "      <th>0</th>\n",
              "      <th>1</th>\n",
              "      <th>2</th>\n",
              "      <th>3</th>\n",
              "      <th>4</th>\n",
              "      <th>5</th>\n",
              "      <th>6</th>\n",
              "      <th>7</th>\n",
              "      <th>8</th>\n",
              "      <th>9</th>\n",
              "      <th>...</th>\n",
              "      <th>6785</th>\n",
              "      <th>6786</th>\n",
              "      <th>6787</th>\n",
              "      <th>6788</th>\n",
              "      <th>6789</th>\n",
              "      <th>6790</th>\n",
              "      <th>6791</th>\n",
              "      <th>6792</th>\n",
              "      <th>6793</th>\n",
              "      <th>6794</th>\n",
              "    </tr>\n",
              "  </thead>\n",
              "  <tbody>\n",
              "    <tr>\n",
              "      <th>0</th>\n",
              "      <td>Business Analyst</td>\n",
              "      <td>Data analysis</td>\n",
              "      <td>Business Analysis</td>\n",
              "      <td>Alteryx Analytics</td>\n",
              "      <td>Data Analysis</td>\n",
              "      <td>Data Repository</td>\n",
              "      <td>Agile methodology</td>\n",
              "      <td>Business Analysis</td>\n",
              "      <td>Data analysis</td>\n",
              "      <td>Data Science</td>\n",
              "      <td>...</td>\n",
              "      <td>Data analysis</td>\n",
              "      <td>JDE</td>\n",
              "      <td>Business Analysis</td>\n",
              "      <td>Pharma Commercial experience</td>\n",
              "      <td>Salesforce</td>\n",
              "      <td>Data Analysis</td>\n",
              "      <td>Data Automation</td>\n",
              "      <td>AWS</td>\n",
              "      <td>Data Analysis</td>\n",
              "      <td>Data Analysis</td>\n",
              "    </tr>\n",
              "    <tr>\n",
              "      <th>1</th>\n",
              "      <td>DoD financial management processes</td>\n",
              "      <td>SQL</td>\n",
              "      <td>Business Process Review</td>\n",
              "      <td>SQL</td>\n",
              "      <td>Process Improvement</td>\n",
              "      <td>Data Catalog</td>\n",
              "      <td>Business analysis</td>\n",
              "      <td>Data Analytics</td>\n",
              "      <td>Data modeling</td>\n",
              "      <td>Analytics</td>\n",
              "      <td>...</td>\n",
              "      <td>Data management</td>\n",
              "      <td>JDE E1 Order to Cash</td>\n",
              "      <td>SAP</td>\n",
              "      <td>IQVIA</td>\n",
              "      <td>Sales operations</td>\n",
              "      <td>Data Visualization</td>\n",
              "      <td>Data Engineering</td>\n",
              "      <td>SQL</td>\n",
              "      <td>Problem Formulation</td>\n",
              "      <td>Reporting</td>\n",
              "    </tr>\n",
              "    <tr>\n",
              "      <th>2</th>\n",
              "      <td>Government financial and accounting systems</td>\n",
              "      <td>Database management</td>\n",
              "      <td>Requirements Gathering and Documentation</td>\n",
              "      <td>Data Validation</td>\n",
              "      <td>Technology Evaluation and Selection</td>\n",
              "      <td>Data Classification</td>\n",
              "      <td>Business requirements</td>\n",
              "      <td>Statistical Analysis</td>\n",
              "      <td>Statistical analysis</td>\n",
              "      <td>Visualization</td>\n",
              "      <td>...</td>\n",
              "      <td>Statistical analysis</td>\n",
              "      <td>JDE E1 Procure to Pay</td>\n",
              "      <td>Oracle</td>\n",
              "      <td>AXTRIA</td>\n",
              "      <td>Sales enablement tools</td>\n",
              "      <td>Prototyping</td>\n",
              "      <td>ETL Development</td>\n",
              "      <td>Python</td>\n",
              "      <td>Statistics</td>\n",
              "      <td>Data Visualization</td>\n",
              "    </tr>\n",
              "    <tr>\n",
              "      <th>3</th>\n",
              "      <td>Acquisition and budgeting processes</td>\n",
              "      <td>Macro programming</td>\n",
              "      <td>Agile Scrum Methodology</td>\n",
              "      <td>Alteryx Designer</td>\n",
              "      <td>Stakeholder Collaboration</td>\n",
              "      <td>Requirement Elicitation</td>\n",
              "      <td>Communication skills</td>\n",
              "      <td>Forecasting</td>\n",
              "      <td>ETL</td>\n",
              "      <td>Machine Learning</td>\n",
              "      <td>...</td>\n",
              "      <td>Data visualization</td>\n",
              "      <td>JDE E1 financials</td>\n",
              "      <td>Nautical Systems</td>\n",
              "      <td>MuSigma</td>\n",
              "      <td>Business analysis</td>\n",
              "      <td>SQL</td>\n",
              "      <td>Data Wrangling</td>\n",
              "      <td>Linux</td>\n",
              "      <td>Machine Learning</td>\n",
              "      <td>SQL</td>\n",
              "    </tr>\n",
              "    <tr>\n",
              "      <th>4</th>\n",
              "      <td>Relational databases</td>\n",
              "      <td>Financial services knowledge</td>\n",
              "      <td>User Story Creation</td>\n",
              "      <td>Alteryx Server</td>\n",
              "      <td>Business Process Reengineering</td>\n",
              "      <td>Business Requirements</td>\n",
              "      <td>Data modeling</td>\n",
              "      <td>Report Writing</td>\n",
              "      <td>Data warehousing</td>\n",
              "      <td>Artificial Intelligence</td>\n",
              "      <td>...</td>\n",
              "      <td>SAS</td>\n",
              "      <td>AR</td>\n",
              "      <td>Software Development</td>\n",
              "      <td>WNS</td>\n",
              "      <td>Excel</td>\n",
              "      <td>Python</td>\n",
              "      <td>Robotic Process Automation</td>\n",
              "      <td>Relational DB / NoSQL</td>\n",
              "      <td>Python</td>\n",
              "      <td>Workday</td>\n",
              "    </tr>\n",
              "  </tbody>\n",
              "</table>\n",
              "<p>5 rows × 6795 columns</p>\n",
              "</div>\n",
              "    <div class=\"colab-df-buttons\">\n",
              "\n",
              "  <div class=\"colab-df-container\">\n",
              "    <button class=\"colab-df-convert\" onclick=\"convertToInteractive('df-12f25261-7eab-44a4-a15e-ddec6bd84223')\"\n",
              "            title=\"Convert this dataframe to an interactive table.\"\n",
              "            style=\"display:none;\">\n",
              "\n",
              "  <svg xmlns=\"http://www.w3.org/2000/svg\" height=\"24px\" viewBox=\"0 -960 960 960\">\n",
              "    <path d=\"M120-120v-720h720v720H120Zm60-500h600v-160H180v160Zm220 220h160v-160H400v160Zm0 220h160v-160H400v160ZM180-400h160v-160H180v160Zm440 0h160v-160H620v160ZM180-180h160v-160H180v160Zm440 0h160v-160H620v160Z\"/>\n",
              "  </svg>\n",
              "    </button>\n",
              "\n",
              "  <style>\n",
              "    .colab-df-container {\n",
              "      display:flex;\n",
              "      gap: 12px;\n",
              "    }\n",
              "\n",
              "    .colab-df-convert {\n",
              "      background-color: #E8F0FE;\n",
              "      border: none;\n",
              "      border-radius: 50%;\n",
              "      cursor: pointer;\n",
              "      display: none;\n",
              "      fill: #1967D2;\n",
              "      height: 32px;\n",
              "      padding: 0 0 0 0;\n",
              "      width: 32px;\n",
              "    }\n",
              "\n",
              "    .colab-df-convert:hover {\n",
              "      background-color: #E2EBFA;\n",
              "      box-shadow: 0px 1px 2px rgba(60, 64, 67, 0.3), 0px 1px 3px 1px rgba(60, 64, 67, 0.15);\n",
              "      fill: #174EA6;\n",
              "    }\n",
              "\n",
              "    .colab-df-buttons div {\n",
              "      margin-bottom: 4px;\n",
              "    }\n",
              "\n",
              "    [theme=dark] .colab-df-convert {\n",
              "      background-color: #3B4455;\n",
              "      fill: #D2E3FC;\n",
              "    }\n",
              "\n",
              "    [theme=dark] .colab-df-convert:hover {\n",
              "      background-color: #434B5C;\n",
              "      box-shadow: 0px 1px 3px 1px rgba(0, 0, 0, 0.15);\n",
              "      filter: drop-shadow(0px 1px 2px rgba(0, 0, 0, 0.3));\n",
              "      fill: #FFFFFF;\n",
              "    }\n",
              "  </style>\n",
              "\n",
              "    <script>\n",
              "      const buttonEl =\n",
              "        document.querySelector('#df-12f25261-7eab-44a4-a15e-ddec6bd84223 button.colab-df-convert');\n",
              "      buttonEl.style.display =\n",
              "        google.colab.kernel.accessAllowed ? 'block' : 'none';\n",
              "\n",
              "      async function convertToInteractive(key) {\n",
              "        const element = document.querySelector('#df-12f25261-7eab-44a4-a15e-ddec6bd84223');\n",
              "        const dataTable =\n",
              "          await google.colab.kernel.invokeFunction('convertToInteractive',\n",
              "                                                    [key], {});\n",
              "        if (!dataTable) return;\n",
              "\n",
              "        const docLinkHtml = 'Like what you see? Visit the ' +\n",
              "          '<a target=\"_blank\" href=https://colab.research.google.com/notebooks/data_table.ipynb>data table notebook</a>'\n",
              "          + ' to learn more about interactive tables.';\n",
              "        element.innerHTML = '';\n",
              "        dataTable['output_type'] = 'display_data';\n",
              "        await google.colab.output.renderOutput(dataTable, element);\n",
              "        const docLink = document.createElement('div');\n",
              "        docLink.innerHTML = docLinkHtml;\n",
              "        element.appendChild(docLink);\n",
              "      }\n",
              "    </script>\n",
              "  </div>\n",
              "\n",
              "\n",
              "<div id=\"df-ca5f8efe-f47f-4b7d-b8af-9474472638ee\">\n",
              "  <button class=\"colab-df-quickchart\" onclick=\"quickchart('df-ca5f8efe-f47f-4b7d-b8af-9474472638ee')\"\n",
              "            title=\"Suggest charts\"\n",
              "            style=\"display:none;\">\n",
              "\n",
              "<svg xmlns=\"http://www.w3.org/2000/svg\" height=\"24px\"viewBox=\"0 0 24 24\"\n",
              "     width=\"24px\">\n",
              "    <g>\n",
              "        <path d=\"M19 3H5c-1.1 0-2 .9-2 2v14c0 1.1.9 2 2 2h14c1.1 0 2-.9 2-2V5c0-1.1-.9-2-2-2zM9 17H7v-7h2v7zm4 0h-2V7h2v10zm4 0h-2v-4h2v4z\"/>\n",
              "    </g>\n",
              "</svg>\n",
              "  </button>\n",
              "\n",
              "<style>\n",
              "  .colab-df-quickchart {\n",
              "      --bg-color: #E8F0FE;\n",
              "      --fill-color: #1967D2;\n",
              "      --hover-bg-color: #E2EBFA;\n",
              "      --hover-fill-color: #174EA6;\n",
              "      --disabled-fill-color: #AAA;\n",
              "      --disabled-bg-color: #DDD;\n",
              "  }\n",
              "\n",
              "  [theme=dark] .colab-df-quickchart {\n",
              "      --bg-color: #3B4455;\n",
              "      --fill-color: #D2E3FC;\n",
              "      --hover-bg-color: #434B5C;\n",
              "      --hover-fill-color: #FFFFFF;\n",
              "      --disabled-bg-color: #3B4455;\n",
              "      --disabled-fill-color: #666;\n",
              "  }\n",
              "\n",
              "  .colab-df-quickchart {\n",
              "    background-color: var(--bg-color);\n",
              "    border: none;\n",
              "    border-radius: 50%;\n",
              "    cursor: pointer;\n",
              "    display: none;\n",
              "    fill: var(--fill-color);\n",
              "    height: 32px;\n",
              "    padding: 0;\n",
              "    width: 32px;\n",
              "  }\n",
              "\n",
              "  .colab-df-quickchart:hover {\n",
              "    background-color: var(--hover-bg-color);\n",
              "    box-shadow: 0 1px 2px rgba(60, 64, 67, 0.3), 0 1px 3px 1px rgba(60, 64, 67, 0.15);\n",
              "    fill: var(--button-hover-fill-color);\n",
              "  }\n",
              "\n",
              "  .colab-df-quickchart-complete:disabled,\n",
              "  .colab-df-quickchart-complete:disabled:hover {\n",
              "    background-color: var(--disabled-bg-color);\n",
              "    fill: var(--disabled-fill-color);\n",
              "    box-shadow: none;\n",
              "  }\n",
              "\n",
              "  .colab-df-spinner {\n",
              "    border: 2px solid var(--fill-color);\n",
              "    border-color: transparent;\n",
              "    border-bottom-color: var(--fill-color);\n",
              "    animation:\n",
              "      spin 1s steps(1) infinite;\n",
              "  }\n",
              "\n",
              "  @keyframes spin {\n",
              "    0% {\n",
              "      border-color: transparent;\n",
              "      border-bottom-color: var(--fill-color);\n",
              "      border-left-color: var(--fill-color);\n",
              "    }\n",
              "    20% {\n",
              "      border-color: transparent;\n",
              "      border-left-color: var(--fill-color);\n",
              "      border-top-color: var(--fill-color);\n",
              "    }\n",
              "    30% {\n",
              "      border-color: transparent;\n",
              "      border-left-color: var(--fill-color);\n",
              "      border-top-color: var(--fill-color);\n",
              "      border-right-color: var(--fill-color);\n",
              "    }\n",
              "    40% {\n",
              "      border-color: transparent;\n",
              "      border-right-color: var(--fill-color);\n",
              "      border-top-color: var(--fill-color);\n",
              "    }\n",
              "    60% {\n",
              "      border-color: transparent;\n",
              "      border-right-color: var(--fill-color);\n",
              "    }\n",
              "    80% {\n",
              "      border-color: transparent;\n",
              "      border-right-color: var(--fill-color);\n",
              "      border-bottom-color: var(--fill-color);\n",
              "    }\n",
              "    90% {\n",
              "      border-color: transparent;\n",
              "      border-bottom-color: var(--fill-color);\n",
              "    }\n",
              "  }\n",
              "</style>\n",
              "\n",
              "  <script>\n",
              "    async function quickchart(key) {\n",
              "      const quickchartButtonEl =\n",
              "        document.querySelector('#' + key + ' button');\n",
              "      quickchartButtonEl.disabled = true;  // To prevent multiple clicks.\n",
              "      quickchartButtonEl.classList.add('colab-df-spinner');\n",
              "      try {\n",
              "        const charts = await google.colab.kernel.invokeFunction(\n",
              "            'suggestCharts', [key], {});\n",
              "      } catch (error) {\n",
              "        console.error('Error during call to suggestCharts:', error);\n",
              "      }\n",
              "      quickchartButtonEl.classList.remove('colab-df-spinner');\n",
              "      quickchartButtonEl.classList.add('colab-df-quickchart-complete');\n",
              "    }\n",
              "    (() => {\n",
              "      let quickchartButtonEl =\n",
              "        document.querySelector('#df-ca5f8efe-f47f-4b7d-b8af-9474472638ee button');\n",
              "      quickchartButtonEl.style.display =\n",
              "        google.colab.kernel.accessAllowed ? 'block' : 'none';\n",
              "    })();\n",
              "  </script>\n",
              "</div>\n",
              "    </div>\n",
              "  </div>\n"
            ],
            "application/vnd.google.colaboratory.intrinsic+json": {
              "type": "dataframe",
              "variable_name": "df0"
            }
          },
          "metadata": {},
          "execution_count": 60
        }
      ]
    },
    {
      "cell_type": "code",
      "source": [
        "df_res = pd.DataFrame()\n",
        "for i in range(len(df0.columns)):\n",
        "    df_res = df_res._append(df0[i].value_counts())\n",
        "df_res.head(3)"
      ],
      "metadata": {
        "id": "fVh34LB2CYBP"
      },
      "execution_count": null,
      "outputs": []
    },
    {
      "cell_type": "code",
      "source": [
        "df_sum = df_res.sum()\n",
        "df_sum = df_sum.sort_values(ascending=False)\n",
        "\n",
        "df_sum"
      ],
      "metadata": {
        "id": "d9Am1oM2CvH1"
      },
      "execution_count": null,
      "outputs": []
    },
    {
      "cell_type": "code",
      "source": [
        "plt.figure(figsize=(14,8))\n",
        "plt.title(\"FREQUENCY PLOT\")\n",
        "cnt = 45 # plot only first 'cnt' values\n",
        "color = plt.cm.spring(np.linspace(0, 1, cnt))\n",
        "df_sum.head(cnt).plot.bar(color = color)\n",
        "plt.xticks(rotation = 'vertical')\n",
        "plt.grid(False)\n",
        "plt.axis('on')\n",
        "plt.show()"
      ],
      "metadata": {
        "id": "NbnL3zW2CjqU"
      },
      "execution_count": null,
      "outputs": []
    },
    {
      "cell_type": "code",
      "source": [
        "arr = []\n",
        "for i in range(df0.shape[0]):\n",
        "    arr.append([str(df0.values[i,j]) for j in range(df0.shape[1])])\n",
        "\n",
        "arr = np.array(arr)\n",
        "print(arr.shape)"
      ],
      "metadata": {
        "id": "oHUsoa7iDYCn"
      },
      "execution_count": null,
      "outputs": []
    },
    {
      "cell_type": "code",
      "source": [
        "te = TransactionEncoder()\n",
        "data = te.fit_transform(arr)\n",
        "data = pd.DataFrame(data, columns = te.columns_)\n",
        "print(data.shape)"
      ],
      "metadata": {
        "id": "cxVWdtRHDlCU"
      },
      "execution_count": null,
      "outputs": []
    },
    {
      "cell_type": "code",
      "source": [
        "data = data.drop(columns=['nan'])\n",
        "data.head(3)"
      ],
      "metadata": {
        "id": "d85CeS3IDl9L"
      },
      "execution_count": null,
      "outputs": []
    },
    {
      "cell_type": "code",
      "source": [
        "freq_rules = apriori(data, min_support = 0.01, use_colnames = True)\n",
        "freq_rules"
      ],
      "metadata": {
        "id": "bu3uHx57Dox9"
      },
      "execution_count": null,
      "outputs": []
    },
    {
      "cell_type": "code",
      "source": [
        "freq_rules['length'] = freq_rules['itemsets'].apply(lambda x: len(x)) # adding 'length' column\n",
        "freq_rules"
      ],
      "metadata": {
        "id": "mvzilPPxDsre"
      },
      "execution_count": null,
      "outputs": []
    },
    {
      "cell_type": "code",
      "source": [
        "mask = freq_rules['length'] > 1 # creating mask for filtering with certain condition\n",
        "filtered_freq_rules = freq_rules.loc[mask] # applying mask\n",
        "filtered_freq_rules # printing the filtering result"
      ],
      "metadata": {
        "id": "AScKpAk9DtiH"
      },
      "execution_count": null,
      "outputs": []
    },
    {
      "cell_type": "code",
      "source": [],
      "metadata": {
        "id": "G366_mO1DvSJ"
      },
      "execution_count": null,
      "outputs": []
    }
  ]
}
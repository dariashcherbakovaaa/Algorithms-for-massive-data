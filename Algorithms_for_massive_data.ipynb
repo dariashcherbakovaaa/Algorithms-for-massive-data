{
  "nbformat": 4,
  "nbformat_minor": 0,
  "metadata": {
    "colab": {
      "provenance": [],
      "authorship_tag": "ABX9TyMSJia8Br5ZLxh5khgwBb2i",
      "include_colab_link": true
    },
    "kernelspec": {
      "name": "python3",
      "display_name": "Python 3"
    },
    "language_info": {
      "name": "python"
    }
  },
  "cells": [
    {
      "cell_type": "markdown",
      "metadata": {
        "id": "view-in-github",
        "colab_type": "text"
      },
      "source": [
        "<a href=\"https://colab.research.google.com/github/dariashcherbakovaaa/Algorithms-for-massive-data/blob/main/Algorithms_for_massive_data.ipynb\" target=\"_parent\"><img src=\"https://colab.research.google.com/assets/colab-badge.svg\" alt=\"Open In Colab\"/></a>"
      ]
    },
    {
      "cell_type": "markdown",
      "source": [
        "# Environment settings & libraries"
      ],
      "metadata": {
        "id": "WJ1S4M3Q6Y1V"
      }
    },
    {
      "cell_type": "code",
      "source": [
        "import os\n",
        "!apt-get install openjdk-8-jdk-headless -qq > /dev/null\n",
        "!wget -q http://archive.apache.org/dist/spark/spark-3.1.1/spark-3.1.1-bin-hadoop3.2.tgz\n",
        "!tar xf spark-3.1.1-bin-hadoop3.2.tgz\n",
        "!pip install -q findspark\n",
        "\n",
        "os.environ[\"JAVA_HOME\"] = \"/usr/lib/jvm/java-8-openjdk-amd64\"\n",
        "os.environ[\"SPARK_HOME\"] = \"/content/spark-3.1.1-bin-hadoop3.2\"\n",
        "\n",
        "import findspark\n",
        "findspark.init()\n",
        "from pyspark.sql import SparkSession\n",
        "spark = SparkSession.builder.master(\"local[*]\").appName('PageRank').getOrCreate()\n",
        "spark.conf.set(\"spark.sql.repl.eagerEval.enabled\", True) # Property used to format output tables better\n",
        "spark\n",
        "import pyspark\n",
        "type(spark)\n",
        "\n",
        "sc = spark.sparkContext\n",
        "spark\n",
        "\n",
        "from google.colab import userdata\n",
        "os.environ['KAGGLE_USERNAME'] = userdata.get(\"KAGGLE_USERNAME\")\n",
        "os.environ['KAGGLE_KEY'] = userdata.get(\"KAGGLE_KEY\")"
      ],
      "metadata": {
        "id": "G2SK7YL26MCc"
      },
      "execution_count": 1,
      "outputs": []
    },
    {
      "cell_type": "code",
      "source": [
        "# LinkedIn dataset (Finding similar items, Market-basket analysis)\n",
        "# !kaggle datasets download -d asaniczka/1-3m-linkedin-jobs-and-skills-2024\n",
        "# !unzip 1-3m-linkedin-jobs-and-skills-2024.zip -d job_skills"
      ],
      "metadata": {
        "id": "YObP3Ppy-sdY"
      },
      "execution_count": null,
      "outputs": []
    },
    {
      "cell_type": "markdown",
      "source": [
        "# *The task is to implement a ranking system based on the PageRank index using the «Prado Museum Pictures» dataset, published on Kaggle under the MIT license. The entities to be ranked are pictures, linked together if they share at least a common tag in the work_tag attribute of the  prado.csv file, although you can experiment with different strategies in order to define links between pictures.*"
      ],
      "metadata": {
        "id": "sibCmr0DSani"
      }
    },
    {
      "cell_type": "markdown",
      "source": [
        "Dear professor, this code on dowloading and unzipping data is pretty slow (~10-20 mins), im sorry. 🥺👉👈"
      ],
      "metadata": {
        "id": "8CxCjKyeY9U7"
      }
    },
    {
      "cell_type": "code",
      "source": [
        "# Link analysis (PageRank)\n",
        "!kaggle datasets download -d maparla/prado-museum-pictures -f prado.csv -p /content/\n",
        "!unzip prado-museum-pictures.zip -d prada"
      ],
      "metadata": {
        "id": "E0m4xUlC-zWr",
        "colab": {
          "base_uri": "https://localhost:8080/"
        },
        "outputId": "eb38635e-12d3-4ff5-96f8-934f4c2f0242"
      },
      "execution_count": 2,
      "outputs": [
        {
          "output_type": "stream",
          "name": "stdout",
          "text": [
            "Downloading prado.csv.zip to /content\n",
            " 27% 5.00M/18.3M [00:00<00:00, 50.2MB/s]\n",
            "100% 18.3M/18.3M [00:00<00:00, 101MB/s] \n",
            "Archive:  prado-museum-pictures.zip\n",
            "replace prada/images/images/._000de341-acd0-4338-b6db-ce4127fa5b37.jpg? [y]es, [n]o, [A]ll, [N]one, [r]ename: No\n",
            "No\n",
            "No\n"
          ]
        }
      ]
    },
    {
      "cell_type": "markdown",
      "source": [
        "-- just to check how it should be seen"
      ],
      "metadata": {
        "id": "RQH9kf2uumhu"
      }
    },
    {
      "cell_type": "code",
      "source": [
        "import pandas as pd\n",
        "\n",
        "df = pd.read_csv('/content/prada/prado.csv')\n",
        "df.head(3)"
      ],
      "metadata": {
        "id": "wdhFbQv9dTq8",
        "outputId": "1a7d08ed-90d4-4a24-c1f7-43cd8cff0558",
        "colab": {
          "base_uri": "https://localhost:8080/",
          "height": 419
        }
      },
      "execution_count": 3,
      "outputs": [
        {
          "output_type": "execute_result",
          "data": {
            "text/plain": [
              "                                            work_url  \\\n",
              "0  https://www.museodelprado.es/coleccion/obra-de...   \n",
              "1  https://www.museodelprado.es/coleccion/obra-de...   \n",
              "2  https://www.museodelprado.es/coleccion/obra-de...   \n",
              "\n",
              "                                      work_image_url  \\\n",
              "0  https://content3.cdnprado.net/imagenes/Documen...   \n",
              "1  https://content3.cdnprado.net/imagenes/Documen...   \n",
              "2  https://content3.cdnprado.net/imagenes/Documen...   \n",
              "\n",
              "                      author  \\\n",
              "0  Bayeu y Subías, Francisco   \n",
              "1     Crespi, Giuseppe Maria   \n",
              "2   Cronenburch, Adriaen van   \n",
              "\n",
              "                                          author_bio  \\\n",
              "0  Zaragoza, 1734 - Madrid, 1795\\n\\nSu formación ...   \n",
              "1  Bolonia, 1665 - Bolonia, 1747\\n\\nDiscípulo de ...   \n",
              "2  Schagen (Países Bajos), 1520 - Bergum (Países ...   \n",
              "\n",
              "                                          author_url  \\\n",
              "0  https://www.museodelprado.es/coleccion/artista...   \n",
              "1  https://www.museodelprado.es/coleccion/artista...   \n",
              "2  https://www.museodelprado.es/coleccion/artista...   \n",
              "\n",
              "                              author_id                  work_title  \\\n",
              "0  b218fee4-053b-4656-8577-9aa001ad1989           Cabeza de Gigante   \n",
              "1  b20a5ee9-2ebd-4e60-aadc-e91e7867cb12         Susana y los viejos   \n",
              "2  26861819-ff88-4fde-8a37-56db9e1c1ba4  Dama con una flor amarilla   \n",
              "\n",
              "                                       work_subtitle work_exposed  \\\n",
              "0  1764. Lápiz negro sobre papel verdoso, 572 x 3...  No expuesto   \n",
              "1  Siglo XVIII. Sanguina sobre papel agarbanzado,...  No expuesto   \n",
              "2         Hacia  1567. Óleo sobre tabla, 107 x 79 cm  No expuesto   \n",
              "\n",
              "                                    work_description  ...  \\\n",
              "0  De tres cuartos, mirando hacia la derecha, en ...  ...   \n",
              "1  A la derecha, Susana, sentada en una fuente de...  ...   \n",
              "2  Esta obra, junto a sus compañeras (P02074, P02...  ...   \n",
              "\n",
              "                                        bibliography  \\\n",
              "0  Arnáez, Rocío,  Dibujos de Francisco Bayeu en ...   \n",
              "1  Mena Marqués, Manuela,  Catálogo de Dibujos. V...   \n",
              "2  Madrazo, Pedro de,  Catálogo de los cuadros de...   \n",
              "\n",
              "                                           inventory  \\\n",
              "0  Inv. Real Museo, Sección Dibujos, 1857.\\nNúm. ...   \n",
              "1  Inv. Legado Pedro Fernández Durán, 1931.\\nNúm....   \n",
              "2  Catálogo Museo del Prado, 1873-1907.\\nNúm. 130...   \n",
              "\n",
              "                                         expositions  \\\n",
              "0  [… + escudo] (Sello: Dirección del Museo Nacio...   \n",
              "1             Veneziano\\nReverso del segundo soporte   \n",
              "2  Aaaa[\"a mas tres(dri)aes\", jeroglífico de \"Adr...   \n",
              "\n",
              "                                           ubication technical_sheet_autores  \\\n",
              "0  Dibujos de Francisco Bayeu\\n                  ...                     NaN   \n",
              "1                                                NaN                     NaN   \n",
              "2  El retrato del Renacimiento\\n                 ...                     NaN   \n",
              "\n",
              "  technical_sheet_edicion_/_estado technical_sheet_materia  \\\n",
              "0                              NaN                     NaN   \n",
              "1                              NaN                     NaN   \n",
              "2                              NaN                     NaN   \n",
              "\n",
              "  technical_sheet_ceca technical_sheet_autora  \\\n",
              "0                  NaN                    NaN   \n",
              "1                  NaN                    NaN   \n",
              "2                  NaN                    NaN   \n",
              "\n",
              "  technical_sheet_lugar_de_produccion  \n",
              "0                                 NaN  \n",
              "1                                 NaN  \n",
              "2                                 NaN  \n",
              "\n",
              "[3 rows x 30 columns]"
            ],
            "text/html": [
              "\n",
              "  <div id=\"df-2c624f66-a918-441d-be68-59b5a39c41e3\" class=\"colab-df-container\">\n",
              "    <div>\n",
              "<style scoped>\n",
              "    .dataframe tbody tr th:only-of-type {\n",
              "        vertical-align: middle;\n",
              "    }\n",
              "\n",
              "    .dataframe tbody tr th {\n",
              "        vertical-align: top;\n",
              "    }\n",
              "\n",
              "    .dataframe thead th {\n",
              "        text-align: right;\n",
              "    }\n",
              "</style>\n",
              "<table border=\"1\" class=\"dataframe\">\n",
              "  <thead>\n",
              "    <tr style=\"text-align: right;\">\n",
              "      <th></th>\n",
              "      <th>work_url</th>\n",
              "      <th>work_image_url</th>\n",
              "      <th>author</th>\n",
              "      <th>author_bio</th>\n",
              "      <th>author_url</th>\n",
              "      <th>author_id</th>\n",
              "      <th>work_title</th>\n",
              "      <th>work_subtitle</th>\n",
              "      <th>work_exposed</th>\n",
              "      <th>work_description</th>\n",
              "      <th>...</th>\n",
              "      <th>bibliography</th>\n",
              "      <th>inventory</th>\n",
              "      <th>expositions</th>\n",
              "      <th>ubication</th>\n",
              "      <th>technical_sheet_autores</th>\n",
              "      <th>technical_sheet_edicion_/_estado</th>\n",
              "      <th>technical_sheet_materia</th>\n",
              "      <th>technical_sheet_ceca</th>\n",
              "      <th>technical_sheet_autora</th>\n",
              "      <th>technical_sheet_lugar_de_produccion</th>\n",
              "    </tr>\n",
              "  </thead>\n",
              "  <tbody>\n",
              "    <tr>\n",
              "      <th>0</th>\n",
              "      <td>https://www.museodelprado.es/coleccion/obra-de...</td>\n",
              "      <td>https://content3.cdnprado.net/imagenes/Documen...</td>\n",
              "      <td>Bayeu y Subías, Francisco</td>\n",
              "      <td>Zaragoza, 1734 - Madrid, 1795\\n\\nSu formación ...</td>\n",
              "      <td>https://www.museodelprado.es/coleccion/artista...</td>\n",
              "      <td>b218fee4-053b-4656-8577-9aa001ad1989</td>\n",
              "      <td>Cabeza de Gigante</td>\n",
              "      <td>1764. Lápiz negro sobre papel verdoso, 572 x 3...</td>\n",
              "      <td>No expuesto</td>\n",
              "      <td>De tres cuartos, mirando hacia la derecha, en ...</td>\n",
              "      <td>...</td>\n",
              "      <td>Arnáez, Rocío,  Dibujos de Francisco Bayeu en ...</td>\n",
              "      <td>Inv. Real Museo, Sección Dibujos, 1857.\\nNúm. ...</td>\n",
              "      <td>[… + escudo] (Sello: Dirección del Museo Nacio...</td>\n",
              "      <td>Dibujos de Francisco Bayeu\\n                  ...</td>\n",
              "      <td>NaN</td>\n",
              "      <td>NaN</td>\n",
              "      <td>NaN</td>\n",
              "      <td>NaN</td>\n",
              "      <td>NaN</td>\n",
              "      <td>NaN</td>\n",
              "    </tr>\n",
              "    <tr>\n",
              "      <th>1</th>\n",
              "      <td>https://www.museodelprado.es/coleccion/obra-de...</td>\n",
              "      <td>https://content3.cdnprado.net/imagenes/Documen...</td>\n",
              "      <td>Crespi, Giuseppe Maria</td>\n",
              "      <td>Bolonia, 1665 - Bolonia, 1747\\n\\nDiscípulo de ...</td>\n",
              "      <td>https://www.museodelprado.es/coleccion/artista...</td>\n",
              "      <td>b20a5ee9-2ebd-4e60-aadc-e91e7867cb12</td>\n",
              "      <td>Susana y los viejos</td>\n",
              "      <td>Siglo XVIII. Sanguina sobre papel agarbanzado,...</td>\n",
              "      <td>No expuesto</td>\n",
              "      <td>A la derecha, Susana, sentada en una fuente de...</td>\n",
              "      <td>...</td>\n",
              "      <td>Mena Marqués, Manuela,  Catálogo de Dibujos. V...</td>\n",
              "      <td>Inv. Legado Pedro Fernández Durán, 1931.\\nNúm....</td>\n",
              "      <td>Veneziano\\nReverso del segundo soporte</td>\n",
              "      <td>NaN</td>\n",
              "      <td>NaN</td>\n",
              "      <td>NaN</td>\n",
              "      <td>NaN</td>\n",
              "      <td>NaN</td>\n",
              "      <td>NaN</td>\n",
              "      <td>NaN</td>\n",
              "    </tr>\n",
              "    <tr>\n",
              "      <th>2</th>\n",
              "      <td>https://www.museodelprado.es/coleccion/obra-de...</td>\n",
              "      <td>https://content3.cdnprado.net/imagenes/Documen...</td>\n",
              "      <td>Cronenburch, Adriaen van</td>\n",
              "      <td>Schagen (Países Bajos), 1520 - Bergum (Países ...</td>\n",
              "      <td>https://www.museodelprado.es/coleccion/artista...</td>\n",
              "      <td>26861819-ff88-4fde-8a37-56db9e1c1ba4</td>\n",
              "      <td>Dama con una flor amarilla</td>\n",
              "      <td>Hacia  1567. Óleo sobre tabla, 107 x 79 cm</td>\n",
              "      <td>No expuesto</td>\n",
              "      <td>Esta obra, junto a sus compañeras (P02074, P02...</td>\n",
              "      <td>...</td>\n",
              "      <td>Madrazo, Pedro de,  Catálogo de los cuadros de...</td>\n",
              "      <td>Catálogo Museo del Prado, 1873-1907.\\nNúm. 130...</td>\n",
              "      <td>Aaaa[\"a mas tres(dri)aes\", jeroglífico de \"Adr...</td>\n",
              "      <td>El retrato del Renacimiento\\n                 ...</td>\n",
              "      <td>NaN</td>\n",
              "      <td>NaN</td>\n",
              "      <td>NaN</td>\n",
              "      <td>NaN</td>\n",
              "      <td>NaN</td>\n",
              "      <td>NaN</td>\n",
              "    </tr>\n",
              "  </tbody>\n",
              "</table>\n",
              "<p>3 rows × 30 columns</p>\n",
              "</div>\n",
              "    <div class=\"colab-df-buttons\">\n",
              "\n",
              "  <div class=\"colab-df-container\">\n",
              "    <button class=\"colab-df-convert\" onclick=\"convertToInteractive('df-2c624f66-a918-441d-be68-59b5a39c41e3')\"\n",
              "            title=\"Convert this dataframe to an interactive table.\"\n",
              "            style=\"display:none;\">\n",
              "\n",
              "  <svg xmlns=\"http://www.w3.org/2000/svg\" height=\"24px\" viewBox=\"0 -960 960 960\">\n",
              "    <path d=\"M120-120v-720h720v720H120Zm60-500h600v-160H180v160Zm220 220h160v-160H400v160Zm0 220h160v-160H400v160ZM180-400h160v-160H180v160Zm440 0h160v-160H620v160ZM180-180h160v-160H180v160Zm440 0h160v-160H620v160Z\"/>\n",
              "  </svg>\n",
              "    </button>\n",
              "\n",
              "  <style>\n",
              "    .colab-df-container {\n",
              "      display:flex;\n",
              "      gap: 12px;\n",
              "    }\n",
              "\n",
              "    .colab-df-convert {\n",
              "      background-color: #E8F0FE;\n",
              "      border: none;\n",
              "      border-radius: 50%;\n",
              "      cursor: pointer;\n",
              "      display: none;\n",
              "      fill: #1967D2;\n",
              "      height: 32px;\n",
              "      padding: 0 0 0 0;\n",
              "      width: 32px;\n",
              "    }\n",
              "\n",
              "    .colab-df-convert:hover {\n",
              "      background-color: #E2EBFA;\n",
              "      box-shadow: 0px 1px 2px rgba(60, 64, 67, 0.3), 0px 1px 3px 1px rgba(60, 64, 67, 0.15);\n",
              "      fill: #174EA6;\n",
              "    }\n",
              "\n",
              "    .colab-df-buttons div {\n",
              "      margin-bottom: 4px;\n",
              "    }\n",
              "\n",
              "    [theme=dark] .colab-df-convert {\n",
              "      background-color: #3B4455;\n",
              "      fill: #D2E3FC;\n",
              "    }\n",
              "\n",
              "    [theme=dark] .colab-df-convert:hover {\n",
              "      background-color: #434B5C;\n",
              "      box-shadow: 0px 1px 3px 1px rgba(0, 0, 0, 0.15);\n",
              "      filter: drop-shadow(0px 1px 2px rgba(0, 0, 0, 0.3));\n",
              "      fill: #FFFFFF;\n",
              "    }\n",
              "  </style>\n",
              "\n",
              "    <script>\n",
              "      const buttonEl =\n",
              "        document.querySelector('#df-2c624f66-a918-441d-be68-59b5a39c41e3 button.colab-df-convert');\n",
              "      buttonEl.style.display =\n",
              "        google.colab.kernel.accessAllowed ? 'block' : 'none';\n",
              "\n",
              "      async function convertToInteractive(key) {\n",
              "        const element = document.querySelector('#df-2c624f66-a918-441d-be68-59b5a39c41e3');\n",
              "        const dataTable =\n",
              "          await google.colab.kernel.invokeFunction('convertToInteractive',\n",
              "                                                    [key], {});\n",
              "        if (!dataTable) return;\n",
              "\n",
              "        const docLinkHtml = 'Like what you see? Visit the ' +\n",
              "          '<a target=\"_blank\" href=https://colab.research.google.com/notebooks/data_table.ipynb>data table notebook</a>'\n",
              "          + ' to learn more about interactive tables.';\n",
              "        element.innerHTML = '';\n",
              "        dataTable['output_type'] = 'display_data';\n",
              "        await google.colab.output.renderOutput(dataTable, element);\n",
              "        const docLink = document.createElement('div');\n",
              "        docLink.innerHTML = docLinkHtml;\n",
              "        element.appendChild(docLink);\n",
              "      }\n",
              "    </script>\n",
              "  </div>\n",
              "\n",
              "\n",
              "<div id=\"df-13894339-b847-4d76-97a5-b72e52799ec1\">\n",
              "  <button class=\"colab-df-quickchart\" onclick=\"quickchart('df-13894339-b847-4d76-97a5-b72e52799ec1')\"\n",
              "            title=\"Suggest charts\"\n",
              "            style=\"display:none;\">\n",
              "\n",
              "<svg xmlns=\"http://www.w3.org/2000/svg\" height=\"24px\"viewBox=\"0 0 24 24\"\n",
              "     width=\"24px\">\n",
              "    <g>\n",
              "        <path d=\"M19 3H5c-1.1 0-2 .9-2 2v14c0 1.1.9 2 2 2h14c1.1 0 2-.9 2-2V5c0-1.1-.9-2-2-2zM9 17H7v-7h2v7zm4 0h-2V7h2v10zm4 0h-2v-4h2v4z\"/>\n",
              "    </g>\n",
              "</svg>\n",
              "  </button>\n",
              "\n",
              "<style>\n",
              "  .colab-df-quickchart {\n",
              "      --bg-color: #E8F0FE;\n",
              "      --fill-color: #1967D2;\n",
              "      --hover-bg-color: #E2EBFA;\n",
              "      --hover-fill-color: #174EA6;\n",
              "      --disabled-fill-color: #AAA;\n",
              "      --disabled-bg-color: #DDD;\n",
              "  }\n",
              "\n",
              "  [theme=dark] .colab-df-quickchart {\n",
              "      --bg-color: #3B4455;\n",
              "      --fill-color: #D2E3FC;\n",
              "      --hover-bg-color: #434B5C;\n",
              "      --hover-fill-color: #FFFFFF;\n",
              "      --disabled-bg-color: #3B4455;\n",
              "      --disabled-fill-color: #666;\n",
              "  }\n",
              "\n",
              "  .colab-df-quickchart {\n",
              "    background-color: var(--bg-color);\n",
              "    border: none;\n",
              "    border-radius: 50%;\n",
              "    cursor: pointer;\n",
              "    display: none;\n",
              "    fill: var(--fill-color);\n",
              "    height: 32px;\n",
              "    padding: 0;\n",
              "    width: 32px;\n",
              "  }\n",
              "\n",
              "  .colab-df-quickchart:hover {\n",
              "    background-color: var(--hover-bg-color);\n",
              "    box-shadow: 0 1px 2px rgba(60, 64, 67, 0.3), 0 1px 3px 1px rgba(60, 64, 67, 0.15);\n",
              "    fill: var(--button-hover-fill-color);\n",
              "  }\n",
              "\n",
              "  .colab-df-quickchart-complete:disabled,\n",
              "  .colab-df-quickchart-complete:disabled:hover {\n",
              "    background-color: var(--disabled-bg-color);\n",
              "    fill: var(--disabled-fill-color);\n",
              "    box-shadow: none;\n",
              "  }\n",
              "\n",
              "  .colab-df-spinner {\n",
              "    border: 2px solid var(--fill-color);\n",
              "    border-color: transparent;\n",
              "    border-bottom-color: var(--fill-color);\n",
              "    animation:\n",
              "      spin 1s steps(1) infinite;\n",
              "  }\n",
              "\n",
              "  @keyframes spin {\n",
              "    0% {\n",
              "      border-color: transparent;\n",
              "      border-bottom-color: var(--fill-color);\n",
              "      border-left-color: var(--fill-color);\n",
              "    }\n",
              "    20% {\n",
              "      border-color: transparent;\n",
              "      border-left-color: var(--fill-color);\n",
              "      border-top-color: var(--fill-color);\n",
              "    }\n",
              "    30% {\n",
              "      border-color: transparent;\n",
              "      border-left-color: var(--fill-color);\n",
              "      border-top-color: var(--fill-color);\n",
              "      border-right-color: var(--fill-color);\n",
              "    }\n",
              "    40% {\n",
              "      border-color: transparent;\n",
              "      border-right-color: var(--fill-color);\n",
              "      border-top-color: var(--fill-color);\n",
              "    }\n",
              "    60% {\n",
              "      border-color: transparent;\n",
              "      border-right-color: var(--fill-color);\n",
              "    }\n",
              "    80% {\n",
              "      border-color: transparent;\n",
              "      border-right-color: var(--fill-color);\n",
              "      border-bottom-color: var(--fill-color);\n",
              "    }\n",
              "    90% {\n",
              "      border-color: transparent;\n",
              "      border-bottom-color: var(--fill-color);\n",
              "    }\n",
              "  }\n",
              "</style>\n",
              "\n",
              "  <script>\n",
              "    async function quickchart(key) {\n",
              "      const quickchartButtonEl =\n",
              "        document.querySelector('#' + key + ' button');\n",
              "      quickchartButtonEl.disabled = true;  // To prevent multiple clicks.\n",
              "      quickchartButtonEl.classList.add('colab-df-spinner');\n",
              "      try {\n",
              "        const charts = await google.colab.kernel.invokeFunction(\n",
              "            'suggestCharts', [key], {});\n",
              "      } catch (error) {\n",
              "        console.error('Error during call to suggestCharts:', error);\n",
              "      }\n",
              "      quickchartButtonEl.classList.remove('colab-df-spinner');\n",
              "      quickchartButtonEl.classList.add('colab-df-quickchart-complete');\n",
              "    }\n",
              "    (() => {\n",
              "      let quickchartButtonEl =\n",
              "        document.querySelector('#df-13894339-b847-4d76-97a5-b72e52799ec1 button');\n",
              "      quickchartButtonEl.style.display =\n",
              "        google.colab.kernel.accessAllowed ? 'block' : 'none';\n",
              "    })();\n",
              "  </script>\n",
              "</div>\n",
              "    </div>\n",
              "  </div>\n"
            ],
            "application/vnd.google.colaboratory.intrinsic+json": {
              "type": "dataframe",
              "variable_name": "df"
            }
          },
          "metadata": {},
          "execution_count": 3
        }
      ]
    },
    {
      "cell_type": "code",
      "source": [
        "df.work_url.head(10)"
      ],
      "metadata": {
        "colab": {
          "base_uri": "https://localhost:8080/"
        },
        "id": "9HVrmG00xEI5",
        "outputId": "a4cbb9e8-54c5-4474-f411-ac13a3d36c13"
      },
      "execution_count": 4,
      "outputs": [
        {
          "output_type": "execute_result",
          "data": {
            "text/plain": [
              "0    https://www.museodelprado.es/coleccion/obra-de...\n",
              "1    https://www.museodelprado.es/coleccion/obra-de...\n",
              "2    https://www.museodelprado.es/coleccion/obra-de...\n",
              "3    https://www.museodelprado.es/coleccion/obra-de...\n",
              "4    https://www.museodelprado.es/coleccion/obra-de...\n",
              "5    https://www.museodelprado.es/coleccion/obra-de...\n",
              "6    https://www.museodelprado.es/coleccion/obra-de...\n",
              "7    https://www.museodelprado.es/coleccion/obra-de...\n",
              "8    https://www.museodelprado.es/coleccion/obra-de...\n",
              "9    https://www.museodelprado.es/coleccion/obra-de...\n",
              "Name: work_url, dtype: object"
            ]
          },
          "metadata": {},
          "execution_count": 4
        }
      ]
    },
    {
      "cell_type": "code",
      "source": [
        "prado_museum = spark.read.format('csv') \\\n",
        "    .option('header', 'true') \\\n",
        "    .option('inferSchema', 'true') \\\n",
        "    .option('path', '/content/prada/prado.csv') \\\n",
        "    .load()\n",
        "\n",
        "prado_museum.show(3)"
      ],
      "metadata": {
        "id": "6QT2vwVGc43g",
        "colab": {
          "base_uri": "https://localhost:8080/"
        },
        "outputId": "2a1982e1-18b2-4e6d-8f5f-e07df3587d7c"
      },
      "execution_count": 4,
      "outputs": [
        {
          "output_type": "stream",
          "name": "stdout",
          "text": [
            "+--------------------+--------------------+--------------------+--------------------+--------------------+-----------+--------------------+--------------------+------------+--------------------+-----------------+----------------------------------+---------------------+----------------------+---------------------+-----------------------+-----------------------+-------------------------+---------------------+---------------------------+------------+---------+-----------+---------+-----------------------+--------------------------------+-----------------------+--------------------+----------------------+-----------------------------------+\n",
            "|            work_url|      work_image_url|              author|          author_bio|          author_url|  author_id|          work_title|       work_subtitle|work_exposed|    work_description|        work_tags|technical_sheet_numero_de_catalogo|technical_sheet_autor|technical_sheet_titulo|technical_sheet_fecha|technical_sheet_tecnica|technical_sheet_soporte|technical_sheet_dimension|technical_sheet_serie|technical_sheet_procedencia|bibliography|inventory|expositions|ubication|technical_sheet_autores|technical_sheet_edicion_/_estado|technical_sheet_materia|technical_sheet_ceca|technical_sheet_autora|technical_sheet_lugar_de_produccion|\n",
            "+--------------------+--------------------+--------------------+--------------------+--------------------+-----------+--------------------+--------------------+------------+--------------------+-----------------+----------------------------------+---------------------+----------------------+---------------------+-----------------------+-----------------------+-------------------------+---------------------+---------------------------+------------+---------+-----------+---------+-----------------------+--------------------------------+-----------------------+--------------------+----------------------+-----------------------------------+\n",
            "|https://www.museo...|https://content3....|Bayeu y Subías, F...|Zaragoza, 1734 - ...|                null|       null|                null|                null|        null|                null|             null|                              null|                 null|                  null|                 null|                   null|                   null|                     null|                 null|                       null|        null|     null|       null|     null|                   null|                            null|                   null|                null|                  null|                               null|\n",
            "|Su formación se i...| que abandonó sol...|                null|                null|                null|       null|                null|                null|        null|                null|             null|                              null|                 null|                  null|                 null|                   null|                   null|                     null|                 null|                       null|        null|     null|       null|     null|                   null|                            null|                   null|                null|                  null|                               null|\n",
            "|Fuente: Museo Nac...|https://www.museo...|b218fee4-053b-465...|   Cabeza de Gigante|1764. Lápiz negro...|No expuesto|De tres cuartos, ...|Serie de dibujos ...|     D003269|Bayeu y Subías, F...|Cabeza de Gigante|                              1764|          Lápiz negro|         Papel verdoso|        Alto: 572 mm;|                   null|                   null|                     null|                 null|                       null|        null|     null|       null|     null|                   null|                            null|                   null|                null|                  null|                               null|\n",
            "+--------------------+--------------------+--------------------+--------------------+--------------------+-----------+--------------------+--------------------+------------+--------------------+-----------------+----------------------------------+---------------------+----------------------+---------------------+-----------------------+-----------------------+-------------------------+---------------------+---------------------------+------------+---------+-----------+---------+-----------------------+--------------------------------+-----------------------+--------------------+----------------------+-----------------------------------+\n",
            "only showing top 3 rows\n",
            "\n"
          ]
        }
      ]
    },
    {
      "cell_type": "code",
      "source": [
        "prado_museum.select('work_url').show(10)"
      ],
      "metadata": {
        "colab": {
          "base_uri": "https://localhost:8080/"
        },
        "id": "j3iPD61fu88T",
        "outputId": "8b5be9d7-f027-4453-a582-2ca84ac0779a"
      },
      "execution_count": 6,
      "outputs": [
        {
          "output_type": "stream",
          "name": "stdout",
          "text": [
            "+--------------------+\n",
            "|            work_url|\n",
            "+--------------------+\n",
            "|https://www.museo...|\n",
            "|Su formación se i...|\n",
            "|Fuente: Museo Nac...|\n",
            "|      Ancho: 348 mm\"|\n",
            "|                 @@@|\n",
            "|              Arnáez|\n",
            "|                 @@@|\n",
            "|                Bray|\n",
            "|           Núm. 135.|\n",
            "|135. Ochenta y do...|\n",
            "+--------------------+\n",
            "only showing top 10 rows\n",
            "\n"
          ]
        }
      ]
    },
    {
      "cell_type": "code",
      "source": [
        "prado_museum.printSchema()"
      ],
      "metadata": {
        "id": "tNmBFH7hhwCw",
        "outputId": "425eab78-bb4d-46d0-d8f3-03ba9d29ca1e",
        "colab": {
          "base_uri": "https://localhost:8080/"
        }
      },
      "execution_count": 5,
      "outputs": [
        {
          "output_type": "stream",
          "name": "stdout",
          "text": [
            "root\n",
            " |-- work_url: string (nullable = true)\n",
            " |-- work_image_url: string (nullable = true)\n",
            " |-- author: string (nullable = true)\n",
            " |-- author_bio: string (nullable = true)\n",
            " |-- author_url: string (nullable = true)\n",
            " |-- author_id: string (nullable = true)\n",
            " |-- work_title: string (nullable = true)\n",
            " |-- work_subtitle: string (nullable = true)\n",
            " |-- work_exposed: string (nullable = true)\n",
            " |-- work_description: string (nullable = true)\n",
            " |-- work_tags: string (nullable = true)\n",
            " |-- technical_sheet_numero_de_catalogo: string (nullable = true)\n",
            " |-- technical_sheet_autor: string (nullable = true)\n",
            " |-- technical_sheet_titulo: string (nullable = true)\n",
            " |-- technical_sheet_fecha: string (nullable = true)\n",
            " |-- technical_sheet_tecnica: string (nullable = true)\n",
            " |-- technical_sheet_soporte: string (nullable = true)\n",
            " |-- technical_sheet_dimension: string (nullable = true)\n",
            " |-- technical_sheet_serie: string (nullable = true)\n",
            " |-- technical_sheet_procedencia: string (nullable = true)\n",
            " |-- bibliography: string (nullable = true)\n",
            " |-- inventory: string (nullable = true)\n",
            " |-- expositions: string (nullable = true)\n",
            " |-- ubication: string (nullable = true)\n",
            " |-- technical_sheet_autores: string (nullable = true)\n",
            " |-- technical_sheet_edicion_/_estado: string (nullable = true)\n",
            " |-- technical_sheet_materia: string (nullable = true)\n",
            " |-- technical_sheet_ceca: string (nullable = true)\n",
            " |-- technical_sheet_autora: string (nullable = true)\n",
            " |-- technical_sheet_lugar_de_produccion: string (nullable = true)\n",
            "\n"
          ]
        }
      ]
    },
    {
      "cell_type": "code",
      "source": [
        "prado = prada_museum.select(['work_url', 'work_tags'])\n",
        "prado"
      ],
      "metadata": {
        "colab": {
          "base_uri": "https://localhost:8080/",
          "height": 523
        },
        "id": "-mPl1_6lcZjk",
        "outputId": "e4b3abd7-ca26-4023-a3e5-005346d87955"
      },
      "execution_count": null,
      "outputs": [
        {
          "output_type": "execute_result",
          "data": {
            "text/plain": [
              "+--------------------+-------------------+\n",
              "|            work_url|          work_tags|\n",
              "+--------------------+-------------------+\n",
              "|https://www.museo...|               null|\n",
              "|Su formación se i...|               null|\n",
              "|Fuente: Museo Nac...|  Cabeza de Gigante|\n",
              "|      Ancho: 348 mm\"|               null|\n",
              "|                 @@@|               null|\n",
              "|              Arnáez|               null|\n",
              "|                 @@@|               null|\n",
              "|                Bray|               null|\n",
              "|           Núm. 135.|               null|\n",
              "|135. Ochenta y do...|               null|\n",
              "|                 @@@|               null|\n",
              "|        Inv. Dibujos|               null|\n",
              "|          Núm. 224.\"|               null|\n",
              "|          Estampado.|               null|\n",
              "|             Anverso|               null|\n",
              "|                 ...|               null|\n",
              "|                 ...|               null|\n",
              "|https://www.museo...|               null|\n",
              "|Discípulo de Dome...|               null|\n",
              "|Fuente: Museo Nac...|Susana y los viejos|\n",
              "+--------------------+-------------------+\n",
              "only showing top 20 rows"
            ],
            "text/html": [
              "<table border='1'>\n",
              "<tr><th>work_url</th><th>work_tags</th></tr>\n",
              "<tr><td>https://www.museo...</td><td>null</td></tr>\n",
              "<tr><td>Su formación se i...</td><td>null</td></tr>\n",
              "<tr><td>Fuente: Museo Nac...</td><td>Cabeza de Gigante</td></tr>\n",
              "<tr><td>Ancho: 348 mm&quot;</td><td>null</td></tr>\n",
              "<tr><td>@@@</td><td>null</td></tr>\n",
              "<tr><td>Arnáez</td><td>null</td></tr>\n",
              "<tr><td>@@@</td><td>null</td></tr>\n",
              "<tr><td>Bray</td><td>null</td></tr>\n",
              "<tr><td>Núm. 135.</td><td>null</td></tr>\n",
              "<tr><td>135. Ochenta y do...</td><td>null</td></tr>\n",
              "<tr><td>@@@</td><td>null</td></tr>\n",
              "<tr><td>Inv. Dibujos</td><td>null</td></tr>\n",
              "<tr><td>Núm. 224.&quot;</td><td>null</td></tr>\n",
              "<tr><td>Estampado.</td><td>null</td></tr>\n",
              "<tr><td>Anverso</td><td>null</td></tr>\n",
              "<tr><td>                 ...</td><td>null</td></tr>\n",
              "<tr><td>                 ...</td><td>null</td></tr>\n",
              "<tr><td>https://www.museo...</td><td>null</td></tr>\n",
              "<tr><td>Discípulo de Dome...</td><td>null</td></tr>\n",
              "<tr><td>Fuente: Museo Nac...</td><td>Susana y los viejos</td></tr>\n",
              "</table>\n",
              "only showing top 20 rows\n"
            ]
          },
          "metadata": {},
          "execution_count": 8
        }
      ]
    },
    {
      "cell_type": "code",
      "source": [
        "pr = prada_museum.select('work_image_url').rdd.map(lambda row: row['work_image_url'].split('/')[-1]).collect()"
      ],
      "metadata": {
        "id": "CX6gh5lUdD5f"
      },
      "execution_count": null,
      "outputs": []
    },
    {
      "cell_type": "code",
      "source": [
        "for _, row in df.iterrows():\n",
        "    image_id = row[\"work_id\"]\n",
        "    image_path = os.path.join(\"images\", image_id)"
      ],
      "metadata": {
        "id": "pfNemSuyce-b"
      },
      "execution_count": null,
      "outputs": []
    },
    {
      "cell_type": "code",
      "source": [],
      "metadata": {
        "id": "YkDx0Z6efsHm"
      },
      "execution_count": null,
      "outputs": []
    },
    {
      "cell_type": "markdown",
      "source": [
        "## Graph creation and visualisation"
      ],
      "metadata": {
        "id": "9o2emLa8YKfv"
      }
    },
    {
      "cell_type": "code",
      "source": [
        "import networkx as nx\n",
        "import matplotlib.pyplot as plt\n",
        "\n",
        "g = nx.DiGraph()\n",
        "\n",
        "for p in pages:\n",
        "    g.add_node(p)\n",
        "\n",
        "for (a, b) in links:\n",
        "    g.add_edge(pages[a], pages[b])"
      ],
      "metadata": {
        "id": "aPcNNMzAUdOu"
      },
      "execution_count": null,
      "outputs": []
    },
    {
      "cell_type": "markdown",
      "source": [
        "Build the transition matrix (the base to perform PageRank)"
      ],
      "metadata": {
        "id": "O0bDEW4uYl_1"
      }
    },
    {
      "cell_type": "code",
      "source": [],
      "metadata": {
        "id": "-juTMOqWYrDf"
      },
      "execution_count": null,
      "outputs": []
    }
  ]
}
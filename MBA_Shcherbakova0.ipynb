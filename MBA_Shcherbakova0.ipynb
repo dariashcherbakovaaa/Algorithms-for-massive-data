{
  "nbformat": 4,
  "nbformat_minor": 0,
  "metadata": {
    "colab": {
      "provenance": [],
      "collapsed_sections": [
        "AXHtKFmVxEgz",
        "uNRmQH4QxXeP",
        "EOwUmC_G3elJ",
        "1S0ldnty4gvc",
        "oUqlKiP36c6H",
        "UvKG3BGqZnrx",
        "cy6tJ1yHZZRX",
        "8FU5RwRgeSfj",
        "EIPAEkqIEtBu"
      ],
      "include_colab_link": true
    },
    "kernelspec": {
      "name": "python3",
      "display_name": "Python 3"
    },
    "language_info": {
      "name": "python"
    }
  },
  "cells": [
    {
      "cell_type": "markdown",
      "metadata": {
        "id": "view-in-github",
        "colab_type": "text"
      },
      "source": [
        "<a href=\"https://colab.research.google.com/github/dariashcherbakovaaa/Algorithms-for-massive-data/blob/main/MBA_Shcherbakova0.ipynb\" target=\"_parent\"><img src=\"https://colab.research.google.com/assets/colab-badge.svg\" alt=\"Open In Colab\"/></a>"
      ]
    },
    {
      "cell_type": "markdown",
      "source": [
        "# Market Basket Analysis on LinkedIn job skills and job links\n",
        "\n",
        "###### **Daria Shcherbakova** *(DSE student, 17487A)*"
      ],
      "metadata": {
        "id": "L6Fly5WhsrMg"
      }
    },
    {
      "cell_type": "markdown",
      "source": [
        "## Environment settings & data loading"
      ],
      "metadata": {
        "id": "JoGUYh5St4N5"
      }
    },
    {
      "cell_type": "code",
      "execution_count": 1,
      "metadata": {
        "colab": {
          "base_uri": "https://localhost:8080/",
          "height": 0
        },
        "id": "a85JRlZ-sm8-",
        "outputId": "5f925db6-a5ed-4850-aad1-36e053e7efb2"
      },
      "outputs": [
        {
          "output_type": "execute_result",
          "data": {
            "text/plain": [
              "<pyspark.sql.session.SparkSession at 0x78de10a78580>"
            ],
            "text/html": [
              "\n",
              "            <div>\n",
              "                <p><b>SparkSession - in-memory</b></p>\n",
              "                \n",
              "        <div>\n",
              "            <p><b>SparkContext</b></p>\n",
              "\n",
              "            <p><a href=\"http://9f7f11b28a3d:4040\">Spark UI</a></p>\n",
              "\n",
              "            <dl>\n",
              "              <dt>Version</dt>\n",
              "                <dd><code>v3.1.1</code></dd>\n",
              "              <dt>Master</dt>\n",
              "                <dd><code>local[*]</code></dd>\n",
              "              <dt>AppName</dt>\n",
              "                <dd><code>Algo_Aprori</code></dd>\n",
              "            </dl>\n",
              "        </div>\n",
              "        \n",
              "            </div>\n",
              "        "
            ]
          },
          "metadata": {},
          "execution_count": 1
        }
      ],
      "source": [
        "import warnings\n",
        "warnings.filterwarnings(\"ignore\", category=DeprecationWarning)\n",
        "import pandas as pd\n",
        "\n",
        "!apt-get install openjdk-8-jdk-headless -qq > /dev/null\n",
        "!wget -q http://archive.apache.org/dist/spark/spark-3.1.1/spark-3.1.1-bin-hadoop3.2.tgz\n",
        "!tar xf spark-3.1.1-bin-hadoop3.2.tgz\n",
        "!pip install -q findspark\n",
        "\n",
        "import os\n",
        "os.environ[\"JAVA_HOME\"] = \"/usr/lib/jvm/java-8-openjdk-amd64\"\n",
        "os.environ[\"SPARK_HOME\"] = \"/content/spark-3.1.1-bin-hadoop3.2\"\n",
        "\n",
        "import findspark\n",
        "findspark.init()\n",
        "\n",
        "from pyspark.sql import SparkSession\n",
        "spark = SparkSession.builder.master(\"local[*]\").appName('Algo_Aprori').getOrCreate()\n",
        "spark.conf.set(\"spark.sql.repl.eagerEval.enabled\", True)\n",
        "spark\n",
        "import pyspark\n",
        "type(spark)\n",
        "\n",
        "sc = spark.sparkContext\n",
        "spark"
      ]
    },
    {
      "cell_type": "code",
      "source": [
        "# os.environ['KAGGLE_USERNAME'] = \"xxxxxx\"\n",
        "# os.environ['KAGGLE_KEY'] = \"xxxxxx\""
      ],
      "metadata": {
        "id": "97eajMHWtGGk"
      },
      "execution_count": 2,
      "outputs": []
    },
    {
      "cell_type": "code",
      "source": [
        "!kaggle datasets download -d asaniczka/1-3m-linkedin-jobs-and-skills-2024 -f job_skills.csv\n",
        "!unzip /content/job_skills.csv.zip -d job_skills\n",
        "\n",
        "!kaggle datasets download -d asaniczka/1-3m-linkedin-jobs-and-skills-2024 -f linkedin_job_postings.csv\n",
        "!unzip linkedin_job_postings.csv.zip -d linkedin_job_postings\n",
        "\n",
        "os.remove('/content/job_skills.csv.zip')\n",
        "os.remove('/content/linkedin_job_postings.csv.zip')"
      ],
      "metadata": {
        "id": "B6Cka6RPuzop",
        "outputId": "1a670f0c-076f-40c9-f962-ad3042ea23f7",
        "colab": {
          "base_uri": "https://localhost:8080/"
        }
      },
      "execution_count": 3,
      "outputs": [
        {
          "output_type": "stream",
          "name": "stdout",
          "text": [
            "Dataset URL: https://www.kaggle.com/datasets/asaniczka/1-3m-linkedin-jobs-and-skills-2024\n",
            "License(s): ODC Attribution License (ODC-By)\n",
            "Downloading job_skills.csv.zip to /content\n",
            " 99% 194M/197M [00:11<00:00, 17.1MB/s]\n",
            "100% 197M/197M [00:11<00:00, 17.6MB/s]\n",
            "Archive:  /content/job_skills.csv.zip\n",
            "  inflating: job_skills/job_skills.csv  \n",
            "Dataset URL: https://www.kaggle.com/datasets/asaniczka/1-3m-linkedin-jobs-and-skills-2024\n",
            "License(s): ODC Attribution License (ODC-By)\n",
            "Downloading linkedin_job_postings.csv.zip to /content\n",
            " 97% 92.0M/94.4M [00:05<00:00, 16.1MB/s]\n",
            "100% 94.4M/94.4M [00:05<00:00, 16.7MB/s]\n",
            "Archive:  linkedin_job_postings.csv.zip\n",
            "  inflating: linkedin_job_postings/linkedin_job_postings.csv  \n"
          ]
        }
      ]
    },
    {
      "cell_type": "code",
      "source": [
        "data_path = '/content/job_skills/job_skills.csv'\n",
        "df_skills = spark.read.csv(data_path, inferSchema=True, header=True)\n",
        "df_skills.printSchema()\n",
        "df_skills.show()"
      ],
      "metadata": {
        "id": "g9amO0zGvASt",
        "outputId": "9a0f1206-d4d5-41a3-89d5-bad4d67084c2",
        "colab": {
          "base_uri": "https://localhost:8080/"
        }
      },
      "execution_count": 4,
      "outputs": [
        {
          "output_type": "stream",
          "name": "stdout",
          "text": [
            "root\n",
            " |-- job_link: string (nullable = true)\n",
            " |-- job_skills: string (nullable = true)\n",
            "\n",
            "+--------------------+--------------------+\n",
            "|            job_link|          job_skills|\n",
            "+--------------------+--------------------+\n",
            "|https://www.linke...|Building Custodia...|\n",
            "|https://www.linke...|Customer service,...|\n",
            "|https://www.linke...|Applied Behavior ...|\n",
            "|https://www.linke...|Electrical Engine...|\n",
            "|https://www.linke...|Electrical Assemb...|\n",
            "|https://www.linke...|Access Control, V...|\n",
            "|https://www.linke...|Consultation, Sup...|\n",
            "|https://www.linke...|Veterinary Recept...|\n",
            "|https://www.linke...|Optical Inspectio...|\n",
            "|https://www.linke...|HVAC, troubleshoo...|\n",
            "|https://www.linke...|Host/Server Assis...|\n",
            "|https://www.linke...|Apartment mainten...|\n",
            "|https://www.linke...|Fiber Optic Cable...|\n",
            "|https://www.linke...|CT Technologist, ...|\n",
            "|https://ca.linked...|SAP, DRMIS, Data ...|\n",
            "|https://www.linke...|Debt and equity o...|\n",
            "|https://ca.linked...|Biomedical Engine...|\n",
            "|https://www.linke...|Laboratory Techni...|\n",
            "|https://www.linke...|Program Managemen...|\n",
            "|https://www.linke...|Hiring, Training,...|\n",
            "+--------------------+--------------------+\n",
            "only showing top 20 rows\n",
            "\n"
          ]
        }
      ]
    },
    {
      "cell_type": "code",
      "source": [
        "data_path = '/content/linkedin_job_postings/linkedin_job_postings.csv'\n",
        "df_all = spark.read.csv(data_path, inferSchema=True, header=True)\n",
        "df_all.printSchema()\n",
        "df_all.show()"
      ],
      "metadata": {
        "id": "DMVFVSkjvbx-",
        "outputId": "a9a73137-3502-4345-c2fe-f92da055dada",
        "colab": {
          "base_uri": "https://localhost:8080/"
        }
      },
      "execution_count": 5,
      "outputs": [
        {
          "output_type": "stream",
          "name": "stdout",
          "text": [
            "root\n",
            " |-- job_link: string (nullable = true)\n",
            " |-- last_processed_time: string (nullable = true)\n",
            " |-- got_summary: string (nullable = true)\n",
            " |-- got_ner: string (nullable = true)\n",
            " |-- is_being_worked: string (nullable = true)\n",
            " |-- job_title: string (nullable = true)\n",
            " |-- company: string (nullable = true)\n",
            " |-- job_location: string (nullable = true)\n",
            " |-- first_seen: string (nullable = true)\n",
            " |-- search_city: string (nullable = true)\n",
            " |-- search_country: string (nullable = true)\n",
            " |-- search_position: string (nullable = true)\n",
            " |-- job_level: string (nullable = true)\n",
            " |-- job_type: string (nullable = true)\n",
            "\n",
            "+--------------------+--------------------+-----------+-------+---------------+--------------------+--------------------+--------------------+----------+---------------+--------------+--------------------+----------+--------+\n",
            "|            job_link| last_processed_time|got_summary|got_ner|is_being_worked|           job_title|             company|        job_location|first_seen|    search_city|search_country|     search_position| job_level|job_type|\n",
            "+--------------------+--------------------+-----------+-------+---------------+--------------------+--------------------+--------------------+----------+---------------+--------------+--------------------+----------+--------+\n",
            "|https://www.linke...|2024-01-21 07:12:...|          t|      t|              f|Account Executive...|                  BD|       San Diego, CA|2024-01-15|       Coronado| United States|         Color Maker|Mid senior|  Onsite|\n",
            "|https://www.linke...|2024-01-21 07:39:...|          t|      t|              f|Registered Nurse ...|   Trinity Health MI|   Norton Shores, MI|2024-01-14|    Grand Haven| United States|Director Nursing ...|Mid senior|  Onsite|\n",
            "|https://www.linke...|2024-01-21 07:40:...|          t|      t|              f|RESTAURANT SUPERV...|Wasatch Adaptive ...|           Sandy, UT|2024-01-14|         Tooele| United States|            Stand-In|Mid senior|  Onsite|\n",
            "|https://www.linke...|2024-01-21 07:40:...|          t|      t|              f|Independent Real ...|Howard Hanna | Ra...|Englewood Cliffs, NJ|2024-01-16|      Pinehurst| United States|   Real-Estate Clerk|Mid senior|  Onsite|\n",
            "|https://www.linke...|2024-01-19 09:45:...|          f|      f|              f|Group/Unit Superv...|IRS, Office of Ch...|        Chamblee, GA|2024-01-17|        Gadsden| United States|Supervisor Travel...|Mid senior|  Onsite|\n",
            "|https://www.linke...|2024-01-19 09:45:...|          f|      f|              f|  Counselor-07532802|                 ICL|        Brooklyn, NY|2024-01-16|     Oyster Bay| United States| Residence Counselor|Mid senior|  Onsite|\n",
            "|https://www.linke...|2024-01-21 08:08:...|          t|      t|              f|Registered Nurse ...|   Trinity Health MI|        Muskegon, MI|2024-01-14|       Muskegon| United States|  Nurse Practitioner|Mid senior|  Onsite|\n",
            "|https://www.linke...|2024-01-21 08:08:...|          t|      t|              f|Part Time- HR Gen...|Creative Financia...|        New York, NY|2024-01-16|   White Plains| United States|Human Resource Ad...|Mid senior|  Onsite|\n",
            "|https://uk.linked...|2024-01-21 08:08:...|          t|      t|              f|       Store Manager|          B&M Retail|London, England, ...|2024-01-15|         Slough|United Kingdom|              Double|Mid senior|  Onsite|\n",
            "|https://ca.linked...|2024-01-21 08:08:...|          t|      t|              f|Engineering Proje...|Shared Health-Soi...|Winnipeg, Manitob...|2024-01-14|       Manitoba|        Canada| Program Coordinator|Mid senior|  Onsite|\n",
            "|https://www.linke...|2024-01-21 08:08:...|          t|      t|              f|Special Agent: La...|Federal Bureau of...|Austin, Texas Met...|2024-01-16|         Austin| United States|       Special Agent| Associate|  Onsite|\n",
            "|https://www.linke...|2024-01-21 08:08:...|          t|      t|              f|Manager, Site Ope...|            ICON plc|       Knoxville, TN|2024-01-14|     Louisville| United States|              Vendor|Mid senior|  Onsite|\n",
            "|https://www.linke...|2024-01-21 08:08:...|          t|      t|              f|Assistant Vice Pr...|  RWJBarnabas Health|      Somerville, NJ|2024-01-16|   Hillsborough| United States|Psychiatric Techn...|Mid senior|  Onsite|\n",
            "|https://www.linke...|2024-01-21 08:08:...|          t|      t|              f|Control Systems I...|              Olsson|         Lincoln, NE|2024-01-14|       Nebraska| United States|  Solutions Operator| Associate|  Onsite|\n",
            "|https://www.linke...|2024-01-21 08:08:...|          t|      t|              f|LEAD SALES ASSOCI...|      Dollar General|          Tipton, IN|2024-01-14|         Carmel| United States|Circulation-Sales...|Mid senior|  Onsite|\n",
            "|https://www.linke...|2024-01-21 02:01:...|          t|      t|              f|Entry-Level Finan...| Northwestern Mutual|Fairfield County, CT|2024-01-14|          Derby| United States|       Change Person|Mid senior|  Onsite|\n",
            "|https://www.linke...|2024-01-21 02:01:...|          t|      t|              f|Senior Associate,...|             KPMG US|         Chicago, IL|2024-01-14|   Calumet City| United States|            Stand-In| Associate|  Onsite|\n",
            "|https://www.linke...|2024-01-21 02:01:...|          t|      t|              f|Human Resources G...|           SIG Group|          Merced, CA|2024-01-14|         Merced| United States|    Manager Benefits|Mid senior|  Onsite|\n",
            "|https://au.linked...|2024-01-21 02:01:...|          t|      t|              f|Supervisor - Hort...|Green Options Lan...|Sydney, New South...|2024-01-15|New South Wales|     Australia|  Booking Supervisor|Mid senior|  Onsite|\n",
            "|https://www.linke...|2024-01-21 02:01:...|          t|      t|              f|Analyst, Associat...|            RITE AID|       Yocumtown, PA|2024-01-13|        Lebanon| United States|Quality Assurance...|Mid senior|  Onsite|\n",
            "+--------------------+--------------------+-----------+-------+---------------+--------------------+--------------------+--------------------+----------+---------------+--------------+--------------------+----------+--------+\n",
            "only showing top 20 rows\n",
            "\n"
          ]
        }
      ]
    },
    {
      "cell_type": "markdown",
      "source": [
        "## Data pre-processing"
      ],
      "metadata": {
        "id": "AXHtKFmVxEgz"
      }
    },
    {
      "cell_type": "markdown",
      "source": [
        "#### Additional dataset to select actual job"
      ],
      "metadata": {
        "id": "uNRmQH4QxXeP"
      }
    },
    {
      "cell_type": "code",
      "source": [
        "df_all = df_all[['job_link', 'job_title', 'search_country', 'search_position', 'job_level']]\n",
        "df_all.show(10)"
      ],
      "metadata": {
        "id": "FtVsjU1ew6eU",
        "outputId": "67dfb068-d381-450d-f974-72ddfa3ce44b",
        "colab": {
          "base_uri": "https://localhost:8080/"
        }
      },
      "execution_count": 6,
      "outputs": [
        {
          "output_type": "stream",
          "name": "stdout",
          "text": [
            "+--------------------+--------------------+--------------+--------------------+----------+\n",
            "|            job_link|           job_title|search_country|     search_position| job_level|\n",
            "+--------------------+--------------------+--------------+--------------------+----------+\n",
            "|https://www.linke...|Account Executive...| United States|         Color Maker|Mid senior|\n",
            "|https://www.linke...|Registered Nurse ...| United States|Director Nursing ...|Mid senior|\n",
            "|https://www.linke...|RESTAURANT SUPERV...| United States|            Stand-In|Mid senior|\n",
            "|https://www.linke...|Independent Real ...| United States|   Real-Estate Clerk|Mid senior|\n",
            "|https://www.linke...|Group/Unit Superv...| United States|Supervisor Travel...|Mid senior|\n",
            "|https://www.linke...|  Counselor-07532802| United States| Residence Counselor|Mid senior|\n",
            "|https://www.linke...|Registered Nurse ...| United States|  Nurse Practitioner|Mid senior|\n",
            "|https://www.linke...|Part Time- HR Gen...| United States|Human Resource Ad...|Mid senior|\n",
            "|https://uk.linked...|       Store Manager|United Kingdom|              Double|Mid senior|\n",
            "|https://ca.linked...|Engineering Proje...|        Canada| Program Coordinator|Mid senior|\n",
            "+--------------------+--------------------+--------------+--------------------+----------+\n",
            "only showing top 10 rows\n",
            "\n"
          ]
        }
      ]
    },
    {
      "cell_type": "code",
      "source": [
        "df_all.describe()"
      ],
      "metadata": {
        "id": "9H0iANb8x0Jx",
        "outputId": "f0e54754-c7a0-443b-db9a-5b5a059ed8f4",
        "colab": {
          "base_uri": "https://localhost:8080/",
          "height": 0
        }
      },
      "execution_count": 7,
      "outputs": [
        {
          "output_type": "execute_result",
          "data": {
            "text/plain": [
              "+-------+--------------------+--------------------+--------------+----------------+--------------------+\n",
              "|summary|            job_link|           job_title|search_country| search_position|           job_level|\n",
              "+-------+--------------------+--------------------+--------------+----------------+--------------------+\n",
              "|  count|             1348488|             1348488|       1348420|         1348420|             1348420|\n",
              "|   mean|                null|                null|          null|            null|                null|\n",
              "| stddev|                null|                null|          null|            null|                null|\n",
              "|    min|       \t\t\t\t\t\t\t\t\tNew\"|\"\"\"A\"\" Softball C...|    2024-01-13|     Able Seaman|Administrative As...|\n",
              "|    max|https://za.linked...|🔥Nurse Manager, ...| United States|Zoo Veterinarian|       United States|\n",
              "+-------+--------------------+--------------------+--------------+----------------+--------------------+"
            ],
            "text/html": [
              "<table border='1'>\n",
              "<tr><th>summary</th><th>job_link</th><th>job_title</th><th>search_country</th><th>search_position</th><th>job_level</th></tr>\n",
              "<tr><td>count</td><td>1348488</td><td>1348488</td><td>1348420</td><td>1348420</td><td>1348420</td></tr>\n",
              "<tr><td>mean</td><td>null</td><td>null</td><td>null</td><td>null</td><td>null</td></tr>\n",
              "<tr><td>stddev</td><td>null</td><td>null</td><td>null</td><td>null</td><td>null</td></tr>\n",
              "<tr><td>min</td><td>\t\t\t\t\t\t\t\t\tNew&quot;</td><td>&quot;&quot;&quot;A&quot;&quot; Softball C...</td><td>2024-01-13</td><td>Able Seaman</td><td>Administrative As...</td></tr>\n",
              "<tr><td>max</td><td>https://za.linked...</td><td>🔥Nurse Manager, ...</td><td>United States</td><td>Zoo Veterinarian</td><td>United States</td></tr>\n",
              "</table>\n"
            ]
          },
          "metadata": {},
          "execution_count": 7
        }
      ]
    },
    {
      "cell_type": "code",
      "source": [
        "df_all = df_all.where((df_all['job_level'] == 'Mid senior') & (df_all['search_country'] == 'United States'))\n",
        "df_all.show(10)"
      ],
      "metadata": {
        "id": "Nei6JDTsxOGp",
        "outputId": "7873349e-78ac-4ec7-a2c0-1bd59669e96d",
        "colab": {
          "base_uri": "https://localhost:8080/"
        }
      },
      "execution_count": 8,
      "outputs": [
        {
          "output_type": "stream",
          "name": "stdout",
          "text": [
            "+--------------------+--------------------+--------------+--------------------+----------+\n",
            "|            job_link|           job_title|search_country|     search_position| job_level|\n",
            "+--------------------+--------------------+--------------+--------------------+----------+\n",
            "|https://www.linke...|Account Executive...| United States|         Color Maker|Mid senior|\n",
            "|https://www.linke...|Registered Nurse ...| United States|Director Nursing ...|Mid senior|\n",
            "|https://www.linke...|RESTAURANT SUPERV...| United States|            Stand-In|Mid senior|\n",
            "|https://www.linke...|Independent Real ...| United States|   Real-Estate Clerk|Mid senior|\n",
            "|https://www.linke...|Group/Unit Superv...| United States|Supervisor Travel...|Mid senior|\n",
            "|https://www.linke...|  Counselor-07532802| United States| Residence Counselor|Mid senior|\n",
            "|https://www.linke...|Registered Nurse ...| United States|  Nurse Practitioner|Mid senior|\n",
            "|https://www.linke...|Part Time- HR Gen...| United States|Human Resource Ad...|Mid senior|\n",
            "|https://www.linke...|Manager, Site Ope...| United States|              Vendor|Mid senior|\n",
            "|https://www.linke...|Assistant Vice Pr...| United States|Psychiatric Techn...|Mid senior|\n",
            "+--------------------+--------------------+--------------+--------------------+----------+\n",
            "only showing top 10 rows\n",
            "\n"
          ]
        }
      ]
    },
    {
      "cell_type": "code",
      "source": [
        "df_all.groupBy('job_title')\\\n",
        "      .count()\\\n",
        "      .orderBy('count', ascending=False)\\\n",
        "      .show()"
      ],
      "metadata": {
        "id": "OPufFsA628QR",
        "outputId": "f927b322-a5e0-41e5-a6e3-09719739fd83",
        "colab": {
          "base_uri": "https://localhost:8080/"
        }
      },
      "execution_count": 9,
      "outputs": [
        {
          "output_type": "stream",
          "name": "stdout",
          "text": [
            "+--------------------+-----+\n",
            "|           job_title|count|\n",
            "+--------------------+-----+\n",
            "|LEAD SALES ASSOCI...| 7305|\n",
            "|       Shift Manager| 5727|\n",
            "|First Year Tax Pr...| 5350|\n",
            "|LEAD SALES ASSOCI...| 4888|\n",
            "|   Assistant Manager| 4606|\n",
            "|Customer Service ...| 4599|\n",
            "|CUSTOMER SERVICE ...| 4195|\n",
            "|       Store Manager| 3929|\n",
            "|Hourly Supervisor...| 2941|\n",
            "|Travel Allied Hea...| 2920|\n",
            "|    Registered Nurse| 2783|\n",
            "|                Host| 2779|\n",
            "|Hourly Supervisor...| 2227|\n",
            "|  Restaurant Manager| 2135|\n",
            "|OPERATIONS ASSIST...| 2062|\n",
            "|Assistant General...| 1952|\n",
            "|        Veterinarian| 1947|\n",
            "|   Senior Accountant| 1914|\n",
            "|   Account Executive| 1824|\n",
            "|Department Superv...| 1685|\n",
            "+--------------------+-----+\n",
            "only showing top 20 rows\n",
            "\n"
          ]
        }
      ]
    },
    {
      "cell_type": "code",
      "source": [
        "import re\n",
        "\n",
        "pattern_danalyst = r'\\bdata\\sanal\\w*' # data analyst\n",
        "pattern_banalyst = r'\\bbusiness\\sanal\\w*' # business analyst\n",
        "pattern_scientist = r'\\bdata\\sscientist\\w*' # data scientist\n",
        "pattern_engineer = r'\\bdata\\sengin\\w*' #data engenineer"
      ],
      "metadata": {
        "id": "X0SZlL3y3BR9"
      },
      "execution_count": 10,
      "outputs": []
    },
    {
      "cell_type": "code",
      "source": [
        "from pyspark.sql.functions import col, lower, regexp_extract\n",
        "\n",
        "df_all_sampled = df_all.filter(\n",
        "    (lower(col('job_title')).rlike(pattern_danalyst)) |\n",
        "    (lower(col('job_title')).rlike(pattern_banalyst)) |\n",
        "    (lower(col('job_title')).rlike(pattern_scientist)) |\n",
        "    (lower(col('job_title')).rlike(pattern_engineer))\n",
        ")\n",
        "print((df_all_sampled.count(), len(df_all_sampled.columns)))"
      ],
      "metadata": {
        "id": "z2H_sch93Kbu",
        "outputId": "3cc4e61d-576b-419d-98e8-c837d98af71b",
        "colab": {
          "base_uri": "https://localhost:8080/"
        }
      },
      "execution_count": 11,
      "outputs": [
        {
          "output_type": "stream",
          "name": "stdout",
          "text": [
            "(7038, 5)\n"
          ]
        }
      ]
    },
    {
      "cell_type": "code",
      "source": [
        "new_names = ['link', 'job_title', 'country', 'serach', 'level']\n",
        "\n",
        "df_all_sampled = df_all_sampled.toDF(*new_names)\n",
        "df_all_sampled.limit(5)\\\n",
        "              .toPandas() # i like pandas view more"
      ],
      "metadata": {
        "id": "Qut3_1P93RDo",
        "outputId": "de58766c-b239-439e-831b-c2c0ffa05b73",
        "colab": {
          "base_uri": "https://localhost:8080/",
          "height": 0
        }
      },
      "execution_count": 12,
      "outputs": [
        {
          "output_type": "execute_result",
          "data": {
            "text/plain": [
              "                                                link  \\\n",
              "0  https://www.linkedin.com/jobs/view/secret-clea...   \n",
              "1  https://www.linkedin.com/jobs/view/business-an...   \n",
              "2  https://www.linkedin.com/jobs/view/payment-swi...   \n",
              "3  https://www.linkedin.com/jobs/view/principal-b...   \n",
              "4  https://www.linkedin.com/jobs/view/lead-data-e...   \n",
              "\n",
              "                            job_title        country  \\\n",
              "0     Secret cleared Business Analyst  United States   \n",
              "1          Business Analyst (11076-1)  United States   \n",
              "2  Payment (Swift) (Business Analyst)  United States   \n",
              "3          Principal Business Analyst  United States   \n",
              "4                  Lead Data Engineer  United States   \n",
              "\n",
              "                          serach       level  \n",
              "0      Quality Assurance Analyst  Mid senior  \n",
              "1           Consultant Education  Mid senior  \n",
              "2  Instructor Business Education  Mid senior  \n",
              "3             Management Analyst  Mid senior  \n",
              "4       Maintenance Data Analyst  Mid senior  "
            ],
            "text/html": [
              "\n",
              "  <div id=\"df-fa1b1c19-3a74-4e6f-b6b9-d6582b4455ed\" class=\"colab-df-container\">\n",
              "    <div>\n",
              "<style scoped>\n",
              "    .dataframe tbody tr th:only-of-type {\n",
              "        vertical-align: middle;\n",
              "    }\n",
              "\n",
              "    .dataframe tbody tr th {\n",
              "        vertical-align: top;\n",
              "    }\n",
              "\n",
              "    .dataframe thead th {\n",
              "        text-align: right;\n",
              "    }\n",
              "</style>\n",
              "<table border=\"1\" class=\"dataframe\">\n",
              "  <thead>\n",
              "    <tr style=\"text-align: right;\">\n",
              "      <th></th>\n",
              "      <th>link</th>\n",
              "      <th>job_title</th>\n",
              "      <th>country</th>\n",
              "      <th>serach</th>\n",
              "      <th>level</th>\n",
              "    </tr>\n",
              "  </thead>\n",
              "  <tbody>\n",
              "    <tr>\n",
              "      <th>0</th>\n",
              "      <td>https://www.linkedin.com/jobs/view/secret-clea...</td>\n",
              "      <td>Secret cleared Business Analyst</td>\n",
              "      <td>United States</td>\n",
              "      <td>Quality Assurance Analyst</td>\n",
              "      <td>Mid senior</td>\n",
              "    </tr>\n",
              "    <tr>\n",
              "      <th>1</th>\n",
              "      <td>https://www.linkedin.com/jobs/view/business-an...</td>\n",
              "      <td>Business Analyst (11076-1)</td>\n",
              "      <td>United States</td>\n",
              "      <td>Consultant Education</td>\n",
              "      <td>Mid senior</td>\n",
              "    </tr>\n",
              "    <tr>\n",
              "      <th>2</th>\n",
              "      <td>https://www.linkedin.com/jobs/view/payment-swi...</td>\n",
              "      <td>Payment (Swift) (Business Analyst)</td>\n",
              "      <td>United States</td>\n",
              "      <td>Instructor Business Education</td>\n",
              "      <td>Mid senior</td>\n",
              "    </tr>\n",
              "    <tr>\n",
              "      <th>3</th>\n",
              "      <td>https://www.linkedin.com/jobs/view/principal-b...</td>\n",
              "      <td>Principal Business Analyst</td>\n",
              "      <td>United States</td>\n",
              "      <td>Management Analyst</td>\n",
              "      <td>Mid senior</td>\n",
              "    </tr>\n",
              "    <tr>\n",
              "      <th>4</th>\n",
              "      <td>https://www.linkedin.com/jobs/view/lead-data-e...</td>\n",
              "      <td>Lead Data Engineer</td>\n",
              "      <td>United States</td>\n",
              "      <td>Maintenance Data Analyst</td>\n",
              "      <td>Mid senior</td>\n",
              "    </tr>\n",
              "  </tbody>\n",
              "</table>\n",
              "</div>\n",
              "    <div class=\"colab-df-buttons\">\n",
              "\n",
              "  <div class=\"colab-df-container\">\n",
              "    <button class=\"colab-df-convert\" onclick=\"convertToInteractive('df-fa1b1c19-3a74-4e6f-b6b9-d6582b4455ed')\"\n",
              "            title=\"Convert this dataframe to an interactive table.\"\n",
              "            style=\"display:none;\">\n",
              "\n",
              "  <svg xmlns=\"http://www.w3.org/2000/svg\" height=\"24px\" viewBox=\"0 -960 960 960\">\n",
              "    <path d=\"M120-120v-720h720v720H120Zm60-500h600v-160H180v160Zm220 220h160v-160H400v160Zm0 220h160v-160H400v160ZM180-400h160v-160H180v160Zm440 0h160v-160H620v160ZM180-180h160v-160H180v160Zm440 0h160v-160H620v160Z\"/>\n",
              "  </svg>\n",
              "    </button>\n",
              "\n",
              "  <style>\n",
              "    .colab-df-container {\n",
              "      display:flex;\n",
              "      gap: 12px;\n",
              "    }\n",
              "\n",
              "    .colab-df-convert {\n",
              "      background-color: #E8F0FE;\n",
              "      border: none;\n",
              "      border-radius: 50%;\n",
              "      cursor: pointer;\n",
              "      display: none;\n",
              "      fill: #1967D2;\n",
              "      height: 32px;\n",
              "      padding: 0 0 0 0;\n",
              "      width: 32px;\n",
              "    }\n",
              "\n",
              "    .colab-df-convert:hover {\n",
              "      background-color: #E2EBFA;\n",
              "      box-shadow: 0px 1px 2px rgba(60, 64, 67, 0.3), 0px 1px 3px 1px rgba(60, 64, 67, 0.15);\n",
              "      fill: #174EA6;\n",
              "    }\n",
              "\n",
              "    .colab-df-buttons div {\n",
              "      margin-bottom: 4px;\n",
              "    }\n",
              "\n",
              "    [theme=dark] .colab-df-convert {\n",
              "      background-color: #3B4455;\n",
              "      fill: #D2E3FC;\n",
              "    }\n",
              "\n",
              "    [theme=dark] .colab-df-convert:hover {\n",
              "      background-color: #434B5C;\n",
              "      box-shadow: 0px 1px 3px 1px rgba(0, 0, 0, 0.15);\n",
              "      filter: drop-shadow(0px 1px 2px rgba(0, 0, 0, 0.3));\n",
              "      fill: #FFFFFF;\n",
              "    }\n",
              "  </style>\n",
              "\n",
              "    <script>\n",
              "      const buttonEl =\n",
              "        document.querySelector('#df-fa1b1c19-3a74-4e6f-b6b9-d6582b4455ed button.colab-df-convert');\n",
              "      buttonEl.style.display =\n",
              "        google.colab.kernel.accessAllowed ? 'block' : 'none';\n",
              "\n",
              "      async function convertToInteractive(key) {\n",
              "        const element = document.querySelector('#df-fa1b1c19-3a74-4e6f-b6b9-d6582b4455ed');\n",
              "        const dataTable =\n",
              "          await google.colab.kernel.invokeFunction('convertToInteractive',\n",
              "                                                    [key], {});\n",
              "        if (!dataTable) return;\n",
              "\n",
              "        const docLinkHtml = 'Like what you see? Visit the ' +\n",
              "          '<a target=\"_blank\" href=https://colab.research.google.com/notebooks/data_table.ipynb>data table notebook</a>'\n",
              "          + ' to learn more about interactive tables.';\n",
              "        element.innerHTML = '';\n",
              "        dataTable['output_type'] = 'display_data';\n",
              "        await google.colab.output.renderOutput(dataTable, element);\n",
              "        const docLink = document.createElement('div');\n",
              "        docLink.innerHTML = docLinkHtml;\n",
              "        element.appendChild(docLink);\n",
              "      }\n",
              "    </script>\n",
              "  </div>\n",
              "\n",
              "\n",
              "<div id=\"df-81871023-16a1-4cba-a29b-bc26b8a8a817\">\n",
              "  <button class=\"colab-df-quickchart\" onclick=\"quickchart('df-81871023-16a1-4cba-a29b-bc26b8a8a817')\"\n",
              "            title=\"Suggest charts\"\n",
              "            style=\"display:none;\">\n",
              "\n",
              "<svg xmlns=\"http://www.w3.org/2000/svg\" height=\"24px\"viewBox=\"0 0 24 24\"\n",
              "     width=\"24px\">\n",
              "    <g>\n",
              "        <path d=\"M19 3H5c-1.1 0-2 .9-2 2v14c0 1.1.9 2 2 2h14c1.1 0 2-.9 2-2V5c0-1.1-.9-2-2-2zM9 17H7v-7h2v7zm4 0h-2V7h2v10zm4 0h-2v-4h2v4z\"/>\n",
              "    </g>\n",
              "</svg>\n",
              "  </button>\n",
              "\n",
              "<style>\n",
              "  .colab-df-quickchart {\n",
              "      --bg-color: #E8F0FE;\n",
              "      --fill-color: #1967D2;\n",
              "      --hover-bg-color: #E2EBFA;\n",
              "      --hover-fill-color: #174EA6;\n",
              "      --disabled-fill-color: #AAA;\n",
              "      --disabled-bg-color: #DDD;\n",
              "  }\n",
              "\n",
              "  [theme=dark] .colab-df-quickchart {\n",
              "      --bg-color: #3B4455;\n",
              "      --fill-color: #D2E3FC;\n",
              "      --hover-bg-color: #434B5C;\n",
              "      --hover-fill-color: #FFFFFF;\n",
              "      --disabled-bg-color: #3B4455;\n",
              "      --disabled-fill-color: #666;\n",
              "  }\n",
              "\n",
              "  .colab-df-quickchart {\n",
              "    background-color: var(--bg-color);\n",
              "    border: none;\n",
              "    border-radius: 50%;\n",
              "    cursor: pointer;\n",
              "    display: none;\n",
              "    fill: var(--fill-color);\n",
              "    height: 32px;\n",
              "    padding: 0;\n",
              "    width: 32px;\n",
              "  }\n",
              "\n",
              "  .colab-df-quickchart:hover {\n",
              "    background-color: var(--hover-bg-color);\n",
              "    box-shadow: 0 1px 2px rgba(60, 64, 67, 0.3), 0 1px 3px 1px rgba(60, 64, 67, 0.15);\n",
              "    fill: var(--button-hover-fill-color);\n",
              "  }\n",
              "\n",
              "  .colab-df-quickchart-complete:disabled,\n",
              "  .colab-df-quickchart-complete:disabled:hover {\n",
              "    background-color: var(--disabled-bg-color);\n",
              "    fill: var(--disabled-fill-color);\n",
              "    box-shadow: none;\n",
              "  }\n",
              "\n",
              "  .colab-df-spinner {\n",
              "    border: 2px solid var(--fill-color);\n",
              "    border-color: transparent;\n",
              "    border-bottom-color: var(--fill-color);\n",
              "    animation:\n",
              "      spin 1s steps(1) infinite;\n",
              "  }\n",
              "\n",
              "  @keyframes spin {\n",
              "    0% {\n",
              "      border-color: transparent;\n",
              "      border-bottom-color: var(--fill-color);\n",
              "      border-left-color: var(--fill-color);\n",
              "    }\n",
              "    20% {\n",
              "      border-color: transparent;\n",
              "      border-left-color: var(--fill-color);\n",
              "      border-top-color: var(--fill-color);\n",
              "    }\n",
              "    30% {\n",
              "      border-color: transparent;\n",
              "      border-left-color: var(--fill-color);\n",
              "      border-top-color: var(--fill-color);\n",
              "      border-right-color: var(--fill-color);\n",
              "    }\n",
              "    40% {\n",
              "      border-color: transparent;\n",
              "      border-right-color: var(--fill-color);\n",
              "      border-top-color: var(--fill-color);\n",
              "    }\n",
              "    60% {\n",
              "      border-color: transparent;\n",
              "      border-right-color: var(--fill-color);\n",
              "    }\n",
              "    80% {\n",
              "      border-color: transparent;\n",
              "      border-right-color: var(--fill-color);\n",
              "      border-bottom-color: var(--fill-color);\n",
              "    }\n",
              "    90% {\n",
              "      border-color: transparent;\n",
              "      border-bottom-color: var(--fill-color);\n",
              "    }\n",
              "  }\n",
              "</style>\n",
              "\n",
              "  <script>\n",
              "    async function quickchart(key) {\n",
              "      const quickchartButtonEl =\n",
              "        document.querySelector('#' + key + ' button');\n",
              "      quickchartButtonEl.disabled = true;  // To prevent multiple clicks.\n",
              "      quickchartButtonEl.classList.add('colab-df-spinner');\n",
              "      try {\n",
              "        const charts = await google.colab.kernel.invokeFunction(\n",
              "            'suggestCharts', [key], {});\n",
              "      } catch (error) {\n",
              "        console.error('Error during call to suggestCharts:', error);\n",
              "      }\n",
              "      quickchartButtonEl.classList.remove('colab-df-spinner');\n",
              "      quickchartButtonEl.classList.add('colab-df-quickchart-complete');\n",
              "    }\n",
              "    (() => {\n",
              "      let quickchartButtonEl =\n",
              "        document.querySelector('#df-81871023-16a1-4cba-a29b-bc26b8a8a817 button');\n",
              "      quickchartButtonEl.style.display =\n",
              "        google.colab.kernel.accessAllowed ? 'block' : 'none';\n",
              "    })();\n",
              "  </script>\n",
              "</div>\n",
              "\n",
              "    </div>\n",
              "  </div>\n"
            ],
            "application/vnd.google.colaboratory.intrinsic+json": {
              "type": "dataframe",
              "summary": "{\n  \"name\": \"              \",\n  \"rows\": 5,\n  \"fields\": [\n    {\n      \"column\": \"link\",\n      \"properties\": {\n        \"dtype\": \"string\",\n        \"num_unique_values\": 5,\n        \"samples\": [\n          \"https://www.linkedin.com/jobs/view/business-analyst-11076-1-at-raps-consulting-inc-3794678844\",\n          \"https://www.linkedin.com/jobs/view/lead-data-engineer-at-dice-3805948138\",\n          \"https://www.linkedin.com/jobs/view/payment-swift-business-analyst-at-resource-consultings-services-inc-3802412719\"\n        ],\n        \"semantic_type\": \"\",\n        \"description\": \"\"\n      }\n    },\n    {\n      \"column\": \"job_title\",\n      \"properties\": {\n        \"dtype\": \"string\",\n        \"num_unique_values\": 5,\n        \"samples\": [\n          \"Business Analyst (11076-1)\",\n          \"Lead Data Engineer\",\n          \"Payment (Swift) (Business Analyst)\"\n        ],\n        \"semantic_type\": \"\",\n        \"description\": \"\"\n      }\n    },\n    {\n      \"column\": \"country\",\n      \"properties\": {\n        \"dtype\": \"category\",\n        \"num_unique_values\": 1,\n        \"samples\": [\n          \"United States\"\n        ],\n        \"semantic_type\": \"\",\n        \"description\": \"\"\n      }\n    },\n    {\n      \"column\": \"serach\",\n      \"properties\": {\n        \"dtype\": \"string\",\n        \"num_unique_values\": 5,\n        \"samples\": [\n          \"Consultant Education\"\n        ],\n        \"semantic_type\": \"\",\n        \"description\": \"\"\n      }\n    },\n    {\n      \"column\": \"level\",\n      \"properties\": {\n        \"dtype\": \"category\",\n        \"num_unique_values\": 1,\n        \"samples\": [\n          \"Mid senior\"\n        ],\n        \"semantic_type\": \"\",\n        \"description\": \"\"\n      }\n    }\n  ]\n}"
            }
          },
          "metadata": {},
          "execution_count": 12
        }
      ]
    },
    {
      "cell_type": "markdown",
      "source": [
        "#### The main dataset with links and skills"
      ],
      "metadata": {
        "id": "EOwUmC_G3elJ"
      }
    },
    {
      "cell_type": "code",
      "source": [
        "new_names = ['link', 'skill']\n",
        "\n",
        "df_skills = df_skills.toDF(*new_names)\n",
        "df_skills.show(5)"
      ],
      "metadata": {
        "id": "X48lXj9G3bI_",
        "outputId": "1767da03-488b-44cd-d612-a2eff49cf3c9",
        "colab": {
          "base_uri": "https://localhost:8080/"
        }
      },
      "execution_count": 13,
      "outputs": [
        {
          "output_type": "stream",
          "name": "stdout",
          "text": [
            "+--------------------+--------------------+\n",
            "|                link|               skill|\n",
            "+--------------------+--------------------+\n",
            "|https://www.linke...|Building Custodia...|\n",
            "|https://www.linke...|Customer service,...|\n",
            "|https://www.linke...|Applied Behavior ...|\n",
            "|https://www.linke...|Electrical Engine...|\n",
            "|https://www.linke...|Electrical Assemb...|\n",
            "+--------------------+--------------------+\n",
            "only showing top 5 rows\n",
            "\n"
          ]
        }
      ]
    },
    {
      "cell_type": "code",
      "source": [
        "df_skills.describe()"
      ],
      "metadata": {
        "id": "lUSrEOEW36WE",
        "outputId": "5abbfe85-196f-4077-eff9-ab055b570cf8",
        "colab": {
          "base_uri": "https://localhost:8080/",
          "height": 0
        }
      },
      "execution_count": 14,
      "outputs": [
        {
          "output_type": "execute_result",
          "data": {
            "text/plain": [
              "+-------+--------------------+-------------------------------+\n",
              "|summary|                link|                          skill|\n",
              "+-------+--------------------+-------------------------------+\n",
              "|  count|             1296381|                        1294374|\n",
              "|   mean|                null|                           null|\n",
              "| stddev|                null|                           null|\n",
              "|    min|https://ae.linked...|           \"* Maintenance, *...|\n",
              "|    max|https://za.linked...|志愿服务, 沟通, 陪伴, 临终服...|\n",
              "+-------+--------------------+-------------------------------+"
            ],
            "text/html": [
              "<table border='1'>\n",
              "<tr><th>summary</th><th>link</th><th>skill</th></tr>\n",
              "<tr><td>count</td><td>1296381</td><td>1294374</td></tr>\n",
              "<tr><td>mean</td><td>null</td><td>null</td></tr>\n",
              "<tr><td>stddev</td><td>null</td><td>null</td></tr>\n",
              "<tr><td>min</td><td>https://ae.linked...</td><td>&quot;* Maintenance, *...</td></tr>\n",
              "<tr><td>max</td><td>https://za.linked...</td><td>志愿服务, 沟通, 陪伴, 临终服...</td></tr>\n",
              "</table>\n"
            ]
          },
          "metadata": {},
          "execution_count": 14
        }
      ]
    },
    {
      "cell_type": "code",
      "source": [
        "df_skills = df_skills.dropna() # drop empty, NA cells\n",
        "df_skills = df_skills.dropDuplicates() # drop repeated cells\n",
        "\n",
        "df_skills.describe()"
      ],
      "metadata": {
        "id": "E4jBQOa738qe",
        "outputId": "53fe44fa-9d93-4e20-b7cd-52d1d30dd592",
        "colab": {
          "base_uri": "https://localhost:8080/",
          "height": 0
        }
      },
      "execution_count": 15,
      "outputs": [
        {
          "output_type": "execute_result",
          "data": {
            "text/plain": [
              "+-------+--------------------+-------------------------------+\n",
              "|summary|                link|                          skill|\n",
              "+-------+--------------------+-------------------------------+\n",
              "|  count|             1294374|                        1294374|\n",
              "|   mean|                null|                           null|\n",
              "| stddev|                null|                           null|\n",
              "|    min|https://ae.linked...|           \"* Maintenance, *...|\n",
              "|    max|https://za.linked...|志愿服务, 沟通, 陪伴, 临终服...|\n",
              "+-------+--------------------+-------------------------------+"
            ],
            "text/html": [
              "<table border='1'>\n",
              "<tr><th>summary</th><th>link</th><th>skill</th></tr>\n",
              "<tr><td>count</td><td>1294374</td><td>1294374</td></tr>\n",
              "<tr><td>mean</td><td>null</td><td>null</td></tr>\n",
              "<tr><td>stddev</td><td>null</td><td>null</td></tr>\n",
              "<tr><td>min</td><td>https://ae.linked...</td><td>&quot;* Maintenance, *...</td></tr>\n",
              "<tr><td>max</td><td>https://za.linked...</td><td>志愿服务, 沟通, 陪伴, 临终服...</td></tr>\n",
              "</table>\n"
            ]
          },
          "metadata": {},
          "execution_count": 15
        }
      ]
    },
    {
      "cell_type": "markdown",
      "source": [
        "#### data merging and sampling"
      ],
      "metadata": {
        "id": "1S0ldnty4gvc"
      }
    },
    {
      "cell_type": "code",
      "source": [
        "df_skills.groupBy('skill') \\\n",
        "         .count() \\\n",
        "         .orderBy('count', ascending=False) \\\n",
        "         .show() # first attempt to check the most \"frequent\" set of skills in dataset"
      ],
      "metadata": {
        "id": "gWvkRfi14L5H",
        "outputId": "edca9aed-3884-4fed-8df0-6c5a2e54ca76",
        "colab": {
          "base_uri": "https://localhost:8080/"
        }
      },
      "execution_count": 16,
      "outputs": [
        {
          "output_type": "stream",
          "name": "stdout",
          "text": [
            "+--------------------+-----+\n",
            "|               skill|count|\n",
            "+--------------------+-----+\n",
            "|Front Counter, Dr...|  169|\n",
            "|Front Counter, Dr...|  112|\n",
            "|Communication, Co...|   90|\n",
            "|Retail experience...|   83|\n",
            "|Leadership, Train...|   75|\n",
            "|VolunteerMatch, L...|   70|\n",
            "|                None|   50|\n",
            "|Food Safety, Inte...|   47|\n",
            "|Supervisory exper...|   41|\n",
            "|Food Safety, Inte...|   40|\n",
            "|             Nursing|   38|\n",
            "|This context does...|   36|\n",
            "|Restaurant Manage...|   35|\n",
            "|Physician, Obstet...|   33|\n",
            "|Retail experience...|   32|\n",
            "|Customer service ...|   32|\n",
            "|Communication ski...|   31|\n",
            "|Leadership, Train...|   30|\n",
            "|Restaurant Manage...|   29|\n",
            "|Customer service,...|   29|\n",
            "+--------------------+-----+\n",
            "only showing top 20 rows\n",
            "\n"
          ]
        }
      ]
    },
    {
      "cell_type": "code",
      "source": [
        "data = df_all_sampled.join(df_skills,['link'],how='inner')\n",
        "data.count()"
      ],
      "metadata": {
        "id": "P7tKl_qw4dEQ",
        "outputId": "8b999bda-8c14-46d9-bf45-75f0947e4963",
        "colab": {
          "base_uri": "https://localhost:8080/"
        }
      },
      "execution_count": 17,
      "outputs": [
        {
          "output_type": "execute_result",
          "data": {
            "text/plain": [
              "6795"
            ]
          },
          "metadata": {},
          "execution_count": 17
        }
      ]
    },
    {
      "cell_type": "code",
      "source": [
        "data = data[['link', 'skill']]\n",
        "data.limit(5)\\\n",
        "    .toPandas()"
      ],
      "metadata": {
        "id": "0u8IhCqY55y6",
        "outputId": "006fb1d7-2d5e-49ed-e5f3-f45dd99fed2d",
        "colab": {
          "base_uri": "https://localhost:8080/",
          "height": 206
        }
      },
      "execution_count": 18,
      "outputs": [
        {
          "output_type": "execute_result",
          "data": {
            "text/plain": [
              "                                                link  \\\n",
              "0  https://www.linkedin.com/jobs/view/aflcmc-busi...   \n",
              "1  https://www.linkedin.com/jobs/view/business-an...   \n",
              "2  https://www.linkedin.com/jobs/view/business-an...   \n",
              "3  https://www.linkedin.com/jobs/view/business-an...   \n",
              "4  https://www.linkedin.com/jobs/view/business-an...   \n",
              "\n",
              "                                               skill  \n",
              "0  Business Analyst, DoD financial management pro...  \n",
              "1  Data analysis, SQL, Database management, Macro...  \n",
              "2  Business Analysis, Business Process Review, Re...  \n",
              "3  Alteryx Analytics, SQL, Data Validation, Alter...  \n",
              "4  Data Analysis, Process Improvement, Technology...  "
            ],
            "text/html": [
              "\n",
              "  <div id=\"df-f001107a-6ba7-4b7d-b69c-76d897019fc6\" class=\"colab-df-container\">\n",
              "    <div>\n",
              "<style scoped>\n",
              "    .dataframe tbody tr th:only-of-type {\n",
              "        vertical-align: middle;\n",
              "    }\n",
              "\n",
              "    .dataframe tbody tr th {\n",
              "        vertical-align: top;\n",
              "    }\n",
              "\n",
              "    .dataframe thead th {\n",
              "        text-align: right;\n",
              "    }\n",
              "</style>\n",
              "<table border=\"1\" class=\"dataframe\">\n",
              "  <thead>\n",
              "    <tr style=\"text-align: right;\">\n",
              "      <th></th>\n",
              "      <th>link</th>\n",
              "      <th>skill</th>\n",
              "    </tr>\n",
              "  </thead>\n",
              "  <tbody>\n",
              "    <tr>\n",
              "      <th>0</th>\n",
              "      <td>https://www.linkedin.com/jobs/view/aflcmc-busi...</td>\n",
              "      <td>Business Analyst, DoD financial management pro...</td>\n",
              "    </tr>\n",
              "    <tr>\n",
              "      <th>1</th>\n",
              "      <td>https://www.linkedin.com/jobs/view/business-an...</td>\n",
              "      <td>Data analysis, SQL, Database management, Macro...</td>\n",
              "    </tr>\n",
              "    <tr>\n",
              "      <th>2</th>\n",
              "      <td>https://www.linkedin.com/jobs/view/business-an...</td>\n",
              "      <td>Business Analysis, Business Process Review, Re...</td>\n",
              "    </tr>\n",
              "    <tr>\n",
              "      <th>3</th>\n",
              "      <td>https://www.linkedin.com/jobs/view/business-an...</td>\n",
              "      <td>Alteryx Analytics, SQL, Data Validation, Alter...</td>\n",
              "    </tr>\n",
              "    <tr>\n",
              "      <th>4</th>\n",
              "      <td>https://www.linkedin.com/jobs/view/business-an...</td>\n",
              "      <td>Data Analysis, Process Improvement, Technology...</td>\n",
              "    </tr>\n",
              "  </tbody>\n",
              "</table>\n",
              "</div>\n",
              "    <div class=\"colab-df-buttons\">\n",
              "\n",
              "  <div class=\"colab-df-container\">\n",
              "    <button class=\"colab-df-convert\" onclick=\"convertToInteractive('df-f001107a-6ba7-4b7d-b69c-76d897019fc6')\"\n",
              "            title=\"Convert this dataframe to an interactive table.\"\n",
              "            style=\"display:none;\">\n",
              "\n",
              "  <svg xmlns=\"http://www.w3.org/2000/svg\" height=\"24px\" viewBox=\"0 -960 960 960\">\n",
              "    <path d=\"M120-120v-720h720v720H120Zm60-500h600v-160H180v160Zm220 220h160v-160H400v160Zm0 220h160v-160H400v160ZM180-400h160v-160H180v160Zm440 0h160v-160H620v160ZM180-180h160v-160H180v160Zm440 0h160v-160H620v160Z\"/>\n",
              "  </svg>\n",
              "    </button>\n",
              "\n",
              "  <style>\n",
              "    .colab-df-container {\n",
              "      display:flex;\n",
              "      gap: 12px;\n",
              "    }\n",
              "\n",
              "    .colab-df-convert {\n",
              "      background-color: #E8F0FE;\n",
              "      border: none;\n",
              "      border-radius: 50%;\n",
              "      cursor: pointer;\n",
              "      display: none;\n",
              "      fill: #1967D2;\n",
              "      height: 32px;\n",
              "      padding: 0 0 0 0;\n",
              "      width: 32px;\n",
              "    }\n",
              "\n",
              "    .colab-df-convert:hover {\n",
              "      background-color: #E2EBFA;\n",
              "      box-shadow: 0px 1px 2px rgba(60, 64, 67, 0.3), 0px 1px 3px 1px rgba(60, 64, 67, 0.15);\n",
              "      fill: #174EA6;\n",
              "    }\n",
              "\n",
              "    .colab-df-buttons div {\n",
              "      margin-bottom: 4px;\n",
              "    }\n",
              "\n",
              "    [theme=dark] .colab-df-convert {\n",
              "      background-color: #3B4455;\n",
              "      fill: #D2E3FC;\n",
              "    }\n",
              "\n",
              "    [theme=dark] .colab-df-convert:hover {\n",
              "      background-color: #434B5C;\n",
              "      box-shadow: 0px 1px 3px 1px rgba(0, 0, 0, 0.15);\n",
              "      filter: drop-shadow(0px 1px 2px rgba(0, 0, 0, 0.3));\n",
              "      fill: #FFFFFF;\n",
              "    }\n",
              "  </style>\n",
              "\n",
              "    <script>\n",
              "      const buttonEl =\n",
              "        document.querySelector('#df-f001107a-6ba7-4b7d-b69c-76d897019fc6 button.colab-df-convert');\n",
              "      buttonEl.style.display =\n",
              "        google.colab.kernel.accessAllowed ? 'block' : 'none';\n",
              "\n",
              "      async function convertToInteractive(key) {\n",
              "        const element = document.querySelector('#df-f001107a-6ba7-4b7d-b69c-76d897019fc6');\n",
              "        const dataTable =\n",
              "          await google.colab.kernel.invokeFunction('convertToInteractive',\n",
              "                                                    [key], {});\n",
              "        if (!dataTable) return;\n",
              "\n",
              "        const docLinkHtml = 'Like what you see? Visit the ' +\n",
              "          '<a target=\"_blank\" href=https://colab.research.google.com/notebooks/data_table.ipynb>data table notebook</a>'\n",
              "          + ' to learn more about interactive tables.';\n",
              "        element.innerHTML = '';\n",
              "        dataTable['output_type'] = 'display_data';\n",
              "        await google.colab.output.renderOutput(dataTable, element);\n",
              "        const docLink = document.createElement('div');\n",
              "        docLink.innerHTML = docLinkHtml;\n",
              "        element.appendChild(docLink);\n",
              "      }\n",
              "    </script>\n",
              "  </div>\n",
              "\n",
              "\n",
              "<div id=\"df-27c35599-871f-44d2-a883-eb4c6e3327a4\">\n",
              "  <button class=\"colab-df-quickchart\" onclick=\"quickchart('df-27c35599-871f-44d2-a883-eb4c6e3327a4')\"\n",
              "            title=\"Suggest charts\"\n",
              "            style=\"display:none;\">\n",
              "\n",
              "<svg xmlns=\"http://www.w3.org/2000/svg\" height=\"24px\"viewBox=\"0 0 24 24\"\n",
              "     width=\"24px\">\n",
              "    <g>\n",
              "        <path d=\"M19 3H5c-1.1 0-2 .9-2 2v14c0 1.1.9 2 2 2h14c1.1 0 2-.9 2-2V5c0-1.1-.9-2-2-2zM9 17H7v-7h2v7zm4 0h-2V7h2v10zm4 0h-2v-4h2v4z\"/>\n",
              "    </g>\n",
              "</svg>\n",
              "  </button>\n",
              "\n",
              "<style>\n",
              "  .colab-df-quickchart {\n",
              "      --bg-color: #E8F0FE;\n",
              "      --fill-color: #1967D2;\n",
              "      --hover-bg-color: #E2EBFA;\n",
              "      --hover-fill-color: #174EA6;\n",
              "      --disabled-fill-color: #AAA;\n",
              "      --disabled-bg-color: #DDD;\n",
              "  }\n",
              "\n",
              "  [theme=dark] .colab-df-quickchart {\n",
              "      --bg-color: #3B4455;\n",
              "      --fill-color: #D2E3FC;\n",
              "      --hover-bg-color: #434B5C;\n",
              "      --hover-fill-color: #FFFFFF;\n",
              "      --disabled-bg-color: #3B4455;\n",
              "      --disabled-fill-color: #666;\n",
              "  }\n",
              "\n",
              "  .colab-df-quickchart {\n",
              "    background-color: var(--bg-color);\n",
              "    border: none;\n",
              "    border-radius: 50%;\n",
              "    cursor: pointer;\n",
              "    display: none;\n",
              "    fill: var(--fill-color);\n",
              "    height: 32px;\n",
              "    padding: 0;\n",
              "    width: 32px;\n",
              "  }\n",
              "\n",
              "  .colab-df-quickchart:hover {\n",
              "    background-color: var(--hover-bg-color);\n",
              "    box-shadow: 0 1px 2px rgba(60, 64, 67, 0.3), 0 1px 3px 1px rgba(60, 64, 67, 0.15);\n",
              "    fill: var(--button-hover-fill-color);\n",
              "  }\n",
              "\n",
              "  .colab-df-quickchart-complete:disabled,\n",
              "  .colab-df-quickchart-complete:disabled:hover {\n",
              "    background-color: var(--disabled-bg-color);\n",
              "    fill: var(--disabled-fill-color);\n",
              "    box-shadow: none;\n",
              "  }\n",
              "\n",
              "  .colab-df-spinner {\n",
              "    border: 2px solid var(--fill-color);\n",
              "    border-color: transparent;\n",
              "    border-bottom-color: var(--fill-color);\n",
              "    animation:\n",
              "      spin 1s steps(1) infinite;\n",
              "  }\n",
              "\n",
              "  @keyframes spin {\n",
              "    0% {\n",
              "      border-color: transparent;\n",
              "      border-bottom-color: var(--fill-color);\n",
              "      border-left-color: var(--fill-color);\n",
              "    }\n",
              "    20% {\n",
              "      border-color: transparent;\n",
              "      border-left-color: var(--fill-color);\n",
              "      border-top-color: var(--fill-color);\n",
              "    }\n",
              "    30% {\n",
              "      border-color: transparent;\n",
              "      border-left-color: var(--fill-color);\n",
              "      border-top-color: var(--fill-color);\n",
              "      border-right-color: var(--fill-color);\n",
              "    }\n",
              "    40% {\n",
              "      border-color: transparent;\n",
              "      border-right-color: var(--fill-color);\n",
              "      border-top-color: var(--fill-color);\n",
              "    }\n",
              "    60% {\n",
              "      border-color: transparent;\n",
              "      border-right-color: var(--fill-color);\n",
              "    }\n",
              "    80% {\n",
              "      border-color: transparent;\n",
              "      border-right-color: var(--fill-color);\n",
              "      border-bottom-color: var(--fill-color);\n",
              "    }\n",
              "    90% {\n",
              "      border-color: transparent;\n",
              "      border-bottom-color: var(--fill-color);\n",
              "    }\n",
              "  }\n",
              "</style>\n",
              "\n",
              "  <script>\n",
              "    async function quickchart(key) {\n",
              "      const quickchartButtonEl =\n",
              "        document.querySelector('#' + key + ' button');\n",
              "      quickchartButtonEl.disabled = true;  // To prevent multiple clicks.\n",
              "      quickchartButtonEl.classList.add('colab-df-spinner');\n",
              "      try {\n",
              "        const charts = await google.colab.kernel.invokeFunction(\n",
              "            'suggestCharts', [key], {});\n",
              "      } catch (error) {\n",
              "        console.error('Error during call to suggestCharts:', error);\n",
              "      }\n",
              "      quickchartButtonEl.classList.remove('colab-df-spinner');\n",
              "      quickchartButtonEl.classList.add('colab-df-quickchart-complete');\n",
              "    }\n",
              "    (() => {\n",
              "      let quickchartButtonEl =\n",
              "        document.querySelector('#df-27c35599-871f-44d2-a883-eb4c6e3327a4 button');\n",
              "      quickchartButtonEl.style.display =\n",
              "        google.colab.kernel.accessAllowed ? 'block' : 'none';\n",
              "    })();\n",
              "  </script>\n",
              "</div>\n",
              "\n",
              "    </div>\n",
              "  </div>\n"
            ],
            "application/vnd.google.colaboratory.intrinsic+json": {
              "type": "dataframe",
              "summary": "{\n  \"name\": \"    \",\n  \"rows\": 5,\n  \"fields\": [\n    {\n      \"column\": \"link\",\n      \"properties\": {\n        \"dtype\": \"string\",\n        \"num_unique_values\": 5,\n        \"samples\": [\n          \"https://www.linkedin.com/jobs/view/business-analyst-%2421-hr-on-w2-baltimore-md-onsite-at-kellton-3793671264\",\n          \"https://www.linkedin.com/jobs/view/business-analyst-at-future-technologies-venture-llc-3800835366\",\n          \"https://www.linkedin.com/jobs/view/business-analyst-%E2%80%93-product-lead-at-exl-3784085058\"\n        ],\n        \"semantic_type\": \"\",\n        \"description\": \"\"\n      }\n    },\n    {\n      \"column\": \"skill\",\n      \"properties\": {\n        \"dtype\": \"string\",\n        \"num_unique_values\": 5,\n        \"samples\": [\n          \"Data analysis, SQL, Database management, Macro programming, Financial services knowledge, Verbal communication, Written communication, Teamwork, Learning agility, Result orientation, Microsoft Office Suite, Pressure management\",\n          \"Data Analysis, Process Improvement, Technology Evaluation and Selection, Stakeholder Collaboration, Business Process Reengineering, Enterprise Resource Planning (ERP), Business Intelligence (BI), Data Mining, Data Visualization, Lean Six Sigma, Agile, Kaizen, Project Management, Business Administration, Economics, Information Systems, Excel, SQL, Data Visualization Software, Process Improvement Methodologies, Communication, Presentation, Attention to Detail, Teamwork, Startup Experience, SMB Experience, Six Sigma Certification, Lead Certification, PMP Certification, Agile Certification, Certified Process Improvement Professional\",\n          \"Business Analysis, Business Process Review, Requirements Gathering and Documentation, Agile Scrum Methodology, User Story Creation, Product Management, Stakeholder Management, Risk Management, Change Management, Problem Solving, Communication (Technical and NonTechnical), Data Analysis (SQL), Team Collaboration, MultiTasking, Time Management, Project Management, Bachelor's Degree\"\n        ],\n        \"semantic_type\": \"\",\n        \"description\": \"\"\n      }\n    }\n  ]\n}"
            }
          },
          "metadata": {},
          "execution_count": 18
        }
      ]
    },
    {
      "cell_type": "markdown",
      "source": [
        "#### EDA"
      ],
      "metadata": {
        "id": "oUqlKiP36c6H"
      }
    },
    {
      "cell_type": "code",
      "source": [
        "df_pd = data.toPandas()\n",
        "df_pd.shape"
      ],
      "metadata": {
        "id": "N7vttbAX6XG6",
        "colab": {
          "base_uri": "https://localhost:8080/"
        },
        "outputId": "37bb9526-c5bb-4fb4-def9-0a988eb49fa6"
      },
      "execution_count": 19,
      "outputs": [
        {
          "output_type": "execute_result",
          "data": {
            "text/plain": [
              "(6795, 2)"
            ]
          },
          "metadata": {},
          "execution_count": 19
        }
      ]
    },
    {
      "cell_type": "code",
      "source": [
        "skills = df_pd['skill'].str.split(', ').explode()\n",
        "df = pd.DataFrame(skills, index=None)\n",
        "df.shape"
      ],
      "metadata": {
        "id": "AREUdM-468Nl",
        "outputId": "91b912b5-67ee-497e-9bf0-417b06105730",
        "colab": {
          "base_uri": "https://localhost:8080/"
        }
      },
      "execution_count": 20,
      "outputs": [
        {
          "output_type": "execute_result",
          "data": {
            "text/plain": [
              "(180380, 1)"
            ]
          },
          "metadata": {},
          "execution_count": 20
        }
      ]
    },
    {
      "cell_type": "code",
      "source": [
        "counting = df.value_counts().sort_values(ascending = 0)\n",
        "counting"
      ],
      "metadata": {
        "id": "f06ySeRH728w",
        "outputId": "63853670-e3e3-4569-a182-e009b0cb9c21",
        "colab": {
          "base_uri": "https://localhost:8080/"
        }
      },
      "execution_count": 21,
      "outputs": [
        {
          "output_type": "execute_result",
          "data": {
            "text/plain": [
              "skill                     \n",
              "SQL                           3023\n",
              "Python                        2388\n",
              "Communication                 1704\n",
              "Data Analysis                 1703\n",
              "Project Management            1230\n",
              "                              ... \n",
              "Rate analysis                    1\n",
              "Rate changes                     1\n",
              "Rate design                      1\n",
              "Rates and Forms Management       1\n",
              "Éditions Documentaires           1\n",
              "Name: count, Length: 41020, dtype: int64"
            ]
          },
          "metadata": {},
          "execution_count": 21
        }
      ]
    },
    {
      "cell_type": "code",
      "source": [
        "counting[:15].plot.bar()"
      ],
      "metadata": {
        "id": "A54lDJLbSZVV",
        "outputId": "f1ce1c37-9abe-49a6-811c-717658d899c7",
        "colab": {
          "base_uri": "https://localhost:8080/",
          "height": 611
        }
      },
      "execution_count": 22,
      "outputs": [
        {
          "output_type": "execute_result",
          "data": {
            "text/plain": [
              "<Axes: xlabel='skill'>"
            ]
          },
          "metadata": {},
          "execution_count": 22
        },
        {
          "output_type": "display_data",
          "data": {
            "text/plain": [
              "<Figure size 640x480 with 1 Axes>"
            ],
            "image/png": "[encoded data removed]"
          },
          "metadata": {}
        }
      ]
    },
    {
      "cell_type": "markdown",
      "source": [
        "## MBA: turning data into baskets, baskets hashing"
      ],
      "metadata": {
        "id": "h1Qs29V-D-bV"
      }
    },
    {
      "cell_type": "code",
      "source": [
        "rdd = data.select(data.columns[1]).rdd\n",
        "baskets = rdd.map(lambda x: x['skill']).map(lambda line: line.split(', '))\n",
        "baskets.take(1)"
      ],
      "metadata": {
        "colab": {
          "base_uri": "https://localhost:8080/"
        },
        "id": "_5Ll9vO9_iIj",
        "outputId": "59d4fb2f-fb07-482b-f9c6-e0dfdaf93911"
      },
      "execution_count": 44,
      "outputs": [
        {
          "output_type": "execute_result",
          "data": {
            "text/plain": [
              "[['Business Analyst',\n",
              "  'DoD financial management processes',\n",
              "  'Government financial and accounting systems',\n",
              "  'Acquisition and budgeting processes',\n",
              "  'Relational databases',\n",
              "  'Financial and technical consulting',\n",
              "  'Government finance expertise',\n",
              "  'Financial data structuring',\n",
              "  'Reconciliation between systems',\n",
              "  'Financial forecasts and accounting data review',\n",
              "  'Government financial office support',\n",
              "  'Cost and Requirement System (CCaR™) experience',\n",
              "  \"Bachelor's degree in business management engineering computer science mathematics economics\",\n",
              "  '7+ years of government acquisition finance financial management program management or related experience',\n",
              "  '10+ years of equivalent technical training or work/military experience',\n",
              "  'Extended periods of sitting typing hearing seeing and speaking',\n",
              "  'Prolonged computer work and typing',\n",
              "  'Accurate communication',\n",
              "  '15 lbs lifting/carrying',\n",
              "  'Office mobility',\n",
              "  'Federal background investigation',\n",
              "  'Travel',\n",
              "  'Varying work schedule',\n",
              "  'Additional hours and weekend work',\n",
              "  '$80000  $120000 annual salary',\n",
              "  'Employerpaid health dental vision disability AD&D and life insurance',\n",
              "  'Elective plans including flexible spending accounts voluntary life insurance and supplemental insurance',\n",
              "  '11 paid holidays',\n",
              "  '3 weeks PTO accrual per year',\n",
              "  '401(k) safe harbor contribution',\n",
              "  'Employee referral bonuses',\n",
              "  'Equal Opportunity Employer']]"
            ]
          },
          "metadata": {},
          "execution_count": 44
        }
      ]
    },
    {
      "cell_type": "code",
      "source": [
        "lenghts = baskets.map(lambda x: len(x))\n",
        "\n",
        "print(f\"Max number of items in the basket is: {lenghts.max()}\\n\",\n",
        "      f\"The average number of items in the basket is: {lenghts.mean()}\\n\",\n",
        "      f\"The total number of baskets is: {baskets.count()}\\n\",\n",
        "      f\"The approximate total number of items is:{round(lenghts.mean() * baskets.count())}\", sep = '\\n')"
      ],
      "metadata": {
        "colab": {
          "base_uri": "https://localhost:8080/"
        },
        "id": "JDVDVyr5AVuP",
        "outputId": "558146c9-af01-4635-9324-c3e902b80e3a"
      },
      "execution_count": 53,
      "outputs": [
        {
          "output_type": "stream",
          "name": "stdout",
          "text": [
            "Max number of items in the basket is: 224\n",
            "\n",
            "The average number of items in the basket is: 26.54598969830757\n",
            "\n",
            "The total number of baskets is: 6795\n",
            "\n",
            "The approximate total number of items is:180380\n"
          ]
        }
      ]
    },
    {
      "cell_type": "code",
      "source": [
        "def supp(baskets, percentage):\n",
        "  s = round(baskets.count() * percentage / 100)\n",
        "  return s\n",
        "\n",
        "support = supp(baskets, 1)\n",
        "print(f\"The support value is {support}\")"
      ],
      "metadata": {
        "colab": {
          "base_uri": "https://localhost:8080/"
        },
        "id": "FVCzmq7u_zfJ",
        "outputId": "fb10ac0b-7fb5-4db2-b0ee-c5ff52c37917"
      },
      "execution_count": 61,
      "outputs": [
        {
          "output_type": "stream",
          "name": "stdout",
          "text": [
            "The support value is 68\n"
          ]
        }
      ]
    },
    {
      "cell_type": "code",
      "source": [
        "items = baskets.flatMap(lambda line: line) \\\n",
        "               .distinct()\n",
        "items.take(1)"
      ],
      "metadata": {
        "colab": {
          "base_uri": "https://localhost:8080/"
        },
        "id": "_69QSskfAN4E",
        "outputId": "5ded61c7-70ef-4d36-dba5-8fc2770fefaa"
      },
      "execution_count": 51,
      "outputs": [
        {
          "output_type": "execute_result",
          "data": {
            "text/plain": [
              "['Test cases']"
            ]
          },
          "metadata": {},
          "execution_count": 51
        }
      ]
    },
    {
      "cell_type": "code",
      "source": [
        "items_index = items.zipWithIndex() \\\n",
        "                   .collectAsMap()\n",
        "\n",
        "for elem, index in list(items_index.items())[:15]:\n",
        "  print(f\"{elem}: {index}\")\n",
        "\n",
        "print(f\"\\n\\nThe total number of skills is {len(items_index)}\")"
      ],
      "metadata": {
        "colab": {
          "base_uri": "https://localhost:8080/"
        },
        "id": "iThV507HDV8F",
        "outputId": "2feb32fe-e95c-49da-d39e-f5d118efc049"
      },
      "execution_count": 52,
      "outputs": [
        {
          "output_type": "stream",
          "name": "stdout",
          "text": [
            "Test cases: 0\n",
            "Test data preparation: 1\n",
            "Project status communication: 2\n",
            "Airflow: 3\n",
            "Mentoring: 4\n",
            "Schema design: 5\n",
            "PPC: 6\n",
            "Supplier registration: 7\n",
            "Stakeholder communication: 8\n",
            "Computer skills: 9\n",
            "Technical support: 10\n",
            "Ability to work under pressure: 11\n",
            "Cloud Technology: 12\n",
            "Status Reporting: 13\n",
            "Worldclass technology talent provision: 14\n",
            "\n",
            "\n",
            "The total number of skills is 41020\n"
          ]
        }
      ]
    },
    {
      "cell_type": "code",
      "source": [
        "def hashing(basket):\n",
        "    return {items_index[skill] for skill in basket}\n",
        "\n",
        "hashed_baskets = baskets.map(hashing)\n",
        "hashed_baskets.take(1)"
      ],
      "metadata": {
        "id": "c2RRgl47CpDT"
      },
      "execution_count": 54,
      "outputs": []
    },
    {
      "cell_type": "markdown",
      "source": [
        "\n",
        "### A-PRIORY"
      ],
      "metadata": {
        "id": "q5zPrwlfEE43"
      }
    },
    {
      "cell_type": "markdown",
      "source": [
        "### The 1st pass: count occurencies of each item"
      ],
      "metadata": {
        "id": "R7FhHfUeGnrk"
      }
    },
    {
      "cell_type": "code",
      "source": [
        "from itertools import combinations"
      ],
      "metadata": {
        "id": "GUc7jI3SG3Ey"
      },
      "execution_count": 58,
      "outputs": []
    },
    {
      "cell_type": "code",
      "source": [
        "def apriori(baskets, support, index, k):\n",
        "  '''Fist phase to count occurencies of each item'''\n",
        "\n",
        "  candidate_items = baskets.flatMap(lambda basket: [(item, 1) for item in basket]) \\\n",
        "                           .reduceByKey(lambda count1, count2: count1 + count2) \\\n",
        "                           .filter(lambda item_count: item_count[1] > support)\n",
        "\n",
        "  print(f'The total number of candidate items is: {candidate_items.count()}')\n",
        "\n",
        "  top_candidates = candidate_items.takeOrdered(5, key = lambda item_count: item_count[1], ascending=False)\n",
        "  top_candidates = [(item[0], item[1]) for item in top_candidates]\n",
        "\n",
        "  print(f\"The frequent items (our candidates) are: {top_candidates}\")\n",
        "  candidates = set(candidate_items.map(lambda x: (x[0],)).collect())\n",
        "\n",
        "  '''The second phase: create the candidate pairs'''\n",
        "  candidate_itemsets = baskets.flatMap(lambda basket: [\n",
        "      (tuple(sorted(itemset)), 1) for itemset in combinations(sorted(basket), k) if all(item in candidates for item in combinations(itemset, k))\n",
        "      ]) \\\n",
        "                              .reduceByKey(lambda x, y: x + y) \\\n",
        "                              .filter(lambda x: x[1] > support)\n",
        "\n",
        "  print(f'The total number of candidate pairs is: {candidate_itemsets.count()}')\n",
        "\n",
        "    # Find Top 5 Frequent Pairs\n",
        "  top_itemsets = candidate_itemsets.takeOrdered(5, key=lambda x: x[1], ascending=False)\n",
        "  frequent_pairs = [(itemset[0], itemset[1]) for itemset in top_itemsets]\n",
        "\n",
        "  return frequent_pairs"
      ],
      "metadata": {
        "id": "B5ov61PmS14U"
      },
      "execution_count": 85,
      "outputs": []
    },
    {
      "cell_type": "code",
      "source": [
        "apriori(hashed_baskets, support, items_index, k=2)"
      ],
      "metadata": {
        "id": "kWTICa_wZ3kC"
      },
      "execution_count": null,
      "outputs": []
    },
    {
      "cell_type": "markdown",
      "source": [
        "## DRAFT: Data transformation into baskets, hashing + algo"
      ],
      "metadata": {
        "id": "UvKG3BGqZnrx"
      }
    },
    {
      "cell_type": "markdown",
      "source": [
        "##### The first pass (count occurencies of each item)"
      ],
      "metadata": {
        "id": "EIPAEkqIEtBu"
      }
    },
    {
      "cell_type": "code",
      "source": [
        "first_pass = hashed_baskets.flatMap(lambda basket:[(e,1) for e in basket]) \\\n",
        "                .reduceByKey(lambda x,y: x+y) \\\n",
        "                .filter(lambda x: x[1]>supp)\n",
        "\n",
        "print(\"remaining singleton\", first_pass.count())\n",
        "print(\"5 random singleton\", first_pass.take(5))\n",
        "\n",
        "  max_s = first_pass.max(lambda x: x[1])\n",
        "  max_s_ = (list(hash_table.keys())[list(hash_table.values()).index(max_s[0])])\n",
        "  print(\"Most frequent singleton:\",max_s_)\n",
        "\n",
        "  freqs = set(first_pass.map(lambda x: (x[0],)).collect())\n",
        "\n",
        "  print()"
      ],
      "metadata": {
        "id": "cLnPgdR-EzA0",
        "colab": {
          "base_uri": "https://localhost:8080/"
        },
        "outputId": "0a35bd76-7696-49b2-b223-8add03346633"
      },
      "execution_count": null,
      "outputs": [
        {
          "output_type": "stream",
          "name": "stdout",
          "text": [
            "remaining singleton 352\n",
            "5 random singleton [(30000, 84), (201, 628), (3, 272), (16003, 73), (4, 152)]\n"
          ]
        }
      ]
    },
    {
      "cell_type": "code",
      "source": [
        "# to count all pair composed of frequent singletons\n",
        "from itertools import combinations\n",
        "\n",
        "frequent_singletons = set(first_pass.map(lambda x:x[0]).collect())\n",
        "second_pass = hashed_baskets.flatMap(lambda basket:[(e,1) for e in combinations(sorted(basket),2)]) \\\n",
        "                 .filter(lambda x: x[0][0] in frequent_singletons) \\\n",
        "                 .filter(lambda x: x[0][1] in frequent_singletons) \\\n",
        "                 .reduceByKey(lambda x,y: x+y) \\\n",
        "                 .filter(lambda x:x[1]>s)\n",
        "\n",
        "print(second_pass.count())"
      ],
      "metadata": {
        "id": "W9a2v5BjFI_-"
      },
      "execution_count": null,
      "outputs": []
    },
    {
      "cell_type": "code",
      "source": [
        "frdd = hashed_baskets.flatMap(lambda basket:[(e,1) for e in basket]) \\\n",
        "          .reduceByKey(lambda x,y:x+y) \\\n",
        "          .filter(lambda x:x[1] > s)\n",
        "\n",
        "frequent = set(first_pass.map(lambda x:(x[0],)).collect())\n",
        "\n",
        "print(f\"remaining: {len(frequent)}, frdd {frdd.take(5)}\")\n",
        "\n",
        "k = 2\n",
        "while frdd.count() != 0:\n",
        "    frdd = hashed_baskets.flatMap(lambda basket: [(x,1) for x in combinations(sorted(basket),k)])\\\n",
        "              .filter(lambda x: all([y in frequent for y in combinations(x[0],len(x[0])-1)])) \\\n",
        "              .reduceByKey(lambda x,y:x+y) \\\n",
        "              .filter(lambda x:x[1] > s)\n",
        "\n",
        "    frequent = set(frdd.map(lambda x:x[0]).collect())\n",
        "    print(k, len(frequent), frdd.take(5))\n",
        "    k += 1"
      ],
      "metadata": {
        "id": "1fguQCFcFXtu"
      },
      "execution_count": null,
      "outputs": []
    },
    {
      "cell_type": "code",
      "source": [
        "class Basketorization:\n",
        "    def __init__(self, data):\n",
        "        self.data = data\n",
        "\n",
        "    def create_baskets(self):\n",
        "\n",
        "        \"\"\" Create baskets from data \"\"\"\n",
        "\n",
        "        rdd = self.data.select(data.columns[1]).rdd\n",
        "        baskets = rdd.map(lambda x: x['skill']).map(lambda line: line.split(', '))\n",
        "        return baskets\n",
        "\n",
        "    def calculate_support(self, baskets, percentage):\n",
        "\n",
        "        \"\"\"Calculate support based on percentage\"\"\"\n",
        "\n",
        "        support_value = round(baskets.count() * percentage / 100)\n",
        "        return support_value\n",
        "\n",
        "    def analyse_baskets(self, baskets):\n",
        "\n",
        "            # \"\"\" Do simple EDA \"\"\"\n",
        "\n",
        "        lengths = baskets.map(lambda x: len(x))\n",
        "        return {\n",
        "            \"The size of the biggest basket\": lengths.max(),\n",
        "            \"On average, the size of the basket is\": lengths.mean(),\n",
        "            \"The total number of baskets is\": baskets.count(),\n",
        "            \"The approximate total number of items is\": round(lengths.mean() * baskets.count())\n",
        "        }\n",
        "\n",
        "    def item_indexing(self, baskets):\n",
        "      '''Create hash table (distinct item - distinct index)'''\n",
        "      items = baskets.flatMap(lambda line: line) \\\n",
        "                     .distinct()\n",
        "      items_index = items.zipWithIndex() \\\n",
        "                         .collectAsMap() # return a dictionary of (key, value) pairs\n",
        "      print(f\"The total number of skills is {len(items_index)}\")\n",
        "      return items_index\n",
        "\n",
        "    def hashing(self, baskets, items_index):\n",
        "      '''Hash each item of the basket with its index'''\n",
        "\n",
        "      def hash_basket(basket):\n",
        "        '''Transform baskets into sets'''\n",
        "        hashed_basket = [items_index.get(skill, -1) for skill in baskets]\n",
        "        return hashed_basket\n",
        "\n",
        "      hashed_baskets = baskets.map(hash_basket)\n",
        "      return hashed_baskets\n",
        "\n",
        "    def basketarise(self, percentage):\n",
        "\n",
        "        \"\"\"Run the basket creation, calculate support, and analysis steps\"\"\"\n",
        "\n",
        "        baskets = self.create_baskets()\n",
        "        analysis = self.analyse_baskets(baskets)\n",
        "        support_value = self.calculate_support(baskets, percentage)\n",
        "        items_index = self.item_indexing(baskets)\n",
        "        hash_table = self.hashing(baskets,items_index)\n",
        "        baskets_hashed = baskets.map(self.hashing)\n",
        "\n",
        "        return analysis, support_value, baskets, baskets_hashed, items_index, hash_table"
      ],
      "metadata": {
        "id": "vFtquhDMHVxK"
      },
      "execution_count": 23,
      "outputs": []
    },
    {
      "cell_type": "code",
      "source": [
        "data_mba = Basketorization(data)\n",
        "analysis, support, baskets, baskets_hashed, items_index, hash_table  = data_mba.basketarise(1)\n",
        "print(f\"The basic exploratory analysis: {analysis}\")\n",
        "print(f\"Support value is: {support}\")"
      ],
      "metadata": {
        "id": "j4BlXdna8fEo",
        "outputId": "145fa177-3dcd-4f79-b6e3-a56af5d17738",
        "colab": {
          "base_uri": "https://localhost:8080/"
        }
      },
      "execution_count": 24,
      "outputs": [
        {
          "output_type": "stream",
          "name": "stdout",
          "text": [
            "The total number of skills is 41020\n",
            "The basic exploratory analysis: {'The size of the biggest basket': 224, 'On average, the size of the basket is': 26.54598969830757, 'The total number of baskets is': 6795, 'The approximate total number of items is': 180380}\n",
            "Support value is: 68\n"
          ]
        }
      ]
    },
    {
      "cell_type": "code",
      "source": [
        "for elem, index in list(items_index.items())[:15]:\n",
        "  print(f\"{elem}: {index}\")"
      ],
      "metadata": {
        "colab": {
          "base_uri": "https://localhost:8080/"
        },
        "id": "EyJq6zxDK-jZ",
        "outputId": "0ea8264d-a73e-4fa4-9e64-1d002cb9377d",
        "collapsed": true
      },
      "execution_count": 30,
      "outputs": [
        {
          "output_type": "stream",
          "name": "stdout",
          "text": [
            "Test cases: 0\n",
            "Test data preparation: 1\n",
            "Project status communication: 2\n",
            "Airflow: 3\n",
            "Mentoring: 4\n",
            "Schema design: 5\n",
            "PPC: 6\n",
            "Supplier registration: 7\n",
            "Stakeholder communication: 8\n",
            "Computer skills: 9\n",
            "Technical support: 10\n",
            "Ability to work under pressure: 11\n",
            "Cloud Technology: 12\n",
            "Status Reporting: 13\n",
            "Worldclass technology talent provision: 14\n"
          ]
        }
      ]
    },
    {
      "cell_type": "code",
      "source": [
        "def first_pass(baskets_hashed, hash_table, support):\n",
        "\n",
        "    '''Do the first pass of algo = count occurencies of each item'''\n",
        "\n",
        "    frst_pass = baskets_hashed.flatMap(lambda basket: [(skill, 1) for skill in baskets_hashed]) \\\n",
        "                        .reduceByKey(lambda x, y: x + y) \\\n",
        "                        .filter(lambda x: x[1]>support)\n",
        "\n",
        "    '''Check that it works  = due to support threshold we have frequent items (skills)'''\n",
        "    try:\n",
        "      frst_pass_count = frst_pass.count()\n",
        "      if frst_pass_count == 0:\n",
        "        raise ValueError('There are no frequent items')\n",
        "    except ValueError as e:\n",
        "      print('Low your support')\n",
        "      print(e)\n",
        "      return\n",
        "\n",
        "    print(f\"The number of frequent singletons is: {frst_pass_count}\")\n",
        "\n",
        "    '''Ask to see the most frequent items (skill)'''\n",
        "\n",
        "    freq_items_idx = frst_pass.max(lambda x: x[1])\n",
        "    freq_items = (list(hash_table.keys())[list(hash_table.values()).index(freq_items_idx[0])])\n",
        "    print(f\"The most frequent singleton:{freq_items}\")"
      ],
      "metadata": {
        "id": "XeEFToWDrMiN"
      },
      "execution_count": 42,
      "outputs": []
    },
    {
      "cell_type": "code",
      "source": [
        "first_pass(baskets_hashed, items_index, support)"
      ],
      "metadata": {
        "id": "E2RmQDLlrugk",
        "outputId": "7cacdb12-e447-4b06-eb7a-948460819924",
        "colab": {
          "base_uri": "https://localhost:8080/",
          "height": 654
        }
      },
      "execution_count": 43,
      "outputs": [
        {
          "output_type": "stream",
          "name": "stderr",
          "text": [
            "Traceback (most recent call last):\n",
            "  File \"/content/spark-3.1.1-bin-hadoop3.2/python/pyspark/serializers.py\", line 437, in dumps\n",
            "    return cloudpickle.dumps(obj, pickle_protocol)\n",
            "  File \"/content/spark-3.1.1-bin-hadoop3.2/python/pyspark/cloudpickle/cloudpickle_fast.py\", line 72, in dumps\n",
            "    cp.dump(obj)\n",
            "  File \"/content/spark-3.1.1-bin-hadoop3.2/python/pyspark/cloudpickle/cloudpickle_fast.py\", line 540, in dump\n",
            "    return Pickler.dump(self, obj)\n",
            "  File \"/content/spark-3.1.1-bin-hadoop3.2/python/pyspark/rdd.py\", line 263, in __getnewargs__\n",
            "    raise Exception(\n",
            "Exception: It appears that you are attempting to broadcast an RDD or reference an RDD from an action or transformation. RDD transformations and actions can only be invoked by the driver, not inside of other transformations; for example, rdd1.map(lambda x: rdd2.values.count() * x) is invalid because the values transformation and count action cannot be performed inside of the rdd1.map transformation. For more information, see SPARK-5063.\n"
          ]
        },
        {
          "output_type": "error",
          "ename": "PicklingError",
          "evalue": "Could not serialize object: Exception: It appears that you are attempting to broadcast an RDD or reference an RDD from an action or transformation. RDD transformations and actions can only be invoked by the driver, not inside of other transformations; for example, rdd1.map(lambda x: rdd2.values.count() * x) is invalid because the values transformation and count action cannot be performed inside of the rdd1.map transformation. For more information, see SPARK-5063.",
          "traceback": [
            "\u001b[0;31m---------------------------------------------------------------------------\u001b[0m",
            "\u001b[0;31mException\u001b[0m                                 Traceback (most recent call last)",
            "\u001b[0;32m/content/spark-3.1.1-bin-hadoop3.2/python/pyspark/serializers.py\u001b[0m in \u001b[0;36mdumps\u001b[0;34m(self, obj)\u001b[0m\n\u001b[1;32m    436\u001b[0m         \u001b[0;32mtry\u001b[0m\u001b[0;34m:\u001b[0m\u001b[0;34m\u001b[0m\u001b[0;34m\u001b[0m\u001b[0m\n\u001b[0;32m--> 437\u001b[0;31m             \u001b[0;32mreturn\u001b[0m \u001b[0mcloudpickle\u001b[0m\u001b[0;34m.\u001b[0m\u001b[0mdumps\u001b[0m\u001b[0;34m(\u001b[0m\u001b[0mobj\u001b[0m\u001b[0;34m,\u001b[0m \u001b[0mpickle_protocol\u001b[0m\u001b[0;34m)\u001b[0m\u001b[0;34m\u001b[0m\u001b[0;34m\u001b[0m\u001b[0m\n\u001b[0m\u001b[1;32m    438\u001b[0m         \u001b[0;32mexcept\u001b[0m \u001b[0mpickle\u001b[0m\u001b[0;34m.\u001b[0m\u001b[0mPickleError\u001b[0m\u001b[0;34m:\u001b[0m\u001b[0;34m\u001b[0m\u001b[0;34m\u001b[0m\u001b[0m\n",
            "\u001b[0;32m/content/spark-3.1.1-bin-hadoop3.2/python/pyspark/cloudpickle/cloudpickle_fast.py\u001b[0m in \u001b[0;36mdumps\u001b[0;34m(obj, protocol, buffer_callback)\u001b[0m\n\u001b[1;32m     71\u001b[0m             )\n\u001b[0;32m---> 72\u001b[0;31m             \u001b[0mcp\u001b[0m\u001b[0;34m.\u001b[0m\u001b[0mdump\u001b[0m\u001b[0;34m(\u001b[0m\u001b[0mobj\u001b[0m\u001b[0;34m)\u001b[0m\u001b[0;34m\u001b[0m\u001b[0;34m\u001b[0m\u001b[0m\n\u001b[0m\u001b[1;32m     73\u001b[0m             \u001b[0;32mreturn\u001b[0m \u001b[0mfile\u001b[0m\u001b[0;34m.\u001b[0m\u001b[0mgetvalue\u001b[0m\u001b[0;34m(\u001b[0m\u001b[0;34m)\u001b[0m\u001b[0;34m\u001b[0m\u001b[0;34m\u001b[0m\u001b[0m\n",
            "\u001b[0;32m/content/spark-3.1.1-bin-hadoop3.2/python/pyspark/cloudpickle/cloudpickle_fast.py\u001b[0m in \u001b[0;36mdump\u001b[0;34m(self, obj)\u001b[0m\n\u001b[1;32m    539\u001b[0m         \u001b[0;32mtry\u001b[0m\u001b[0;34m:\u001b[0m\u001b[0;34m\u001b[0m\u001b[0;34m\u001b[0m\u001b[0m\n\u001b[0;32m--> 540\u001b[0;31m             \u001b[0;32mreturn\u001b[0m \u001b[0mPickler\u001b[0m\u001b[0;34m.\u001b[0m\u001b[0mdump\u001b[0m\u001b[0;34m(\u001b[0m\u001b[0mself\u001b[0m\u001b[0;34m,\u001b[0m \u001b[0mobj\u001b[0m\u001b[0;34m)\u001b[0m\u001b[0;34m\u001b[0m\u001b[0;34m\u001b[0m\u001b[0m\n\u001b[0m\u001b[1;32m    541\u001b[0m         \u001b[0;32mexcept\u001b[0m \u001b[0mRuntimeError\u001b[0m \u001b[0;32mas\u001b[0m \u001b[0me\u001b[0m\u001b[0;34m:\u001b[0m\u001b[0;34m\u001b[0m\u001b[0;34m\u001b[0m\u001b[0m\n",
            "\u001b[0;32m/content/spark-3.1.1-bin-hadoop3.2/python/pyspark/rdd.py\u001b[0m in \u001b[0;36m__getnewargs__\u001b[0;34m(self)\u001b[0m\n\u001b[1;32m    262\u001b[0m         \u001b[0;31m# This method is called when attempting to pickle an RDD, which is always an error:\u001b[0m\u001b[0;34m\u001b[0m\u001b[0;34m\u001b[0m\u001b[0m\n\u001b[0;32m--> 263\u001b[0;31m         raise Exception(\n\u001b[0m\u001b[1;32m    264\u001b[0m             \u001b[0;34m\"It appears that you are attempting to broadcast an RDD or reference an RDD from an \"\u001b[0m\u001b[0;34m\u001b[0m\u001b[0;34m\u001b[0m\u001b[0m\n",
            "\u001b[0;31mException\u001b[0m: It appears that you are attempting to broadcast an RDD or reference an RDD from an action or transformation. RDD transformations and actions can only be invoked by the driver, not inside of other transformations; for example, rdd1.map(lambda x: rdd2.values.count() * x) is invalid because the values transformation and count action cannot be performed inside of the rdd1.map transformation. For more information, see SPARK-5063.",
            "\nDuring handling of the above exception, another exception occurred:\n",
            "\u001b[0;31mPicklingError\u001b[0m                             Traceback (most recent call last)",
            "\u001b[0;32m<ipython-input-43-207e8169a12e>\u001b[0m in \u001b[0;36m<cell line: 1>\u001b[0;34m()\u001b[0m\n\u001b[0;32m----> 1\u001b[0;31m \u001b[0mfirst_pass\u001b[0m\u001b[0;34m(\u001b[0m\u001b[0mbaskets_hashed\u001b[0m\u001b[0;34m,\u001b[0m \u001b[0mitems_index\u001b[0m\u001b[0;34m,\u001b[0m \u001b[0msupport\u001b[0m\u001b[0;34m)\u001b[0m\u001b[0;34m\u001b[0m\u001b[0;34m\u001b[0m\u001b[0m\n\u001b[0m",
            "\u001b[0;32m<ipython-input-42-0087dfcce73e>\u001b[0m in \u001b[0;36mfirst_pass\u001b[0;34m(baskets_hashed, hash_table, support)\u001b[0m\n\u001b[1;32m      4\u001b[0m \u001b[0;34m\u001b[0m\u001b[0m\n\u001b[1;32m      5\u001b[0m     \u001b[0mfrst_pass\u001b[0m \u001b[0;34m=\u001b[0m \u001b[0mbaskets_hashed\u001b[0m\u001b[0;34m.\u001b[0m\u001b[0mflatMap\u001b[0m\u001b[0;34m(\u001b[0m\u001b[0;32mlambda\u001b[0m \u001b[0mbasket\u001b[0m\u001b[0;34m:\u001b[0m \u001b[0;34m[\u001b[0m\u001b[0;34m(\u001b[0m\u001b[0mskill\u001b[0m\u001b[0;34m,\u001b[0m \u001b[0;36m1\u001b[0m\u001b[0;34m)\u001b[0m \u001b[0;32mfor\u001b[0m \u001b[0mskill\u001b[0m \u001b[0;32min\u001b[0m \u001b[0mbaskets_hashed\u001b[0m\u001b[0;34m]\u001b[0m\u001b[0;34m)\u001b[0m\u001b[0;31m \u001b[0m\u001b[0;31m\\\u001b[0m\u001b[0;34m\u001b[0m\u001b[0;34m\u001b[0m\u001b[0m\n\u001b[0;32m----> 6\u001b[0;31m                         \u001b[0;34m.\u001b[0m\u001b[0mreduceByKey\u001b[0m\u001b[0;34m(\u001b[0m\u001b[0;32mlambda\u001b[0m \u001b[0mx\u001b[0m\u001b[0;34m,\u001b[0m \u001b[0my\u001b[0m\u001b[0;34m:\u001b[0m \u001b[0mx\u001b[0m \u001b[0;34m+\u001b[0m \u001b[0my\u001b[0m\u001b[0;34m)\u001b[0m\u001b[0;31m \u001b[0m\u001b[0;31m\\\u001b[0m\u001b[0;34m\u001b[0m\u001b[0;34m\u001b[0m\u001b[0m\n\u001b[0m\u001b[1;32m      7\u001b[0m                         \u001b[0;34m.\u001b[0m\u001b[0mfilter\u001b[0m\u001b[0;34m(\u001b[0m\u001b[0;32mlambda\u001b[0m \u001b[0mx\u001b[0m\u001b[0;34m:\u001b[0m \u001b[0mx\u001b[0m\u001b[0;34m[\u001b[0m\u001b[0;36m1\u001b[0m\u001b[0;34m]\u001b[0m\u001b[0;34m>\u001b[0m\u001b[0msupport\u001b[0m\u001b[0;34m)\u001b[0m\u001b[0;34m\u001b[0m\u001b[0;34m\u001b[0m\u001b[0m\n\u001b[1;32m      8\u001b[0m \u001b[0;34m\u001b[0m\u001b[0m\n",
            "\u001b[0;32m/content/spark-3.1.1-bin-hadoop3.2/python/pyspark/rdd.py\u001b[0m in \u001b[0;36mreduceByKey\u001b[0;34m(self, func, numPartitions, partitionFunc)\u001b[0m\n\u001b[1;32m   1889\u001b[0m         \u001b[0;34m[\u001b[0m\u001b[0;34m(\u001b[0m\u001b[0;34m'a'\u001b[0m\u001b[0;34m,\u001b[0m \u001b[0;36m2\u001b[0m\u001b[0;34m)\u001b[0m\u001b[0;34m,\u001b[0m \u001b[0;34m(\u001b[0m\u001b[0;34m'b'\u001b[0m\u001b[0;34m,\u001b[0m \u001b[0;36m1\u001b[0m\u001b[0;34m)\u001b[0m\u001b[0;34m]\u001b[0m\u001b[0;34m\u001b[0m\u001b[0;34m\u001b[0m\u001b[0m\n\u001b[1;32m   1890\u001b[0m         \"\"\"\n\u001b[0;32m-> 1891\u001b[0;31m         \u001b[0;32mreturn\u001b[0m \u001b[0mself\u001b[0m\u001b[0;34m.\u001b[0m\u001b[0mcombineByKey\u001b[0m\u001b[0;34m(\u001b[0m\u001b[0;32mlambda\u001b[0m \u001b[0mx\u001b[0m\u001b[0;34m:\u001b[0m \u001b[0mx\u001b[0m\u001b[0;34m,\u001b[0m \u001b[0mfunc\u001b[0m\u001b[0;34m,\u001b[0m \u001b[0mfunc\u001b[0m\u001b[0;34m,\u001b[0m \u001b[0mnumPartitions\u001b[0m\u001b[0;34m,\u001b[0m \u001b[0mpartitionFunc\u001b[0m\u001b[0;34m)\u001b[0m\u001b[0;34m\u001b[0m\u001b[0;34m\u001b[0m\u001b[0m\n\u001b[0m\u001b[1;32m   1892\u001b[0m \u001b[0;34m\u001b[0m\u001b[0m\n\u001b[1;32m   1893\u001b[0m     \u001b[0;32mdef\u001b[0m \u001b[0mreduceByKeyLocally\u001b[0m\u001b[0;34m(\u001b[0m\u001b[0mself\u001b[0m\u001b[0;34m,\u001b[0m \u001b[0mfunc\u001b[0m\u001b[0;34m)\u001b[0m\u001b[0;34m:\u001b[0m\u001b[0;34m\u001b[0m\u001b[0;34m\u001b[0m\u001b[0m\n",
            "\u001b[0;32m/content/spark-3.1.1-bin-hadoop3.2/python/pyspark/rdd.py\u001b[0m in \u001b[0;36mcombineByKey\u001b[0;34m(self, createCombiner, mergeValue, mergeCombiners, numPartitions, partitionFunc)\u001b[0m\n\u001b[1;32m   2146\u001b[0m \u001b[0;34m\u001b[0m\u001b[0m\n\u001b[1;32m   2147\u001b[0m         \u001b[0mlocally_combined\u001b[0m \u001b[0;34m=\u001b[0m \u001b[0mself\u001b[0m\u001b[0;34m.\u001b[0m\u001b[0mmapPartitions\u001b[0m\u001b[0;34m(\u001b[0m\u001b[0mcombineLocally\u001b[0m\u001b[0;34m,\u001b[0m \u001b[0mpreservesPartitioning\u001b[0m\u001b[0;34m=\u001b[0m\u001b[0;32mTrue\u001b[0m\u001b[0;34m)\u001b[0m\u001b[0;34m\u001b[0m\u001b[0;34m\u001b[0m\u001b[0m\n\u001b[0;32m-> 2148\u001b[0;31m         \u001b[0mshuffled\u001b[0m \u001b[0;34m=\u001b[0m \u001b[0mlocally_combined\u001b[0m\u001b[0;34m.\u001b[0m\u001b[0mpartitionBy\u001b[0m\u001b[0;34m(\u001b[0m\u001b[0mnumPartitions\u001b[0m\u001b[0;34m,\u001b[0m \u001b[0mpartitionFunc\u001b[0m\u001b[0;34m)\u001b[0m\u001b[0;34m\u001b[0m\u001b[0;34m\u001b[0m\u001b[0m\n\u001b[0m\u001b[1;32m   2149\u001b[0m \u001b[0;34m\u001b[0m\u001b[0m\n\u001b[1;32m   2150\u001b[0m         \u001b[0;32mdef\u001b[0m \u001b[0m_mergeCombiners\u001b[0m\u001b[0;34m(\u001b[0m\u001b[0miterator\u001b[0m\u001b[0;34m)\u001b[0m\u001b[0;34m:\u001b[0m\u001b[0;34m\u001b[0m\u001b[0;34m\u001b[0m\u001b[0m\n",
            "\u001b[0;32m/content/spark-3.1.1-bin-hadoop3.2/python/pyspark/rdd.py\u001b[0m in \u001b[0;36mpartitionBy\u001b[0;34m(self, numPartitions, partitionFunc)\u001b[0m\n\u001b[1;32m   2079\u001b[0m         \u001b[0;32mwith\u001b[0m \u001b[0mSCCallSiteSync\u001b[0m\u001b[0;34m(\u001b[0m\u001b[0mself\u001b[0m\u001b[0;34m.\u001b[0m\u001b[0mcontext\u001b[0m\u001b[0;34m)\u001b[0m \u001b[0;32mas\u001b[0m \u001b[0mcss\u001b[0m\u001b[0;34m:\u001b[0m\u001b[0;34m\u001b[0m\u001b[0;34m\u001b[0m\u001b[0m\n\u001b[1;32m   2080\u001b[0m             pairRDD = self.ctx._jvm.PairwiseRDD(\n\u001b[0;32m-> 2081\u001b[0;31m                 keyed._jrdd.rdd()).asJavaPairRDD()\n\u001b[0m\u001b[1;32m   2082\u001b[0m             jpartitioner = self.ctx._jvm.PythonPartitioner(numPartitions,\n\u001b[1;32m   2083\u001b[0m                                                            id(partitionFunc))\n",
            "\u001b[0;32m/content/spark-3.1.1-bin-hadoop3.2/python/pyspark/rdd.py\u001b[0m in \u001b[0;36m_jrdd\u001b[0;34m(self)\u001b[0m\n\u001b[1;32m   2947\u001b[0m             \u001b[0mprofiler\u001b[0m \u001b[0;34m=\u001b[0m \u001b[0;32mNone\u001b[0m\u001b[0;34m\u001b[0m\u001b[0;34m\u001b[0m\u001b[0m\n\u001b[1;32m   2948\u001b[0m \u001b[0;34m\u001b[0m\u001b[0m\n\u001b[0;32m-> 2949\u001b[0;31m         wrapped_func = _wrap_function(self.ctx, self.func, self._prev_jrdd_deserializer,\n\u001b[0m\u001b[1;32m   2950\u001b[0m                                       self._jrdd_deserializer, profiler)\n\u001b[1;32m   2951\u001b[0m         python_rdd = self.ctx._jvm.PythonRDD(self._prev_jrdd.rdd(), wrapped_func,\n",
            "\u001b[0;32m/content/spark-3.1.1-bin-hadoop3.2/python/pyspark/rdd.py\u001b[0m in \u001b[0;36m_wrap_function\u001b[0;34m(sc, func, deserializer, serializer, profiler)\u001b[0m\n\u001b[1;32m   2826\u001b[0m     \u001b[0;32massert\u001b[0m \u001b[0mserializer\u001b[0m\u001b[0;34m,\u001b[0m \u001b[0;34m\"serializer should not be empty\"\u001b[0m\u001b[0;34m\u001b[0m\u001b[0;34m\u001b[0m\u001b[0m\n\u001b[1;32m   2827\u001b[0m     \u001b[0mcommand\u001b[0m \u001b[0;34m=\u001b[0m \u001b[0;34m(\u001b[0m\u001b[0mfunc\u001b[0m\u001b[0;34m,\u001b[0m \u001b[0mprofiler\u001b[0m\u001b[0;34m,\u001b[0m \u001b[0mdeserializer\u001b[0m\u001b[0;34m,\u001b[0m \u001b[0mserializer\u001b[0m\u001b[0;34m)\u001b[0m\u001b[0;34m\u001b[0m\u001b[0;34m\u001b[0m\u001b[0m\n\u001b[0;32m-> 2828\u001b[0;31m     \u001b[0mpickled_command\u001b[0m\u001b[0;34m,\u001b[0m \u001b[0mbroadcast_vars\u001b[0m\u001b[0;34m,\u001b[0m \u001b[0menv\u001b[0m\u001b[0;34m,\u001b[0m \u001b[0mincludes\u001b[0m \u001b[0;34m=\u001b[0m \u001b[0m_prepare_for_python_RDD\u001b[0m\u001b[0;34m(\u001b[0m\u001b[0msc\u001b[0m\u001b[0;34m,\u001b[0m \u001b[0mcommand\u001b[0m\u001b[0;34m)\u001b[0m\u001b[0;34m\u001b[0m\u001b[0;34m\u001b[0m\u001b[0m\n\u001b[0m\u001b[1;32m   2829\u001b[0m     return sc._jvm.PythonFunction(bytearray(pickled_command), env, includes, sc.pythonExec,\n\u001b[1;32m   2830\u001b[0m                                   sc.pythonVer, broadcast_vars, sc._javaAccumulator)\n",
            "\u001b[0;32m/content/spark-3.1.1-bin-hadoop3.2/python/pyspark/rdd.py\u001b[0m in \u001b[0;36m_prepare_for_python_RDD\u001b[0;34m(sc, command)\u001b[0m\n\u001b[1;32m   2812\u001b[0m     \u001b[0;31m# the serialized command will be compressed by broadcast\u001b[0m\u001b[0;34m\u001b[0m\u001b[0;34m\u001b[0m\u001b[0m\n\u001b[1;32m   2813\u001b[0m     \u001b[0mser\u001b[0m \u001b[0;34m=\u001b[0m \u001b[0mCloudPickleSerializer\u001b[0m\u001b[0;34m(\u001b[0m\u001b[0;34m)\u001b[0m\u001b[0;34m\u001b[0m\u001b[0;34m\u001b[0m\u001b[0m\n\u001b[0;32m-> 2814\u001b[0;31m     \u001b[0mpickled_command\u001b[0m \u001b[0;34m=\u001b[0m \u001b[0mser\u001b[0m\u001b[0;34m.\u001b[0m\u001b[0mdumps\u001b[0m\u001b[0;34m(\u001b[0m\u001b[0mcommand\u001b[0m\u001b[0;34m)\u001b[0m\u001b[0;34m\u001b[0m\u001b[0;34m\u001b[0m\u001b[0m\n\u001b[0m\u001b[1;32m   2815\u001b[0m     \u001b[0;32mif\u001b[0m \u001b[0mlen\u001b[0m\u001b[0;34m(\u001b[0m\u001b[0mpickled_command\u001b[0m\u001b[0;34m)\u001b[0m \u001b[0;34m>\u001b[0m \u001b[0msc\u001b[0m\u001b[0;34m.\u001b[0m\u001b[0m_jvm\u001b[0m\u001b[0;34m.\u001b[0m\u001b[0mPythonUtils\u001b[0m\u001b[0;34m.\u001b[0m\u001b[0mgetBroadcastThreshold\u001b[0m\u001b[0;34m(\u001b[0m\u001b[0msc\u001b[0m\u001b[0;34m.\u001b[0m\u001b[0m_jsc\u001b[0m\u001b[0;34m)\u001b[0m\u001b[0;34m:\u001b[0m  \u001b[0;31m# Default 1M\u001b[0m\u001b[0;34m\u001b[0m\u001b[0;34m\u001b[0m\u001b[0m\n\u001b[1;32m   2816\u001b[0m         \u001b[0;31m# The broadcast will have same life cycle as created PythonRDD\u001b[0m\u001b[0;34m\u001b[0m\u001b[0;34m\u001b[0m\u001b[0m\n",
            "\u001b[0;32m/content/spark-3.1.1-bin-hadoop3.2/python/pyspark/serializers.py\u001b[0m in \u001b[0;36mdumps\u001b[0;34m(self, obj)\u001b[0m\n\u001b[1;32m    445\u001b[0m                 \u001b[0mmsg\u001b[0m \u001b[0;34m=\u001b[0m \u001b[0;34m\"Could not serialize object: %s: %s\"\u001b[0m \u001b[0;34m%\u001b[0m \u001b[0;34m(\u001b[0m\u001b[0me\u001b[0m\u001b[0;34m.\u001b[0m\u001b[0m__class__\u001b[0m\u001b[0;34m.\u001b[0m\u001b[0m__name__\u001b[0m\u001b[0;34m,\u001b[0m \u001b[0memsg\u001b[0m\u001b[0;34m)\u001b[0m\u001b[0;34m\u001b[0m\u001b[0;34m\u001b[0m\u001b[0m\n\u001b[1;32m    446\u001b[0m             \u001b[0mprint_exec\u001b[0m\u001b[0;34m(\u001b[0m\u001b[0msys\u001b[0m\u001b[0;34m.\u001b[0m\u001b[0mstderr\u001b[0m\u001b[0;34m)\u001b[0m\u001b[0;34m\u001b[0m\u001b[0;34m\u001b[0m\u001b[0m\n\u001b[0;32m--> 447\u001b[0;31m             \u001b[0;32mraise\u001b[0m \u001b[0mpickle\u001b[0m\u001b[0;34m.\u001b[0m\u001b[0mPicklingError\u001b[0m\u001b[0;34m(\u001b[0m\u001b[0mmsg\u001b[0m\u001b[0;34m)\u001b[0m\u001b[0;34m\u001b[0m\u001b[0;34m\u001b[0m\u001b[0m\n\u001b[0m\u001b[1;32m    448\u001b[0m \u001b[0;34m\u001b[0m\u001b[0m\n\u001b[1;32m    449\u001b[0m \u001b[0;34m\u001b[0m\u001b[0m\n",
            "\u001b[0;31mPicklingError\u001b[0m: Could not serialize object: Exception: It appears that you are attempting to broadcast an RDD or reference an RDD from an action or transformation. RDD transformations and actions can only be invoked by the driver, not inside of other transformations; for example, rdd1.map(lambda x: rdd2.values.count() * x) is invalid because the values transformation and count action cannot be performed inside of the rdd1.map transformation. For more information, see SPARK-5063."
          ]
        }
      ]
    },
    {
      "cell_type": "markdown",
      "source": [
        "###### Новый code"
      ],
      "metadata": {
        "id": "unHIzm8Bevdm"
      }
    },
    {
      "cell_type": "code",
      "source": [
        "from itertools import combinations"
      ],
      "metadata": {
        "id": "D9oR_YeJhoYV"
      },
      "execution_count": null,
      "outputs": []
    },
    {
      "cell_type": "code",
      "source": [
        "class Apriory:\n",
        "  def __init__(self, baskets, support, hash_table):\n",
        "    self.baskets = baskets\n",
        "    self.support = support\n",
        "    self.hash_table = hash_table\n",
        "\n",
        "  def first_pass(self):\n",
        "\n",
        "    '''Do the first pass of algo = count occurencies of each item'''\n",
        "\n",
        "    frst_pass = self.baskets.flatMap(lambda basket: [(skill,1) for skill in basket]) \\\n",
        "                        .reduceByKey(lambda x,y: x+y) \\\n",
        "                        .filter(lambda x: x[1]>self.support)\n",
        "\n",
        "    '''Check that it works  = due to support threshold we have frequent items (skills)'''\n",
        "    try:\n",
        "      frst_pass_count = frst_pass.count()\n",
        "      if frst_pass_count == 0:\n",
        "        raise ValueError('There are no frequent items')\n",
        "    except ValueError as e:\n",
        "      print('Low your support')\n",
        "      print(e)\n",
        "      return\n",
        "\n",
        "    print(f\"The number of frequent singletons is: {frst_pass_count}\")\n",
        "\n",
        "    '''Ask to see the most frequent item (skill)'''\n",
        "\n",
        "    freq_sngltn_idx = frst_pass.max(lambda x: x[1])\n",
        "    freq_sngltn = (list(self.hash_table.keys())[list(self.hash_table.values()).index(freq_sngltn_idx[0])])\n",
        "    print(f\"The most frequent singleton:{freq_sngltn}\")\n",
        "\n",
        "  def second_pass(self):\n",
        "      # Collect frequent singletons on driver\n",
        "      frequent_singletons = set(self.first_pass.map(lambda x: (x[0],)).collect())\n",
        "      k = 2\n",
        "      while True:\n",
        "        print(f\"The basket size is: {k}\")\n",
        "\n",
        "        candidate_itemsets = self.baskets.flatMap(lambda basket:[(skill,1) for skill in combinations(sorted(basket),k) if all(item in frequent_singletons for item in combinations(skill,k-1))])\n",
        "        scnd_pass = candidate_itemsets.reduceByKey(lambda x,y: x+y)\n",
        "        scnd_pass_count = scnd_pass.count()  # Call count outside flatMap\n",
        "\n",
        "        if scnd_pass_count != 0:\n",
        "          # Rest of your code for processing frequent itemsets\n",
        "          frequencies = set(scnd_pass.map(lambda x: x[0]).collect())\n",
        "          k += 1\n",
        "        else:\n",
        "          print(f\"There is no frequent {k}-plets itemsets\")\n",
        "          return\n",
        "          break"
      ],
      "metadata": {
        "id": "nLuZgtvHHGSC"
      },
      "execution_count": null,
      "outputs": []
    },
    {
      "cell_type": "code",
      "source": [
        "# from itertools import combinations\n",
        "\n",
        "# class Apriori:\n",
        "#     def __init__(self, baskets):\n",
        "#         self.baskets = baskets\n",
        "\n",
        "#     def data_transform(self, percentage):\n",
        "#         '''calculate support'''\n",
        "#         self.percentage = percentage\n",
        "#         self.support = round(self.baskets.count() * self.percentage)\n",
        "#         print(f\"Support is {self.support}\")\n",
        "\n",
        "#         '''create hash table'''\n",
        "#         item = self.baskets.flatMap(lambda line: line).distinct()\n",
        "#         item_index = item.zipWithIndex().collectAsMap()\n",
        "#         hashed_baskets = [set(item_index[skill] for skill in basket) for basket in self.baskets.collect()]\n",
        "#         return item.take(5), item.count(1), hashed_baskets\n",
        "\n",
        "#     def first_pass(self):\n",
        "#         '''Do the first pass of algo = count occurrences of each item'''\n",
        "#         frst_pass = self.baskets.flatMap(lambda basket: [(skill, 1) for skill in basket]) \\\n",
        "#                                 .reduceByKey(lambda x, y: x + y) \\\n",
        "#                                 .filter(lambda x: x[1] > self.support)\n",
        "\n",
        "#         '''Check that it works  = due to support threshold we have frequent items (skills)'''\n",
        "#         try:\n",
        "#             frst_pass_count = frst_pass.count()\n",
        "#             if frst_pass_count == 0:\n",
        "#                 raise ValueError('There are no frequent items')\n",
        "#         except ValueError as e:\n",
        "#             print('Lower your support')\n",
        "#             print(e)\n",
        "#             return None\n",
        "\n",
        "#         print(f\"The number of frequent singletons is: {frst_pass_count}\")\n",
        "\n",
        "#         '''Ask to see the most frequent item (skill)'''\n",
        "#         freq_sngltn_idx = frst_pass.max(lambda x: x[1])\n",
        "#         item_index = self.data_transform(self.percentage)[1]\n",
        "#         freq_sngltn = list(item_index.keys())[list(item_index.values()).index(freq_sngltn_idx[0])]\n",
        "#         print(f\"The most frequent singleton: {freq_sngltn}\")\n",
        "\n",
        "#         return frst_pass\n",
        "\n",
        "#     def second_pass(self):\n",
        "#         first_pass_result = self.first_pass()\n",
        "#         if first_pass_result is None:\n",
        "#             return\n",
        "\n",
        "#         frequent_singletons = set(first_pass_result.map(lambda x: x[0]).collect())\n",
        "#         k = 2\n",
        "#         print(f\"The basket size is: {k}\")\n",
        "\n",
        "#         candidate_itemsets = self.baskets.flatMap(\n",
        "#             lambda basket: [\n",
        "#                 (tuple(skill), 1) for skill in combinations(sorted(basket), k)\n",
        "#                 if all(item in frequent_singletons for item in combinations(skill, k - 1))\n",
        "#             ]\n",
        "#         )\n",
        "#         scnd_pass = candidate_itemsets.reduceByKey(lambda x, y: x + y)\n",
        "#         scnd_pass_count = scnd_pass.count()\n",
        "\n",
        "#         if scnd_pass_count != 0:\n",
        "#             frequent_pairs = scnd_pass.filter(lambda x: x[1] > self.support).collect()\n",
        "#             print(f\"Frequent pairs: {frequent_pairs}\")\n",
        "#         else:\n",
        "#             print(f\"There are no frequent {k}-plets itemsets\")\n"
      ],
      "metadata": {
        "id": "5bFr8uhUhP98"
      },
      "execution_count": null,
      "outputs": []
    },
    {
      "cell_type": "code",
      "source": [],
      "metadata": {
        "id": "Z4JJ0aiDibyd"
      },
      "execution_count": null,
      "outputs": []
    },
    {
      "cell_type": "code",
      "source": [],
      "metadata": {
        "id": "oQWG2D7CMLFr"
      },
      "execution_count": null,
      "outputs": []
    },
    {
      "cell_type": "code",
      "source": [
        "def a_priori(baskets_collection,support,hash_table):\n",
        "\n",
        "  print(\"Frequent singletons\")\n",
        "\n",
        "  first_pass = baskets_collection.flatMap(lambda basket: [(skill,1) for skill in basket]) \\\n",
        "                                .reduceByKey(lambda x,y: x+y) \\\n",
        "                                .filter(lambda x: x[1]>support)\n",
        "\n",
        "  first_pass_count = first_pass.count()\n",
        "\n",
        "  if first_pass_count == 0:\n",
        "    print(\"Lower the support\")\n",
        "    return\n",
        "\n",
        "  print(\"Number of frequent singletons:\",first_pass_count)\n",
        "\n",
        "  max_s = first_pass.max(lambda x: x[1])\n",
        "  max_s_ = (list(hash_table.keys())[list(hash_table.values()).index(max_s[0])])\n",
        "  print(\"Most frequent singleton:\",max_s_)\n",
        "\n",
        "  freqs = set(first_pass.map(lambda x: (x[0],)).collect())\n",
        "\n",
        "  print()\n",
        "\n",
        "  k = 2\n",
        "\n",
        "  while True:\n",
        "\n",
        "    print(\"Itemesets of size:\",k)\n",
        "\n",
        "    pass_ = baskets_collection.flatMap(lambda basket:[(elem,1) for elem in combinations(sorted(basket),k) if\n",
        "                                                      all(item in freqs for item in combinations(elem,k-1))]) \\\n",
        "                              .reduceByKey(lambda x,y: x+y) \\\n",
        "                              .filter(lambda x: x[1]>support)\n",
        "\n",
        "    pass_count = pass_.count()\n",
        "\n",
        "    if pass_count != 0:\n",
        "      print(\"Number of frequent itemsets of size\",k,\"are:\",pass_count)\n",
        "\n",
        "      max_p = pass_.max(lambda x: x[1])\n",
        "      max_itemset = []\n",
        "      for skill in max_p[0]:\n",
        "        max_itemset.append(list(hash_table.keys())[list(hash_table.values()).index(skill)])\n",
        "      print(\"Most frequent itemset of size\",k,\"is composed by:\",max_itemset)\n",
        "\n",
        "      freqs = set(pass_.map(lambda x: x[0]).collect())\n",
        "\n",
        "      print()\n",
        "\n",
        "      k+=1\n",
        "\n",
        "    else:\n",
        "      print(\"There are no frequent itemsets of size\",k)\n",
        "      print(\"Given the monotonicity of itemsets, there are no more frequent itemsets.\")\n",
        "      break"
      ],
      "metadata": {
        "id": "UbHqmIVNGnB5"
      },
      "execution_count": 59,
      "outputs": []
    }
  ]
}